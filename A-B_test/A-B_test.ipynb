{
 "cells": [
  {
   "cell_type": "markdown",
   "metadata": {},
   "source": [
    "### Приоритезация гипотез"
   ]
  },
  {
   "cell_type": "code",
   "execution_count": 1,
   "metadata": {},
   "outputs": [],
   "source": [
    "import pandas as pd\n",
    "import numpy as np\n",
    "import matplotlib.pyplot as plt\n",
    "from scipy import stats\n",
    "import datetime as dt\n",
    "from collections import defaultdict"
   ]
  },
  {
   "cell_type": "markdown",
   "metadata": {},
   "source": [
    "#### Загрузка данных"
   ]
  },
  {
   "cell_type": "code",
   "execution_count": 2,
   "metadata": {},
   "outputs": [],
   "source": [
    "try:\n",
    "    hypothesis = pd.read_csv('/datasets/hypothesis.csv')\n",
    "except:\n",
    "    hypothesis = pd.read_csv('https://code.s3.yandex.net//datasets/hypothesis.csv')\n"
   ]
  },
  {
   "cell_type": "markdown",
   "metadata": {},
   "source": [
    "#### Предобработка данных"
   ]
  },
  {
   "cell_type": "code",
   "execution_count": 3,
   "metadata": {},
   "outputs": [
    {
     "name": "stdout",
     "output_type": "stream",
     "text": [
      "<class 'pandas.core.frame.DataFrame'>\n",
      "RangeIndex: 9 entries, 0 to 8\n",
      "Data columns (total 5 columns):\n",
      " #   Column      Non-Null Count  Dtype \n",
      "---  ------      --------------  ----- \n",
      " 0   Hypothesis  9 non-null      object\n",
      " 1   Reach       9 non-null      int64 \n",
      " 2   Impact      9 non-null      int64 \n",
      " 3   Confidence  9 non-null      int64 \n",
      " 4   Efforts     9 non-null      int64 \n",
      "dtypes: int64(4), object(1)\n",
      "memory usage: 488.0+ bytes\n"
     ]
    }
   ],
   "source": [
    "hypothesis.info()\n",
    "hypothesis.columns = hypothesis.columns.str.lower() "
   ]
  },
  {
   "cell_type": "code",
   "execution_count": 4,
   "metadata": {},
   "outputs": [],
   "source": [
    "hypothesis['ice'] = hypothesis['impact'] * hypothesis['confidence'] / hypothesis['efforts']\n",
    "hypothesis['rice'] = hypothesis['reach'] * hypothesis['impact'] * hypothesis['confidence'] / hypothesis['efforts']\n"
   ]
  },
  {
   "cell_type": "markdown",
   "metadata": {},
   "source": [
    "#### Применение фреймворка ICE"
   ]
  },
  {
   "cell_type": "code",
   "execution_count": 5,
   "metadata": {},
   "outputs": [
    {
     "data": {
      "text/html": [
       "<style type=\"text/css\">\n",
       "#T_1935f_row0_col0, #T_1935f_row0_col1, #T_1935f_row0_col2, #T_1935f_row0_col3, #T_1935f_row0_col4, #T_1935f_row0_col5, #T_1935f_row0_col6, #T_1935f_row1_col0, #T_1935f_row1_col1, #T_1935f_row1_col2, #T_1935f_row1_col3, #T_1935f_row1_col4, #T_1935f_row1_col5, #T_1935f_row1_col6, #T_1935f_row2_col0, #T_1935f_row2_col1, #T_1935f_row2_col2, #T_1935f_row2_col3, #T_1935f_row2_col4, #T_1935f_row2_col5, #T_1935f_row2_col6, #T_1935f_row3_col0, #T_1935f_row3_col1, #T_1935f_row3_col2, #T_1935f_row3_col3, #T_1935f_row3_col4, #T_1935f_row3_col5, #T_1935f_row3_col6, #T_1935f_row4_col0, #T_1935f_row4_col1, #T_1935f_row4_col2, #T_1935f_row4_col3, #T_1935f_row4_col4, #T_1935f_row4_col5, #T_1935f_row4_col6, #T_1935f_row5_col0, #T_1935f_row5_col1, #T_1935f_row5_col2, #T_1935f_row5_col3, #T_1935f_row5_col4, #T_1935f_row5_col5, #T_1935f_row5_col6, #T_1935f_row6_col0, #T_1935f_row6_col1, #T_1935f_row6_col2, #T_1935f_row6_col3, #T_1935f_row6_col4, #T_1935f_row6_col5, #T_1935f_row6_col6, #T_1935f_row7_col0, #T_1935f_row7_col1, #T_1935f_row7_col2, #T_1935f_row7_col3, #T_1935f_row7_col4, #T_1935f_row7_col5, #T_1935f_row7_col6, #T_1935f_row8_col0, #T_1935f_row8_col1, #T_1935f_row8_col2, #T_1935f_row8_col3, #T_1935f_row8_col4, #T_1935f_row8_col5, #T_1935f_row8_col6 {\n",
       "  text-align: left;\n",
       "}\n",
       "</style>\n",
       "<table id=\"T_1935f\">\n",
       "  <thead>\n",
       "    <tr>\n",
       "      <th class=\"blank level0\" >&nbsp;</th>\n",
       "      <th id=\"T_1935f_level0_col0\" class=\"col_heading level0 col0\" >hypothesis</th>\n",
       "      <th id=\"T_1935f_level0_col1\" class=\"col_heading level0 col1\" >reach</th>\n",
       "      <th id=\"T_1935f_level0_col2\" class=\"col_heading level0 col2\" >impact</th>\n",
       "      <th id=\"T_1935f_level0_col3\" class=\"col_heading level0 col3\" >confidence</th>\n",
       "      <th id=\"T_1935f_level0_col4\" class=\"col_heading level0 col4\" >efforts</th>\n",
       "      <th id=\"T_1935f_level0_col5\" class=\"col_heading level0 col5\" >ice</th>\n",
       "      <th id=\"T_1935f_level0_col6\" class=\"col_heading level0 col6\" >rice</th>\n",
       "    </tr>\n",
       "  </thead>\n",
       "  <tbody>\n",
       "    <tr>\n",
       "      <th id=\"T_1935f_level0_row0\" class=\"row_heading level0 row0\" >0</th>\n",
       "      <td id=\"T_1935f_row0_col0\" class=\"data row0 col0\" >Добавить два новых канала привлечения трафика, что позволит привлекать на 30% больше пользователей</td>\n",
       "      <td id=\"T_1935f_row0_col1\" class=\"data row0 col1\" >3</td>\n",
       "      <td id=\"T_1935f_row0_col2\" class=\"data row0 col2\" >10</td>\n",
       "      <td id=\"T_1935f_row0_col3\" class=\"data row0 col3\" >8</td>\n",
       "      <td id=\"T_1935f_row0_col4\" class=\"data row0 col4\" >6</td>\n",
       "      <td id=\"T_1935f_row0_col5\" class=\"data row0 col5\" >13.333333</td>\n",
       "      <td id=\"T_1935f_row0_col6\" class=\"data row0 col6\" >40.000000</td>\n",
       "    </tr>\n",
       "    <tr>\n",
       "      <th id=\"T_1935f_level0_row1\" class=\"row_heading level0 row1\" >1</th>\n",
       "      <td id=\"T_1935f_row1_col0\" class=\"data row1 col0\" >Запустить собственную службу доставки, что сократит срок доставки заказов</td>\n",
       "      <td id=\"T_1935f_row1_col1\" class=\"data row1 col1\" >2</td>\n",
       "      <td id=\"T_1935f_row1_col2\" class=\"data row1 col2\" >5</td>\n",
       "      <td id=\"T_1935f_row1_col3\" class=\"data row1 col3\" >4</td>\n",
       "      <td id=\"T_1935f_row1_col4\" class=\"data row1 col4\" >10</td>\n",
       "      <td id=\"T_1935f_row1_col5\" class=\"data row1 col5\" >2.000000</td>\n",
       "      <td id=\"T_1935f_row1_col6\" class=\"data row1 col6\" >4.000000</td>\n",
       "    </tr>\n",
       "    <tr>\n",
       "      <th id=\"T_1935f_level0_row2\" class=\"row_heading level0 row2\" >2</th>\n",
       "      <td id=\"T_1935f_row2_col0\" class=\"data row2 col0\" >Добавить блоки рекомендаций товаров на сайт интернет магазина, чтобы повысить конверсию и средний чек заказа</td>\n",
       "      <td id=\"T_1935f_row2_col1\" class=\"data row2 col1\" >8</td>\n",
       "      <td id=\"T_1935f_row2_col2\" class=\"data row2 col2\" >3</td>\n",
       "      <td id=\"T_1935f_row2_col3\" class=\"data row2 col3\" >7</td>\n",
       "      <td id=\"T_1935f_row2_col4\" class=\"data row2 col4\" >3</td>\n",
       "      <td id=\"T_1935f_row2_col5\" class=\"data row2 col5\" >7.000000</td>\n",
       "      <td id=\"T_1935f_row2_col6\" class=\"data row2 col6\" >56.000000</td>\n",
       "    </tr>\n",
       "    <tr>\n",
       "      <th id=\"T_1935f_level0_row3\" class=\"row_heading level0 row3\" >3</th>\n",
       "      <td id=\"T_1935f_row3_col0\" class=\"data row3 col0\" >Изменить структура категорий, что увеличит конверсию, т.к. пользователи быстрее найдут нужный товар</td>\n",
       "      <td id=\"T_1935f_row3_col1\" class=\"data row3 col1\" >8</td>\n",
       "      <td id=\"T_1935f_row3_col2\" class=\"data row3 col2\" >3</td>\n",
       "      <td id=\"T_1935f_row3_col3\" class=\"data row3 col3\" >3</td>\n",
       "      <td id=\"T_1935f_row3_col4\" class=\"data row3 col4\" >8</td>\n",
       "      <td id=\"T_1935f_row3_col5\" class=\"data row3 col5\" >1.125000</td>\n",
       "      <td id=\"T_1935f_row3_col6\" class=\"data row3 col6\" >9.000000</td>\n",
       "    </tr>\n",
       "    <tr>\n",
       "      <th id=\"T_1935f_level0_row4\" class=\"row_heading level0 row4\" >4</th>\n",
       "      <td id=\"T_1935f_row4_col0\" class=\"data row4 col0\" >Изменить цвет фона главной страницы, чтобы увеличить вовлеченность пользователей</td>\n",
       "      <td id=\"T_1935f_row4_col1\" class=\"data row4 col1\" >3</td>\n",
       "      <td id=\"T_1935f_row4_col2\" class=\"data row4 col2\" >1</td>\n",
       "      <td id=\"T_1935f_row4_col3\" class=\"data row4 col3\" >1</td>\n",
       "      <td id=\"T_1935f_row4_col4\" class=\"data row4 col4\" >1</td>\n",
       "      <td id=\"T_1935f_row4_col5\" class=\"data row4 col5\" >1.000000</td>\n",
       "      <td id=\"T_1935f_row4_col6\" class=\"data row4 col6\" >3.000000</td>\n",
       "    </tr>\n",
       "    <tr>\n",
       "      <th id=\"T_1935f_level0_row5\" class=\"row_heading level0 row5\" >5</th>\n",
       "      <td id=\"T_1935f_row5_col0\" class=\"data row5 col0\" >Добавить страницу отзывов клиентов о магазине, что позволит увеличить количество заказов</td>\n",
       "      <td id=\"T_1935f_row5_col1\" class=\"data row5 col1\" >3</td>\n",
       "      <td id=\"T_1935f_row5_col2\" class=\"data row5 col2\" >2</td>\n",
       "      <td id=\"T_1935f_row5_col3\" class=\"data row5 col3\" >2</td>\n",
       "      <td id=\"T_1935f_row5_col4\" class=\"data row5 col4\" >3</td>\n",
       "      <td id=\"T_1935f_row5_col5\" class=\"data row5 col5\" >1.333333</td>\n",
       "      <td id=\"T_1935f_row5_col6\" class=\"data row5 col6\" >4.000000</td>\n",
       "    </tr>\n",
       "    <tr>\n",
       "      <th id=\"T_1935f_level0_row6\" class=\"row_heading level0 row6\" >6</th>\n",
       "      <td id=\"T_1935f_row6_col0\" class=\"data row6 col0\" >Показать на главной странице баннеры с актуальными акциями и распродажами, чтобы увеличить конверсию</td>\n",
       "      <td id=\"T_1935f_row6_col1\" class=\"data row6 col1\" >5</td>\n",
       "      <td id=\"T_1935f_row6_col2\" class=\"data row6 col2\" >3</td>\n",
       "      <td id=\"T_1935f_row6_col3\" class=\"data row6 col3\" >8</td>\n",
       "      <td id=\"T_1935f_row6_col4\" class=\"data row6 col4\" >3</td>\n",
       "      <td id=\"T_1935f_row6_col5\" class=\"data row6 col5\" >8.000000</td>\n",
       "      <td id=\"T_1935f_row6_col6\" class=\"data row6 col6\" >40.000000</td>\n",
       "    </tr>\n",
       "    <tr>\n",
       "      <th id=\"T_1935f_level0_row7\" class=\"row_heading level0 row7\" >7</th>\n",
       "      <td id=\"T_1935f_row7_col0\" class=\"data row7 col0\" >Добавить форму подписки на все основные страницы, чтобы собрать базу клиентов для email-рассылок</td>\n",
       "      <td id=\"T_1935f_row7_col1\" class=\"data row7 col1\" >10</td>\n",
       "      <td id=\"T_1935f_row7_col2\" class=\"data row7 col2\" >7</td>\n",
       "      <td id=\"T_1935f_row7_col3\" class=\"data row7 col3\" >8</td>\n",
       "      <td id=\"T_1935f_row7_col4\" class=\"data row7 col4\" >5</td>\n",
       "      <td id=\"T_1935f_row7_col5\" class=\"data row7 col5\" >11.200000</td>\n",
       "      <td id=\"T_1935f_row7_col6\" class=\"data row7 col6\" >112.000000</td>\n",
       "    </tr>\n",
       "    <tr>\n",
       "      <th id=\"T_1935f_level0_row8\" class=\"row_heading level0 row8\" >8</th>\n",
       "      <td id=\"T_1935f_row8_col0\" class=\"data row8 col0\" >Запустить акцию, дающую скидку на товар в день рождения</td>\n",
       "      <td id=\"T_1935f_row8_col1\" class=\"data row8 col1\" >1</td>\n",
       "      <td id=\"T_1935f_row8_col2\" class=\"data row8 col2\" >9</td>\n",
       "      <td id=\"T_1935f_row8_col3\" class=\"data row8 col3\" >9</td>\n",
       "      <td id=\"T_1935f_row8_col4\" class=\"data row8 col4\" >5</td>\n",
       "      <td id=\"T_1935f_row8_col5\" class=\"data row8 col5\" >16.200000</td>\n",
       "      <td id=\"T_1935f_row8_col6\" class=\"data row8 col6\" >16.200000</td>\n",
       "    </tr>\n",
       "  </tbody>\n",
       "</table>\n"
      ],
      "text/plain": [
       "<pandas.io.formats.style.Styler at 0x2aa774fb880>"
      ]
     },
     "execution_count": 5,
     "metadata": {},
     "output_type": "execute_result"
    }
   ],
   "source": [
    "hypothesis.sort_values(by='ice', ascending =False)\n",
    "hypothesis.style.set_properties(**{'text-align': 'left'})"
   ]
  },
  {
   "cell_type": "markdown",
   "metadata": {},
   "source": [
    "#### Применение фреймворка RICE"
   ]
  },
  {
   "cell_type": "code",
   "execution_count": 6,
   "metadata": {},
   "outputs": [
    {
     "data": {
      "text/html": [
       "<div>\n",
       "<style scoped>\n",
       "    .dataframe tbody tr th:only-of-type {\n",
       "        vertical-align: middle;\n",
       "    }\n",
       "\n",
       "    .dataframe tbody tr th {\n",
       "        vertical-align: top;\n",
       "    }\n",
       "\n",
       "    .dataframe thead th {\n",
       "        text-align: right;\n",
       "    }\n",
       "</style>\n",
       "<table border=\"1\" class=\"dataframe\">\n",
       "  <thead>\n",
       "    <tr style=\"text-align: right;\">\n",
       "      <th></th>\n",
       "      <th>hypothesis</th>\n",
       "      <th>reach</th>\n",
       "      <th>impact</th>\n",
       "      <th>confidence</th>\n",
       "      <th>efforts</th>\n",
       "      <th>ice</th>\n",
       "      <th>rice</th>\n",
       "    </tr>\n",
       "  </thead>\n",
       "  <tbody>\n",
       "    <tr>\n",
       "      <th>7</th>\n",
       "      <td>Добавить форму подписки на все основные страни...</td>\n",
       "      <td>10</td>\n",
       "      <td>7</td>\n",
       "      <td>8</td>\n",
       "      <td>5</td>\n",
       "      <td>11.200000</td>\n",
       "      <td>112.0</td>\n",
       "    </tr>\n",
       "    <tr>\n",
       "      <th>2</th>\n",
       "      <td>Добавить блоки рекомендаций товаров на сайт ин...</td>\n",
       "      <td>8</td>\n",
       "      <td>3</td>\n",
       "      <td>7</td>\n",
       "      <td>3</td>\n",
       "      <td>7.000000</td>\n",
       "      <td>56.0</td>\n",
       "    </tr>\n",
       "    <tr>\n",
       "      <th>0</th>\n",
       "      <td>Добавить два новых канала привлечения трафика,...</td>\n",
       "      <td>3</td>\n",
       "      <td>10</td>\n",
       "      <td>8</td>\n",
       "      <td>6</td>\n",
       "      <td>13.333333</td>\n",
       "      <td>40.0</td>\n",
       "    </tr>\n",
       "    <tr>\n",
       "      <th>6</th>\n",
       "      <td>Показать на главной странице баннеры с актуаль...</td>\n",
       "      <td>5</td>\n",
       "      <td>3</td>\n",
       "      <td>8</td>\n",
       "      <td>3</td>\n",
       "      <td>8.000000</td>\n",
       "      <td>40.0</td>\n",
       "    </tr>\n",
       "    <tr>\n",
       "      <th>8</th>\n",
       "      <td>Запустить акцию, дающую скидку на товар в день...</td>\n",
       "      <td>1</td>\n",
       "      <td>9</td>\n",
       "      <td>9</td>\n",
       "      <td>5</td>\n",
       "      <td>16.200000</td>\n",
       "      <td>16.2</td>\n",
       "    </tr>\n",
       "    <tr>\n",
       "      <th>3</th>\n",
       "      <td>Изменить структура категорий, что увеличит кон...</td>\n",
       "      <td>8</td>\n",
       "      <td>3</td>\n",
       "      <td>3</td>\n",
       "      <td>8</td>\n",
       "      <td>1.125000</td>\n",
       "      <td>9.0</td>\n",
       "    </tr>\n",
       "    <tr>\n",
       "      <th>1</th>\n",
       "      <td>Запустить собственную службу доставки, что сок...</td>\n",
       "      <td>2</td>\n",
       "      <td>5</td>\n",
       "      <td>4</td>\n",
       "      <td>10</td>\n",
       "      <td>2.000000</td>\n",
       "      <td>4.0</td>\n",
       "    </tr>\n",
       "    <tr>\n",
       "      <th>5</th>\n",
       "      <td>Добавить страницу отзывов клиентов о магазине,...</td>\n",
       "      <td>3</td>\n",
       "      <td>2</td>\n",
       "      <td>2</td>\n",
       "      <td>3</td>\n",
       "      <td>1.333333</td>\n",
       "      <td>4.0</td>\n",
       "    </tr>\n",
       "    <tr>\n",
       "      <th>4</th>\n",
       "      <td>Изменить цвет фона главной страницы, чтобы уве...</td>\n",
       "      <td>3</td>\n",
       "      <td>1</td>\n",
       "      <td>1</td>\n",
       "      <td>1</td>\n",
       "      <td>1.000000</td>\n",
       "      <td>3.0</td>\n",
       "    </tr>\n",
       "  </tbody>\n",
       "</table>\n",
       "</div>"
      ],
      "text/plain": [
       "                                          hypothesis  reach  impact  \\\n",
       "7  Добавить форму подписки на все основные страни...     10       7   \n",
       "2  Добавить блоки рекомендаций товаров на сайт ин...      8       3   \n",
       "0  Добавить два новых канала привлечения трафика,...      3      10   \n",
       "6  Показать на главной странице баннеры с актуаль...      5       3   \n",
       "8  Запустить акцию, дающую скидку на товар в день...      1       9   \n",
       "3  Изменить структура категорий, что увеличит кон...      8       3   \n",
       "1  Запустить собственную службу доставки, что сок...      2       5   \n",
       "5  Добавить страницу отзывов клиентов о магазине,...      3       2   \n",
       "4  Изменить цвет фона главной страницы, чтобы уве...      3       1   \n",
       "\n",
       "   confidence  efforts        ice   rice  \n",
       "7           8        5  11.200000  112.0  \n",
       "2           7        3   7.000000   56.0  \n",
       "0           8        6  13.333333   40.0  \n",
       "6           8        3   8.000000   40.0  \n",
       "8           9        5  16.200000   16.2  \n",
       "3           3        8   1.125000    9.0  \n",
       "1           4       10   2.000000    4.0  \n",
       "5           2        3   1.333333    4.0  \n",
       "4           1        1   1.000000    3.0  "
      ]
     },
     "execution_count": 6,
     "metadata": {},
     "output_type": "execute_result"
    }
   ],
   "source": [
    "hypothesis.sort_values(by='rice', ascending =False)"
   ]
  },
  {
   "cell_type": "markdown",
   "metadata": {},
   "source": [
    "#### Вывод"
   ]
  },
  {
   "cell_type": "markdown",
   "metadata": {},
   "source": [
    "По фреймворку ICE приоритет имеют гипотезы 8, 0 , 7.\\\n",
    "По фреймворку RICE приоритет имеют гипотезы 7, 2, 0.\\\n",
    "При фреймворке RICE учитывается охват изменений в отличие от ICE, поэтому приоритетными остаются гипотезы 7, 2 , 0."
   ]
  },
  {
   "cell_type": "markdown",
   "metadata": {},
   "source": [
    "### Анализ A/B теста"
   ]
  },
  {
   "cell_type": "markdown",
   "metadata": {},
   "source": [
    "#### Загрузка данных"
   ]
  },
  {
   "cell_type": "code",
   "execution_count": 7,
   "metadata": {},
   "outputs": [],
   "source": [
    "try:\n",
    "    orders = pd.read_csv('/datasets/orders.csv')\n",
    "except:\n",
    "    orders = pd.read_csv('https://code.s3.yandex.net//datasets/orders.csv')\n",
    "    \n",
    "try:\n",
    "    visitors = pd.read_csv('/datasets/visitors.csv')\n",
    "except:\n",
    "    visitors = pd.read_csv('https://code.s3.yandex.net//datasets/visitors.csv')"
   ]
  },
  {
   "cell_type": "code",
   "execution_count": 8,
   "metadata": {},
   "outputs": [
    {
     "name": "stdout",
     "output_type": "stream",
     "text": [
      "<class 'pandas.core.frame.DataFrame'>\n",
      "RangeIndex: 1197 entries, 0 to 1196\n",
      "Data columns (total 5 columns):\n",
      " #   Column         Non-Null Count  Dtype \n",
      "---  ------         --------------  ----- \n",
      " 0   transactionId  1197 non-null   int64 \n",
      " 1   visitorId      1197 non-null   int64 \n",
      " 2   date           1197 non-null   object\n",
      " 3   revenue        1197 non-null   int64 \n",
      " 4   group          1197 non-null   object\n",
      "dtypes: int64(3), object(2)\n",
      "memory usage: 46.9+ KB\n"
     ]
    }
   ],
   "source": [
    "orders.info()"
   ]
  },
  {
   "cell_type": "code",
   "execution_count": 9,
   "metadata": {},
   "outputs": [
    {
     "name": "stdout",
     "output_type": "stream",
     "text": [
      "<class 'pandas.core.frame.DataFrame'>\n",
      "RangeIndex: 62 entries, 0 to 61\n",
      "Data columns (total 3 columns):\n",
      " #   Column    Non-Null Count  Dtype \n",
      "---  ------    --------------  ----- \n",
      " 0   date      62 non-null     object\n",
      " 1   group     62 non-null     object\n",
      " 2   visitors  62 non-null     int64 \n",
      "dtypes: int64(1), object(2)\n",
      "memory usage: 1.6+ KB\n"
     ]
    }
   ],
   "source": [
    "visitors.info()"
   ]
  },
  {
   "cell_type": "markdown",
   "metadata": {},
   "source": [
    "#### Предобработка данных"
   ]
  },
  {
   "cell_type": "code",
   "execution_count": 10,
   "metadata": {},
   "outputs": [],
   "source": [
    "orders.columns = [x.lower().replace(' ', '_') for x in orders.columns]\n",
    "orders.rename(columns= {'transactionid': 'transaction_id', 'visitorid': 'visitor_id'}, inplace = True)"
   ]
  },
  {
   "cell_type": "code",
   "execution_count": 11,
   "metadata": {},
   "outputs": [
    {
     "name": "stdout",
     "output_type": "stream",
     "text": [
      "<class 'pandas.core.frame.DataFrame'>\n",
      "RangeIndex: 1197 entries, 0 to 1196\n",
      "Data columns (total 5 columns):\n",
      " #   Column          Non-Null Count  Dtype \n",
      "---  ------          --------------  ----- \n",
      " 0   transaction_id  1197 non-null   int64 \n",
      " 1   visitor_id      1197 non-null   int64 \n",
      " 2   date            1197 non-null   object\n",
      " 3   revenue         1197 non-null   int64 \n",
      " 4   group           1197 non-null   object\n",
      "dtypes: int64(3), object(2)\n",
      "memory usage: 46.9+ KB\n"
     ]
    }
   ],
   "source": [
    "orders.info()"
   ]
  },
  {
   "cell_type": "code",
   "execution_count": 12,
   "metadata": {},
   "outputs": [
    {
     "name": "stdout",
     "output_type": "stream",
     "text": [
      "\n",
      "Начальная дата 2019-08-01, конечная дата 2019-08-31\n",
      "\n"
     ]
    },
    {
     "data": {
      "text/html": [
       "<div>\n",
       "<style scoped>\n",
       "    .dataframe tbody tr th:only-of-type {\n",
       "        vertical-align: middle;\n",
       "    }\n",
       "\n",
       "    .dataframe tbody tr th {\n",
       "        vertical-align: top;\n",
       "    }\n",
       "\n",
       "    .dataframe thead th {\n",
       "        text-align: right;\n",
       "    }\n",
       "</style>\n",
       "<table border=\"1\" class=\"dataframe\">\n",
       "  <thead>\n",
       "    <tr style=\"text-align: right;\">\n",
       "      <th></th>\n",
       "      <th>transaction_id</th>\n",
       "      <th>visitor_id</th>\n",
       "      <th>date</th>\n",
       "      <th>revenue</th>\n",
       "      <th>group</th>\n",
       "    </tr>\n",
       "  </thead>\n",
       "  <tbody>\n",
       "    <tr>\n",
       "      <th>0</th>\n",
       "      <td>3667963787</td>\n",
       "      <td>3312258926</td>\n",
       "      <td>2019-08-15</td>\n",
       "      <td>1650</td>\n",
       "      <td>B</td>\n",
       "    </tr>\n",
       "    <tr>\n",
       "      <th>1</th>\n",
       "      <td>2804400009</td>\n",
       "      <td>3642806036</td>\n",
       "      <td>2019-08-15</td>\n",
       "      <td>730</td>\n",
       "      <td>B</td>\n",
       "    </tr>\n",
       "    <tr>\n",
       "      <th>2</th>\n",
       "      <td>2961555356</td>\n",
       "      <td>4069496402</td>\n",
       "      <td>2019-08-15</td>\n",
       "      <td>400</td>\n",
       "      <td>A</td>\n",
       "    </tr>\n",
       "    <tr>\n",
       "      <th>3</th>\n",
       "      <td>3797467345</td>\n",
       "      <td>1196621759</td>\n",
       "      <td>2019-08-15</td>\n",
       "      <td>9759</td>\n",
       "      <td>B</td>\n",
       "    </tr>\n",
       "    <tr>\n",
       "      <th>4</th>\n",
       "      <td>2282983706</td>\n",
       "      <td>2322279887</td>\n",
       "      <td>2019-08-15</td>\n",
       "      <td>2308</td>\n",
       "      <td>B</td>\n",
       "    </tr>\n",
       "  </tbody>\n",
       "</table>\n",
       "</div>"
      ],
      "text/plain": [
       "   transaction_id  visitor_id       date  revenue group\n",
       "0      3667963787  3312258926 2019-08-15     1650     B\n",
       "1      2804400009  3642806036 2019-08-15      730     B\n",
       "2      2961555356  4069496402 2019-08-15      400     A\n",
       "3      3797467345  1196621759 2019-08-15     9759     B\n",
       "4      2282983706  2322279887 2019-08-15     2308     B"
      ]
     },
     "execution_count": 12,
     "metadata": {},
     "output_type": "execute_result"
    }
   ],
   "source": [
    "orders['date'] = orders['date'].astype('datetime64[D]')\n",
    "orders['date'] = orders['date'].map(lambda x: dt.datetime.strftime(x, '%Y-%m-%d'))\n",
    "print('\\nНачальная дата {}, конечная дата {}\\n'.format(orders['date'].min(), orders['date'].max()))\n",
    "orders['date'] = orders['date'].map(lambda x: dt.datetime.strptime(x, '%Y-%m-%d'))\n",
    "orders.head(5)"
   ]
  },
  {
   "cell_type": "code",
   "execution_count": 13,
   "metadata": {},
   "outputs": [
    {
     "name": "stdout",
     "output_type": "stream",
     "text": [
      "\n",
      "Начальная дата 2019-08-01, конечная дата 2019-08-31\n",
      "\n"
     ]
    },
    {
     "data": {
      "text/html": [
       "<div>\n",
       "<style scoped>\n",
       "    .dataframe tbody tr th:only-of-type {\n",
       "        vertical-align: middle;\n",
       "    }\n",
       "\n",
       "    .dataframe tbody tr th {\n",
       "        vertical-align: top;\n",
       "    }\n",
       "\n",
       "    .dataframe thead th {\n",
       "        text-align: right;\n",
       "    }\n",
       "</style>\n",
       "<table border=\"1\" class=\"dataframe\">\n",
       "  <thead>\n",
       "    <tr style=\"text-align: right;\">\n",
       "      <th></th>\n",
       "      <th>date</th>\n",
       "      <th>group</th>\n",
       "      <th>visitors</th>\n",
       "    </tr>\n",
       "  </thead>\n",
       "  <tbody>\n",
       "    <tr>\n",
       "      <th>0</th>\n",
       "      <td>2019-08-01</td>\n",
       "      <td>A</td>\n",
       "      <td>719</td>\n",
       "    </tr>\n",
       "    <tr>\n",
       "      <th>1</th>\n",
       "      <td>2019-08-02</td>\n",
       "      <td>A</td>\n",
       "      <td>619</td>\n",
       "    </tr>\n",
       "    <tr>\n",
       "      <th>2</th>\n",
       "      <td>2019-08-03</td>\n",
       "      <td>A</td>\n",
       "      <td>507</td>\n",
       "    </tr>\n",
       "    <tr>\n",
       "      <th>3</th>\n",
       "      <td>2019-08-04</td>\n",
       "      <td>A</td>\n",
       "      <td>717</td>\n",
       "    </tr>\n",
       "    <tr>\n",
       "      <th>4</th>\n",
       "      <td>2019-08-05</td>\n",
       "      <td>A</td>\n",
       "      <td>756</td>\n",
       "    </tr>\n",
       "  </tbody>\n",
       "</table>\n",
       "</div>"
      ],
      "text/plain": [
       "        date group  visitors\n",
       "0 2019-08-01     A       719\n",
       "1 2019-08-02     A       619\n",
       "2 2019-08-03     A       507\n",
       "3 2019-08-04     A       717\n",
       "4 2019-08-05     A       756"
      ]
     },
     "execution_count": 13,
     "metadata": {},
     "output_type": "execute_result"
    }
   ],
   "source": [
    "visitors['date'] = visitors['date'].astype('datetime64[D]')\n",
    "visitors['date'] = visitors['date'].map(lambda x: dt.datetime.strftime(x, '%Y-%m-%d'))\n",
    "print('\\nНачальная дата {}, конечная дата {}\\n'.format(visitors['date'].min(), visitors['date'].max()))\n",
    "visitors['date'] = visitors['date'].map(lambda x: dt.datetime.strptime(x, '%Y-%m-%d'))\n",
    "visitors.head(5)"
   ]
  },
  {
   "cell_type": "markdown",
   "metadata": {},
   "source": [
    "#### Проверка на корректность распределения групп"
   ]
  },
  {
   "cell_type": "code",
   "execution_count": 14,
   "metadata": {
    "scrolled": false
   },
   "outputs": [
    {
     "name": "stdout",
     "output_type": "stream",
     "text": [
      "Кол-во посетителей в группе А: 18736\n",
      "Кол-во посетителей в группе B: 18916\n",
      "Кол-во покупок в группе A: 557\n",
      "Кол-во покупок в группе B: 640\n"
     ]
    },
    {
     "data": {
      "image/png": "[encoded data removed]",
      "text/plain": [
       "<Figure size 640x480 with 1 Axes>"
      ]
     },
     "metadata": {},
     "output_type": "display_data"
    },
    {
     "name": "stdout",
     "output_type": "stream",
     "text": [
      "P-value:0.7301376549390499\n",
      "Разница в количестве посетителей в группах A и B статистически НЕ значима\n",
      "\n",
      "Начальная конверсия: 0.030\n",
      "Полученная после изменений конверсия: 0.034\n",
      "Относительное изменение конверсии после изменений: 0.121\n"
     ]
    }
   ],
   "source": [
    "print('Кол-во посетителей в группе А: {}\\n'\n",
    "      'Кол-во посетителей в группе B: {}'.format(visitors[visitors['group']=='A']['visitors'].sum(), \n",
    "                                                 visitors[visitors['group']=='B']['visitors'].sum()))\n",
    "purchasesA = len(orders[orders['group']=='A'])\n",
    "purchasesB = len(orders[orders['group']=='B'])\n",
    "print('Кол-во покупок в группе A: {}'.format(purchasesA))\n",
    "print('Кол-во покупок в группе B: {}'.format(purchasesB))\n",
    "plt.hist(visitors[visitors['group']=='A']['visitors'], alpha = 0.8, label='A', bins = 30)\n",
    "plt.hist(visitors[visitors['group']=='B']['visitors'], alpha = 0.8, label='B', bins = 30)\n",
    "plt.legend()\n",
    "plt.title('Количество посетителей в день по группам A и B')\n",
    "plt.show()\n",
    "results = stats.mannwhitneyu(visitors[visitors['group']=='A']['visitors'], visitors[visitors['group']=='B']['visitors'])\n",
    "alpha = 0.05\n",
    "print('P-value:{}'.format(results.pvalue))\n",
    "if results.pvalue < alpha:\n",
    "    print('Разница в количестве посетителей в группах A и B статистически значима\\n')\n",
    "else:\n",
    "    print('Разница в количестве посетителей в группах A и B статистически НЕ значима\\n')\n",
    "\n",
    "initial_conversion = len(orders[orders['group']=='A']) / visitors[visitors['group']=='A']['visitors'].sum() \n",
    "resulting_conversion = len(orders[orders['group']=='B']) / visitors[visitors['group']=='B']['visitors'].sum()\n",
    "\n",
    "print('Начальная конверсия: {:.3f}'.format(initial_conversion))\n",
    "print('Полученная после изменений конверсия: {:.3f}'.format(resulting_conversion))\n",
    "print('Относительное изменение конверсии после изменений: {:.3f}'.format(abs(1-(initial_conversion/resulting_conversion))))"
   ]
  },
  {
   "cell_type": "markdown",
   "metadata": {},
   "source": [
    "Получаем необходимое количество выборки 35855 для корректного проведения тестирования, путем расчета на калькуляторе\n",
    "В нашем случае количество 37652 посещений\n",
    "Кол-во выборки для A/B тестирования корректно подобрано, статистически значимой разницыв количестве посещений междуу группами не обнаружено"
   ]
  },
  {
   "cell_type": "code",
   "execution_count": 15,
   "metadata": {},
   "outputs": [
    {
     "data": {
      "text/html": [
       "<div>\n",
       "<style scoped>\n",
       "    .dataframe tbody tr th:only-of-type {\n",
       "        vertical-align: middle;\n",
       "    }\n",
       "\n",
       "    .dataframe tbody tr th {\n",
       "        vertical-align: top;\n",
       "    }\n",
       "\n",
       "    .dataframe thead th {\n",
       "        text-align: right;\n",
       "    }\n",
       "</style>\n",
       "<table border=\"1\" class=\"dataframe\">\n",
       "  <thead>\n",
       "    <tr style=\"text-align: right;\">\n",
       "      <th></th>\n",
       "      <th>visitor_id</th>\n",
       "      <th>group</th>\n",
       "      <th>count</th>\n",
       "    </tr>\n",
       "  </thead>\n",
       "  <tbody>\n",
       "    <tr>\n",
       "      <th>45</th>\n",
       "      <td>199603092</td>\n",
       "      <td>A</td>\n",
       "      <td>4</td>\n",
       "    </tr>\n",
       "    <tr>\n",
       "      <th>58</th>\n",
       "      <td>237748145</td>\n",
       "      <td>A</td>\n",
       "      <td>4</td>\n",
       "    </tr>\n",
       "    <tr>\n",
       "      <th>63</th>\n",
       "      <td>249864742</td>\n",
       "      <td>B</td>\n",
       "      <td>3</td>\n",
       "    </tr>\n",
       "    <tr>\n",
       "      <th>94</th>\n",
       "      <td>366673373</td>\n",
       "      <td>A</td>\n",
       "      <td>2</td>\n",
       "    </tr>\n",
       "    <tr>\n",
       "      <th>104</th>\n",
       "      <td>393266494</td>\n",
       "      <td>B</td>\n",
       "      <td>2</td>\n",
       "    </tr>\n",
       "    <tr>\n",
       "      <th>...</th>\n",
       "      <td>...</td>\n",
       "      <td>...</td>\n",
       "      <td>...</td>\n",
       "    </tr>\n",
       "    <tr>\n",
       "      <th>1045</th>\n",
       "      <td>4109358064</td>\n",
       "      <td>A</td>\n",
       "      <td>2</td>\n",
       "    </tr>\n",
       "    <tr>\n",
       "      <th>1050</th>\n",
       "      <td>4134830387</td>\n",
       "      <td>B</td>\n",
       "      <td>2</td>\n",
       "    </tr>\n",
       "    <tr>\n",
       "      <th>1065</th>\n",
       "      <td>4186807279</td>\n",
       "      <td>B</td>\n",
       "      <td>2</td>\n",
       "    </tr>\n",
       "    <tr>\n",
       "      <th>1079</th>\n",
       "      <td>4256040402</td>\n",
       "      <td>A</td>\n",
       "      <td>7</td>\n",
       "    </tr>\n",
       "    <tr>\n",
       "      <th>1080</th>\n",
       "      <td>4256040402</td>\n",
       "      <td>B</td>\n",
       "      <td>4</td>\n",
       "    </tr>\n",
       "  </tbody>\n",
       "</table>\n",
       "<p>64 rows × 3 columns</p>\n",
       "</div>"
      ],
      "text/plain": [
       "      visitor_id group  count\n",
       "45     199603092     A      4\n",
       "58     237748145     A      4\n",
       "63     249864742     B      3\n",
       "94     366673373     A      2\n",
       "104    393266494     B      2\n",
       "...          ...   ...    ...\n",
       "1045  4109358064     A      2\n",
       "1050  4134830387     B      2\n",
       "1065  4186807279     B      2\n",
       "1079  4256040402     A      7\n",
       "1080  4256040402     B      4\n",
       "\n",
       "[64 rows x 3 columns]"
      ]
     },
     "execution_count": 15,
     "metadata": {},
     "output_type": "execute_result"
    }
   ],
   "source": [
    "group_sizes = orders.groupby(['visitor_id', 'group']).size().reset_index().drop_duplicates()\n",
    "group_sizes.columns = ['visitor_id', 'group', 'count']\n",
    "group_sizes = group_sizes.query('count > 1').sort_values(by='visitor_id')\n",
    "group_sizes = group_sizes.drop_duplicates()\n",
    "group_sizes"
   ]
  },
  {
   "cell_type": "code",
   "execution_count": 16,
   "metadata": {},
   "outputs": [
    {
     "data": {
      "text/html": [
       "<div>\n",
       "<style scoped>\n",
       "    .dataframe tbody tr th:only-of-type {\n",
       "        vertical-align: middle;\n",
       "    }\n",
       "\n",
       "    .dataframe tbody tr th {\n",
       "        vertical-align: top;\n",
       "    }\n",
       "\n",
       "    .dataframe thead th {\n",
       "        text-align: right;\n",
       "    }\n",
       "</style>\n",
       "<table border=\"1\" class=\"dataframe\">\n",
       "  <thead>\n",
       "    <tr style=\"text-align: right;\">\n",
       "      <th></th>\n",
       "      <th></th>\n",
       "      <th></th>\n",
       "      <th>transaction_id</th>\n",
       "      <th>revenue</th>\n",
       "    </tr>\n",
       "    <tr>\n",
       "      <th>visitor_id</th>\n",
       "      <th>group</th>\n",
       "      <th>date</th>\n",
       "      <th></th>\n",
       "      <th></th>\n",
       "    </tr>\n",
       "  </thead>\n",
       "  <tbody>\n",
       "    <tr>\n",
       "      <th rowspan=\"2\" valign=\"top\">1230306981</th>\n",
       "      <th>A</th>\n",
       "      <th>2019-08-09</th>\n",
       "      <td>3</td>\n",
       "      <td>18440</td>\n",
       "    </tr>\n",
       "    <tr>\n",
       "      <th>B</th>\n",
       "      <th>2019-08-09</th>\n",
       "      <td>2</td>\n",
       "      <td>12840</td>\n",
       "    </tr>\n",
       "    <tr>\n",
       "      <th rowspan=\"7\" valign=\"top\">2038680547</th>\n",
       "      <th rowspan=\"4\" valign=\"top\">A</th>\n",
       "      <th>2019-08-04</th>\n",
       "      <td>2</td>\n",
       "      <td>4070</td>\n",
       "    </tr>\n",
       "    <tr>\n",
       "      <th>2019-08-17</th>\n",
       "      <td>1</td>\n",
       "      <td>3470</td>\n",
       "    </tr>\n",
       "    <tr>\n",
       "      <th>2019-08-22</th>\n",
       "      <td>1</td>\n",
       "      <td>760</td>\n",
       "    </tr>\n",
       "    <tr>\n",
       "      <th>2019-08-25</th>\n",
       "      <td>1</td>\n",
       "      <td>270</td>\n",
       "    </tr>\n",
       "    <tr>\n",
       "      <th rowspan=\"3\" valign=\"top\">B</th>\n",
       "      <th>2019-08-04</th>\n",
       "      <td>1</td>\n",
       "      <td>2800</td>\n",
       "    </tr>\n",
       "    <tr>\n",
       "      <th>2019-08-15</th>\n",
       "      <td>1</td>\n",
       "      <td>1680</td>\n",
       "    </tr>\n",
       "    <tr>\n",
       "      <th>2019-08-29</th>\n",
       "      <td>1</td>\n",
       "      <td>2420</td>\n",
       "    </tr>\n",
       "    <tr>\n",
       "      <th rowspan=\"8\" valign=\"top\">2378935119</th>\n",
       "      <th rowspan=\"4\" valign=\"top\">A</th>\n",
       "      <th>2019-08-10</th>\n",
       "      <td>1</td>\n",
       "      <td>58220</td>\n",
       "    </tr>\n",
       "    <tr>\n",
       "      <th>2019-08-15</th>\n",
       "      <td>1</td>\n",
       "      <td>1650</td>\n",
       "    </tr>\n",
       "    <tr>\n",
       "      <th>2019-08-17</th>\n",
       "      <td>1</td>\n",
       "      <td>310</td>\n",
       "    </tr>\n",
       "    <tr>\n",
       "      <th>2019-08-22</th>\n",
       "      <td>1</td>\n",
       "      <td>3390</td>\n",
       "    </tr>\n",
       "    <tr>\n",
       "      <th rowspan=\"4\" valign=\"top\">B</th>\n",
       "      <th>2019-08-09</th>\n",
       "      <td>1</td>\n",
       "      <td>30649</td>\n",
       "    </tr>\n",
       "    <tr>\n",
       "      <th>2019-08-10</th>\n",
       "      <td>1</td>\n",
       "      <td>2640</td>\n",
       "    </tr>\n",
       "    <tr>\n",
       "      <th>2019-08-25</th>\n",
       "      <td>1</td>\n",
       "      <td>21220</td>\n",
       "    </tr>\n",
       "    <tr>\n",
       "      <th>2019-08-28</th>\n",
       "      <td>2</td>\n",
       "      <td>24860</td>\n",
       "    </tr>\n",
       "    <tr>\n",
       "      <th rowspan=\"10\" valign=\"top\">2458001652</th>\n",
       "      <th rowspan=\"5\" valign=\"top\">A</th>\n",
       "      <th>2019-08-04</th>\n",
       "      <td>1</td>\n",
       "      <td>340</td>\n",
       "    </tr>\n",
       "    <tr>\n",
       "      <th>2019-08-06</th>\n",
       "      <td>1</td>\n",
       "      <td>1620</td>\n",
       "    </tr>\n",
       "    <tr>\n",
       "      <th>2019-08-07</th>\n",
       "      <td>1</td>\n",
       "      <td>17379</td>\n",
       "    </tr>\n",
       "    <tr>\n",
       "      <th>2019-08-11</th>\n",
       "      <td>1</td>\n",
       "      <td>8280</td>\n",
       "    </tr>\n",
       "    <tr>\n",
       "      <th>2019-08-22</th>\n",
       "      <td>1</td>\n",
       "      <td>5190</td>\n",
       "    </tr>\n",
       "    <tr>\n",
       "      <th rowspan=\"5\" valign=\"top\">B</th>\n",
       "      <th>2019-08-05</th>\n",
       "      <td>1</td>\n",
       "      <td>2420</td>\n",
       "    </tr>\n",
       "    <tr>\n",
       "      <th>2019-08-06</th>\n",
       "      <td>2</td>\n",
       "      <td>14030</td>\n",
       "    </tr>\n",
       "    <tr>\n",
       "      <th>2019-08-08</th>\n",
       "      <td>1</td>\n",
       "      <td>5227</td>\n",
       "    </tr>\n",
       "    <tr>\n",
       "      <th>2019-08-09</th>\n",
       "      <td>1</td>\n",
       "      <td>5227</td>\n",
       "    </tr>\n",
       "    <tr>\n",
       "      <th>2019-08-25</th>\n",
       "      <td>1</td>\n",
       "      <td>2385</td>\n",
       "    </tr>\n",
       "    <tr>\n",
       "      <th rowspan=\"11\" valign=\"top\">4256040402</th>\n",
       "      <th rowspan=\"7\" valign=\"top\">A</th>\n",
       "      <th>2019-08-01</th>\n",
       "      <td>1</td>\n",
       "      <td>5800</td>\n",
       "    </tr>\n",
       "    <tr>\n",
       "      <th>2019-08-12</th>\n",
       "      <td>1</td>\n",
       "      <td>50</td>\n",
       "    </tr>\n",
       "    <tr>\n",
       "      <th>2019-08-17</th>\n",
       "      <td>1</td>\n",
       "      <td>1550</td>\n",
       "    </tr>\n",
       "    <tr>\n",
       "      <th>2019-08-20</th>\n",
       "      <td>1</td>\n",
       "      <td>17650</td>\n",
       "    </tr>\n",
       "    <tr>\n",
       "      <th>2019-08-23</th>\n",
       "      <td>1</td>\n",
       "      <td>16950</td>\n",
       "    </tr>\n",
       "    <tr>\n",
       "      <th>2019-08-27</th>\n",
       "      <td>1</td>\n",
       "      <td>1630</td>\n",
       "    </tr>\n",
       "    <tr>\n",
       "      <th>2019-08-31</th>\n",
       "      <td>1</td>\n",
       "      <td>5170</td>\n",
       "    </tr>\n",
       "    <tr>\n",
       "      <th rowspan=\"4\" valign=\"top\">B</th>\n",
       "      <th>2019-08-08</th>\n",
       "      <td>1</td>\n",
       "      <td>58220</td>\n",
       "    </tr>\n",
       "    <tr>\n",
       "      <th>2019-08-16</th>\n",
       "      <td>1</td>\n",
       "      <td>56650</td>\n",
       "    </tr>\n",
       "    <tr>\n",
       "      <th>2019-08-18</th>\n",
       "      <td>1</td>\n",
       "      <td>10970</td>\n",
       "    </tr>\n",
       "    <tr>\n",
       "      <th>2019-08-31</th>\n",
       "      <td>1</td>\n",
       "      <td>1850</td>\n",
       "    </tr>\n",
       "  </tbody>\n",
       "</table>\n",
       "</div>"
      ],
      "text/plain": [
       "                             transaction_id  revenue\n",
       "visitor_id group date                               \n",
       "1230306981 A     2019-08-09               3    18440\n",
       "           B     2019-08-09               2    12840\n",
       "2038680547 A     2019-08-04               2     4070\n",
       "                 2019-08-17               1     3470\n",
       "                 2019-08-22               1      760\n",
       "                 2019-08-25               1      270\n",
       "           B     2019-08-04               1     2800\n",
       "                 2019-08-15               1     1680\n",
       "                 2019-08-29               1     2420\n",
       "2378935119 A     2019-08-10               1    58220\n",
       "                 2019-08-15               1     1650\n",
       "                 2019-08-17               1      310\n",
       "                 2019-08-22               1     3390\n",
       "           B     2019-08-09               1    30649\n",
       "                 2019-08-10               1     2640\n",
       "                 2019-08-25               1    21220\n",
       "                 2019-08-28               2    24860\n",
       "2458001652 A     2019-08-04               1      340\n",
       "                 2019-08-06               1     1620\n",
       "                 2019-08-07               1    17379\n",
       "                 2019-08-11               1     8280\n",
       "                 2019-08-22               1     5190\n",
       "           B     2019-08-05               1     2420\n",
       "                 2019-08-06               2    14030\n",
       "                 2019-08-08               1     5227\n",
       "                 2019-08-09               1     5227\n",
       "                 2019-08-25               1     2385\n",
       "4256040402 A     2019-08-01               1     5800\n",
       "                 2019-08-12               1       50\n",
       "                 2019-08-17               1     1550\n",
       "                 2019-08-20               1    17650\n",
       "                 2019-08-23               1    16950\n",
       "                 2019-08-27               1     1630\n",
       "                 2019-08-31               1     5170\n",
       "           B     2019-08-08               1    58220\n",
       "                 2019-08-16               1    56650\n",
       "                 2019-08-18               1    10970\n",
       "                 2019-08-31               1     1850"
      ]
     },
     "execution_count": 16,
     "metadata": {},
     "output_type": "execute_result"
    }
   ],
   "source": [
    "test_list = list(zip(group_sizes['visitor_id'], group_sizes['group']))\n",
    "test_dict = defaultdict(list)\n",
    "for user, group in test_list:\n",
    "    test_dict[user].append(group)\n",
    "\n",
    "bad_users = [user for user in test_dict if len(test_dict[user]) > 1]\n",
    "bad_orders = orders.query('visitor_id in @bad_users')\n",
    "bad_orders_group = (bad_orders\n",
    "                        .groupby(['visitor_id', 'group', 'date'])\n",
    "                        .agg({'transaction_id': 'nunique', 'revenue': 'sum'})\n",
    "                   )\n",
    "bad_orders_group"
   ]
  },
  {
   "cell_type": "markdown",
   "metadata": {},
   "source": [
    "Пять пользователей входят и в ту и в ту группу, но мы рассматриваем деление по сессиям на группы, то есть удалять этих пользователей не нужно. Используются разные сессии одного пользователя в двух группах"
   ]
  },
  {
   "cell_type": "markdown",
   "metadata": {},
   "source": [
    "#### Кумулятивная выручка по группам"
   ]
  },
  {
   "cell_type": "code",
   "execution_count": 17,
   "metadata": {},
   "outputs": [
    {
     "name": "stdout",
     "output_type": "stream",
     "text": [
      "\n",
      "Полученная таблица с кумулятивными (накопленными) значениями по дате и группам:\n",
      "- кол-во покупок \n",
      "- кол-во покупателей \n",
      "- выручка \n",
      "- кол-во посетителей\n",
      "        date group  orders  buyers  revenue  visitors\n",
      "0 2019-08-01     A      24      20   148579       719\n",
      "1 2019-08-01     B      21      20   101217       713\n",
      "2 2019-08-02     A      44      38   242401      1338\n",
      "3 2019-08-02     B      45      43   266748      1294\n",
      "4 2019-08-03     A      68      62   354874      1845\n",
      "\n",
      "Начальная дата 2019-08-01 00:00:00, конечная дата 2019-08-31 00:00:00\n",
      "\n"
     ]
    }
   ],
   "source": [
    "datesGroups = orders[['date','group']].drop_duplicates().sort_values(by=['date', 'group'])\n",
    "\n",
    "ordersAggregated = datesGroups.apply(lambda x: orders[np.logical_and(x['date'] >= orders['date'], x['group']==orders['group'])]\\\n",
    ".agg({'date':'max', 'group':'max', 'transaction_id':'nunique', 'visitor_id':'nunique', 'revenue':'sum'}), axis = 1)\n",
    "ordersAggregated.columns = ['date', 'group', 'orders', 'buyers', 'revenue']\n",
    "\n",
    "visitorsAggregated = datesGroups.apply(lambda x: visitors[np.logical_and(x['date'] >= visitors['date'], x['group']==visitors['group'])]\\\n",
    ".agg({'date':'max', 'group':'max', 'visitors':'sum'}), axis = 1)\n",
    "\n",
    "cummulative_data = ordersAggregated.merge(visitorsAggregated, left_on=['date', 'group'], right_on=['date', 'group'])\n",
    "\n",
    "print('\\nПолученная таблица с кумулятивными (накопленными) значениями по дате и группам:'\n",
    "'\\n- кол-во покупок \\n- кол-во покупателей \\n- выручка \\n- кол-во посетителей')\n",
    "\n",
    "print(cummulative_data.head(5))\n",
    "print('\\nНачальная дата {}, конечная дата {}\\n'.format(cummulative_data['date'].min(), cummulative_data['date'].max()))"
   ]
  },
  {
   "cell_type": "code",
   "execution_count": 18,
   "metadata": {},
   "outputs": [
    {
     "data": {
      "image/png": "[encoded data removed]",
      "text/plain": [
       "<Figure size 1000x400 with 1 Axes>"
      ]
     },
     "metadata": {},
     "output_type": "display_data"
    },
    {
     "name": "stdout",
     "output_type": "stream",
     "text": [
      "Выводы:\n",
      "Группа B стабильно показывает большую выручку чем группа A\n"
     ]
    }
   ],
   "source": [
    "cummulative_data_A = cummulative_data[cummulative_data['group']=='A']\n",
    "cummulative_data_B = cummulative_data[cummulative_data['group']=='B']\n",
    "plt.figure(figsize=(10,4))\n",
    "plt.plot(cummulative_data_A['date'], cummulative_data_A['revenue'], label = 'A')\n",
    "plt.plot(cummulative_data_B['date'], cummulative_data_B['revenue'], label = 'B')\n",
    "plt.ylabel('Выручка')\n",
    "plt.xlabel('Дата')\n",
    "plt.title('График кумулятивной выручки по группам A/B')\n",
    "plt.legend()\n",
    "plt.show()\n",
    "print('Выводы:')\n",
    "print('Группа B стабильно показывает большую выручку чем группа A')"
   ]
  },
  {
   "cell_type": "markdown",
   "metadata": {},
   "source": [
    "#### Кумулятивный средний чек по группам"
   ]
  },
  {
   "cell_type": "code",
   "execution_count": 19,
   "metadata": {
    "scrolled": true
   },
   "outputs": [
    {
     "data": {
      "image/png": "[encoded data removed]",
      "text/plain": [
       "<Figure size 1000x400 with 1 Axes>"
      ]
     },
     "metadata": {},
     "output_type": "display_data"
    },
    {
     "name": "stdout",
     "output_type": "stream",
     "text": [
      "Выводы:\n",
      "Cредний чек в группе B почти всё время был выше, но вызывает опасения\n",
      " его резкое колебание во второй половине графика, есть вероятность, что оно обусловлено аномалиями\n"
     ]
    }
   ],
   "source": [
    "plt.figure(figsize=(10,4))\n",
    "plt.plot(cummulative_data_A['date'], cummulative_data_A['revenue']/cummulative_data_A['orders'], label = 'A')\n",
    "plt.plot(cummulative_data_B['date'], cummulative_data_B['revenue']/cummulative_data_B['orders'], label = 'B')\n",
    "plt.title('График кумулятивного среднего чека по группам A/B')\n",
    "plt.ylabel('Средний чек')\n",
    "plt.xlabel('Дата')\n",
    "plt.legend()\n",
    "plt.show()\n",
    "print('Выводы:')\n",
    "print('Cредний чек в группе B почти всё время был выше, но вызывает опасения\\n '\n",
    "      'его резкое колебание во второй половине графика, есть вероятность, что оно обусловлено аномалиями')"
   ]
  },
  {
   "cell_type": "markdown",
   "metadata": {},
   "source": [
    "#### Относительное изменение кумулятивного среднечего чека B к А"
   ]
  },
  {
   "cell_type": "code",
   "execution_count": 20,
   "metadata": {
    "scrolled": true
   },
   "outputs": [
    {
     "data": {
      "image/png": "[encoded data removed]",
      "text/plain": [
       "<Figure size 1000x400 with 1 Axes>"
      ]
     },
     "metadata": {},
     "output_type": "display_data"
    },
    {
     "name": "stdout",
     "output_type": "stream",
     "text": [
      "Выводы:\n",
      "Наблюдаемые колебания слишком резкие, необходимо будет проверить данные на наличие аномальных пользователей\n"
     ]
    }
   ],
   "source": [
    "merged_cummulative_data = cummulative_data_A.merge(cummulative_data_B, left_on='date', right_on='date', suffixes=['A', 'B'])\n",
    "merged_cummulative_data.head(5)\n",
    "plt.figure(figsize=(10,4))\n",
    "plt.plot(merged_cummulative_data['date'], ((merged_cummulative_data['revenueB']/merged_cummulative_data['ordersB'])/\n",
    "                                       (merged_cummulative_data['revenueA']/merged_cummulative_data['ordersA'])-1))\n",
    "plt.axhline(y=0, color='black', linestyle = '--')\n",
    "plt.title('График относительного изменения кумулятивного среднего чека группы B к группе A')\n",
    "plt.xlabel('Дата')\n",
    "plt.show()\n",
    "print('Выводы:')\n",
    "print('Наблюдаемые колебания слишком резкие, необходимо будет проверить данные на наличие аномальных пользователей')"
   ]
  },
  {
   "cell_type": "markdown",
   "metadata": {},
   "source": [
    "#### Кумулятивное среднее количество заказов на посетителя по группам"
   ]
  },
  {
   "cell_type": "code",
   "execution_count": 21,
   "metadata": {},
   "outputs": [
    {
     "data": {
      "image/png": "[encoded data removed]",
      "text/plain": [
       "<Figure size 1000x400 with 1 Axes>"
      ]
     },
     "metadata": {},
     "output_type": "display_data"
    },
    {
     "name": "stdout",
     "output_type": "stream",
     "text": [
      "Выводы:\n",
      "Группа B в начале имеет меньшее среднее количество заказов на посетителя , чем группа А, но по итогу значительно возрастает, а среднее количество заказов на посетителя группы А напротив \n",
      "снижается\n"
     ]
    }
   ],
   "source": [
    "merged_cummulative_data['conversionA'] =  merged_cummulative_data['ordersA'] / merged_cummulative_data['visitorsA'] \n",
    "merged_cummulative_data['conversionB'] =  merged_cummulative_data['ordersB'] / merged_cummulative_data['visitorsB']\n",
    "merged_cummulative_data.head(5)\n",
    "plt.figure(figsize=(10,4))\n",
    "plt.plot(merged_cummulative_data['date'], merged_cummulative_data['conversionA'], label='A')\n",
    "plt.plot(merged_cummulative_data['date'], merged_cummulative_data['conversionB'], label='B')\n",
    "plt.title('График кумулятивной среднего количества заказов на посетителя по группам A/B')\n",
    "plt.xlabel('Дата')\n",
    "plt.ylabel('Среднее количество заказов')\n",
    "plt.legend()\n",
    "plt.show()\n",
    "print('Выводы:')\n",
    "print('Группа B в начале имеет меньшее среднее количество заказов на посетителя , чем группа А, но по итогу значительно возрастает, а среднее количество заказов на посетителя группы А напротив \\nснижается')\n",
    "\n"
   ]
  },
  {
   "cell_type": "markdown",
   "metadata": {},
   "source": [
    "#### Относительное изменение кумулятивной конверсии B к А"
   ]
  },
  {
   "cell_type": "code",
   "execution_count": 22,
   "metadata": {},
   "outputs": [
    {
     "data": {
      "image/png": "[encoded data removed]",
      "text/plain": [
       "<Figure size 1000x400 with 1 Axes>"
      ]
     },
     "metadata": {},
     "output_type": "display_data"
    },
    {
     "name": "stdout",
     "output_type": "stream",
     "text": [
      "Выводы:\n",
      "Среднее количество заказов на посетителя в группе B стабильно выше среднего количества заказов на посетителя в группе A более чем на 10% по просшествии 1 недели после начала\n"
     ]
    }
   ],
   "source": [
    "merged_cummulative_data.head(5)\n",
    "plt.figure(figsize=(10,4))\n",
    "plt.plot(merged_cummulative_data['date'], ((merged_cummulative_data['conversionB']/merged_cummulative_data['conversionA'])-1))\n",
    "plt.title('График относительного изменения кумулятивной среднего количества заказов на посетителя группы B к группе A')\n",
    "plt.axhline(y=0, color='black', linestyle='--')\n",
    "plt.axhline(y=0.15, color='grey', linestyle='--')\n",
    "plt.xlabel('Дата')\n",
    "plt.show()\n",
    "print('Выводы:')\n",
    "print('Среднее количество заказов на посетителя в группе B стабильно выше среднего количества заказов на посетителя в группе A более чем на 10% по просшествии 1 недели после начала')"
   ]
  },
  {
   "cell_type": "markdown",
   "metadata": {},
   "source": [
    "#### Распределение числа заказов на одного пользователя"
   ]
  },
  {
   "cell_type": "code",
   "execution_count": 23,
   "metadata": {},
   "outputs": [
    {
     "data": {
      "image/png": "[encoded data removed]",
      "text/plain": [
       "<Figure size 1000x400 with 1 Axes>"
      ]
     },
     "metadata": {},
     "output_type": "display_data"
    },
    {
     "data": {
      "image/png": "[encoded data removed]",
      "text/plain": [
       "<Figure size 1000x400 with 1 Axes>"
      ]
     },
     "metadata": {},
     "output_type": "display_data"
    },
    {
     "name": "stdout",
     "output_type": "stream",
     "text": [
      "Выводы:\n",
      "Большинство пользователей не совершает более 2 заказов\n"
     ]
    }
   ],
   "source": [
    "orders.head(5)\n",
    "orders_by_users = orders.groupby('visitor_id', as_index = False).agg({'transaction_id':'nunique'}).sort_values(by='transaction_id', ascending = False)\n",
    "orders_by_users.columns = ['visitor_id', 'orders']\n",
    "orders_by_users.head(5)\n",
    "plt.figure(figsize=(10,4))\n",
    "plt.hist(orders_by_users['orders'], bins = 10)\n",
    "plt.title('Гистрограмма распределения количества заказов на одного пользователя')\n",
    "plt.show()\n",
    "x_values = pd.Series(range(0, len(orders_by_users)))\n",
    "plt.figure(figsize=(10,4))\n",
    "plt.scatter(x_values, orders_by_users['orders'])\n",
    "plt.title('Точечная диаграмма числа заказов на одного пользователя')\n",
    "plt.show()\n",
    "print('Выводы:')\n",
    "print('Большинство пользователей не совершает более 2 заказов')"
   ]
  },
  {
   "cell_type": "markdown",
   "metadata": {},
   "source": [
    "#### Определение границы количества заказов для аномальных пользователей"
   ]
  },
  {
   "cell_type": "code",
   "execution_count": 24,
   "metadata": {},
   "outputs": [
    {
     "name": "stdout",
     "output_type": "stream",
     "text": [
      "Перцентили:\n",
      "95: 2.0\n",
      "99: 4.0\n",
      "\n",
      "Выводы:\n",
      "Больше 2 заказов совершают только 5% пользователей, установим лимит в 2 заказа\n"
     ]
    }
   ],
   "source": [
    "percentiles_count = np.percentile(orders_by_users['orders'], [95, 99])\n",
    "print('Перцентили:\\n95: {}\\n99: {}'.format(percentiles_count[0],percentiles_count[1]))\n",
    "print('\\nВыводы:')\n",
    "print('Больше 2 заказов совершают только 5% пользователей, установим лимит в 2 заказа')"
   ]
  },
  {
   "cell_type": "markdown",
   "metadata": {},
   "source": [
    "#### Распределение суммы заказа на одного пользователя"
   ]
  },
  {
   "cell_type": "code",
   "execution_count": 25,
   "metadata": {},
   "outputs": [
    {
     "data": {
      "image/png": "[encoded data removed]",
      "text/plain": [
       "<Figure size 1000x400 with 1 Axes>"
      ]
     },
     "metadata": {},
     "output_type": "display_data"
    },
    {
     "data": {
      "image/png": "[encoded data removed]",
      "text/plain": [
       "<Figure size 1000x400 with 1 Axes>"
      ]
     },
     "metadata": {},
     "output_type": "display_data"
    },
    {
     "name": "stdout",
     "output_type": "stream",
     "text": [
      "Выводы:\n",
      "Основная часть покупателей совершают покупки до 25 тыс. рублей. Проверим это далее.\n"
     ]
    }
   ],
   "source": [
    "plt.figure(figsize=(10,4))\n",
    "plt.hist(orders['revenue'], range=(0,100000), bins = 100)\n",
    "plt.title('Гистрограмма распределения сумм заказов на одного пользователя')\n",
    "plt.show()\n",
    "x_values = pd.Series(range(0, len(orders)))\n",
    "plt.figure(figsize=(10,4))\n",
    "plt.scatter(x_values, orders['revenue'])\n",
    "plt.title('Точечная диаграмма сумм заказов на одного пользователя')\n",
    "plt.axis([0, 1200, 0, 200000])\n",
    "plt.show()\n",
    "print('Выводы:')\n",
    "print('Основная часть покупателей совершают покупки до 25 тыс. рублей. Проверим это далее.')"
   ]
  },
  {
   "cell_type": "markdown",
   "metadata": {},
   "source": [
    "#### Определение границы суммы заказа для аномальных пользователей"
   ]
  },
  {
   "cell_type": "code",
   "execution_count": 26,
   "metadata": {},
   "outputs": [
    {
     "name": "stdout",
     "output_type": "stream",
     "text": [
      "Перцентили:\n",
      "95: 28000\n",
      "99: 58233\n",
      "\n",
      "Выводы:\n",
      "Всего лишь 5% заказов дороже 28 тыс.рублей, установим эту цифру как границу\n"
     ]
    }
   ],
   "source": [
    "percentiles_sum = np.percentile(orders['revenue'], [95, 99])\n",
    "print('Перцентили:\\n95: {:.0f}\\n99: {:.0f}'.format(percentiles_sum[0],percentiles_sum[1]))\n",
    "print('\\nВыводы:')\n",
    "print('Всего лишь 5% заказов дороже 28 тыс.рублей, установим эту цифру как границу')"
   ]
  },
  {
   "cell_type": "markdown",
   "metadata": {},
   "source": [
    "#### Расчет статистической значимости различий в среднем количестве заказов на посетителя между группами"
   ]
  },
  {
   "cell_type": "markdown",
   "metadata": {},
   "source": [
    "Используется непараметрический тест Уилкоксона-Манна-Уитни, так как он не подвержен влиянию аномальных значений\\\n",
    "Альфа: 0.05\\\n",
    "Нулевая гипотеза: статистически значимых различий  в среднем количестве заказов на посетителя в группах А и В по 'сырым' данным нет\\\n",
    "Альтернативная гипотеза:  статистически значимые различия в среднем количестве заказов на посетителя в группах А и В по 'сырым' данным есть"
   ]
  },
  {
   "cell_type": "code",
   "execution_count": 27,
   "metadata": {},
   "outputs": [
    {
     "name": "stdout",
     "output_type": "stream",
     "text": [
      "Кол-во покупателей в группе A: 503\n",
      "Кол-во покупок в группе А: 557\n",
      "Кол-во посетителей в группе A: 18736\n",
      "\n",
      "Кол-во покупателей в группе B: 586\n",
      "Кол-во покупок в группе B: 640\n",
      "Кол-во посетителей в группе B: 18916\n",
      "\n",
      "Относительный прирост среднего количества заказов на пользователя группы B по отношению к группе A: 0.138\n",
      "P-value: 0.016792355056752608\n",
      "Отвергаем нулевую гипотезу\n"
     ]
    }
   ],
   "source": [
    "orders_by_users_A = orders[orders['group']=='A'].groupby('visitor_id', as_index=False).agg({'transaction_id':'nunique'})\n",
    "orders_by_users_A.columns = ['visitor_id', 'orders']\n",
    "orders_by_users_B = orders[orders['group']=='B'].groupby('visitor_id', as_index=False).agg({'transaction_id':'nunique'})\n",
    "orders_by_users_B.columns = ['visitor_id', 'orders']\n",
    "print('Кол-во покупателей в группе A: {}'.format(len(orders_by_users_A)))\n",
    "print('Кол-во покупок в группе А: {}'.format(orders_by_users_A['orders'].sum()))\n",
    "print('Кол-во посетителей в группе A: {}\\n'.format(visitors[visitors['group']=='A']['visitors'].sum()))\n",
    "print('Кол-во покупателей в группе B: {}'.format(len(orders_by_users_B)))\n",
    "print('Кол-во покупок в группе B: {}'.format(orders_by_users_B['orders'].sum()))\n",
    "print('Кол-во посетителей в группе B: {}'.format(visitors[visitors['group']=='B']['visitors'].sum()))\n",
    "\n",
    "list_orders_1 =[]\n",
    "for i in range(0,(visitors[visitors['group']=='A']['visitors'].sum()-len(orders_by_users_A))):\n",
    "    list_orders_1.append(0)\n",
    "orders_by_non_purchased_users_A = pd.Series(data = list_orders_1, name = 'orders')\n",
    "\n",
    "list_orders_2 =[]\n",
    "for i in range(0,(visitors[visitors['group']=='B']['visitors'].sum()-len(orders_by_users_B))):\n",
    "    list_orders_2.append(0)\n",
    "orders_by_non_purchased_users_B = pd.Series(data = list_orders_2, name = 'orders')\n",
    "\n",
    "sample_A = pd.concat([orders_by_users_A['orders'], orders_by_non_purchased_users_A], axis=0)\n",
    "sample_B = pd.concat([orders_by_users_B['orders'], orders_by_non_purchased_users_B], axis=0)\n",
    "print('\\nОтносительный прирост среднего количества заказов на пользователя группы B по отношению к группе A: {:.3f}'.format(sample_B.mean()/sample_A.mean()-1))\n",
    "alpha = 0.05\n",
    "results = stats.mannwhitneyu(sample_A, sample_B)\n",
    "print('P-value: {}'.format(results.pvalue))\n",
    "if results.pvalue < alpha:\n",
    "    print('Отвергаем нулевую гипотезу')\n",
    "else:\n",
    "    print('Принимаем нулевую гипотезу')"
   ]
  },
  {
   "cell_type": "markdown",
   "metadata": {},
   "source": [
    "#### Расчет статистической значимости различий в среднем чеке заказа между группами по «сырым» данным"
   ]
  },
  {
   "cell_type": "markdown",
   "metadata": {},
   "source": [
    "Используется непараметрический тест Уилкоксона-Манна-Уитни\\\n",
    "Альфа: 0.05\\\n",
    "Нулевая гипотеза: статистически значимых различий в среднем чеке заказа в группах А и В по 'сырым' данным нет\\\n",
    "Альтернативная гипотеза: статистически значимые различия в среднем чеке заказа в группах А и В по 'сырым' данным есть"
   ]
  },
  {
   "cell_type": "code",
   "execution_count": 28,
   "metadata": {},
   "outputs": [
    {
     "name": "stdout",
     "output_type": "stream",
     "text": [
      "Относительное изменение среднего чека в группе B по отношению группы A: 0.259\n",
      "P-value: 0.7292909855432458\n",
      "Принимаем нулевую гипотезу\n"
     ]
    }
   ],
   "source": [
    "print('Относительное изменение среднего чека в группе B по отношению группы A: {:.3f}'.format(\n",
    "orders[orders['group']=='B']['revenue'].mean()/orders[orders['group']=='A']['revenue'].mean()-1))\n",
    "results = stats.mannwhitneyu(orders[orders['group']=='A']['revenue'], orders[orders['group']=='B']['revenue'])\n",
    "print('P-value: {}'.format(results.pvalue))\n",
    "if results.pvalue < alpha:\n",
    "    print('Отвергаем нулевую гипотезу')\n",
    "else:\n",
    "    print('Принимаем нулевую гипотезу')"
   ]
  },
  {
   "cell_type": "markdown",
   "metadata": {},
   "source": [
    "#### Расчет статистической значимости различий в среднем количестве заказов на посетителя между группами по «очищенным» данным"
   ]
  },
  {
   "cell_type": "code",
   "execution_count": 29,
   "metadata": {},
   "outputs": [
    {
     "name": "stdout",
     "output_type": "stream",
     "text": [
      "Кол-во аномальных пользователей: 74\n"
     ]
    }
   ],
   "source": [
    "limit_orders = percentiles_count[0]\n",
    "limit_revenue = percentiles_sum[0]\n",
    "users_with_many_orders = pd.concat([orders_by_users_A[orders_by_users_A['orders']>limit_orders]['visitor_id'], \n",
    "                                orders_by_users_B[orders_by_users_B['orders']>limit_orders]['visitor_id']], axis = 0)\n",
    "users_with_expensive_orders = orders[orders['revenue']>limit_revenue]['visitor_id']\n",
    "abnormal_users = pd.concat([users_with_many_orders, users_with_expensive_orders], axis = 0).drop_duplicates().sort_values()\n",
    "print('Кол-во аномальных пользователей: {}'.format(len(abnormal_users)))"
   ]
  },
  {
   "cell_type": "markdown",
   "metadata": {},
   "source": [
    "Используется непараметрический тест Уилкоксона-Манна-Уитни\\\n",
    "Альфа: 0.05\\\n",
    "Нулевая гипотеза: статистически значимых различий в среднем количестве заказов на посетителя в группах А и В по 'очищенным' данным нет\\\n",
    "Альтернативная гипотеза: статистически значимые различия в среднем количестве заказов на посетителя  в группах А и В по 'очищенным' данным есть"
   ]
  },
  {
   "cell_type": "code",
   "execution_count": 30,
   "metadata": {},
   "outputs": [
    {
     "name": "stdout",
     "output_type": "stream",
     "text": [
      "\n",
      "Относительный прирост среднего количества заказов на посетителя группы B по отношению к группе A после очистки данных: 0.173\n",
      "P-value: 0.013042592743036745\n",
      "Отвергаем нулевую гипотезу\n"
     ]
    }
   ],
   "source": [
    "sample_A_filtered = pd.concat([\n",
    "    orders_by_users_A[np.logical_not(orders_by_users_A['visitor_id'].isin(abnormal_users))]['orders'],\n",
    "    orders_by_non_purchased_users_A\n",
    "], axis = 0)\n",
    "sample_B_filtered = pd.concat([\n",
    "    orders_by_users_B[np.logical_not(orders_by_users_B['visitor_id'].isin(abnormal_users))]['orders'],\n",
    "    orders_by_non_purchased_users_B\n",
    "], axis = 0)\n",
    "print('\\nОтносительный прирост среднего количества заказов на посетителя группы B по отношению к группе A после очистки данных: {:.3f}'.format(sample_B_filtered.mean()/sample_A_filtered.mean()-1))\n",
    "results = stats.mannwhitneyu(sample_A_filtered, sample_B_filtered)\n",
    "print('P-value: {}'.format(results.pvalue))\n",
    "if results.pvalue < alpha:\n",
    "    print('Отвергаем нулевую гипотезу')\n",
    "else:\n",
    "    print('Принимаем нулевую гипотезу')"
   ]
  },
  {
   "cell_type": "markdown",
   "metadata": {},
   "source": [
    "#### Расчет статистической значимости различий в среднем чеке между группами по \"очищенным\" данным"
   ]
  },
  {
   "cell_type": "markdown",
   "metadata": {},
   "source": [
    "Используется непараметрический тест Уилкоксона-Манна-Уитни\\\n",
    "Альфа: 0.05\\\n",
    "Нулевая гипотеза: статистически значимых различий в среднем чеке заказа в группах А и В по 'очищенным' данным нет\\\n",
    "Альтернативная гипотеза: статистически значимые различия в среднем чеке заказа в группах А и В по 'очищенным' данным есть"
   ]
  },
  {
   "cell_type": "code",
   "execution_count": 31,
   "metadata": {},
   "outputs": [
    {
     "name": "stdout",
     "output_type": "stream",
     "text": [
      "Относительное изменение среднего чека в группе B по отношению группы A после очистки данных: -0.020\n",
      "P-value: 0.738481751314565\n",
      "Принимаем нулевую гипотезу\n"
     ]
    }
   ],
   "source": [
    "print('Относительное изменение среднего чека в группе B по отношению группы A после очистки данных: {:.3f}'.format(\n",
    "orders[np.logical_and(orders['group']=='B', np.logical_not(orders['visitor_id'].isin(abnormal_users)))]['revenue'].mean()\\\n",
    "/orders[np.logical_and(orders['group']=='A', np.logical_not(orders['visitor_id'].isin(abnormal_users)))]['revenue'].mean()-1))\n",
    "       \n",
    "       \n",
    "results = stats.mannwhitneyu(orders[np.logical_and(orders['group']=='A', np.logical_not(orders['visitor_id'].isin(abnormal_users)))]['revenue'],\n",
    "                             orders[np.logical_and(orders['group']=='B', np.logical_not(orders['visitor_id'].isin(abnormal_users)))]['revenue'])\n",
    "print('P-value: {}'.format(results.pvalue))\n",
    "if results.pvalue < alpha:\n",
    "    print('Отваргем нулевую гипотезу')\n",
    "else:\n",
    "    print('Принимаем нулевую гипотезу')"
   ]
  },
  {
   "cell_type": "markdown",
   "metadata": {},
   "source": [
    "### Вывод"
   ]
  },
  {
   "cell_type": "markdown",
   "metadata": {},
   "source": [
    "Группы имеют корректный размер, проблема подглядывания в результате сравнения групп во время проведения теста была исключена.\\\n",
    "По всем кумулятивным метрикам лидерство было у группы В, хотя на графике кумулятивного среднего чека у группы В наблюдялись сильные колебания, что свидетельствует о наличие аномалий.\\\n",
    "После нахождения границ аномалий и коррекции области данных по количеству заказов и суммы заказа разница по среднему чеку изменилась и стала минимальна\\\n",
    "Но при этом показатель конверсии группы В даже по очищенным данным превышает конверсию группы А на 17% ( с 14 до 17%)\\\n",
    "Такой показатель разницы конверсий является статистически значимым, что позволяет зафиксировать победу групыы В и остановить тест.\n"
   ]
  }
 ],
 "metadata": {
  "ExecuteTimeLog": [
   {
    "duration": 1279,
    "start_time": "2023-01-16T14:31:02.220Z"
   },
   {
    "duration": 94,
    "start_time": "2023-01-16T14:32:14.252Z"
   },
   {
    "duration": 58,
    "start_time": "2023-01-16T14:32:20.269Z"
   },
   {
    "duration": 22,
    "start_time": "2023-01-16T14:33:19.391Z"
   },
   {
    "duration": 9,
    "start_time": "2023-01-16T14:34:25.775Z"
   },
   {
    "duration": 19,
    "start_time": "2023-01-16T14:34:47.080Z"
   },
   {
    "duration": 14,
    "start_time": "2023-01-16T14:35:04.696Z"
   },
   {
    "duration": 11,
    "start_time": "2023-01-16T14:36:04.290Z"
   },
   {
    "duration": 17,
    "start_time": "2023-01-16T14:36:30.482Z"
   },
   {
    "duration": 11,
    "start_time": "2023-01-16T14:37:13.005Z"
   },
   {
    "duration": 11,
    "start_time": "2023-01-16T14:37:16.060Z"
   },
   {
    "duration": 137,
    "start_time": "2023-01-16T14:40:30.847Z"
   },
   {
    "duration": 11,
    "start_time": "2023-01-16T14:40:38.633Z"
   },
   {
    "duration": 11,
    "start_time": "2023-01-16T14:40:57.953Z"
   },
   {
    "duration": 1282,
    "start_time": "2023-01-17T07:57:05.945Z"
   },
   {
    "duration": 3,
    "start_time": "2023-01-17T07:57:08.311Z"
   },
   {
    "duration": 60,
    "start_time": "2023-01-17T07:57:08.316Z"
   },
   {
    "duration": 14,
    "start_time": "2023-01-17T07:57:08.378Z"
   },
   {
    "duration": 21,
    "start_time": "2023-01-17T07:57:08.394Z"
   },
   {
    "duration": 15,
    "start_time": "2023-01-17T07:57:08.418Z"
   },
   {
    "duration": 12,
    "start_time": "2023-01-17T07:57:08.434Z"
   },
   {
    "duration": 120,
    "start_time": "2023-01-17T07:57:08.447Z"
   },
   {
    "duration": 11,
    "start_time": "2023-01-17T07:57:08.569Z"
   },
   {
    "duration": 16,
    "start_time": "2023-01-17T07:57:08.581Z"
   },
   {
    "duration": 9,
    "start_time": "2023-01-17T07:57:08.599Z"
   },
   {
    "duration": 12,
    "start_time": "2023-01-17T07:57:21.214Z"
   },
   {
    "duration": 17,
    "start_time": "2023-01-17T08:05:50.418Z"
   },
   {
    "duration": 10,
    "start_time": "2023-01-17T08:05:59.529Z"
   },
   {
    "duration": 13,
    "start_time": "2023-01-17T08:06:07.378Z"
   },
   {
    "duration": 11,
    "start_time": "2023-01-17T08:06:15.320Z"
   },
   {
    "duration": 4,
    "start_time": "2023-01-17T08:06:48.589Z"
   },
   {
    "duration": 11,
    "start_time": "2023-01-17T08:06:51.376Z"
   },
   {
    "duration": 14,
    "start_time": "2023-01-17T08:06:58.992Z"
   },
   {
    "duration": 5,
    "start_time": "2023-01-17T08:07:04.256Z"
   },
   {
    "duration": 13,
    "start_time": "2023-01-17T08:07:05.785Z"
   },
   {
    "duration": 30,
    "start_time": "2023-01-17T08:09:20.119Z"
   },
   {
    "duration": 22,
    "start_time": "2023-01-17T08:09:39.216Z"
   },
   {
    "duration": 14,
    "start_time": "2023-01-17T08:09:47.799Z"
   },
   {
    "duration": 297,
    "start_time": "2023-01-17T08:14:05.277Z"
   },
   {
    "duration": 257,
    "start_time": "2023-01-17T08:21:35.194Z"
   },
   {
    "duration": 126,
    "start_time": "2023-01-17T08:25:11.342Z"
   },
   {
    "duration": 308,
    "start_time": "2023-01-17T08:25:36.686Z"
   },
   {
    "duration": 277,
    "start_time": "2023-01-17T08:26:12.869Z"
   },
   {
    "duration": 295,
    "start_time": "2023-01-17T08:27:05.615Z"
   },
   {
    "duration": 216,
    "start_time": "2023-01-17T08:27:24.838Z"
   },
   {
    "duration": 14,
    "start_time": "2023-01-17T11:03:12.314Z"
   },
   {
    "duration": 302,
    "start_time": "2023-01-17T11:03:51.754Z"
   },
   {
    "duration": 202,
    "start_time": "2023-01-17T11:24:40.213Z"
   },
   {
    "duration": 199,
    "start_time": "2023-01-17T11:24:50.908Z"
   },
   {
    "duration": 18,
    "start_time": "2023-01-17T11:26:11.988Z"
   },
   {
    "duration": 361,
    "start_time": "2023-01-17T11:26:34.836Z"
   },
   {
    "duration": 13,
    "start_time": "2023-01-17T11:27:46.900Z"
   },
   {
    "duration": 216,
    "start_time": "2023-01-17T11:27:54.284Z"
   },
   {
    "duration": 285,
    "start_time": "2023-01-17T11:28:49.044Z"
   },
   {
    "duration": 223,
    "start_time": "2023-01-17T11:29:04.107Z"
   },
   {
    "duration": 1375,
    "start_time": "2023-01-18T07:34:38.276Z"
   },
   {
    "duration": 58,
    "start_time": "2023-01-18T07:34:39.653Z"
   },
   {
    "duration": 17,
    "start_time": "2023-01-18T07:34:39.713Z"
   },
   {
    "duration": 10,
    "start_time": "2023-01-18T07:34:39.732Z"
   },
   {
    "duration": 21,
    "start_time": "2023-01-18T07:34:39.744Z"
   },
   {
    "duration": 22,
    "start_time": "2023-01-18T07:34:39.767Z"
   },
   {
    "duration": 130,
    "start_time": "2023-01-18T07:34:39.791Z"
   },
   {
    "duration": 14,
    "start_time": "2023-01-18T07:34:39.923Z"
   },
   {
    "duration": 17,
    "start_time": "2023-01-18T07:34:39.939Z"
   },
   {
    "duration": 17,
    "start_time": "2023-01-18T07:34:39.959Z"
   },
   {
    "duration": 17,
    "start_time": "2023-01-18T07:34:39.978Z"
   },
   {
    "duration": 43,
    "start_time": "2023-01-18T07:34:39.997Z"
   },
   {
    "duration": 19,
    "start_time": "2023-01-18T07:34:40.050Z"
   },
   {
    "duration": 362,
    "start_time": "2023-01-18T07:34:40.071Z"
   },
   {
    "duration": 332,
    "start_time": "2023-01-18T07:34:40.435Z"
   },
   {
    "duration": 297,
    "start_time": "2023-01-18T07:34:40.769Z"
   },
   {
    "duration": 222,
    "start_time": "2023-01-18T07:34:41.068Z"
   },
   {
    "duration": 351,
    "start_time": "2023-01-18T07:34:41.292Z"
   },
   {
    "duration": 239,
    "start_time": "2023-01-18T07:34:41.651Z"
   },
   {
    "duration": 320,
    "start_time": "2023-01-18T07:55:34.063Z"
   },
   {
    "duration": 232,
    "start_time": "2023-01-18T07:57:23.677Z"
   },
   {
    "duration": 345,
    "start_time": "2023-01-18T07:57:36.981Z"
   },
   {
    "duration": 6,
    "start_time": "2023-01-18T07:59:05.891Z"
   },
   {
    "duration": 403,
    "start_time": "2023-01-18T07:59:41.788Z"
   },
   {
    "duration": 416,
    "start_time": "2023-01-18T08:00:37.837Z"
   },
   {
    "duration": 5,
    "start_time": "2023-01-18T08:01:01.748Z"
   },
   {
    "duration": 16,
    "start_time": "2023-01-18T08:02:14.045Z"
   },
   {
    "duration": 43,
    "start_time": "2023-01-18T08:04:37.113Z"
   },
   {
    "duration": 11,
    "start_time": "2023-01-18T08:07:19.649Z"
   },
   {
    "duration": 45,
    "start_time": "2023-01-18T08:11:16.543Z"
   },
   {
    "duration": 16,
    "start_time": "2023-01-18T08:13:22.902Z"
   },
   {
    "duration": 1213,
    "start_time": "2023-01-19T08:30:22.338Z"
   },
   {
    "duration": 64,
    "start_time": "2023-01-19T08:30:23.553Z"
   },
   {
    "duration": 13,
    "start_time": "2023-01-19T08:30:23.619Z"
   },
   {
    "duration": 9,
    "start_time": "2023-01-19T08:30:23.634Z"
   },
   {
    "duration": 15,
    "start_time": "2023-01-19T08:30:23.645Z"
   },
   {
    "duration": 10,
    "start_time": "2023-01-19T08:30:23.662Z"
   },
   {
    "duration": 136,
    "start_time": "2023-01-19T08:30:23.673Z"
   },
   {
    "duration": 11,
    "start_time": "2023-01-19T08:30:23.811Z"
   },
   {
    "duration": 19,
    "start_time": "2023-01-19T08:30:23.823Z"
   },
   {
    "duration": 6,
    "start_time": "2023-01-19T08:30:23.845Z"
   },
   {
    "duration": 13,
    "start_time": "2023-01-19T08:30:23.852Z"
   },
   {
    "duration": 32,
    "start_time": "2023-01-19T08:30:23.866Z"
   },
   {
    "duration": 14,
    "start_time": "2023-01-19T08:30:23.900Z"
   },
   {
    "duration": 350,
    "start_time": "2023-01-19T08:30:23.916Z"
   },
   {
    "duration": 314,
    "start_time": "2023-01-19T08:30:24.268Z"
   },
   {
    "duration": 267,
    "start_time": "2023-01-19T08:30:24.583Z"
   },
   {
    "duration": 219,
    "start_time": "2023-01-19T08:30:24.852Z"
   },
   {
    "duration": 357,
    "start_time": "2023-01-19T08:30:25.073Z"
   },
   {
    "duration": 214,
    "start_time": "2023-01-19T08:30:25.431Z"
   },
   {
    "duration": 287,
    "start_time": "2023-01-19T08:30:25.647Z"
   },
   {
    "duration": 290,
    "start_time": "2023-01-19T08:30:25.935Z"
   },
   {
    "duration": 5,
    "start_time": "2023-01-19T08:30:26.226Z"
   },
   {
    "duration": 479,
    "start_time": "2023-01-19T08:30:26.232Z"
   },
   {
    "duration": 4,
    "start_time": "2023-01-19T08:30:26.713Z"
   },
   {
    "duration": 43,
    "start_time": "2023-01-19T08:30:26.719Z"
   },
   {
    "duration": 48,
    "start_time": "2023-01-19T08:30:26.765Z"
   },
   {
    "duration": 20,
    "start_time": "2023-01-19T08:30:26.815Z"
   },
   {
    "duration": 30,
    "start_time": "2023-01-19T08:30:26.839Z"
   },
   {
    "duration": 43,
    "start_time": "2023-01-19T08:30:26.871Z"
   },
   {
    "duration": 5,
    "start_time": "2023-01-19T10:17:59.915Z"
   },
   {
    "duration": 5,
    "start_time": "2023-01-19T10:22:34.241Z"
   },
   {
    "duration": 67,
    "start_time": "2023-01-19T12:44:00.861Z"
   },
   {
    "duration": 1517,
    "start_time": "2023-01-19T12:44:13.561Z"
   },
   {
    "duration": 97,
    "start_time": "2023-01-19T12:44:15.080Z"
   },
   {
    "duration": 16,
    "start_time": "2023-01-19T12:44:15.179Z"
   },
   {
    "duration": 9,
    "start_time": "2023-01-19T12:44:15.198Z"
   },
   {
    "duration": 23,
    "start_time": "2023-01-19T12:44:15.209Z"
   },
   {
    "duration": 27,
    "start_time": "2023-01-19T12:44:15.234Z"
   },
   {
    "duration": 213,
    "start_time": "2023-01-19T12:44:15.263Z"
   },
   {
    "duration": 12,
    "start_time": "2023-01-19T12:44:15.478Z"
   },
   {
    "duration": 16,
    "start_time": "2023-01-19T12:44:15.492Z"
   },
   {
    "duration": 29,
    "start_time": "2023-01-19T12:44:15.511Z"
   },
   {
    "duration": 49,
    "start_time": "2023-01-19T12:44:15.542Z"
   },
   {
    "duration": 49,
    "start_time": "2023-01-19T12:44:15.592Z"
   },
   {
    "duration": 51,
    "start_time": "2023-01-19T12:44:15.642Z"
   },
   {
    "duration": 328,
    "start_time": "2023-01-19T12:44:15.694Z"
   },
   {
    "duration": 344,
    "start_time": "2023-01-19T12:44:16.025Z"
   },
   {
    "duration": 329,
    "start_time": "2023-01-19T12:44:16.372Z"
   },
   {
    "duration": 237,
    "start_time": "2023-01-19T12:44:16.704Z"
   },
   {
    "duration": 348,
    "start_time": "2023-01-19T12:44:16.947Z"
   },
   {
    "duration": 289,
    "start_time": "2023-01-19T12:44:17.297Z"
   },
   {
    "duration": 299,
    "start_time": "2023-01-19T12:44:17.588Z"
   },
   {
    "duration": 345,
    "start_time": "2023-01-19T12:44:17.890Z"
   },
   {
    "duration": 8,
    "start_time": "2023-01-19T12:44:18.238Z"
   },
   {
    "duration": 628,
    "start_time": "2023-01-19T12:44:18.251Z"
   },
   {
    "duration": 6,
    "start_time": "2023-01-19T12:44:18.882Z"
   },
   {
    "duration": 88,
    "start_time": "2023-01-19T12:44:18.890Z"
   },
   {
    "duration": 10,
    "start_time": "2023-01-19T12:44:18.981Z"
   },
   {
    "duration": 107,
    "start_time": "2023-01-19T12:44:18.994Z"
   },
   {
    "duration": 16,
    "start_time": "2023-01-19T12:44:19.105Z"
   },
   {
    "duration": 25,
    "start_time": "2023-01-19T12:49:16.363Z"
   },
   {
    "duration": 15,
    "start_time": "2023-01-19T12:49:51.169Z"
   },
   {
    "duration": 1164,
    "start_time": "2023-01-19T13:22:08.105Z"
   },
   {
    "duration": 81,
    "start_time": "2023-01-19T13:22:09.271Z"
   },
   {
    "duration": 13,
    "start_time": "2023-01-19T13:22:09.354Z"
   },
   {
    "duration": 20,
    "start_time": "2023-01-19T13:22:09.368Z"
   },
   {
    "duration": 13,
    "start_time": "2023-01-19T13:22:09.389Z"
   },
   {
    "duration": 18,
    "start_time": "2023-01-19T13:22:09.403Z"
   },
   {
    "duration": 156,
    "start_time": "2023-01-19T13:22:09.423Z"
   },
   {
    "duration": 10,
    "start_time": "2023-01-19T13:22:09.581Z"
   },
   {
    "duration": 17,
    "start_time": "2023-01-19T13:22:09.593Z"
   },
   {
    "duration": 22,
    "start_time": "2023-01-19T13:22:09.613Z"
   },
   {
    "duration": 13,
    "start_time": "2023-01-19T13:22:09.636Z"
   },
   {
    "duration": 35,
    "start_time": "2023-01-19T13:22:09.650Z"
   },
   {
    "duration": 11,
    "start_time": "2023-01-19T13:22:09.686Z"
   },
   {
    "duration": 237,
    "start_time": "2023-01-19T13:22:09.698Z"
   },
   {
    "duration": 266,
    "start_time": "2023-01-19T13:22:09.943Z"
   },
   {
    "duration": 260,
    "start_time": "2023-01-19T13:22:10.211Z"
   },
   {
    "duration": 188,
    "start_time": "2023-01-19T13:22:10.473Z"
   },
   {
    "duration": 324,
    "start_time": "2023-01-19T13:22:10.663Z"
   },
   {
    "duration": 192,
    "start_time": "2023-01-19T13:22:10.988Z"
   },
   {
    "duration": 256,
    "start_time": "2023-01-19T13:22:11.182Z"
   },
   {
    "duration": 316,
    "start_time": "2023-01-19T13:22:11.444Z"
   },
   {
    "duration": 5,
    "start_time": "2023-01-19T13:22:11.762Z"
   },
   {
    "duration": 379,
    "start_time": "2023-01-19T13:22:11.768Z"
   },
   {
    "duration": 4,
    "start_time": "2023-01-19T13:22:12.149Z"
   },
   {
    "duration": 63,
    "start_time": "2023-01-19T13:22:12.155Z"
   },
   {
    "duration": 23,
    "start_time": "2023-01-19T13:22:12.221Z"
   },
   {
    "duration": 10,
    "start_time": "2023-01-19T13:22:12.245Z"
   },
   {
    "duration": 28,
    "start_time": "2023-01-19T13:22:12.258Z"
   },
   {
    "duration": 16,
    "start_time": "2023-01-19T13:22:12.287Z"
   },
   {
    "duration": 1018,
    "start_time": "2023-01-19T16:49:25.274Z"
   },
   {
    "duration": 27,
    "start_time": "2023-01-19T16:49:26.294Z"
   },
   {
    "duration": 13,
    "start_time": "2023-01-19T16:49:26.323Z"
   },
   {
    "duration": 23,
    "start_time": "2023-01-19T16:49:26.338Z"
   },
   {
    "duration": 16,
    "start_time": "2023-01-19T16:49:26.363Z"
   },
   {
    "duration": 21,
    "start_time": "2023-01-19T16:49:26.381Z"
   },
   {
    "duration": 55,
    "start_time": "2023-01-19T16:49:26.404Z"
   },
   {
    "duration": 12,
    "start_time": "2023-01-19T16:49:26.461Z"
   },
   {
    "duration": 19,
    "start_time": "2023-01-19T16:49:26.474Z"
   },
   {
    "duration": 9,
    "start_time": "2023-01-19T16:49:26.495Z"
   },
   {
    "duration": 15,
    "start_time": "2023-01-19T16:49:26.506Z"
   },
   {
    "duration": 42,
    "start_time": "2023-01-19T16:49:26.524Z"
   },
   {
    "duration": 14,
    "start_time": "2023-01-19T16:49:26.568Z"
   },
   {
    "duration": 266,
    "start_time": "2023-01-19T16:49:26.584Z"
   },
   {
    "duration": 271,
    "start_time": "2023-01-19T16:49:26.852Z"
   },
   {
    "duration": 266,
    "start_time": "2023-01-19T16:49:27.125Z"
   },
   {
    "duration": 198,
    "start_time": "2023-01-19T16:49:27.393Z"
   },
   {
    "duration": 268,
    "start_time": "2023-01-19T16:49:27.593Z"
   },
   {
    "duration": 207,
    "start_time": "2023-01-19T16:49:27.863Z"
   },
   {
    "duration": 286,
    "start_time": "2023-01-19T16:49:28.072Z"
   },
   {
    "duration": 253,
    "start_time": "2023-01-19T16:49:28.360Z"
   },
   {
    "duration": 5,
    "start_time": "2023-01-19T16:49:28.615Z"
   },
   {
    "duration": 430,
    "start_time": "2023-01-19T16:49:28.621Z"
   },
   {
    "duration": 5,
    "start_time": "2023-01-19T16:49:29.053Z"
   },
   {
    "duration": 48,
    "start_time": "2023-01-19T16:49:29.059Z"
   },
   {
    "duration": 9,
    "start_time": "2023-01-19T16:49:29.109Z"
   },
   {
    "duration": 32,
    "start_time": "2023-01-19T16:49:29.120Z"
   },
   {
    "duration": 25,
    "start_time": "2023-01-19T16:49:29.156Z"
   },
   {
    "duration": 12,
    "start_time": "2023-01-19T16:49:29.182Z"
   },
   {
    "duration": 43,
    "start_time": "2023-01-23T10:38:10.545Z"
   },
   {
    "duration": 1226,
    "start_time": "2023-01-23T10:38:15.684Z"
   },
   {
    "duration": 60,
    "start_time": "2023-01-23T10:38:16.912Z"
   },
   {
    "duration": 12,
    "start_time": "2023-01-23T10:38:16.973Z"
   },
   {
    "duration": 14,
    "start_time": "2023-01-23T10:38:16.987Z"
   },
   {
    "duration": 22,
    "start_time": "2023-01-23T10:38:17.003Z"
   },
   {
    "duration": 13,
    "start_time": "2023-01-23T10:38:17.027Z"
   },
   {
    "duration": 132,
    "start_time": "2023-01-23T10:38:17.042Z"
   },
   {
    "duration": 12,
    "start_time": "2023-01-23T10:38:17.176Z"
   },
   {
    "duration": 22,
    "start_time": "2023-01-23T10:38:17.190Z"
   },
   {
    "duration": 11,
    "start_time": "2023-01-23T10:38:17.215Z"
   },
   {
    "duration": 17,
    "start_time": "2023-01-23T10:38:17.227Z"
   },
   {
    "duration": 30,
    "start_time": "2023-01-23T10:38:17.246Z"
   },
   {
    "duration": 15,
    "start_time": "2023-01-23T10:38:17.278Z"
   },
   {
    "duration": 250,
    "start_time": "2023-01-23T10:38:17.294Z"
   },
   {
    "duration": 15,
    "start_time": "2023-01-23T10:38:17.545Z"
   },
   {
    "duration": 294,
    "start_time": "2023-01-23T10:38:17.562Z"
   },
   {
    "duration": 251,
    "start_time": "2023-01-23T10:38:17.858Z"
   },
   {
    "duration": 190,
    "start_time": "2023-01-23T10:38:18.110Z"
   },
   {
    "duration": 303,
    "start_time": "2023-01-23T10:38:18.302Z"
   },
   {
    "duration": 202,
    "start_time": "2023-01-23T10:38:18.607Z"
   },
   {
    "duration": 267,
    "start_time": "2023-01-23T10:38:18.811Z"
   },
   {
    "duration": 247,
    "start_time": "2023-01-23T10:38:19.079Z"
   },
   {
    "duration": 4,
    "start_time": "2023-01-23T10:38:19.327Z"
   },
   {
    "duration": 441,
    "start_time": "2023-01-23T10:38:19.333Z"
   },
   {
    "duration": 5,
    "start_time": "2023-01-23T10:38:19.785Z"
   },
   {
    "duration": 61,
    "start_time": "2023-01-23T10:38:19.792Z"
   },
   {
    "duration": 10,
    "start_time": "2023-01-23T10:38:19.855Z"
   },
   {
    "duration": 9,
    "start_time": "2023-01-23T10:38:19.886Z"
   },
   {
    "duration": 28,
    "start_time": "2023-01-23T10:38:19.897Z"
   },
   {
    "duration": 13,
    "start_time": "2023-01-23T10:38:19.926Z"
   },
   {
    "duration": 56,
    "start_time": "2023-01-23T11:02:48.620Z"
   },
   {
    "duration": 10,
    "start_time": "2023-01-23T11:04:42.755Z"
   },
   {
    "duration": 9,
    "start_time": "2023-01-23T11:04:56.551Z"
   },
   {
    "duration": 3,
    "start_time": "2023-01-23T11:05:44.821Z"
   },
   {
    "duration": 19,
    "start_time": "2023-01-23T11:06:00.971Z"
   },
   {
    "duration": 17,
    "start_time": "2023-01-23T11:20:38.936Z"
   },
   {
    "duration": 258,
    "start_time": "2023-01-23T11:22:33.722Z"
   },
   {
    "duration": 269,
    "start_time": "2023-01-23T11:22:41.955Z"
   },
   {
    "duration": 260,
    "start_time": "2023-01-23T11:23:03.684Z"
   },
   {
    "duration": 245,
    "start_time": "2023-01-23T11:24:12.040Z"
   },
   {
    "duration": 284,
    "start_time": "2023-01-23T11:25:01.179Z"
   },
   {
    "duration": 52,
    "start_time": "2023-01-23T11:56:11.117Z"
   },
   {
    "duration": 1196,
    "start_time": "2023-01-23T11:56:14.842Z"
   },
   {
    "duration": 80,
    "start_time": "2023-01-23T11:56:16.041Z"
   },
   {
    "duration": 13,
    "start_time": "2023-01-23T11:56:16.123Z"
   },
   {
    "duration": 10,
    "start_time": "2023-01-23T11:56:16.138Z"
   },
   {
    "duration": 15,
    "start_time": "2023-01-23T11:56:16.149Z"
   },
   {
    "duration": 12,
    "start_time": "2023-01-23T11:56:16.165Z"
   },
   {
    "duration": 180,
    "start_time": "2023-01-23T11:56:16.179Z"
   },
   {
    "duration": 15,
    "start_time": "2023-01-23T11:56:16.361Z"
   },
   {
    "duration": 19,
    "start_time": "2023-01-23T11:56:16.377Z"
   },
   {
    "duration": 6,
    "start_time": "2023-01-23T11:56:16.399Z"
   },
   {
    "duration": 15,
    "start_time": "2023-01-23T11:56:16.408Z"
   },
   {
    "duration": 42,
    "start_time": "2023-01-23T11:56:16.425Z"
   },
   {
    "duration": 17,
    "start_time": "2023-01-23T11:56:16.482Z"
   },
   {
    "duration": 290,
    "start_time": "2023-01-23T11:56:16.501Z"
   },
   {
    "duration": 18,
    "start_time": "2023-01-23T11:56:16.793Z"
   },
   {
    "duration": 20,
    "start_time": "2023-01-23T11:56:16.814Z"
   },
   {
    "duration": 303,
    "start_time": "2023-01-23T11:56:16.836Z"
   },
   {
    "duration": 267,
    "start_time": "2023-01-23T11:56:17.142Z"
   },
   {
    "duration": 201,
    "start_time": "2023-01-23T11:56:17.412Z"
   },
   {
    "duration": 307,
    "start_time": "2023-01-23T11:56:17.615Z"
   },
   {
    "duration": 212,
    "start_time": "2023-01-23T11:56:17.924Z"
   },
   {
    "duration": 274,
    "start_time": "2023-01-23T11:56:18.137Z"
   },
   {
    "duration": 254,
    "start_time": "2023-01-23T11:56:18.413Z"
   },
   {
    "duration": 12,
    "start_time": "2023-01-23T11:56:18.669Z"
   },
   {
    "duration": 485,
    "start_time": "2023-01-23T11:56:18.682Z"
   },
   {
    "duration": 15,
    "start_time": "2023-01-23T11:56:19.169Z"
   },
   {
    "duration": 46,
    "start_time": "2023-01-23T11:56:19.186Z"
   },
   {
    "duration": 10,
    "start_time": "2023-01-23T11:56:19.236Z"
   },
   {
    "duration": 9,
    "start_time": "2023-01-23T11:56:19.249Z"
   },
   {
    "duration": 28,
    "start_time": "2023-01-23T11:56:19.282Z"
   },
   {
    "duration": 13,
    "start_time": "2023-01-23T11:56:19.312Z"
   },
   {
    "duration": 15,
    "start_time": "2023-01-23T12:25:34.875Z"
   },
   {
    "duration": 214,
    "start_time": "2023-01-23T12:27:48.199Z"
   },
   {
    "duration": 235,
    "start_time": "2023-01-23T12:34:26.472Z"
   },
   {
    "duration": 215,
    "start_time": "2023-01-23T12:34:38.755Z"
   },
   {
    "duration": 250,
    "start_time": "2023-01-23T12:40:35.431Z"
   },
   {
    "duration": 300,
    "start_time": "2023-01-23T12:41:10.167Z"
   },
   {
    "duration": 51,
    "start_time": "2023-01-23T13:05:19.915Z"
   },
   {
    "duration": 13,
    "start_time": "2023-01-23T13:10:44.255Z"
   },
   {
    "duration": 10,
    "start_time": "2023-01-23T13:13:24.062Z"
   },
   {
    "duration": 5,
    "start_time": "2023-01-23T13:13:36.174Z"
   },
   {
    "duration": 103,
    "start_time": "2023-01-23T13:14:45.143Z"
   },
   {
    "duration": 4,
    "start_time": "2023-01-23T13:14:50.668Z"
   },
   {
    "duration": 55,
    "start_time": "2023-01-23T13:14:50.676Z"
   },
   {
    "duration": 15,
    "start_time": "2023-01-23T13:14:50.734Z"
   },
   {
    "duration": 16,
    "start_time": "2023-01-23T13:14:50.752Z"
   },
   {
    "duration": 28,
    "start_time": "2023-01-23T13:14:50.770Z"
   },
   {
    "duration": 21,
    "start_time": "2023-01-23T13:14:50.801Z"
   },
   {
    "duration": 61,
    "start_time": "2023-01-23T13:14:50.824Z"
   },
   {
    "duration": 15,
    "start_time": "2023-01-23T13:14:50.888Z"
   },
   {
    "duration": 18,
    "start_time": "2023-01-23T13:14:50.904Z"
   },
   {
    "duration": 9,
    "start_time": "2023-01-23T13:14:50.924Z"
   },
   {
    "duration": 22,
    "start_time": "2023-01-23T13:14:50.935Z"
   },
   {
    "duration": 45,
    "start_time": "2023-01-23T13:14:50.980Z"
   },
   {
    "duration": 20,
    "start_time": "2023-01-23T13:14:51.028Z"
   },
   {
    "duration": 355,
    "start_time": "2023-01-23T13:14:51.050Z"
   },
   {
    "duration": 20,
    "start_time": "2023-01-23T13:14:51.409Z"
   },
   {
    "duration": 52,
    "start_time": "2023-01-23T13:14:51.431Z"
   },
   {
    "duration": 297,
    "start_time": "2023-01-23T13:14:51.485Z"
   },
   {
    "duration": 207,
    "start_time": "2023-01-23T13:14:51.785Z"
   },
   {
    "duration": 292,
    "start_time": "2023-01-23T13:14:51.993Z"
   },
   {
    "duration": 342,
    "start_time": "2023-01-23T13:14:52.286Z"
   },
   {
    "duration": 226,
    "start_time": "2023-01-23T13:14:52.630Z"
   },
   {
    "duration": 339,
    "start_time": "2023-01-23T13:14:52.858Z"
   },
   {
    "duration": 296,
    "start_time": "2023-01-23T13:14:53.199Z"
   },
   {
    "duration": 6,
    "start_time": "2023-01-23T13:14:53.497Z"
   },
   {
    "duration": 430,
    "start_time": "2023-01-23T13:14:53.505Z"
   },
   {
    "duration": 6,
    "start_time": "2023-01-23T13:14:53.937Z"
   },
   {
    "duration": 77,
    "start_time": "2023-01-23T13:14:53.945Z"
   },
   {
    "duration": 18,
    "start_time": "2023-01-23T13:14:54.024Z"
   },
   {
    "duration": 15,
    "start_time": "2023-01-23T13:14:54.044Z"
   },
   {
    "duration": 5,
    "start_time": "2023-01-23T13:14:56.252Z"
   },
   {
    "duration": 5,
    "start_time": "2023-01-23T13:15:02.308Z"
   },
   {
    "duration": 26,
    "start_time": "2023-01-23T13:17:15.035Z"
   },
   {
    "duration": 19,
    "start_time": "2023-01-23T13:19:20.762Z"
   },
   {
    "duration": 8,
    "start_time": "2023-01-23T13:20:13.765Z"
   },
   {
    "duration": 12,
    "start_time": "2023-01-23T13:20:57.825Z"
   },
   {
    "duration": 18,
    "start_time": "2023-01-23T13:21:09.994Z"
   },
   {
    "duration": 53,
    "start_time": "2023-01-23T13:21:22.825Z"
   },
   {
    "duration": 12,
    "start_time": "2023-01-23T13:21:29.481Z"
   },
   {
    "duration": 11,
    "start_time": "2023-01-23T13:21:34.057Z"
   },
   {
    "duration": 8,
    "start_time": "2023-01-23T13:21:42.218Z"
   },
   {
    "duration": 19,
    "start_time": "2023-01-23T13:21:52.345Z"
   },
   {
    "duration": 7,
    "start_time": "2023-01-23T13:22:03.625Z"
   },
   {
    "duration": 16,
    "start_time": "2023-01-23T13:22:09.081Z"
   },
   {
    "duration": 24,
    "start_time": "2023-01-23T13:22:20.681Z"
   },
   {
    "duration": 46,
    "start_time": "2023-01-23T16:21:07.039Z"
   },
   {
    "duration": 1207,
    "start_time": "2023-01-23T16:21:10.589Z"
   },
   {
    "duration": 56,
    "start_time": "2023-01-23T16:21:11.798Z"
   },
   {
    "duration": 13,
    "start_time": "2023-01-23T16:21:11.855Z"
   },
   {
    "duration": 9,
    "start_time": "2023-01-23T16:21:11.870Z"
   },
   {
    "duration": 52,
    "start_time": "2023-01-23T16:21:11.880Z"
   },
   {
    "duration": 12,
    "start_time": "2023-01-23T16:21:11.934Z"
   },
   {
    "duration": 130,
    "start_time": "2023-01-23T16:21:11.948Z"
   },
   {
    "duration": 11,
    "start_time": "2023-01-23T16:21:12.080Z"
   },
   {
    "duration": 20,
    "start_time": "2023-01-23T16:21:12.093Z"
   },
   {
    "duration": 5,
    "start_time": "2023-01-23T16:21:12.116Z"
   },
   {
    "duration": 19,
    "start_time": "2023-01-23T16:21:12.122Z"
   },
   {
    "duration": 38,
    "start_time": "2023-01-23T16:21:12.143Z"
   },
   {
    "duration": 23,
    "start_time": "2023-01-23T16:21:12.182Z"
   },
   {
    "duration": 243,
    "start_time": "2023-01-23T16:21:12.207Z"
   },
   {
    "duration": 15,
    "start_time": "2023-01-23T16:21:12.452Z"
   },
   {
    "duration": 33,
    "start_time": "2023-01-23T16:21:12.469Z"
   },
   {
    "duration": 275,
    "start_time": "2023-01-23T16:21:12.504Z"
   },
   {
    "duration": 272,
    "start_time": "2023-01-23T16:21:12.781Z"
   },
   {
    "duration": 187,
    "start_time": "2023-01-23T16:21:13.054Z"
   },
   {
    "duration": 362,
    "start_time": "2023-01-23T16:21:13.242Z"
   },
   {
    "duration": 206,
    "start_time": "2023-01-23T16:21:13.606Z"
   },
   {
    "duration": 272,
    "start_time": "2023-01-23T16:21:13.814Z"
   },
   {
    "duration": 304,
    "start_time": "2023-01-23T16:21:14.088Z"
   },
   {
    "duration": 4,
    "start_time": "2023-01-23T16:21:14.394Z"
   },
   {
    "duration": 349,
    "start_time": "2023-01-23T16:21:14.400Z"
   },
   {
    "duration": 4,
    "start_time": "2023-01-23T16:21:14.750Z"
   },
   {
    "duration": 56,
    "start_time": "2023-01-23T16:21:14.756Z"
   },
   {
    "duration": 9,
    "start_time": "2023-01-23T16:21:14.815Z"
   },
   {
    "duration": 9,
    "start_time": "2023-01-23T16:21:14.826Z"
   },
   {
    "duration": 26,
    "start_time": "2023-01-23T16:21:14.837Z"
   },
   {
    "duration": 30,
    "start_time": "2023-01-23T16:21:14.864Z"
   },
   {
    "duration": 19,
    "start_time": "2023-01-23T16:21:35.557Z"
   },
   {
    "duration": 7,
    "start_time": "2023-01-23T16:21:48.498Z"
   },
   {
    "duration": 17,
    "start_time": "2023-01-23T16:21:50.500Z"
   },
   {
    "duration": 12,
    "start_time": "2023-01-23T16:23:21.647Z"
   },
   {
    "duration": 18,
    "start_time": "2023-01-23T16:23:28.335Z"
   },
   {
    "duration": 51,
    "start_time": "2023-01-23T16:26:57.649Z"
   },
   {
    "duration": 51,
    "start_time": "2023-01-23T16:27:09.419Z"
   },
   {
    "duration": 50,
    "start_time": "2023-01-23T16:27:15.689Z"
   },
   {
    "duration": 1582,
    "start_time": "2023-01-24T02:32:50.455Z"
   },
   {
    "duration": 71,
    "start_time": "2023-01-24T02:32:52.042Z"
   },
   {
    "duration": 20,
    "start_time": "2023-01-24T02:32:52.116Z"
   },
   {
    "duration": 16,
    "start_time": "2023-01-24T02:32:52.139Z"
   },
   {
    "duration": 88,
    "start_time": "2023-01-24T02:32:52.158Z"
   },
   {
    "duration": 19,
    "start_time": "2023-01-24T02:32:52.249Z"
   },
   {
    "duration": 145,
    "start_time": "2023-01-24T02:32:52.270Z"
   },
   {
    "duration": 14,
    "start_time": "2023-01-24T02:32:52.417Z"
   },
   {
    "duration": 19,
    "start_time": "2023-01-24T02:32:52.433Z"
   },
   {
    "duration": 7,
    "start_time": "2023-01-24T02:32:52.455Z"
   },
   {
    "duration": 22,
    "start_time": "2023-01-24T02:32:52.464Z"
   },
   {
    "duration": 38,
    "start_time": "2023-01-24T02:32:52.488Z"
   },
   {
    "duration": 21,
    "start_time": "2023-01-24T02:32:52.528Z"
   },
   {
    "duration": 411,
    "start_time": "2023-01-24T02:32:52.551Z"
   },
   {
    "duration": 43,
    "start_time": "2023-01-24T02:32:52.964Z"
   },
   {
    "duration": 45,
    "start_time": "2023-01-24T02:32:53.009Z"
   },
   {
    "duration": 358,
    "start_time": "2023-01-24T02:32:53.057Z"
   },
   {
    "duration": 365,
    "start_time": "2023-01-24T02:32:53.420Z"
   },
   {
    "duration": 328,
    "start_time": "2023-01-24T02:32:53.788Z"
   },
   {
    "duration": 400,
    "start_time": "2023-01-24T02:32:54.118Z"
   },
   {
    "duration": 313,
    "start_time": "2023-01-24T02:32:54.521Z"
   },
   {
    "duration": 407,
    "start_time": "2023-01-24T02:32:54.836Z"
   },
   {
    "duration": 445,
    "start_time": "2023-01-24T02:32:55.248Z"
   },
   {
    "duration": 7,
    "start_time": "2023-01-24T02:32:55.696Z"
   },
   {
    "duration": 558,
    "start_time": "2023-01-24T02:32:55.706Z"
   },
   {
    "duration": 18,
    "start_time": "2023-01-24T02:32:56.266Z"
   },
   {
    "duration": 108,
    "start_time": "2023-01-24T02:32:56.288Z"
   },
   {
    "duration": 18,
    "start_time": "2023-01-24T02:32:56.403Z"
   },
   {
    "duration": 23,
    "start_time": "2023-01-24T02:32:56.423Z"
   },
   {
    "duration": 59,
    "start_time": "2023-01-24T02:32:56.448Z"
   },
   {
    "duration": 23,
    "start_time": "2023-01-24T02:32:56.511Z"
   },
   {
    "duration": 13,
    "start_time": "2023-01-24T02:37:49.130Z"
   },
   {
    "duration": 1344,
    "start_time": "2023-01-24T11:04:04.849Z"
   },
   {
    "duration": 82,
    "start_time": "2023-01-24T11:04:06.195Z"
   },
   {
    "duration": 16,
    "start_time": "2023-01-24T11:04:06.279Z"
   },
   {
    "duration": 43,
    "start_time": "2023-01-24T11:04:06.297Z"
   },
   {
    "duration": 92,
    "start_time": "2023-01-24T11:04:06.343Z"
   },
   {
    "duration": 19,
    "start_time": "2023-01-24T11:04:06.437Z"
   },
   {
    "duration": 132,
    "start_time": "2023-01-24T11:04:06.458Z"
   },
   {
    "duration": 14,
    "start_time": "2023-01-24T11:04:06.593Z"
   },
   {
    "duration": 39,
    "start_time": "2023-01-24T11:04:06.609Z"
   },
   {
    "duration": 12,
    "start_time": "2023-01-24T11:04:06.652Z"
   },
   {
    "duration": 37,
    "start_time": "2023-01-24T11:04:06.666Z"
   },
   {
    "duration": 55,
    "start_time": "2023-01-24T11:04:06.705Z"
   },
   {
    "duration": 15,
    "start_time": "2023-01-24T11:04:06.761Z"
   },
   {
    "duration": 314,
    "start_time": "2023-01-24T11:04:06.778Z"
   },
   {
    "duration": 27,
    "start_time": "2023-01-24T11:04:07.094Z"
   },
   {
    "duration": 38,
    "start_time": "2023-01-24T11:04:07.123Z"
   },
   {
    "duration": 350,
    "start_time": "2023-01-24T11:04:07.163Z"
   },
   {
    "duration": 274,
    "start_time": "2023-01-24T11:04:07.517Z"
   },
   {
    "duration": 210,
    "start_time": "2023-01-24T11:04:07.799Z"
   },
   {
    "duration": 338,
    "start_time": "2023-01-24T11:04:08.011Z"
   },
   {
    "duration": 243,
    "start_time": "2023-01-24T11:04:08.351Z"
   },
   {
    "duration": 336,
    "start_time": "2023-01-24T11:04:08.599Z"
   },
   {
    "duration": 391,
    "start_time": "2023-01-24T11:04:08.936Z"
   },
   {
    "duration": 5,
    "start_time": "2023-01-24T11:04:09.329Z"
   },
   {
    "duration": 438,
    "start_time": "2023-01-24T11:04:09.336Z"
   },
   {
    "duration": 6,
    "start_time": "2023-01-24T11:04:09.776Z"
   },
   {
    "duration": 93,
    "start_time": "2023-01-24T11:04:09.784Z"
   },
   {
    "duration": 24,
    "start_time": "2023-01-24T11:04:09.881Z"
   },
   {
    "duration": 55,
    "start_time": "2023-01-24T11:04:09.907Z"
   },
   {
    "duration": 56,
    "start_time": "2023-01-24T11:04:09.964Z"
   },
   {
    "duration": 20,
    "start_time": "2023-01-24T11:04:10.022Z"
   },
   {
    "duration": 46,
    "start_time": "2023-01-24T11:06:16.262Z"
   },
   {
    "duration": 1260,
    "start_time": "2023-01-24T12:51:34.182Z"
   },
   {
    "duration": 28,
    "start_time": "2023-01-24T12:51:35.445Z"
   },
   {
    "duration": 13,
    "start_time": "2023-01-24T12:51:35.475Z"
   },
   {
    "duration": 9,
    "start_time": "2023-01-24T12:51:35.490Z"
   },
   {
    "duration": 67,
    "start_time": "2023-01-24T12:51:35.500Z"
   },
   {
    "duration": 16,
    "start_time": "2023-01-24T12:51:35.569Z"
   },
   {
    "duration": 64,
    "start_time": "2023-01-24T12:51:35.586Z"
   },
   {
    "duration": 11,
    "start_time": "2023-01-24T12:51:35.652Z"
   },
   {
    "duration": 11,
    "start_time": "2023-01-24T12:51:35.665Z"
   },
   {
    "duration": 4,
    "start_time": "2023-01-24T12:51:35.679Z"
   },
   {
    "duration": 15,
    "start_time": "2023-01-24T12:51:35.684Z"
   },
   {
    "duration": 42,
    "start_time": "2023-01-24T12:51:35.701Z"
   },
   {
    "duration": 15,
    "start_time": "2023-01-24T12:51:35.745Z"
   },
   {
    "duration": 304,
    "start_time": "2023-01-24T12:51:35.762Z"
   },
   {
    "duration": 18,
    "start_time": "2023-01-24T12:51:36.068Z"
   },
   {
    "duration": 57,
    "start_time": "2023-01-24T12:51:36.088Z"
   },
   {
    "duration": 320,
    "start_time": "2023-01-24T12:51:36.147Z"
   },
   {
    "duration": 303,
    "start_time": "2023-01-24T12:51:36.469Z"
   },
   {
    "duration": 233,
    "start_time": "2023-01-24T12:51:36.774Z"
   },
   {
    "duration": 348,
    "start_time": "2023-01-24T12:51:37.008Z"
   },
   {
    "duration": 240,
    "start_time": "2023-01-24T12:51:37.357Z"
   },
   {
    "duration": 340,
    "start_time": "2023-01-24T12:51:37.599Z"
   },
   {
    "duration": 398,
    "start_time": "2023-01-24T12:51:37.941Z"
   },
   {
    "duration": 7,
    "start_time": "2023-01-24T12:51:38.341Z"
   },
   {
    "duration": 419,
    "start_time": "2023-01-24T12:51:38.349Z"
   },
   {
    "duration": 6,
    "start_time": "2023-01-24T12:51:38.770Z"
   },
   {
    "duration": 87,
    "start_time": "2023-01-24T12:51:38.778Z"
   },
   {
    "duration": 15,
    "start_time": "2023-01-24T12:51:38.869Z"
   },
   {
    "duration": 19,
    "start_time": "2023-01-24T12:51:38.886Z"
   },
   {
    "duration": 45,
    "start_time": "2023-01-24T12:51:38.907Z"
   },
   {
    "duration": 14,
    "start_time": "2023-01-24T12:51:38.953Z"
   }
  ],
  "kernelspec": {
   "display_name": "Python 3 (ipykernel)",
   "language": "python",
   "name": "python3"
  },
  "language_info": {
   "codemirror_mode": {
    "name": "ipython",
    "version": 3
   },
   "file_extension": ".py",
   "mimetype": "text/x-python",
   "name": "python",
   "nbconvert_exporter": "python",
   "pygments_lexer": "ipython3",
   "version": "3.9.13"
  },
  "toc": {
   "base_numbering": 1,
   "nav_menu": {},
   "number_sections": true,
   "sideBar": true,
   "skip_h1_title": true,
   "title_cell": "Table of Contents",
   "title_sidebar": "Contents",
   "toc_cell": false,
   "toc_position": {},
   "toc_section_display": true,
   "toc_window_display": false
  }
 },
 "nbformat": 4,
 "nbformat_minor": 2
}
