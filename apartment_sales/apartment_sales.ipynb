{
 "cells": [
  {
   "cell_type": "markdown",
   "metadata": {},
   "source": [
    "### Откройте файл с данными и изучите общую информацию. "
   ]
  },
  {
   "cell_type": "code",
   "execution_count": 2,
   "metadata": {},
   "outputs": [],
   "source": [
    "import pandas as pd\n",
    "import matplotlib.pyplot as plt\n",
    "import re"
   ]
  },
  {
   "cell_type": "code",
   "execution_count": null,
   "metadata": {},
   "outputs": [],
   "source": [
    "data = pd.read_csv('/datasets/real_estate_data.csv', sep = '\\t')\n",
    "data.info()\n",
    "data.hist(figsize = (15,20))\n",
    "plt.show()\n",
    "data.head(10)\n",
    "pd.options.mode.chained_assignment = None"
   ]
  },
  {
   "cell_type": "markdown",
   "metadata": {},
   "source": [
    "Предстоит обработать и проанализировать датафрейм(data), состоящий из 22 стобцов и 23699 строк.\\\n",
    "Сразу мы можем обратить внимания на пропуски в следующих столбцах:\\\n",
    "высота потолков\\\n",
    "общее количество этажей\\\n",
    "жилая площадь\\\n",
    "является ли недвижимость - апартаментами\\\n",
    "площадь кухни\\\n",
    "количество балконов\\\n",
    "название населенного пункта\\\n",
    "расстояние до ближайшего аэропорта\\\n",
    "расстояние до ближайшего центра города\\\n",
    "кол-во парков в пределах 3 км\\\n",
    "кол-во водоемов в пределах 3 км\\\n",
    "расстояние до ближайшего парка\\\n",
    "расстояние до ближайшего водоема\\\n",
    "количество дней размещения объявления\\\n",
    "И обратить внимание, что в следующих столбцах неверные типы данных:\n",
    "дата публикации\\\n",
    "общее количество этажей\\\n",
    "апартаменты\\\n",
    "кол-во балконов\\\n",
    "кол-во парков в пределах 3 км\\\n",
    "кол-во водоемов в пределах 3 км\\\n",
    "количество дней размещения объявления\\\n",
    "Необходимо обработать данные и рассмотреть каждый столбец в отдельности"
   ]
  },
  {
   "cell_type": "markdown",
   "metadata": {},
   "source": [
    "### Предобработка данных"
   ]
  },
  {
   "cell_type": "code",
   "execution_count": null,
   "metadata": {},
   "outputs": [],
   "source": [
    "old_shape = data.shape"
   ]
  },
  {
   "cell_type": "markdown",
   "metadata": {},
   "source": [
    "Для дальнейшего сравнения какую долю информации мы сократили"
   ]
  },
  {
   "cell_type": "markdown",
   "metadata": {},
   "source": [
    "**Исправляем названия столбцов:**"
   ]
  },
  {
   "cell_type": "code",
   "execution_count": null,
   "metadata": {},
   "outputs": [],
   "source": [
    "data.columns\n",
    "data = data.rename(\n",
    "    columns={\n",
    "        'cityCenters_nearest': 'city_centers_nearest',\n",
    "        'parks_around3000': 'parks_around_3000',\n",
    "        'ponds_around3000': 'ponds_around_3000',\n",
    "    }\n",
    ")"
   ]
  },
  {
   "cell_type": "markdown",
   "metadata": {},
   "source": [
    "**Матрица корреляции:**"
   ]
  },
  {
   "cell_type": "code",
   "execution_count": null,
   "metadata": {},
   "outputs": [],
   "source": [
    "data.corr()"
   ]
  },
  {
   "cell_type": "markdown",
   "metadata": {},
   "source": [
    "**Заполняем пропущенные значения:**"
   ]
  },
  {
   "cell_type": "code",
   "execution_count": null,
   "metadata": {},
   "outputs": [],
   "source": [
    "data['balcony'] = data['balcony'].fillna(0)\n",
    "data['is_apartment'] = data['is_apartment'].fillna(False)\n",
    "data['parks_around_3000'] = data['parks_around_3000'].fillna(0)\n",
    "data['ponds_around_3000'] = data['ponds_around_3000'].fillna(0)\n",
    "data['floors_total'] = data['floors_total'].fillna(data['floor'])\n",
    "data['floors_total'] = data['floors_total'].fillna(1)\n",
    "#data['days_exposition'] = data['days_exposition'].fillna(data['days_exposition'].max()) неверная логика\n",
    "#data.loc[(data['floor'] == 1) & (data['floors_total'].isna())]"
   ]
  },
  {
   "cell_type": "markdown",
   "metadata": {},
   "source": [
    "1) Если наличие балкона не указано, то будем считать, что его в квартире нет.\\\n",
    "2) В объявлении скорее всего отдельно указывается, что в предложении - апартаменты, или эту характеристику добавили позже даты публикацииобъявления. Указываем, что объявления с пропусками не про апартаменты.\\\n",
    "3,4) Парков и прудов рядом не имеется, недвижимость не в зеленой зоне.\\\n",
    "5) Если в объявлении не указана этажность здания, предположим, что дом или является одноэтажным (3 варианта) или указанный этаж и является последним ( было указано в описании объявления и не отобразилось при сборе данных)\\\n",
    "6)Предположим, что пропуски на месте пункта 'через сколько дней были сняты объявления' обусловлены тем, что на момент сбора информации предложение было актуально, заменим на максимальное значение в данном столбце(так как они относятся к долгосрочным объявлениям)"
   ]
  },
  {
   "cell_type": "markdown",
   "metadata": {},
   "source": [
    "**Высота потолков:**"
   ]
  },
  {
   "cell_type": "code",
   "execution_count": null,
   "metadata": {},
   "outputs": [],
   "source": [
    "#data['locality_name'].sort_values(ascending = True).unique()\n",
    "rename_list = (\n",
    "    ['посёлок городского типа ', 'поселок городского типа ', 'городской посёлок ', 'городской поселок ', \n",
    "               'поселок при железнодорожной станции ', 'поселок станции ', 'коттеджный поселок ', 'поселок ', 'посёлок ', 'деревня']\n",
    ")\n",
    " \n",
    "for substr in rename_list:\n",
    "    data['locality_name'] = data['locality_name'].str.replace(substr, '')\n",
    "data['locality_name'].unique()\n",
    "for i in data['locality_name'].unique():\n",
    "    data.loc[(data['locality_name'] == i) & (data['ceiling_height'].isna()), 'ceiling_height'] =\\\n",
    "    data.loc[(data['locality_name'] == i), 'ceiling_height'].median()"
   ]
  },
  {
   "cell_type": "code",
   "execution_count": null,
   "metadata": {},
   "outputs": [],
   "source": [
    "data['ceiling_height'].isna().sum()"
   ]
  },
  {
   "cell_type": "code",
   "execution_count": null,
   "metadata": {},
   "outputs": [],
   "source": [
    "data['ceiling_height'] = data['ceiling_height'].fillna(data['ceiling_height'].median())\n",
    "#display(data['ceiling_height'].describe())\n",
    "#data['ceiling_height'].median()"
   ]
  },
  {
   "cell_type": "markdown",
   "metadata": {},
   "source": [
    "1)Попытка агрегации высоты потолков с населенными пунктами, в населенных пунктах застройка типовая( при условии большого количества малых населенных пунктов)\\\n",
    "2)Оставшиеся пропуски заменим медианным значением, аномально высокие значения не сильно повлияют\\\n",
    "**3) В данном пункте для агрегации заранее удалили неявные дубликаты из столбца 'locality_name'**"
   ]
  },
  {
   "cell_type": "markdown",
   "metadata": {},
   "source": [
    "**Расстояние до центра города, аэропорта, парка, пруда:**"
   ]
  },
  {
   "cell_type": "code",
   "execution_count": null,
   "metadata": {},
   "outputs": [],
   "source": [
    "for i in data['locality_name'].unique():\n",
    "    data.loc[(data['locality_name'] == i) & (data['city_centers_nearest'].isna()), 'city_centers_nearest'] = \\\n",
    "    data.loc[(data['locality_name'] == i), 'city_centers_nearest'].median()\n",
    "# for i in data['locality_name'].unique():\n",
    "#     data.loc[(data['locality_name'] == i) & (data['airports_nearest'].isna()), 'airports_nearest'] = \\\n",
    "#     data.loc[(data['locality_name'] == i), 'airports_nearest'].median()\n",
    "# for i in data['locality_name'].unique():\n",
    "#     data.loc[(data['locality_name'] == i) & (data['parks_nearest'].isna()), 'parks_nearest'] = \\\n",
    "#     data.loc[(data['locality_name'] == i), 'parks_nearest'].median()\n",
    "# for i in data['locality_name'].unique():\n",
    "#     data.loc[(data['locality_name'] == i) & (data['ponds_nearest'].isna()), 'ponds_nearest'] = \\\n",
    "#     data.loc[(data['locality_name'] == i), 'ponds_nearest'].median()\n",
    "#data['city_centers_nearest'].isna().sum()"
   ]
  },
  {
   "cell_type": "code",
   "execution_count": null,
   "metadata": {},
   "outputs": [],
   "source": [
    "data['city_centers_nearest'].isna().sum()\n",
    "data['airports_nearest'].isna().sum()"
   ]
  },
  {
   "cell_type": "markdown",
   "metadata": {},
   "source": [
    "Агрегация этих параметров с населенными пунктами ожидаемого эффекта не принесла ( хоть и является грубой, но неожиданно)"
   ]
  },
  {
   "cell_type": "code",
   "execution_count": null,
   "metadata": {},
   "outputs": [],
   "source": [
    "# data['city_centers_nearest'] = data['city_centers_nearest'].fillna(data['city_centers_nearest'].median())\n",
    "# data['airports_nearest'] = data['airports_nearest'].fillna(data['airports_nearest'].median())\n",
    "# data['parks_nearest'] = data['parks_nearest'].fillna(data['parks_nearest'].median())\n",
    "# data['ponds_nearest'] = data['ponds_nearest'].fillna(data['ponds_nearest'].median())"
   ]
  },
  {
   "cell_type": "code",
   "execution_count": null,
   "metadata": {},
   "outputs": [],
   "source": [
    "data['city_centers_nearest'].isna().sum()"
   ]
  },
  {
   "cell_type": "markdown",
   "metadata": {},
   "source": [
    "Заменяем пропуски на медианное значение;\\\n",
    "Это очень грубое приближение, которое скажется на смещении значений;\\\n",
    "Было использовано только потому что слишком большой процент объявлений имеет пропуск, чтобы игнорировать"
   ]
  },
  {
   "cell_type": "markdown",
   "metadata": {},
   "source": [
    "**Жилая площадь:**"
   ]
  },
  {
   "cell_type": "code",
   "execution_count": null,
   "metadata": {},
   "outputs": [],
   "source": [
    "for i in data['rooms'].unique():\n",
    "    data.loc[(data['rooms'] == i) & (data['living_area'].isna()), 'living_area'] =\\\n",
    "    data.loc[(data['rooms'] == i), 'living_area'].median()"
   ]
  },
  {
   "cell_type": "code",
   "execution_count": null,
   "metadata": {},
   "outputs": [],
   "source": [
    "data['rooms'].isna().sum()"
   ]
  },
  {
   "cell_type": "markdown",
   "metadata": {},
   "source": [
    "По таблице корреляции увидели достаточную зависимость между этими параметрами для агрегации (85%)\\\n",
    "Провели агрегацию между количеством комнат и жилой площадью и заполнили пропуски медианным значением."
   ]
  },
  {
   "cell_type": "markdown",
   "metadata": {},
   "source": [
    "**Площадь кухни:**"
   ]
  },
  {
   "cell_type": "code",
   "execution_count": null,
   "metadata": {},
   "outputs": [],
   "source": [
    "#data['kitchen_area'].isna().sum()\n",
    "#display(data['kitchen_area'].describe())\n",
    "for i in data['open_plan'].unique():\n",
    "    data.loc[(data['open_plan'] == True) & (data['kitchen_area'].isna()), 'kitchen_area'] =\\\n",
    "    data[ 'kitchen_area'].fillna(0)\n",
    "for i in data['studio'].unique():\n",
    "    data.loc[(data['studio'] == True) & (data['kitchen_area'].isna()), 'kitchen_area'] =\\\n",
    "    data[ 'kitchen_area'].fillna(0)  "
   ]
  },
  {
   "cell_type": "code",
   "execution_count": null,
   "metadata": {},
   "outputs": [],
   "source": [
    "data['kitchen_area'].isna().sum()"
   ]
  },
  {
   "cell_type": "markdown",
   "metadata": {},
   "source": [
    "Квартиры-студии и квартиры с планировкой по своему определению не имеют отдельной кухонной площади"
   ]
  },
  {
   "cell_type": "code",
   "execution_count": null,
   "metadata": {},
   "outputs": [],
   "source": [
    "#data['kitchen_area'] = data['kitchen_area'].fillna(data['kitchen_area'].median())"
   ]
  },
  {
   "cell_type": "code",
   "execution_count": null,
   "metadata": {},
   "outputs": [],
   "source": [
    "#data[(data['kitchen_area'] + data['living_area']) > data['total_area']].shape[0]"
   ]
  },
  {
   "cell_type": "code",
   "execution_count": null,
   "metadata": {},
   "outputs": [],
   "source": [
    "data['kitchen_area'].isna().sum()"
   ]
  },
  {
   "cell_type": "markdown",
   "metadata": {},
   "source": [
    "Заполняем оставшиеся пропуски медианным значением:\\\n",
    "Аномально высокие значения незначительно сказываются\\\n",
    "Основное количество значений держится не в таком широком диапазоне."
   ]
  },
  {
   "cell_type": "markdown",
   "metadata": {},
   "source": [
    "**Типы данных:**"
   ]
  },
  {
   "cell_type": "code",
   "execution_count": null,
   "metadata": {},
   "outputs": [],
   "source": [
    "data['first_day_exposition'] = pd.to_datetime(data['first_day_exposition'], format = '%Y-%m-%d')\n",
    "data['is_apartment'] = data['is_apartment'].astype('bool')\n",
    "data['balcony'] = data['balcony'].astype('int')\n",
    "data['parks_around_3000'] = data['parks_around_3000'].astype('int')\n",
    "data['ponds_around_3000'] = data['ponds_around_3000'].astype('int')\n",
    "data['floors_total'] = data['floors_total'].astype('int')\n",
    "#data['days_exposition'] = data['days_exposition'].astype('int')"
   ]
  },
  {
   "cell_type": "markdown",
   "metadata": {},
   "source": [
    "**Удаление \"аномалий\"**"
   ]
  },
  {
   "cell_type": "code",
   "execution_count": null,
   "metadata": {},
   "outputs": [],
   "source": [
    "#ceiling_height\n",
    "def anomaly_change(height):\n",
    "    if height > 19:\n",
    "        return height / 10\n",
    "    else:\n",
    "        return height\n",
    "data['ceiling_height'] = data.apply(lambda x: anomaly_change(x['ceiling_height']),axis=1)\n",
    "# data['ceiling_height'] = data.loc[data['ceiling_height'] > 19, 'ceiling_height'] /= 10\n",
    "display(data['ceiling_height'].describe())\n",
    "data.boxplot('ceiling_height')\n",
    "plt.ylim(0,8)\n",
    "data.plot(y = 'ceiling_height', kind = 'hist', bins = 100, grid = True, range = (1,5))\n",
    "plt.show()\n",
    "#data.query('ceiling_height > 4')\n",
    "#data.query('ceiling_height > 3.5')\n",
    "\n"
   ]
  },
  {
   "cell_type": "code",
   "execution_count": null,
   "metadata": {},
   "outputs": [],
   "source": [
    "\n",
    "data.loc[data['ceiling_height'] > 19, 'ceiling_height'] /= 10"
   ]
  },
  {
   "cell_type": "code",
   "execution_count": null,
   "metadata": {},
   "outputs": [],
   "source": [
    "data = data.loc[(data['ceiling_height'] >= 2.3) & (data['ceiling_height'] <= 4)]"
   ]
  },
  {
   "cell_type": "markdown",
   "metadata": {},
   "source": [
    "Среднее значение высоты потолка: 2.7 м\\\n",
    "Аномальные значения высоты потолка больше 19 м мы обработали функцией, так как вероятно это ошибка порядка числа\\\n",
    "Ограничение провели в диапазоне высоты потолка от 2.3 м до 4 м \\\n",
    "Нижнее ограничение в соответсвии с требованиями СНиП\\\n",
    "Верхнее ограничение в соответствии с достаточным количеством объявлений, как вариант объявление о продаже 'сталинки'\n",
    "В основном на рынке встречаются квартиры с высотой потолка от 2.4 до 3 м"
   ]
  },
  {
   "cell_type": "code",
   "execution_count": null,
   "metadata": {},
   "outputs": [],
   "source": [
    "#data.query('floors_total == 60')\n",
    "data.query('floors_total > 50')\n",
    "def anomaly_change_1(floors_total):\n",
    "    if floors_total > 55:\n",
    "        return floors_total / 10\n",
    "    else:\n",
    "        return floors_total\n",
    "data['floors_total'] = data.apply(lambda x: anomaly_change_1(x['floors_total']),axis=1)\n",
    "# data = data.loc[data['floors_total'] > 50, 'floors_total'] /=10\n",
    "display(data['floors_total'].describe())\n",
    "data.boxplot('floors_total')\n",
    "plt.ylim(0,70)\n",
    "data.plot(y = 'floors_total', kind = 'hist', bins = 100, grid = True, range = (1,60))\n",
    "plt.show()\n"
   ]
  },
  {
   "cell_type": "code",
   "execution_count": null,
   "metadata": {},
   "outputs": [],
   "source": [
    "data= data.loc[(data['floors_total'] < 29) & (data['floors_total'] > 0)]"
   ]
  },
  {
   "cell_type": "markdown",
   "metadata": {},
   "source": [
    "Среднее значение по общему количеству этажей - 10, медиана в свою очеред - 9\\\n",
    "Аномальное значение в 60 этажей, привели к 6 этажам ( первое предположение, что элитная высотка, но низкая стоимость и расположение в Кронштадте убедило, что ошибка в порядке числа)\\\n",
    "Ограничение провели в диапазоне до 29 этажей ( основная современная типовая застройка, да и выбросов выше достаточно мало)\\\n",
    "Основная масса предложений на малоэтажные дома в данной выборке"
   ]
  },
  {
   "cell_type": "code",
   "execution_count": null,
   "metadata": {},
   "outputs": [],
   "source": [
    "display(data['rooms'].describe())\n",
    "data.boxplot('rooms')\n",
    "plt.ylim(0,20)\n",
    "data.plot(y = 'rooms', kind = 'hist', bins = 100, grid = True, range = (1,20))\n",
    "plt.show()"
   ]
  },
  {
   "cell_type": "code",
   "execution_count": null,
   "metadata": {},
   "outputs": [],
   "source": [
    "#data.query('rooms > 8')\n",
    "# data = data.loc[data['rooms'] < 8]"
   ]
  },
  {
   "cell_type": "markdown",
   "metadata": {},
   "source": [
    "Среднее и медианное значение по количеству комнат в квартие - 2\\\n",
    "Мое предложение ограничить выборку до 8 комнат в квартире, больше это уже жилье мега элитного класса\\\n",
    "По графикам выше мы видим, что в основе своей рынок представлен небольшими квартирами (с 1 и 2 комнатами)\\\n",
    "А предложения с большим количество комнат во- первых малочисленны, во вторых могут влиять на среднюю цену в наших дальнейших исследованиях\\\n",
    "По нашим исследованиям рынок в-основном представлен 1-3 комнатными квартирами, где 3-комнатных квартир меньше."
   ]
  },
  {
   "cell_type": "code",
   "execution_count": null,
   "metadata": {},
   "outputs": [],
   "source": [
    "data.query('last_price < 100000')\n",
    "def anomaly_change(price):\n",
    "    if price < 100000:\n",
    "        return price * 1000\n",
    "    else:\n",
    "        return price\n",
    "data['last_price'] = data.apply(lambda x: anomaly_change(x['last_price']),axis=1)\n",
    "display(data['last_price'].describe())\n",
    "data.boxplot('last_price')\n",
    "plt.ylim(500000,50000000)\n",
    "data.plot(y = 'last_price', kind = 'hist', bins = 100, grid = True, range = (1,50000000))\n",
    "plt.show()\n",
    "#data[data['last_price'] > 12500000]\n",
    "#data[data['last_price'] < 100000]"
   ]
  },
  {
   "cell_type": "code",
   "execution_count": null,
   "metadata": {},
   "outputs": [],
   "source": [
    "#data = data.loc[data['last_price'] < 40000000 ]"
   ]
  },
  {
   "cell_type": "markdown",
   "metadata": {},
   "source": [
    "Среднее значение по цене продажи квартиры - 5.5 миллиона рублей, а медианное - 4.5 миллиона\\\n",
    "Мое предложение ограничить выборку хотя бы с цена до 40 миллионов рублей, так как по графику основные прдложения находятся в категории до 10 миллионов (от 3 до 6), а среднее значение мы имеем на миллион больше значения медианы\\\n",
    "Аномальное значение в 12 тыс за квартиру мы обработали функцией, опираясь на данные этой квартиры\\\n",
    "Рынок по продаже квартир в основном представлен категорией до 10 миллионов рублей"
   ]
  },
  {
   "cell_type": "code",
   "execution_count": null,
   "metadata": {},
   "outputs": [],
   "source": [
    "display(data['total_area'].describe())\n",
    "data.boxplot('total_area')\n",
    "plt.ylim(0,500)\n",
    "data.plot(y = 'total_area', kind = 'hist', bins = 100, grid = True, range = (0, 150))\n",
    "plt.show()"
   ]
  },
  {
   "cell_type": "code",
   "execution_count": null,
   "metadata": {},
   "outputs": [],
   "source": [
    "data = data.loc[(data['total_area'] < 130) & (data['total_area'] > 18)]"
   ]
  },
  {
   "cell_type": "markdown",
   "metadata": {},
   "source": [
    "Среднее значение по общей площади недвижимости - 55 квадратных метров, а медианное - 55 квадратов\\\n",
    "Ограничиваем выборку от 18 квадратов до 130:\\\n",
    "Нижние ограничение - СНиП, а верхнее - для уменьшения разброса\\\n",
    "Рынок представлен в основном, как было уже сказано 1-3 комнатными квартирами с общей площадью от 40 квадратов до 70 квадратов."
   ]
  },
  {
   "cell_type": "code",
   "execution_count": null,
   "metadata": {},
   "outputs": [],
   "source": [
    "display(data['living_area'].describe())\n",
    "data.boxplot('living_area')\n",
    "plt.ylim(0,200)\n",
    "data.plot(y = 'living_area', kind = 'hist', bins = 100, grid = True, range = (0, 150))\n",
    "plt.show()\n",
    "#data.query('living_area > 150')\n"
   ]
  },
  {
   "cell_type": "code",
   "execution_count": null,
   "metadata": {},
   "outputs": [],
   "source": [
    "data = data.loc[data['living_area'] > 8]"
   ]
  },
  {
   "cell_type": "markdown",
   "metadata": {},
   "source": [
    "Среднее значение по жилой площади недвижимости - 31 квадратный метр, а медианное - 30 квадратов\\\n",
    "Ограничиваем выборку от 8 квадратов\n",
    "Нижние ограничение -  требования СНиП\n",
    "    Рынок представлен в основном, как было уже сказано 1-3 комнатными квартирами с жило площадью от 18 до 40 квадратов, основные пики на интервалах от 15 до 20 и от 25 до 35 ( изменение количества комнат в предложениях)"
   ]
  },
  {
   "cell_type": "code",
   "execution_count": null,
   "metadata": {},
   "outputs": [],
   "source": [
    "display(data['floor'].describe())\n",
    "data.boxplot('floor')\n",
    "plt.ylim(0,29)\n",
    "data.plot(y = 'floor', kind = 'hist', bins = 100, grid = True, range = (0, 29))\n",
    "plt.show()"
   ]
  },
  {
   "cell_type": "markdown",
   "metadata": {},
   "source": [
    "В основном рынок представлен квартирами, расположенными с 1 по 5 этаж ( как указывалось выше в основном продаются квартиры в малоэтажных зданиях)"
   ]
  },
  {
   "cell_type": "code",
   "execution_count": null,
   "metadata": {},
   "outputs": [],
   "source": [
    "display(data['kitchen_area'].describe())\n",
    "data.boxplot('kitchen_area')\n",
    "plt.ylim(0,70)\n",
    "data.plot(y = 'kitchen_area', kind = 'hist', bins = 100, grid = True, range = (0, 70))\n",
    "plt.show()"
   ]
  },
  {
   "cell_type": "markdown",
   "metadata": {},
   "source": [
    "Среднее значение по площади кухни - 10 квадратных метров, медианное - 9\\\n",
    "Наибольшее предложение на квартиры с площадью кухни от 7 до 11 квадратных метров."
   ]
  },
  {
   "cell_type": "code",
   "execution_count": null,
   "metadata": {},
   "outputs": [],
   "source": [
    "corr_shape = data.shape[0] / old_shape[0]\n",
    "corr_shape # проверка на какой объем данных мы сократили выборку"
   ]
  },
  {
   "cell_type": "markdown",
   "metadata": {},
   "source": [
    "### Посчитайте и добавьте в таблицу новые столбцы"
   ]
  },
  {
   "cell_type": "markdown",
   "metadata": {},
   "source": [
    "**Цена одного квадратного метра:**"
   ]
  },
  {
   "cell_type": "code",
   "execution_count": null,
   "metadata": {},
   "outputs": [],
   "source": [
    "data['price_per_square_meter'] = data['last_price'] / data['total_area']\n",
    "data['price_per_square_meter'] = data['price_per_square_meter'].astype('int')\n",
    "data['price_per_square_meter'] = data['price_per_square_meter'].round()\n",
    "data[['price_per_square_meter', 'total_area', 'last_price']].head(10)\n"
   ]
  },
  {
   "cell_type": "markdown",
   "metadata": {},
   "source": [
    "**День публикации объявления:**"
   ]
  },
  {
   "cell_type": "code",
   "execution_count": null,
   "metadata": {},
   "outputs": [],
   "source": [
    "data['day_exposition'] = data['first_day_exposition'].dt.weekday\n",
    "data[['first_day_exposition', 'day_exposition']].head(10)                                                 "
   ]
  },
  {
   "cell_type": "markdown",
   "metadata": {},
   "source": [
    "**Месяц публикации объявления:**"
   ]
  },
  {
   "cell_type": "code",
   "execution_count": null,
   "metadata": {},
   "outputs": [],
   "source": [
    "data['month_exposition'] = data['first_day_exposition'].dt.month\n",
    "data[['first_day_exposition', 'month_exposition']].head(10)      "
   ]
  },
  {
   "cell_type": "markdown",
   "metadata": {},
   "source": [
    "**Год публикации объявления:**"
   ]
  },
  {
   "cell_type": "code",
   "execution_count": null,
   "metadata": {},
   "outputs": [],
   "source": [
    "data['year_exposition'] = data['first_day_exposition'].dt.year\n",
    "data[['first_day_exposition', 'year_exposition']].head(10)    "
   ]
  },
  {
   "cell_type": "markdown",
   "metadata": {},
   "source": [
    "**Этаж квартиры:**"
   ]
  },
  {
   "cell_type": "code",
   "execution_count": null,
   "metadata": {},
   "outputs": [],
   "source": [
    "def floor_type(row):\n",
    "    floor = row['floor']\n",
    "    floors_total = row['floors_total'] \n",
    "    if floor == 1:\n",
    "        return 'Первый'\n",
    "    if 1< floor < floors_total:\n",
    "        return 'Другой'\n",
    "    else:\n",
    "        return 'Последний'\n",
    "data['floor_type'] = data.apply(floor_type, axis = 1)\n",
    "data[['floor', 'floors_total', 'floor_type']].head(15)"
   ]
  },
  {
   "cell_type": "markdown",
   "metadata": {},
   "source": [
    "**Расстояние до центра города в километрах:**"
   ]
  },
  {
   "cell_type": "code",
   "execution_count": null,
   "metadata": {},
   "outputs": [],
   "source": [
    "data['city_centers_nearest_km'] = data['city_centers_nearest'] / 1000\n",
    "# data['city_centers_nearest_km'] = data['city_centers_nearest_km'].astype('int')\n",
    "# data['city_centers_nearest_km'] = data['city_centers_nearest_km'].round() использовал когда заменял пропуски медианой\n",
    "data[['city_centers_nearest_km', 'city_centers_nearest']].head(10)"
   ]
  },
  {
   "cell_type": "markdown",
   "metadata": {},
   "source": [
    "### Проведите исследовательский анализ данных"
   ]
  },
  {
   "cell_type": "code",
   "execution_count": null,
   "metadata": {},
   "outputs": [],
   "source": [
    "display(data['floor_type'].describe())\n",
    "data['floor_type'].hist()\n",
    "plt.show()\n"
   ]
  },
  {
   "cell_type": "code",
   "execution_count": null,
   "metadata": {},
   "outputs": [],
   "source": [
    "display(data['city_centers_nearest'].describe())\n",
    "data.plot(y = 'city_centers_nearest', kind = 'hist', bins = 100, grid = True, range = (0, 60000))\n",
    "plt.show()\n",
    "#data.loc[(data['city_centers_nearest'] > 20000) & (data['city_centers_nearest'] < 25000)]['locality_name'].value_counts()\n"
   ]
  },
  {
   "cell_type": "code",
   "execution_count": null,
   "metadata": {},
   "outputs": [],
   "source": [
    "display(data['airports_nearest'].describe())\n",
    "data.plot(y = 'airports_nearest', kind = 'hist', bins = 100, grid = True, range = (0, 60000))\n",
    "plt.show()"
   ]
  },
  {
   "cell_type": "code",
   "execution_count": null,
   "metadata": {},
   "outputs": [],
   "source": [
    "display(data['ponds_nearest'].describe())\n",
    "data.plot(y = 'ponds_nearest', kind = 'hist', bins = 100, grid = True, range = (0, 2000))\n",
    "plt.show()"
   ]
  },
  {
   "cell_type": "code",
   "execution_count": null,
   "metadata": {},
   "outputs": [],
   "source": [
    "display(data['parks_nearest'].describe())\n",
    "data.plot(y = 'parks_nearest', kind = 'hist', bins = 100, grid = True, range = (0, 2000))\n",
    "plt.show()"
   ]
  },
  {
   "cell_type": "code",
   "execution_count": null,
   "metadata": {},
   "outputs": [],
   "source": [
    "data['day_exposition'].hist(bins=20)\n",
    "plt.show()"
   ]
  },
  {
   "cell_type": "code",
   "execution_count": null,
   "metadata": {},
   "outputs": [],
   "source": [
    "data['month_exposition'].hist(bins=20)\n",
    "plt.show()"
   ]
  },
  {
   "cell_type": "code",
   "execution_count": null,
   "metadata": {},
   "outputs": [],
   "source": [
    "display(data['total_area'].describe())\n",
    "data.plot(y = 'total_area', kind = 'hist', bins = 100, grid = True, range = (0, 150))\n",
    "plt.show()"
   ]
  },
  {
   "cell_type": "code",
   "execution_count": null,
   "metadata": {},
   "outputs": [],
   "source": [
    "display(data['living_area'].describe())\n",
    "data.plot(y = 'living_area', kind = 'hist', bins = 100, grid = True, range = (0, 150))\n",
    "plt.show()"
   ]
  },
  {
   "cell_type": "code",
   "execution_count": null,
   "metadata": {},
   "outputs": [],
   "source": [
    "display(data['kitchen_area'].describe())\n",
    "data.plot(y = 'kitchen_area', kind = 'hist', bins = 100, grid = True, range = (0, 60))\n",
    "plt.show()"
   ]
  },
  {
   "cell_type": "code",
   "execution_count": null,
   "metadata": {},
   "outputs": [],
   "source": [
    "display(data['last_price'].describe())\n",
    "data.plot(y = 'last_price', kind = 'hist', bins = 100, grid = True, range = (500000, 20000000))\n",
    "plt.show()"
   ]
  },
  {
   "cell_type": "code",
   "execution_count": null,
   "metadata": {},
   "outputs": [],
   "source": [
    "display(data['rooms'].describe())\n",
    "data.plot(y = 'rooms', kind = 'hist', bins = 10, grid = True, range = (0, 15))\n",
    "plt.show()"
   ]
  },
  {
   "cell_type": "code",
   "execution_count": null,
   "metadata": {},
   "outputs": [],
   "source": [
    "display(data['ceiling_height'].describe())\n",
    "data.plot(y = 'ceiling_height', kind = 'hist', bins = 30, grid = True, range = (0, 5))\n",
    "plt.show()"
   ]
  },
  {
   "cell_type": "code",
   "execution_count": null,
   "metadata": {},
   "outputs": [],
   "source": [
    "display(data['floor'].describe())\n",
    "data.plot(y = 'floor', kind = 'hist', bins = 30, grid = True, range = (0, 30))\n",
    "plt.show()"
   ]
  },
  {
   "cell_type": "markdown",
   "metadata": {},
   "source": [
    "**Вывод:**\n",
    "В данной выборке данных квартир на первом и последнем этаже - меньшинство\\\n",
    "Квартиры в основном находятся на расстоянии от 10 до 15 км от центра города, большое количество квартир на расстоянии 20 км от центра города, преимуществено Мурино и окраины Питера\\\n",
    "От аэропортов в свою очередь от 17 до 35 км\\\n",
    "Парки и пруды, учитывая то, что мы можем анализировать не все данные, находятся на расстоянии  от квартир в 300 - 600 метров( но при этом пруды имеют равномерное распределение, а парки в основном своем находятся в полукиллометре от квартиры)\\\n",
    "По дням недели мы можем сделать вывод, что люди занимаются размещением предложения на продажу квартир в рабочую неделю( в выходные - заметное снижение)\\\n",
    "В начале года пик объявлений на продажу квартир, затем приходится заметный спад на середину года и постепенное увеличение к концу года)\n",
    "\n"
   ]
  },
  {
   "cell_type": "code",
   "execution_count": null,
   "metadata": {},
   "outputs": [],
   "source": [
    "display(data['days_exposition'].describe())\n",
    "print('Медианное значение:', data['days_exposition'].median().round())\n",
    "print('Среднее значение:', data['days_exposition'].mean().round())\n",
    "data['days_exposition'].hist(bins =40)\n",
    "plt.show()"
   ]
  },
  {
   "cell_type": "markdown",
   "metadata": {},
   "source": [
    "Продажи квартиры за 1-1.5 месяца можно считать быстрыми\\\n",
    "Продажу квартиры от 1.5 до 3  месяцев можно считать нормальной\\\n",
    "Все остальное можно считать необычно долгой продажей ( опираясь на полученные данные и исследования Сбера)"
   ]
  },
  {
   "cell_type": "markdown",
   "metadata": {},
   "source": [
    " **Влияние на общую стоимость квартиры:**"
   ]
  },
  {
   "cell_type": "code",
   "execution_count": null,
   "metadata": {},
   "outputs": [],
   "source": [
    "data['last_price_mln'] = data['last_price'] / 1000000\n",
    "data['last_price_mln'] = data['last_price_mln'].astype('int')\n",
    "data['last_price_mln'].round()"
   ]
  },
  {
   "cell_type": "code",
   "execution_count": null,
   "metadata": {},
   "outputs": [],
   "source": [
    "pivot_table_total_area = data.pivot_table(index = 'total_area', values = 'last_price', aggfunc = ['median'])\n",
    "pivot_table_total_area.plot(y = 'median', style = 'o')\n",
    "\n",
    "\n",
    "\n",
    "data['total_area'].corr(data['last_price'])"
   ]
  },
  {
   "cell_type": "markdown",
   "metadata": {},
   "source": [
    "Корелляция чуть чуть не дотягивает до хорошей, но мы видим явную прямую зависимость между этими двумя величинами"
   ]
  },
  {
   "cell_type": "code",
   "execution_count": null,
   "metadata": {},
   "outputs": [],
   "source": [
    "pivot_table_total_area = data.pivot_table(index = 'living_area', values = 'last_price', aggfunc = ['median'])\n",
    "pivot_table_total_area.plot(y = 'median', style = 'o')\n",
    "\n",
    "data['living_area'].corr(data['last_price'])"
   ]
  },
  {
   "cell_type": "markdown",
   "metadata": {},
   "source": [
    "С жилой площадью корреляция уже ниже, но все равно нормальная"
   ]
  },
  {
   "cell_type": "code",
   "execution_count": null,
   "metadata": {},
   "outputs": [],
   "source": [
    "pivot_table_total_area = data.pivot_table(index = 'kitchen_area', values = 'last_price', aggfunc = ['median'])\n",
    "pivot_table_total_area.plot(y = 'median', style = 'o')\n",
    "\n",
    "data['kitchen_area'].corr(data['last_price'])"
   ]
  },
  {
   "cell_type": "markdown",
   "metadata": {},
   "source": [
    "Примерно в таком же состоянии, что и зависимость выше, предположительно что увеличение размера кухни эти и увеличение жилой и общей площади, то есть квартира с большой кухней и маленькой жилой площадью это редкость."
   ]
  },
  {
   "cell_type": "code",
   "execution_count": null,
   "metadata": {},
   "outputs": [],
   "source": [
    "pivot_table_rooms = data.pivot_table(index = 'rooms', values = 'last_price', aggfunc = ['median'])\n",
    "#display(pivot_table_rooms.head(10))\n",
    "pivot_table_rooms.plot(y = 'median', style = '-o')\n",
    "\n",
    "data['rooms'].corr(data['last_price'])"
   ]
  },
  {
   "cell_type": "markdown",
   "metadata": {},
   "source": [
    "C увеличением числа комнат растет и стоимость,\\"
   ]
  },
  {
   "cell_type": "code",
   "execution_count": null,
   "metadata": {},
   "outputs": [],
   "source": [
    "pivot_table_floor_type = data.pivot_table(index = 'floor_type', values = 'last_price', aggfunc = ['median'])\n",
    "pivot_table_floor_type.plot(y = 'median')\n",
    "plt.show()\n"
   ]
  },
  {
   "cell_type": "markdown",
   "metadata": {},
   "source": [
    "Квартиры на первом этаже - самые дешевые."
   ]
  },
  {
   "cell_type": "code",
   "execution_count": null,
   "metadata": {},
   "outputs": [],
   "source": [
    "pivot_table_day_exposition = data.pivot_table(index = 'day_exposition', values = 'last_price', aggfunc = ['mean', 'count', 'median'])\n",
    "pivot_table_day_exposition.columns = ['mean', 'count', 'median']\n",
    "pivot_table_day_exposition.plot(y = 'median')\n",
    "pivot_table_day_exposition.sort_values('median', ascending = False)# проба более полно расписать сводную и впринципе анализ"
   ]
  },
  {
   "cell_type": "code",
   "execution_count": null,
   "metadata": {},
   "outputs": [],
   "source": [
    "pivot_table_month_exposition = data.pivot_table(index = 'month_exposition', values = 'last_price', aggfunc = ['mean', 'count', 'median'])\n",
    "pivot_table_month_exposition.columns = ['mean', 'count', 'median']\n",
    "pivot_table_month_exposition.plot(y = 'median')\n",
    "plt.title('Зависимость цены квартиры от месяца публикации ')\n",
    "plt.xlabel('Месяц публикации')\n",
    "plt.ylabel('Цена квартиры')\n",
    "pivot_table_month_exposition.sort_values('median', ascending = False)"
   ]
  },
  {
   "cell_type": "markdown",
   "metadata": {},
   "source": [
    "Явное проявление сезонности:\\\n",
    "Более дорогие квартиры выкладываются весной - в марте и апреле, летом - более дешевые \\\n",
    "Так и по количеству самое низкое предложение на \"Новый Год\" и лето ( отпуск)\\\n",
    "Предполагаю, что эта тенденция на рынке недвижимости сохраняется и для количества предложений и для цены, люди для продажи квартиры используют агентов, которые и дают советы по сезонности рынка."
   ]
  },
  {
   "cell_type": "code",
   "execution_count": null,
   "metadata": {},
   "outputs": [],
   "source": [
    "pivot_table_year_exposition = data.pivot_table(index = 'year_exposition', values = 'last_price', aggfunc = ['mean', 'count', 'median'])\n",
    "pivot_table_year_exposition.columns = ['mean', 'count', 'median']\n",
    "pivot_table_year_exposition.plot(y = 'median')\n",
    "pivot_table_year_exposition.sort_values('median', ascending = False)"
   ]
  },
  {
   "cell_type": "markdown",
   "metadata": {},
   "source": [
    "Предположение, что политические события в мире в 2014 году образовывают желание более состоятельной части жителей Ленинградской области покинуть страну, для чего и продается более дорогая недвижимость."
   ]
  },
  {
   "cell_type": "code",
   "execution_count": null,
   "metadata": {},
   "outputs": [],
   "source": [
    "locality_name_pivot_table = data.pivot_table(index = 'locality_name', values = 'price_per_square_meter', aggfunc=['count', 'mean'])\n",
    "locality_name_pivot_table.columns = ['count', 'mean']\n",
    "# средняя цена квадратного метра в 10 населенных пунктах с наибольшим числом объявлений \n",
    "up_10_locality_name_pivot_table = locality_name_pivot_table.sort_values('count', ascending = False).head(10)\n",
    "up_10_locality_name_pivot_table[up_10_locality_name_pivot_table['mean']==up_10_locality_name_pivot_table['mean'].max()]\n",
    "up_10_locality_name_pivot_table[up_10_locality_name_pivot_table['mean']==up_10_locality_name_pivot_table['mean'].min()]\n",
    "up_10_locality_name_pivot_table"
   ]
  },
  {
   "cell_type": "markdown",
   "metadata": {},
   "source": [
    "Самая высокая цена за квадратный метр в столице области ( Санкт - Петербург) - 111451 рублей\\\n",
    "Самая низкая цена за квадратный метр в Выборге - 58208 рублей"
   ]
  },
  {
   "cell_type": "code",
   "execution_count": null,
   "metadata": {},
   "outputs": [],
   "source": [
    "#city_centers_nearest_km\n",
    "# нужно округление \n",
    "data['city_centers_nearest_km'] = data['city_centers_nearest_km'].fillna(1000)\n",
    "data['city_centers_nearest_km'] = data['city_centers_nearest_km'].astype('int')\n",
    "data['city_centers_nearest_km'] = data['city_centers_nearest_km'].round()\n",
    "# pivot_table_city_centers = data.query('locality_name == \"Санкт-Петербург\" and city_centers_nearest.isna() != True').pivot_table(index = 'city_centers_nearest_km', values = 'last_price', aggfunc = ['mean'])\n",
    "pivot_table_city_centers = data.query('locality_name == \"Санкт-Петербург\" and city_centers_nearest.isna() != 1000').pivot_table(index = 'city_centers_nearest_km', values = 'last_price', aggfunc = ['mean'])\n",
    "\n",
    "pivot_table_city_centers.plot()\n",
    "\n",
    "plt.show()\n",
    "\n",
    "pivot_table_city_centers"
   ]
  },
  {
   "cell_type": "markdown",
   "metadata": {},
   "source": [
    "С удалением от центра города стоимость недвижимости снижается"
   ]
  },
  {
   "cell_type": "markdown",
   "metadata": {},
   "source": [
    "### Общий вывод"
   ]
  },
  {
   "cell_type": "markdown",
   "metadata": {},
   "source": [
    "1)Была произведена обработка полученных данных:\\\n",
    "Заполнены пропуски;\\\n",
    "Преобразовали типы данных в столбцах;\\\n",
    "Устранили неявные дубликаты в столбце 'locality_name';\\\n",
    "Нашли и устранили редкие и выбивающиеся значения из столбцов.\\\n",
    "2)Добавили в датафрейм следующие данные по квартирам:\\\n",
    "цена одного квадратного метра;\\\n",
    "день недели публикации объявления;\n",
    "месяц публикации объявления;\\\n",
    "год публикации объявления;\\\n",
    "тип этажа квартиры;\\\n",
    "расстояние до центра города в километрах.\\\n",
    "3)Изучили какие квартиры составляют основу рынка предложения:\\\n",
    "Это 1-2(3) комнатные квартиры в малоэтажных домах, с общей площадью от 40 до 70 квадратных метров (жилая 18-40), с типовой высотой этажей от 2.5 до 3 м.\\\n",
    "Цена на такие квартиры колеблется от 3.5 до 6.5 миллионов рублей\\\n",
    "Квартир на первом и последнем этаже - меньшинство\\\n",
    "Квартиры в основном находятся на расстоянии от 10 до 15 км от центра города, большое количество квартир на расстоянии 20 км от центра города, преимуществено Мурино и окраины Питера\\\n",
    "От аэропортов в свою очередь от 17 до 35 км\\\n",
    "Парки и пруды находятся в основном на равном удалении от квартир от 300 до 600 метров\\\n",
    "По дням недели мы можем сделать вывод, что люди занимаются размещением предложения на продажу квартир в рабочую неделю( в выходные - заметное снижение)\\\n",
    "В начале года пик объявлений на продажу квартир, затем приходится заметный спад на середину года и постепенное увеличение к концу года)\\\n",
    "4)Основываясь на диаграмме быстрая продажа квартиры - до 1.5 месяцев, нормальная продажа квартиры до 3 месяцев, остальное необычно долгая продажа\\\n",
    "5)На общую стоимость квартиры влияет общая площадь, жилая площадь, площадь кухни, количество комнат\\\n",
    "Квартиры на первом этаже - самые дешевые\\\n",
    "День и месяц незначительно влияют на среднюю цену квартир, сильная динамика в ценаъ проявляется только в 2014-2015 годах.\\\n",
    "6)Самая низкая цена за квадратный метр в Выборге, самая высокая соответственно в Санкт-Петербурге"
   ]
  }
 ],
 "metadata": {
  "ExecuteTimeLog": [
   {
    "duration": 567,
    "start_time": "2022-10-11T12:01:00.212Z"
   },
   {
    "duration": 506,
    "start_time": "2022-10-11T12:01:39.535Z"
   },
   {
    "duration": 213,
    "start_time": "2022-10-11T12:02:54.408Z"
   },
   {
    "duration": 106,
    "start_time": "2022-10-11T12:03:46.164Z"
   },
   {
    "duration": 102,
    "start_time": "2022-10-11T12:07:37.080Z"
   },
   {
    "duration": 98,
    "start_time": "2022-10-11T12:07:42.498Z"
   },
   {
    "duration": 93,
    "start_time": "2022-10-11T12:07:49.434Z"
   },
   {
    "duration": 110,
    "start_time": "2022-10-11T12:07:59.076Z"
   },
   {
    "duration": 98,
    "start_time": "2022-10-11T12:08:14.135Z"
   },
   {
    "duration": 100,
    "start_time": "2022-10-11T12:08:23.889Z"
   },
   {
    "duration": 106,
    "start_time": "2022-10-11T12:16:09.400Z"
   },
   {
    "duration": 113,
    "start_time": "2022-10-11T12:16:41.408Z"
   },
   {
    "duration": 9,
    "start_time": "2022-10-11T12:16:56.372Z"
   },
   {
    "duration": 488,
    "start_time": "2022-10-11T12:17:21.526Z"
   },
   {
    "duration": 12,
    "start_time": "2022-10-11T12:17:22.016Z"
   },
   {
    "duration": 98,
    "start_time": "2022-10-11T12:17:49.642Z"
   },
   {
    "duration": 137,
    "start_time": "2022-10-11T12:20:58.549Z"
   },
   {
    "duration": 1972,
    "start_time": "2022-10-11T12:21:32.657Z"
   },
   {
    "duration": 11,
    "start_time": "2022-10-11T12:22:25.686Z"
   },
   {
    "duration": 2255,
    "start_time": "2022-10-11T12:22:57.638Z"
   },
   {
    "duration": 11,
    "start_time": "2022-10-11T12:25:06.851Z"
   },
   {
    "duration": 11,
    "start_time": "2022-10-11T12:25:34.429Z"
   },
   {
    "duration": 18,
    "start_time": "2022-10-11T12:27:44.549Z"
   },
   {
    "duration": 11,
    "start_time": "2022-10-11T12:27:59.600Z"
   },
   {
    "duration": 11,
    "start_time": "2022-10-11T12:28:04.413Z"
   },
   {
    "duration": 10,
    "start_time": "2022-10-11T12:28:08.889Z"
   },
   {
    "duration": 2881,
    "start_time": "2022-10-11T19:56:42.910Z"
   },
   {
    "duration": 1952,
    "start_time": "2022-10-11T20:03:13.722Z"
   },
   {
    "duration": 1517,
    "start_time": "2022-10-11T20:07:42.707Z"
   },
   {
    "duration": 360,
    "start_time": "2022-10-11T20:07:58.976Z"
   },
   {
    "duration": 26,
    "start_time": "2022-10-11T20:10:38.634Z"
   },
   {
    "duration": 87,
    "start_time": "2022-10-11T20:10:55.046Z"
   },
   {
    "duration": 73,
    "start_time": "2022-10-11T20:11:12.224Z"
   },
   {
    "duration": 72,
    "start_time": "2022-10-11T20:13:11.984Z"
   },
   {
    "duration": 101,
    "start_time": "2022-10-11T20:41:22.840Z"
   },
   {
    "duration": 70,
    "start_time": "2022-10-11T20:41:28.245Z"
   },
   {
    "duration": 104,
    "start_time": "2022-10-11T20:42:41.565Z"
   },
   {
    "duration": 27,
    "start_time": "2022-10-11T20:43:08.372Z"
   },
   {
    "duration": 26,
    "start_time": "2022-10-11T20:43:31.148Z"
   },
   {
    "duration": 18,
    "start_time": "2022-10-11T20:44:58.644Z"
   },
   {
    "duration": 19,
    "start_time": "2022-10-11T20:46:24.322Z"
   },
   {
    "duration": 15,
    "start_time": "2022-10-11T20:47:14.627Z"
   },
   {
    "duration": 16,
    "start_time": "2022-10-11T20:48:10.522Z"
   },
   {
    "duration": 20,
    "start_time": "2022-10-11T20:50:47.160Z"
   },
   {
    "duration": 20,
    "start_time": "2022-10-11T20:50:53.759Z"
   },
   {
    "duration": 16,
    "start_time": "2022-10-11T20:51:39.152Z"
   },
   {
    "duration": 14,
    "start_time": "2022-10-11T20:57:58.451Z"
   },
   {
    "duration": 13,
    "start_time": "2022-10-11T20:58:05.987Z"
   },
   {
    "duration": 22,
    "start_time": "2022-10-11T20:59:19.891Z"
   },
   {
    "duration": 16,
    "start_time": "2022-10-11T20:59:36.450Z"
   },
   {
    "duration": 35,
    "start_time": "2022-10-11T21:00:01.587Z"
   },
   {
    "duration": 26,
    "start_time": "2022-10-11T21:01:17.403Z"
   },
   {
    "duration": 30,
    "start_time": "2022-10-11T21:01:58.074Z"
   },
   {
    "duration": 128,
    "start_time": "2022-10-11T21:04:18.608Z"
   },
   {
    "duration": 92,
    "start_time": "2022-10-11T21:04:37.536Z"
   },
   {
    "duration": 16,
    "start_time": "2022-10-11T21:07:19.839Z"
   },
   {
    "duration": 21,
    "start_time": "2022-10-11T21:08:20.037Z"
   },
   {
    "duration": 20,
    "start_time": "2022-10-11T21:08:27.150Z"
   },
   {
    "duration": 27,
    "start_time": "2022-10-11T21:08:35.206Z"
   },
   {
    "duration": 31,
    "start_time": "2022-10-11T21:08:48.830Z"
   },
   {
    "duration": 26,
    "start_time": "2022-10-11T21:09:26.749Z"
   },
   {
    "duration": 35,
    "start_time": "2022-10-11T21:10:48.676Z"
   },
   {
    "duration": 32,
    "start_time": "2022-10-11T21:11:09.260Z"
   },
   {
    "duration": 31,
    "start_time": "2022-10-11T21:11:14.395Z"
   },
   {
    "duration": 17,
    "start_time": "2022-10-11T21:12:24.235Z"
   },
   {
    "duration": 21,
    "start_time": "2022-10-11T21:12:56.347Z"
   },
   {
    "duration": 21,
    "start_time": "2022-10-11T21:15:22.914Z"
   },
   {
    "duration": 20,
    "start_time": "2022-10-11T21:15:34.032Z"
   },
   {
    "duration": 1350,
    "start_time": "2022-10-11T21:18:51.140Z"
   },
   {
    "duration": 2096,
    "start_time": "2022-10-11T21:19:27.431Z"
   },
   {
    "duration": 1990,
    "start_time": "2022-10-11T21:19:41.583Z"
   },
   {
    "duration": 22,
    "start_time": "2022-10-11T21:20:05.367Z"
   },
   {
    "duration": 1973,
    "start_time": "2022-10-11T21:21:37.693Z"
   },
   {
    "duration": 26,
    "start_time": "2022-10-11T21:21:57.654Z"
   },
   {
    "duration": 1684,
    "start_time": "2022-10-11T21:22:05.550Z"
   },
   {
    "duration": 22,
    "start_time": "2022-10-11T21:22:20.453Z"
   },
   {
    "duration": 24,
    "start_time": "2022-10-11T21:26:52.329Z"
   },
   {
    "duration": 24,
    "start_time": "2022-10-11T21:27:03.628Z"
   },
   {
    "duration": 2203,
    "start_time": "2022-10-11T21:27:08.499Z"
   },
   {
    "duration": 1800,
    "start_time": "2022-10-11T21:27:29.172Z"
   },
   {
    "duration": 38,
    "start_time": "2022-10-11T21:28:01.852Z"
   },
   {
    "duration": 30,
    "start_time": "2022-10-11T21:28:11.762Z"
   },
   {
    "duration": 46,
    "start_time": "2022-10-11T21:28:36.246Z"
   },
   {
    "duration": 2903,
    "start_time": "2022-10-11T21:28:42.463Z"
   },
   {
    "duration": 35,
    "start_time": "2022-10-11T21:28:47.171Z"
   },
   {
    "duration": 42,
    "start_time": "2022-10-11T21:28:54.331Z"
   },
   {
    "duration": 56,
    "start_time": "2022-10-11T21:29:13.595Z"
   },
   {
    "duration": 69,
    "start_time": "2022-10-11T21:29:58.291Z"
   },
   {
    "duration": 83,
    "start_time": "2022-10-11T21:30:16.794Z"
   },
   {
    "duration": 57,
    "start_time": "2022-10-11T21:30:45.162Z"
   },
   {
    "duration": 64,
    "start_time": "2022-10-11T21:31:00.130Z"
   },
   {
    "duration": 62,
    "start_time": "2022-10-11T21:31:13.011Z"
   },
   {
    "duration": 101,
    "start_time": "2022-10-11T21:32:21.547Z"
   },
   {
    "duration": 63,
    "start_time": "2022-10-11T21:40:37.198Z"
   },
   {
    "duration": 447,
    "start_time": "2022-10-11T21:42:11.006Z"
   },
   {
    "duration": 955,
    "start_time": "2022-10-11T21:42:49.821Z"
   },
   {
    "duration": 53,
    "start_time": "2022-10-11T21:43:31.334Z"
   },
   {
    "duration": 53,
    "start_time": "2022-10-11T21:46:28.011Z"
   },
   {
    "duration": 46,
    "start_time": "2022-10-12T11:10:00.509Z"
   },
   {
    "duration": 3092,
    "start_time": "2022-10-12T11:10:04.845Z"
   },
   {
    "duration": 32,
    "start_time": "2022-10-12T11:10:08.500Z"
   },
   {
    "duration": 1307,
    "start_time": "2022-10-12T11:26:45.128Z"
   },
   {
    "duration": 230,
    "start_time": "2022-10-12T11:27:40.488Z"
   },
   {
    "duration": 2516,
    "start_time": "2022-10-12T11:30:22.290Z"
   },
   {
    "duration": 2459,
    "start_time": "2022-10-12T11:33:59.133Z"
   },
   {
    "duration": 123,
    "start_time": "2022-10-12T11:34:01.593Z"
   },
   {
    "duration": 57,
    "start_time": "2022-10-12T11:35:37.402Z"
   },
   {
    "duration": 43,
    "start_time": "2022-10-12T11:38:30.708Z"
   },
   {
    "duration": 35,
    "start_time": "2022-10-12T11:39:18.009Z"
   },
   {
    "duration": 61,
    "start_time": "2022-10-12T11:41:06.463Z"
   },
   {
    "duration": 47,
    "start_time": "2022-10-12T11:41:29.516Z"
   },
   {
    "duration": 2559,
    "start_time": "2022-10-12T11:55:08.309Z"
   },
   {
    "duration": 178221,
    "start_time": "2022-10-12T11:58:04.411Z"
   },
   {
    "duration": 112,
    "start_time": "2022-10-12T12:25:59.673Z"
   },
   {
    "duration": 33,
    "start_time": "2022-10-12T12:35:26.622Z"
   },
   {
    "duration": 1983,
    "start_time": "2022-10-12T12:35:59.874Z"
   },
   {
    "duration": 104,
    "start_time": "2022-10-12T12:38:21.375Z"
   },
   {
    "duration": 35,
    "start_time": "2022-10-12T12:38:54.037Z"
   },
   {
    "duration": 44,
    "start_time": "2022-10-12T12:39:30.428Z"
   },
   {
    "duration": 38,
    "start_time": "2022-10-12T12:39:55.028Z"
   },
   {
    "duration": 40,
    "start_time": "2022-10-12T12:40:19.154Z"
   },
   {
    "duration": 121,
    "start_time": "2022-10-12T12:44:51.855Z"
   },
   {
    "duration": 201,
    "start_time": "2022-10-12T12:45:11.053Z"
   },
   {
    "duration": 90,
    "start_time": "2022-10-12T12:50:42.101Z"
   },
   {
    "duration": 2588,
    "start_time": "2022-10-12T12:52:23.024Z"
   },
   {
    "duration": 1308,
    "start_time": "2022-10-12T12:52:25.614Z"
   },
   {
    "duration": 2490,
    "start_time": "2022-10-12T12:53:32.301Z"
   },
   {
    "duration": 2615,
    "start_time": "2022-10-12T12:54:09.305Z"
   },
   {
    "duration": 123,
    "start_time": "2022-10-12T12:54:11.921Z"
   },
   {
    "duration": 2679,
    "start_time": "2022-10-12T12:59:28.087Z"
   },
   {
    "duration": 2589,
    "start_time": "2022-10-12T12:59:47.591Z"
   },
   {
    "duration": 2699,
    "start_time": "2022-10-12T13:02:48.659Z"
   },
   {
    "duration": 56,
    "start_time": "2022-10-12T13:02:51.360Z"
   },
   {
    "duration": 2318,
    "start_time": "2022-10-12T13:14:58.424Z"
   },
   {
    "duration": 690,
    "start_time": "2022-10-12T13:15:26.882Z"
   },
   {
    "duration": 2694,
    "start_time": "2022-10-13T09:57:27.622Z"
   },
   {
    "duration": 791,
    "start_time": "2022-10-13T09:57:30.318Z"
   },
   {
    "duration": 37,
    "start_time": "2022-10-13T09:58:07.646Z"
   },
   {
    "duration": 54,
    "start_time": "2022-10-13T09:58:24.722Z"
   },
   {
    "duration": 42,
    "start_time": "2022-10-13T09:59:13.669Z"
   },
   {
    "duration": 43,
    "start_time": "2022-10-13T09:59:16.271Z"
   },
   {
    "duration": 44,
    "start_time": "2022-10-13T09:59:43.543Z"
   },
   {
    "duration": 74,
    "start_time": "2022-10-13T10:04:40.201Z"
   },
   {
    "duration": 79,
    "start_time": "2022-10-13T10:04:58.340Z"
   },
   {
    "duration": 75,
    "start_time": "2022-10-13T10:07:17.545Z"
   },
   {
    "duration": 2465,
    "start_time": "2022-10-13T10:08:01.258Z"
   },
   {
    "duration": 84,
    "start_time": "2022-10-13T10:08:03.725Z"
   },
   {
    "duration": 72,
    "start_time": "2022-10-13T10:10:18.276Z"
   },
   {
    "duration": 74,
    "start_time": "2022-10-13T10:10:27.780Z"
   },
   {
    "duration": 79,
    "start_time": "2022-10-13T10:12:14.887Z"
   },
   {
    "duration": 1759,
    "start_time": "2022-10-13T10:13:52.531Z"
   },
   {
    "duration": 3110,
    "start_time": "2022-10-13T10:14:18.406Z"
   },
   {
    "duration": 47,
    "start_time": "2022-10-13T10:14:55.536Z"
   },
   {
    "duration": 1781,
    "start_time": "2022-10-13T10:19:06.066Z"
   },
   {
    "duration": 44,
    "start_time": "2022-10-13T10:19:27.631Z"
   },
   {
    "duration": 44,
    "start_time": "2022-10-13T10:23:27.115Z"
   },
   {
    "duration": 54,
    "start_time": "2022-10-13T10:32:58.051Z"
   },
   {
    "duration": 44,
    "start_time": "2022-10-13T10:34:12.538Z"
   },
   {
    "duration": 23,
    "start_time": "2022-10-13T10:34:25.050Z"
   },
   {
    "duration": 23,
    "start_time": "2022-10-13T10:34:39.584Z"
   },
   {
    "duration": 60,
    "start_time": "2022-10-13T10:36:32.433Z"
   },
   {
    "duration": 21,
    "start_time": "2022-10-13T11:12:12.742Z"
   },
   {
    "duration": 19,
    "start_time": "2022-10-13T11:13:57.568Z"
   },
   {
    "duration": 21,
    "start_time": "2022-10-13T11:14:10.264Z"
   },
   {
    "duration": 20,
    "start_time": "2022-10-13T11:14:19.343Z"
   },
   {
    "duration": 22,
    "start_time": "2022-10-13T11:18:28.130Z"
   },
   {
    "duration": 18,
    "start_time": "2022-10-13T11:21:27.830Z"
   },
   {
    "duration": 15,
    "start_time": "2022-10-13T11:22:10.278Z"
   },
   {
    "duration": 15,
    "start_time": "2022-10-13T11:22:12.815Z"
   },
   {
    "duration": 151,
    "start_time": "2022-10-13T11:26:24.490Z"
   },
   {
    "duration": 118,
    "start_time": "2022-10-13T11:26:41.428Z"
   },
   {
    "duration": 2365,
    "start_time": "2022-10-13T11:26:50.552Z"
   },
   {
    "duration": 101,
    "start_time": "2022-10-13T11:26:52.918Z"
   },
   {
    "duration": 54,
    "start_time": "2022-10-13T11:30:04.936Z"
   },
   {
    "duration": 44,
    "start_time": "2022-10-13T11:30:17.259Z"
   },
   {
    "duration": 126,
    "start_time": "2022-10-13T11:32:26.121Z"
   },
   {
    "duration": 72,
    "start_time": "2022-10-13T11:33:42.389Z"
   },
   {
    "duration": 185,
    "start_time": "2022-10-13T11:33:58.456Z"
   },
   {
    "duration": 73,
    "start_time": "2022-10-13T11:34:07.425Z"
   },
   {
    "duration": 13,
    "start_time": "2022-10-13T11:34:27.100Z"
   },
   {
    "duration": 2516,
    "start_time": "2022-10-13T11:34:44.691Z"
   },
   {
    "duration": 215,
    "start_time": "2022-10-13T11:34:47.208Z"
   },
   {
    "duration": 120,
    "start_time": "2022-10-13T11:39:06.126Z"
   },
   {
    "duration": 195,
    "start_time": "2022-10-13T11:39:11.379Z"
   },
   {
    "duration": 122,
    "start_time": "2022-10-13T11:39:27.065Z"
   },
   {
    "duration": 128,
    "start_time": "2022-10-13T12:10:40.435Z"
   },
   {
    "duration": 126,
    "start_time": "2022-10-13T12:11:13.848Z"
   },
   {
    "duration": 148,
    "start_time": "2022-10-13T12:11:24.300Z"
   },
   {
    "duration": 123,
    "start_time": "2022-10-13T12:11:35.654Z"
   },
   {
    "duration": 128,
    "start_time": "2022-10-13T12:12:20.058Z"
   },
   {
    "duration": 139,
    "start_time": "2022-10-13T12:13:34.269Z"
   },
   {
    "duration": 124,
    "start_time": "2022-10-13T12:13:39.563Z"
   },
   {
    "duration": 117,
    "start_time": "2022-10-13T12:15:53.756Z"
   },
   {
    "duration": 133,
    "start_time": "2022-10-13T12:16:17.002Z"
   },
   {
    "duration": 118,
    "start_time": "2022-10-13T12:17:15.648Z"
   },
   {
    "duration": 135,
    "start_time": "2022-10-13T12:27:34.916Z"
   },
   {
    "duration": 153,
    "start_time": "2022-10-13T12:32:41.563Z"
   },
   {
    "duration": 136,
    "start_time": "2022-10-13T12:32:47.744Z"
   },
   {
    "duration": 137,
    "start_time": "2022-10-13T12:33:43.273Z"
   },
   {
    "duration": 145,
    "start_time": "2022-10-13T12:33:48.558Z"
   },
   {
    "duration": 134,
    "start_time": "2022-10-13T12:34:42.922Z"
   },
   {
    "duration": 197,
    "start_time": "2022-10-13T12:36:50.951Z"
   },
   {
    "duration": 112,
    "start_time": "2022-10-13T12:36:53.483Z"
   },
   {
    "duration": 115,
    "start_time": "2022-10-13T12:37:03.761Z"
   },
   {
    "duration": 120,
    "start_time": "2022-10-13T12:37:52.185Z"
   },
   {
    "duration": 116,
    "start_time": "2022-10-13T12:38:00.859Z"
   },
   {
    "duration": 2509,
    "start_time": "2022-10-13T12:38:13.124Z"
   },
   {
    "duration": 203,
    "start_time": "2022-10-13T12:38:15.635Z"
   },
   {
    "duration": 120,
    "start_time": "2022-10-13T12:38:36.158Z"
   },
   {
    "duration": 123,
    "start_time": "2022-10-13T12:38:43.387Z"
   },
   {
    "duration": 123,
    "start_time": "2022-10-13T12:39:17.056Z"
   },
   {
    "duration": 118,
    "start_time": "2022-10-13T13:31:17.683Z"
   },
   {
    "duration": 132,
    "start_time": "2022-10-13T13:31:28.500Z"
   },
   {
    "duration": 126,
    "start_time": "2022-10-13T13:32:00.710Z"
   },
   {
    "duration": 123,
    "start_time": "2022-10-13T13:32:30.480Z"
   },
   {
    "duration": 135,
    "start_time": "2022-10-13T13:32:37.967Z"
   },
   {
    "duration": 151,
    "start_time": "2022-10-13T13:32:44.475Z"
   },
   {
    "duration": 124,
    "start_time": "2022-10-13T13:33:11.448Z"
   },
   {
    "duration": 127,
    "start_time": "2022-10-13T13:33:28.939Z"
   },
   {
    "duration": 121,
    "start_time": "2022-10-13T13:33:32.669Z"
   },
   {
    "duration": 131,
    "start_time": "2022-10-13T13:33:38.240Z"
   },
   {
    "duration": 121,
    "start_time": "2022-10-13T13:34:58.061Z"
   },
   {
    "duration": 147,
    "start_time": "2022-10-13T13:35:04.123Z"
   },
   {
    "duration": 126,
    "start_time": "2022-10-13T13:35:38.390Z"
   },
   {
    "duration": 127,
    "start_time": "2022-10-13T13:37:10.405Z"
   },
   {
    "duration": 67,
    "start_time": "2022-10-13T13:37:51.144Z"
   },
   {
    "duration": 3581,
    "start_time": "2022-10-16T08:43:57.681Z"
   },
   {
    "duration": 266,
    "start_time": "2022-10-16T08:44:01.264Z"
   },
   {
    "duration": 77,
    "start_time": "2022-10-16T08:50:26.289Z"
   },
   {
    "duration": 262,
    "start_time": "2022-10-16T08:50:48.244Z"
   },
   {
    "duration": 198,
    "start_time": "2022-10-16T08:51:03.595Z"
   },
   {
    "duration": 211,
    "start_time": "2022-10-16T08:52:06.627Z"
   },
   {
    "duration": 236,
    "start_time": "2022-10-16T08:55:49.790Z"
   },
   {
    "duration": 295,
    "start_time": "2022-10-16T08:58:09.582Z"
   },
   {
    "duration": 679,
    "start_time": "2022-10-16T08:58:55.030Z"
   },
   {
    "duration": 230,
    "start_time": "2022-10-16T09:04:02.483Z"
   },
   {
    "duration": 220,
    "start_time": "2022-10-16T09:25:31.253Z"
   },
   {
    "duration": 251,
    "start_time": "2022-10-16T09:26:00.566Z"
   },
   {
    "duration": 197,
    "start_time": "2022-10-16T09:26:17.486Z"
   },
   {
    "duration": 183,
    "start_time": "2022-10-16T09:50:33.168Z"
   },
   {
    "duration": 225,
    "start_time": "2022-10-16T09:51:37.358Z"
   },
   {
    "duration": 206,
    "start_time": "2022-10-16T09:51:52.558Z"
   },
   {
    "duration": 190,
    "start_time": "2022-10-16T09:52:07.381Z"
   },
   {
    "duration": 260,
    "start_time": "2022-10-16T09:52:22.469Z"
   },
   {
    "duration": 169,
    "start_time": "2022-10-16T09:54:52.109Z"
   },
   {
    "duration": 181,
    "start_time": "2022-10-16T09:55:04.845Z"
   },
   {
    "duration": 196,
    "start_time": "2022-10-16T10:28:44.078Z"
   },
   {
    "duration": 184,
    "start_time": "2022-10-16T10:28:52.869Z"
   },
   {
    "duration": 1406,
    "start_time": "2022-10-16T10:29:29.933Z"
   },
   {
    "duration": 191,
    "start_time": "2022-10-16T10:29:41.182Z"
   },
   {
    "duration": 187,
    "start_time": "2022-10-16T10:30:51.295Z"
   },
   {
    "duration": 218,
    "start_time": "2022-10-16T10:31:01.414Z"
   },
   {
    "duration": 239,
    "start_time": "2022-10-16T10:32:20.276Z"
   },
   {
    "duration": 215,
    "start_time": "2022-10-16T10:37:24.396Z"
   },
   {
    "duration": 242,
    "start_time": "2022-10-16T10:37:31.264Z"
   },
   {
    "duration": 221,
    "start_time": "2022-10-16T10:37:47.744Z"
   },
   {
    "duration": 265,
    "start_time": "2022-10-16T10:39:08.783Z"
   },
   {
    "duration": 210,
    "start_time": "2022-10-16T10:39:24.727Z"
   },
   {
    "duration": 3244,
    "start_time": "2022-10-16T10:40:27.243Z"
   },
   {
    "duration": 435,
    "start_time": "2022-10-16T10:40:30.495Z"
   },
   {
    "duration": 341,
    "start_time": "2022-10-16T10:44:41.748Z"
   },
   {
    "duration": 109,
    "start_time": "2022-10-16T10:47:09.573Z"
   },
   {
    "duration": 283,
    "start_time": "2022-10-16T10:49:12.228Z"
   },
   {
    "duration": 290,
    "start_time": "2022-10-16T10:49:42.571Z"
   },
   {
    "duration": 209,
    "start_time": "2022-10-16T10:49:47.197Z"
   },
   {
    "duration": 25,
    "start_time": "2022-10-16T10:51:38.108Z"
   },
   {
    "duration": 2554,
    "start_time": "2022-10-16T10:52:39.925Z"
   },
   {
    "duration": 48,
    "start_time": "2022-10-16T10:52:42.481Z"
   },
   {
    "duration": 2779,
    "start_time": "2022-10-16T10:53:01.862Z"
   },
   {
    "duration": 36,
    "start_time": "2022-10-16T10:53:04.643Z"
   },
   {
    "duration": 196,
    "start_time": "2022-10-16T10:54:17.945Z"
   },
   {
    "duration": 134,
    "start_time": "2022-10-16T10:54:30.233Z"
   },
   {
    "duration": 130,
    "start_time": "2022-10-16T10:55:24.712Z"
   },
   {
    "duration": 2654,
    "start_time": "2022-10-16T10:55:30.509Z"
   },
   {
    "duration": 2497,
    "start_time": "2022-10-16T10:55:46.070Z"
   },
   {
    "duration": 3254,
    "start_time": "2022-10-16T10:55:53.006Z"
   },
   {
    "duration": 41,
    "start_time": "2022-10-16T10:55:56.262Z"
   },
   {
    "duration": 3065,
    "start_time": "2022-10-16T10:56:12.481Z"
   },
   {
    "duration": 39,
    "start_time": "2022-10-16T10:56:15.549Z"
   },
   {
    "duration": 26,
    "start_time": "2022-10-16T10:56:53.875Z"
   },
   {
    "duration": 209,
    "start_time": "2022-10-16T10:57:34.605Z"
   },
   {
    "duration": 126,
    "start_time": "2022-10-16T10:58:51.122Z"
   },
   {
    "duration": 136,
    "start_time": "2022-10-16T10:59:08.556Z"
   },
   {
    "duration": 150,
    "start_time": "2022-10-16T11:35:50.909Z"
   },
   {
    "duration": 142,
    "start_time": "2022-10-16T11:37:54.683Z"
   },
   {
    "duration": 134,
    "start_time": "2022-10-16T11:38:05.443Z"
   },
   {
    "duration": 228,
    "start_time": "2022-10-16T11:52:07.321Z"
   },
   {
    "duration": 232,
    "start_time": "2022-10-16T11:52:23.941Z"
   },
   {
    "duration": 177,
    "start_time": "2022-10-16T12:03:13.479Z"
   },
   {
    "duration": 180,
    "start_time": "2022-10-16T12:03:30.007Z"
   },
   {
    "duration": 174,
    "start_time": "2022-10-16T12:03:45.030Z"
   },
   {
    "duration": 3199,
    "start_time": "2022-10-16T12:03:52.059Z"
   },
   {
    "duration": 253,
    "start_time": "2022-10-16T12:03:55.260Z"
   },
   {
    "duration": 153,
    "start_time": "2022-10-16T12:05:10.354Z"
   },
   {
    "duration": 22,
    "start_time": "2022-10-16T12:05:12.857Z"
   },
   {
    "duration": 31,
    "start_time": "2022-10-16T12:06:48.407Z"
   },
   {
    "duration": 28,
    "start_time": "2022-10-16T12:07:31.616Z"
   },
   {
    "duration": 23,
    "start_time": "2022-10-16T12:08:13.839Z"
   },
   {
    "duration": 22,
    "start_time": "2022-10-16T12:08:15.719Z"
   },
   {
    "duration": 3524,
    "start_time": "2022-10-16T12:08:20.677Z"
   },
   {
    "duration": 249,
    "start_time": "2022-10-16T12:08:24.203Z"
   },
   {
    "duration": 201,
    "start_time": "2022-10-16T12:11:59.702Z"
   },
   {
    "duration": 605,
    "start_time": "2022-10-16T12:12:47.166Z"
   },
   {
    "duration": 567,
    "start_time": "2022-10-16T12:13:56.125Z"
   },
   {
    "duration": 685,
    "start_time": "2022-10-16T12:14:01.432Z"
   },
   {
    "duration": 23892,
    "start_time": "2022-10-16T12:14:35.943Z"
   },
   {
    "duration": 1981,
    "start_time": "2022-10-16T12:28:13.739Z"
   },
   {
    "duration": 1849,
    "start_time": "2022-10-16T12:28:39.604Z"
   },
   {
    "duration": 3404,
    "start_time": "2022-10-16T12:28:59.224Z"
   },
   {
    "duration": 2490,
    "start_time": "2022-10-16T12:29:02.631Z"
   },
   {
    "duration": 3357,
    "start_time": "2022-10-16T12:29:16.128Z"
   },
   {
    "duration": 2375,
    "start_time": "2022-10-16T12:29:19.488Z"
   },
   {
    "duration": 3102,
    "start_time": "2022-10-16T12:29:34.991Z"
   },
   {
    "duration": 32,
    "start_time": "2022-10-16T12:29:38.095Z"
   },
   {
    "duration": 34,
    "start_time": "2022-10-16T12:38:28.744Z"
   },
   {
    "duration": 36,
    "start_time": "2022-10-16T12:39:30.409Z"
   },
   {
    "duration": 28,
    "start_time": "2022-10-16T12:40:04.327Z"
   },
   {
    "duration": 26,
    "start_time": "2022-10-16T12:40:35.152Z"
   },
   {
    "duration": 30,
    "start_time": "2022-10-16T12:43:05.198Z"
   },
   {
    "duration": 36,
    "start_time": "2022-10-16T12:44:58.390Z"
   },
   {
    "duration": 24,
    "start_time": "2022-10-16T14:36:32.602Z"
   },
   {
    "duration": 146,
    "start_time": "2022-10-16T14:36:50.413Z"
   },
   {
    "duration": 151,
    "start_time": "2022-10-16T14:37:30.796Z"
   },
   {
    "duration": 247,
    "start_time": "2022-10-16T14:38:06.091Z"
   },
   {
    "duration": 339,
    "start_time": "2022-10-16T14:38:16.203Z"
   },
   {
    "duration": 309,
    "start_time": "2022-10-16T14:38:37.259Z"
   },
   {
    "duration": 358,
    "start_time": "2022-10-16T14:39:01.380Z"
   },
   {
    "duration": 343,
    "start_time": "2022-10-16T14:39:07.506Z"
   },
   {
    "duration": 370,
    "start_time": "2022-10-16T14:40:14.299Z"
   },
   {
    "duration": 459,
    "start_time": "2022-10-16T14:40:33.362Z"
   },
   {
    "duration": 50,
    "start_time": "2022-10-17T10:47:05.324Z"
   },
   {
    "duration": 3621,
    "start_time": "2022-10-17T10:47:09.907Z"
   },
   {
    "duration": 308,
    "start_time": "2022-10-17T10:47:13.531Z"
   },
   {
    "duration": 317,
    "start_time": "2022-10-17T10:47:31.392Z"
   },
   {
    "duration": 277,
    "start_time": "2022-10-17T10:48:03.781Z"
   },
   {
    "duration": 98,
    "start_time": "2022-10-17T10:52:18.411Z"
   },
   {
    "duration": 1607,
    "start_time": "2022-10-17T10:54:25.962Z"
   },
   {
    "duration": 1490,
    "start_time": "2022-10-17T10:57:50.166Z"
   },
   {
    "duration": 1496,
    "start_time": "2022-10-17T10:58:04.215Z"
   },
   {
    "duration": 2757,
    "start_time": "2022-10-17T11:12:37.826Z"
   },
   {
    "duration": 2827,
    "start_time": "2022-10-17T11:14:18.102Z"
   },
   {
    "duration": 3059,
    "start_time": "2022-10-17T11:14:20.931Z"
   },
   {
    "duration": 78,
    "start_time": "2022-10-17T11:15:56.329Z"
   },
   {
    "duration": 71,
    "start_time": "2022-10-17T11:16:06.424Z"
   },
   {
    "duration": 2694,
    "start_time": "2022-10-17T11:16:11.163Z"
   },
   {
    "duration": 1530,
    "start_time": "2022-10-17T11:16:42.725Z"
   },
   {
    "duration": 1502,
    "start_time": "2022-10-17T11:16:50.440Z"
   },
   {
    "duration": 1500,
    "start_time": "2022-10-17T11:17:12.000Z"
   },
   {
    "duration": 1522,
    "start_time": "2022-10-17T11:25:01.059Z"
   },
   {
    "duration": 1628,
    "start_time": "2022-10-17T11:25:18.356Z"
   },
   {
    "duration": 1594,
    "start_time": "2022-10-17T11:28:04.710Z"
   },
   {
    "duration": 1647,
    "start_time": "2022-10-17T11:28:27.638Z"
   },
   {
    "duration": 4271,
    "start_time": "2022-10-17T11:31:00.440Z"
   },
   {
    "duration": 8,
    "start_time": "2022-10-17T11:32:28.578Z"
   },
   {
    "duration": 1666,
    "start_time": "2022-10-17T11:32:51.720Z"
   },
   {
    "duration": 1651,
    "start_time": "2022-10-17T11:34:43.277Z"
   },
   {
    "duration": 1770,
    "start_time": "2022-10-17T11:36:45.442Z"
   },
   {
    "duration": 3041,
    "start_time": "2022-10-17T11:38:06.076Z"
   },
   {
    "duration": 3231,
    "start_time": "2022-10-17T11:38:48.629Z"
   },
   {
    "duration": 3045,
    "start_time": "2022-10-17T11:39:10.811Z"
   },
   {
    "duration": 1610,
    "start_time": "2022-10-17T11:39:53.219Z"
   },
   {
    "duration": 2890,
    "start_time": "2022-10-17T11:40:53.104Z"
   },
   {
    "duration": 88,
    "start_time": "2022-10-17T11:45:34.109Z"
   },
   {
    "duration": 3075,
    "start_time": "2022-10-17T11:45:41.759Z"
   },
   {
    "duration": 1570,
    "start_time": "2022-10-17T11:45:59.554Z"
   },
   {
    "duration": 2759,
    "start_time": "2022-10-17T11:46:18.523Z"
   },
   {
    "duration": 2974,
    "start_time": "2022-10-17T11:46:45.633Z"
   },
   {
    "duration": 3383,
    "start_time": "2022-10-17T11:47:12.376Z"
   },
   {
    "duration": 2953,
    "start_time": "2022-10-17T11:47:34.654Z"
   },
   {
    "duration": 2754,
    "start_time": "2022-10-17T11:47:37.608Z"
   },
   {
    "duration": 1568,
    "start_time": "2022-10-17T11:48:20.979Z"
   },
   {
    "duration": 1506,
    "start_time": "2022-10-17T11:48:33.607Z"
   },
   {
    "duration": 1514,
    "start_time": "2022-10-17T11:48:44.613Z"
   },
   {
    "duration": 108,
    "start_time": "2022-10-17T11:49:11.087Z"
   },
   {
    "duration": 75,
    "start_time": "2022-10-17T11:53:48.721Z"
   },
   {
    "duration": 77,
    "start_time": "2022-10-17T11:54:04.648Z"
   },
   {
    "duration": 116,
    "start_time": "2022-10-17T12:03:41.801Z"
   },
   {
    "duration": 1538,
    "start_time": "2022-10-17T12:04:17.731Z"
   },
   {
    "duration": 2129,
    "start_time": "2022-10-17T12:04:46.183Z"
   },
   {
    "duration": 2097,
    "start_time": "2022-10-17T12:11:49.258Z"
   },
   {
    "duration": 2885,
    "start_time": "2022-10-17T12:11:59.225Z"
   },
   {
    "duration": 2019,
    "start_time": "2022-10-17T12:12:02.112Z"
   },
   {
    "duration": 1546,
    "start_time": "2022-10-17T12:13:28.924Z"
   },
   {
    "duration": 1701,
    "start_time": "2022-10-17T12:21:50.895Z"
   },
   {
    "duration": 1709,
    "start_time": "2022-10-17T12:22:16.932Z"
   },
   {
    "duration": 2801,
    "start_time": "2022-10-17T12:22:32.340Z"
   },
   {
    "duration": 3295,
    "start_time": "2022-10-17T12:23:14.032Z"
   },
   {
    "duration": 2827,
    "start_time": "2022-10-17T12:24:03.292Z"
   },
   {
    "duration": 2796,
    "start_time": "2022-10-17T12:24:22.569Z"
   },
   {
    "duration": 2684,
    "start_time": "2022-10-17T12:24:33.723Z"
   },
   {
    "duration": 2142,
    "start_time": "2022-10-17T12:24:49.472Z"
   },
   {
    "duration": 3433,
    "start_time": "2022-10-17T12:32:40.117Z"
   },
   {
    "duration": 2208,
    "start_time": "2022-10-17T12:33:09.422Z"
   },
   {
    "duration": 1705,
    "start_time": "2022-10-17T12:33:30.516Z"
   },
   {
    "duration": 92,
    "start_time": "2022-10-17T12:39:04.544Z"
   },
   {
    "duration": 1693,
    "start_time": "2022-10-17T12:39:10.849Z"
   },
   {
    "duration": 1695,
    "start_time": "2022-10-17T12:41:10.857Z"
   },
   {
    "duration": 1562,
    "start_time": "2022-10-17T13:04:57.945Z"
   },
   {
    "duration": 1623,
    "start_time": "2022-10-17T13:07:58.838Z"
   },
   {
    "duration": 2228,
    "start_time": "2022-10-17T13:08:09.607Z"
   },
   {
    "duration": 1804,
    "start_time": "2022-10-17T13:08:25.556Z"
   },
   {
    "duration": 3099,
    "start_time": "2022-10-17T13:08:36.440Z"
   },
   {
    "duration": 1734,
    "start_time": "2022-10-17T13:08:39.542Z"
   },
   {
    "duration": 2774,
    "start_time": "2022-10-17T13:19:14.248Z"
   },
   {
    "duration": 1730,
    "start_time": "2022-10-17T13:19:17.023Z"
   },
   {
    "duration": 1472,
    "start_time": "2022-10-17T13:19:26.129Z"
   },
   {
    "duration": 2746,
    "start_time": "2022-10-17T13:19:37.427Z"
   },
   {
    "duration": 1523,
    "start_time": "2022-10-17T13:19:40.175Z"
   },
   {
    "duration": 1527,
    "start_time": "2022-10-17T13:24:46.242Z"
   },
   {
    "duration": 1467,
    "start_time": "2022-10-17T13:26:10.578Z"
   },
   {
    "duration": 2724,
    "start_time": "2022-10-17T13:26:18.185Z"
   },
   {
    "duration": 1477,
    "start_time": "2022-10-17T13:26:20.911Z"
   },
   {
    "duration": 3126,
    "start_time": "2022-10-17T15:20:36.038Z"
   },
   {
    "duration": 1458,
    "start_time": "2022-10-17T15:20:39.167Z"
   },
   {
    "duration": 171,
    "start_time": "2022-10-17T15:24:28.891Z"
   },
   {
    "duration": 1180,
    "start_time": "2022-10-17T15:25:34.999Z"
   },
   {
    "duration": 972,
    "start_time": "2022-10-17T15:28:16.167Z"
   },
   {
    "duration": 944,
    "start_time": "2022-10-17T15:32:04.332Z"
   },
   {
    "duration": 978,
    "start_time": "2022-10-17T15:33:06.352Z"
   },
   {
    "duration": 1182,
    "start_time": "2022-10-17T15:34:42.615Z"
   },
   {
    "duration": 1081,
    "start_time": "2022-10-17T15:36:04.241Z"
   },
   {
    "duration": 996,
    "start_time": "2022-10-17T15:38:56.130Z"
   },
   {
    "duration": 1017,
    "start_time": "2022-10-17T15:40:49.516Z"
   },
   {
    "duration": 1004,
    "start_time": "2022-10-17T15:40:52.649Z"
   },
   {
    "duration": 1056,
    "start_time": "2022-10-17T15:42:10.265Z"
   },
   {
    "duration": 111,
    "start_time": "2022-10-17T15:43:16.656Z"
   },
   {
    "duration": 1103,
    "start_time": "2022-10-17T15:48:01.621Z"
   },
   {
    "duration": 1093,
    "start_time": "2022-10-17T15:48:13.692Z"
   },
   {
    "duration": 1114,
    "start_time": "2022-10-17T15:48:31.117Z"
   },
   {
    "duration": 1120,
    "start_time": "2022-10-17T15:51:05.060Z"
   },
   {
    "duration": 1096,
    "start_time": "2022-10-17T15:51:20.042Z"
   },
   {
    "duration": 1186,
    "start_time": "2022-10-17T15:51:29.882Z"
   },
   {
    "duration": 1129,
    "start_time": "2022-10-17T15:51:40.091Z"
   },
   {
    "duration": 1134,
    "start_time": "2022-10-17T15:51:52.217Z"
   },
   {
    "duration": 8,
    "start_time": "2022-10-17T16:04:44.620Z"
   },
   {
    "duration": 934,
    "start_time": "2022-10-17T16:10:53.857Z"
   },
   {
    "duration": 965,
    "start_time": "2022-10-17T16:11:12.175Z"
   },
   {
    "duration": 56,
    "start_time": "2022-10-17T16:18:57.633Z"
   },
   {
    "duration": 1024,
    "start_time": "2022-10-17T16:21:38.155Z"
   },
   {
    "duration": 2205,
    "start_time": "2022-10-17T16:28:24.972Z"
   },
   {
    "duration": 2304,
    "start_time": "2022-10-17T16:28:27.469Z"
   },
   {
    "duration": 1024,
    "start_time": "2022-10-17T16:28:38.757Z"
   },
   {
    "duration": 1052,
    "start_time": "2022-10-17T16:31:12.248Z"
   },
   {
    "duration": 1039,
    "start_time": "2022-10-17T16:34:05.712Z"
   },
   {
    "duration": 1064,
    "start_time": "2022-10-17T16:36:36.600Z"
   },
   {
    "duration": 1005,
    "start_time": "2022-10-17T16:38:29.372Z"
   },
   {
    "duration": 1065,
    "start_time": "2022-10-17T16:42:55.429Z"
   },
   {
    "duration": 1034,
    "start_time": "2022-10-17T16:43:34.602Z"
   },
   {
    "duration": 74,
    "start_time": "2022-10-17T17:04:32.871Z"
   },
   {
    "duration": 117,
    "start_time": "2022-10-17T17:04:39.794Z"
   },
   {
    "duration": 972,
    "start_time": "2022-10-17T17:04:46.381Z"
   },
   {
    "duration": 1035,
    "start_time": "2022-10-17T17:05:55.978Z"
   },
   {
    "duration": 1844,
    "start_time": "2022-10-17T17:15:19.915Z"
   },
   {
    "duration": 2,
    "start_time": "2022-10-17T17:15:21.761Z"
   },
   {
    "duration": 10,
    "start_time": "2022-10-17T17:15:21.764Z"
   },
   {
    "duration": 9,
    "start_time": "2022-10-17T17:15:21.775Z"
   },
   {
    "duration": 56,
    "start_time": "2022-10-17T17:15:21.786Z"
   },
   {
    "duration": 19,
    "start_time": "2022-10-17T17:15:21.843Z"
   },
   {
    "duration": 6,
    "start_time": "2022-10-17T17:15:21.864Z"
   },
   {
    "duration": 1216,
    "start_time": "2022-10-17T17:15:21.871Z"
   },
   {
    "duration": 6,
    "start_time": "2022-10-17T17:15:47.385Z"
   },
   {
    "duration": 3,
    "start_time": "2022-10-17T17:17:12.126Z"
   },
   {
    "duration": 1832,
    "start_time": "2022-10-17T17:17:44.304Z"
   },
   {
    "duration": 30,
    "start_time": "2022-10-17T17:18:05.399Z"
   },
   {
    "duration": 4,
    "start_time": "2022-10-17T17:18:17.691Z"
   },
   {
    "duration": 49,
    "start_time": "2022-10-17T17:19:57.531Z"
   },
   {
    "duration": 9,
    "start_time": "2022-10-17T17:21:59.079Z"
   },
   {
    "duration": 4,
    "start_time": "2022-10-17T17:22:21.593Z"
   },
   {
    "duration": 4,
    "start_time": "2022-10-17T17:24:14.935Z"
   },
   {
    "duration": 5,
    "start_time": "2022-10-17T17:24:22.428Z"
   },
   {
    "duration": 13,
    "start_time": "2022-10-17T17:24:47.479Z"
   },
   {
    "duration": 1894,
    "start_time": "2022-10-17T17:25:48.204Z"
   },
   {
    "duration": 3,
    "start_time": "2022-10-17T17:25:50.104Z"
   },
   {
    "duration": 5,
    "start_time": "2022-10-17T17:25:50.109Z"
   },
   {
    "duration": 7,
    "start_time": "2022-10-17T17:25:50.116Z"
   },
   {
    "duration": 46,
    "start_time": "2022-10-17T17:25:50.125Z"
   },
   {
    "duration": 43,
    "start_time": "2022-10-17T17:25:50.172Z"
   },
   {
    "duration": 2,
    "start_time": "2022-10-17T17:25:50.217Z"
   },
   {
    "duration": 1110,
    "start_time": "2022-10-17T17:25:50.221Z"
   },
   {
    "duration": 4,
    "start_time": "2022-10-17T17:25:51.333Z"
   },
   {
    "duration": 7,
    "start_time": "2022-10-17T17:25:51.339Z"
   },
   {
    "duration": 5,
    "start_time": "2022-10-17T17:25:51.347Z"
   },
   {
    "duration": 29,
    "start_time": "2022-10-17T17:25:51.353Z"
   },
   {
    "duration": 5,
    "start_time": "2022-10-17T17:25:51.383Z"
   },
   {
    "duration": 16,
    "start_time": "2022-10-17T17:25:51.389Z"
   },
   {
    "duration": 9,
    "start_time": "2022-10-17T17:25:51.407Z"
   },
   {
    "duration": 4,
    "start_time": "2022-10-17T17:25:51.418Z"
   },
   {
    "duration": 7,
    "start_time": "2022-10-17T17:25:51.424Z"
   },
   {
    "duration": 5,
    "start_time": "2022-10-17T17:25:51.433Z"
   },
   {
    "duration": 8,
    "start_time": "2022-10-17T17:25:51.440Z"
   },
   {
    "duration": 17,
    "start_time": "2022-10-17T17:25:56.884Z"
   },
   {
    "duration": 29,
    "start_time": "2022-10-17T17:27:13.267Z"
   },
   {
    "duration": 11,
    "start_time": "2022-10-17T17:27:51.772Z"
   },
   {
    "duration": 12,
    "start_time": "2022-10-17T17:27:57.189Z"
   },
   {
    "duration": 238,
    "start_time": "2022-10-17T17:32:21.460Z"
   },
   {
    "duration": 234,
    "start_time": "2022-10-17T17:32:46.500Z"
   },
   {
    "duration": 327,
    "start_time": "2022-10-17T17:34:48.979Z"
   },
   {
    "duration": 312,
    "start_time": "2022-10-17T17:35:07.422Z"
   },
   {
    "duration": 283,
    "start_time": "2022-10-17T17:35:15.570Z"
   },
   {
    "duration": 247,
    "start_time": "2022-10-17T17:35:58.607Z"
   },
   {
    "duration": 24,
    "start_time": "2022-10-17T17:36:32.685Z"
   },
   {
    "duration": 46,
    "start_time": "2022-10-17T17:37:07.245Z"
   },
   {
    "duration": 261,
    "start_time": "2022-10-17T17:37:59.495Z"
   },
   {
    "duration": 272,
    "start_time": "2022-10-17T17:38:07.972Z"
   },
   {
    "duration": 994,
    "start_time": "2022-10-17T17:42:18.923Z"
   },
   {
    "duration": 1018,
    "start_time": "2022-10-17T17:42:21.673Z"
   },
   {
    "duration": 4,
    "start_time": "2022-10-17T17:42:39.406Z"
   },
   {
    "duration": 237,
    "start_time": "2022-10-17T17:48:25.741Z"
   },
   {
    "duration": 1190,
    "start_time": "2022-10-17T17:48:52.525Z"
   },
   {
    "duration": 110,
    "start_time": "2022-10-17T17:48:58.736Z"
   },
   {
    "duration": 118,
    "start_time": "2022-10-17T17:49:23.823Z"
   },
   {
    "duration": 1856,
    "start_time": "2022-10-17T17:49:45.863Z"
   },
   {
    "duration": 2,
    "start_time": "2022-10-17T17:49:47.721Z"
   },
   {
    "duration": 5,
    "start_time": "2022-10-17T17:49:47.725Z"
   },
   {
    "duration": 46,
    "start_time": "2022-10-17T17:49:47.732Z"
   },
   {
    "duration": 29,
    "start_time": "2022-10-17T17:49:47.780Z"
   },
   {
    "duration": 2,
    "start_time": "2022-10-17T17:49:47.811Z"
   },
   {
    "duration": 1275,
    "start_time": "2022-10-17T17:49:47.815Z"
   },
   {
    "duration": 5,
    "start_time": "2022-10-17T17:49:49.091Z"
   },
   {
    "duration": 10,
    "start_time": "2022-10-17T17:49:49.097Z"
   },
   {
    "duration": 3,
    "start_time": "2022-10-17T17:49:49.109Z"
   },
   {
    "duration": 27,
    "start_time": "2022-10-17T17:49:49.114Z"
   },
   {
    "duration": 4,
    "start_time": "2022-10-17T17:49:49.142Z"
   },
   {
    "duration": 6,
    "start_time": "2022-10-17T17:49:49.147Z"
   },
   {
    "duration": 9,
    "start_time": "2022-10-17T17:49:49.154Z"
   },
   {
    "duration": 6,
    "start_time": "2022-10-17T17:49:49.164Z"
   },
   {
    "duration": 5,
    "start_time": "2022-10-17T17:49:49.171Z"
   },
   {
    "duration": 29,
    "start_time": "2022-10-17T17:49:49.177Z"
   },
   {
    "duration": 2,
    "start_time": "2022-10-17T17:49:49.208Z"
   },
   {
    "duration": 964,
    "start_time": "2022-10-17T17:49:49.211Z"
   },
   {
    "duration": 4,
    "start_time": "2022-10-17T17:49:50.177Z"
   },
   {
    "duration": 23,
    "start_time": "2022-10-17T17:49:50.182Z"
   },
   {
    "duration": 15,
    "start_time": "2022-10-17T17:49:50.206Z"
   },
   {
    "duration": 119,
    "start_time": "2022-10-17T17:49:59.001Z"
   },
   {
    "duration": 259,
    "start_time": "2022-10-17T17:52:35.283Z"
   },
   {
    "duration": 288,
    "start_time": "2022-10-17T17:52:47.191Z"
   },
   {
    "duration": 8,
    "start_time": "2022-10-17T17:53:53.062Z"
   },
   {
    "duration": 3,
    "start_time": "2022-10-17T17:54:00.784Z"
   },
   {
    "duration": 10,
    "start_time": "2022-10-17T17:54:05.816Z"
   },
   {
    "duration": 111,
    "start_time": "2022-10-17T17:54:33.719Z"
   },
   {
    "duration": 199,
    "start_time": "2022-10-17T17:54:46.310Z"
   },
   {
    "duration": 5,
    "start_time": "2022-10-17T17:58:08.374Z"
   },
   {
    "duration": 5,
    "start_time": "2022-10-17T17:58:11.060Z"
   },
   {
    "duration": 244,
    "start_time": "2022-10-17T17:58:21.356Z"
   },
   {
    "duration": 255,
    "start_time": "2022-10-17T17:58:27.166Z"
   },
   {
    "duration": 1936,
    "start_time": "2022-10-17T17:58:29.494Z"
   },
   {
    "duration": 3,
    "start_time": "2022-10-17T17:58:31.431Z"
   },
   {
    "duration": 11,
    "start_time": "2022-10-17T17:58:31.435Z"
   },
   {
    "duration": 65,
    "start_time": "2022-10-17T17:58:31.448Z"
   },
   {
    "duration": 11,
    "start_time": "2022-10-17T17:58:31.514Z"
   },
   {
    "duration": 4,
    "start_time": "2022-10-17T17:58:31.527Z"
   },
   {
    "duration": 8,
    "start_time": "2022-10-17T17:58:31.532Z"
   },
   {
    "duration": 10,
    "start_time": "2022-10-17T17:58:31.542Z"
   },
   {
    "duration": 9,
    "start_time": "2022-10-17T17:58:31.553Z"
   },
   {
    "duration": 14,
    "start_time": "2022-10-17T17:58:31.564Z"
   },
   {
    "duration": 37,
    "start_time": "2022-10-17T17:58:31.580Z"
   },
   {
    "duration": 4,
    "start_time": "2022-10-17T17:58:31.618Z"
   },
   {
    "duration": 5,
    "start_time": "2022-10-17T17:58:31.624Z"
   },
   {
    "duration": 13,
    "start_time": "2022-10-17T17:58:31.630Z"
   },
   {
    "duration": 8,
    "start_time": "2022-10-17T17:58:31.644Z"
   },
   {
    "duration": 17,
    "start_time": "2022-10-17T17:58:31.653Z"
   },
   {
    "duration": 11,
    "start_time": "2022-10-17T17:58:31.672Z"
   },
   {
    "duration": 8,
    "start_time": "2022-10-17T17:58:31.684Z"
   },
   {
    "duration": 1145,
    "start_time": "2022-10-17T17:58:31.693Z"
   },
   {
    "duration": 5,
    "start_time": "2022-10-17T17:58:32.839Z"
   },
   {
    "duration": 6,
    "start_time": "2022-10-17T17:58:32.845Z"
   },
   {
    "duration": 14,
    "start_time": "2022-10-17T17:58:32.853Z"
   },
   {
    "duration": 9,
    "start_time": "2022-10-17T17:58:32.868Z"
   },
   {
    "duration": 278,
    "start_time": "2022-10-17T17:58:32.878Z"
   },
   {
    "duration": 1101,
    "start_time": "2022-10-17T18:00:32.648Z"
   },
   {
    "duration": 5,
    "start_time": "2022-10-17T18:00:37.108Z"
   },
   {
    "duration": 245,
    "start_time": "2022-10-17T18:00:44.605Z"
   },
   {
    "duration": 1902,
    "start_time": "2022-10-17T18:00:48.707Z"
   },
   {
    "duration": 3,
    "start_time": "2022-10-17T18:00:50.611Z"
   },
   {
    "duration": 7,
    "start_time": "2022-10-17T18:00:50.616Z"
   },
   {
    "duration": 48,
    "start_time": "2022-10-17T18:00:50.625Z"
   },
   {
    "duration": 35,
    "start_time": "2022-10-17T18:00:50.675Z"
   },
   {
    "duration": 3,
    "start_time": "2022-10-17T18:00:50.712Z"
   },
   {
    "duration": 6,
    "start_time": "2022-10-17T18:00:50.716Z"
   },
   {
    "duration": 1083,
    "start_time": "2022-10-17T18:00:50.724Z"
   },
   {
    "duration": 5,
    "start_time": "2022-10-17T18:00:51.808Z"
   },
   {
    "duration": 4,
    "start_time": "2022-10-17T18:00:51.816Z"
   },
   {
    "duration": 30,
    "start_time": "2022-10-17T18:00:51.821Z"
   },
   {
    "duration": 5,
    "start_time": "2022-10-17T18:00:51.853Z"
   },
   {
    "duration": 4,
    "start_time": "2022-10-17T18:00:51.860Z"
   },
   {
    "duration": 15,
    "start_time": "2022-10-17T18:00:51.866Z"
   },
   {
    "duration": 5,
    "start_time": "2022-10-17T18:00:51.906Z"
   },
   {
    "duration": 6,
    "start_time": "2022-10-17T18:00:51.912Z"
   },
   {
    "duration": 10,
    "start_time": "2022-10-17T18:00:51.919Z"
   },
   {
    "duration": 4,
    "start_time": "2022-10-17T18:00:51.930Z"
   },
   {
    "duration": 1108,
    "start_time": "2022-10-17T18:00:51.936Z"
   },
   {
    "duration": 4,
    "start_time": "2022-10-17T18:00:53.045Z"
   },
   {
    "duration": 6,
    "start_time": "2022-10-17T18:00:53.051Z"
   },
   {
    "duration": 20,
    "start_time": "2022-10-17T18:00:53.058Z"
   },
   {
    "duration": 9,
    "start_time": "2022-10-17T18:00:53.079Z"
   },
   {
    "duration": 265,
    "start_time": "2022-10-17T18:00:53.089Z"
   },
   {
    "duration": 266,
    "start_time": "2022-10-17T18:01:06.810Z"
   },
   {
    "duration": 2643,
    "start_time": "2022-10-17T18:01:15.950Z"
   },
   {
    "duration": 3,
    "start_time": "2022-10-17T18:01:18.595Z"
   },
   {
    "duration": 9,
    "start_time": "2022-10-17T18:01:18.600Z"
   },
   {
    "duration": 54,
    "start_time": "2022-10-17T18:01:18.611Z"
   },
   {
    "duration": 12,
    "start_time": "2022-10-17T18:01:18.667Z"
   },
   {
    "duration": 3,
    "start_time": "2022-10-17T18:01:18.680Z"
   },
   {
    "duration": 21,
    "start_time": "2022-10-17T18:01:18.685Z"
   },
   {
    "duration": 1122,
    "start_time": "2022-10-17T18:01:18.707Z"
   },
   {
    "duration": 5,
    "start_time": "2022-10-17T18:01:19.831Z"
   },
   {
    "duration": 4,
    "start_time": "2022-10-17T18:01:19.839Z"
   },
   {
    "duration": 39,
    "start_time": "2022-10-17T18:01:19.845Z"
   },
   {
    "duration": 5,
    "start_time": "2022-10-17T18:01:19.885Z"
   },
   {
    "duration": 14,
    "start_time": "2022-10-17T18:01:19.892Z"
   },
   {
    "duration": 15,
    "start_time": "2022-10-17T18:01:19.908Z"
   },
   {
    "duration": 5,
    "start_time": "2022-10-17T18:01:19.925Z"
   },
   {
    "duration": 7,
    "start_time": "2022-10-17T18:01:19.932Z"
   },
   {
    "duration": 7,
    "start_time": "2022-10-17T18:01:19.941Z"
   },
   {
    "duration": 4,
    "start_time": "2022-10-17T18:01:19.950Z"
   },
   {
    "duration": 1020,
    "start_time": "2022-10-17T18:01:19.955Z"
   },
   {
    "duration": 4,
    "start_time": "2022-10-17T18:01:20.977Z"
   },
   {
    "duration": 7,
    "start_time": "2022-10-17T18:01:20.983Z"
   },
   {
    "duration": 20,
    "start_time": "2022-10-17T18:01:20.992Z"
   },
   {
    "duration": 8,
    "start_time": "2022-10-17T18:01:21.014Z"
   },
   {
    "duration": 286,
    "start_time": "2022-10-17T18:01:21.023Z"
   },
   {
    "duration": 131,
    "start_time": "2022-10-17T18:01:21.310Z"
   },
   {
    "duration": 164,
    "start_time": "2022-10-17T18:01:21.443Z"
   },
   {
    "duration": 288,
    "start_time": "2022-10-17T18:02:22.645Z"
   },
   {
    "duration": 5,
    "start_time": "2022-10-17T18:03:19.605Z"
   },
   {
    "duration": 1833,
    "start_time": "2022-10-17T18:03:33.399Z"
   },
   {
    "duration": 2,
    "start_time": "2022-10-17T18:03:35.234Z"
   },
   {
    "duration": 8,
    "start_time": "2022-10-17T18:03:35.237Z"
   },
   {
    "duration": 60,
    "start_time": "2022-10-17T18:03:35.247Z"
   },
   {
    "duration": 10,
    "start_time": "2022-10-17T18:03:35.309Z"
   },
   {
    "duration": 2,
    "start_time": "2022-10-17T18:03:35.320Z"
   },
   {
    "duration": 7,
    "start_time": "2022-10-17T18:03:35.323Z"
   },
   {
    "duration": 5,
    "start_time": "2022-10-17T18:03:35.331Z"
   },
   {
    "duration": 5,
    "start_time": "2022-10-17T18:03:35.337Z"
   },
   {
    "duration": 5,
    "start_time": "2022-10-17T18:03:35.343Z"
   },
   {
    "duration": 27,
    "start_time": "2022-10-17T18:03:35.349Z"
   },
   {
    "duration": 4,
    "start_time": "2022-10-17T18:03:35.377Z"
   },
   {
    "duration": 2,
    "start_time": "2022-10-17T18:03:35.404Z"
   },
   {
    "duration": 10,
    "start_time": "2022-10-17T18:03:35.408Z"
   },
   {
    "duration": 4,
    "start_time": "2022-10-17T18:03:35.419Z"
   },
   {
    "duration": 5,
    "start_time": "2022-10-17T18:03:35.424Z"
   },
   {
    "duration": 10,
    "start_time": "2022-10-17T18:03:35.430Z"
   },
   {
    "duration": 15,
    "start_time": "2022-10-17T18:03:35.442Z"
   },
   {
    "duration": 1105,
    "start_time": "2022-10-17T18:03:35.458Z"
   },
   {
    "duration": 4,
    "start_time": "2022-10-17T18:03:36.565Z"
   },
   {
    "duration": 6,
    "start_time": "2022-10-17T18:03:36.570Z"
   },
   {
    "duration": 17,
    "start_time": "2022-10-17T18:03:36.577Z"
   },
   {
    "duration": 15,
    "start_time": "2022-10-17T18:03:36.595Z"
   },
   {
    "duration": 1056,
    "start_time": "2022-10-17T18:04:28.923Z"
   },
   {
    "duration": 1061,
    "start_time": "2022-10-17T18:04:31.025Z"
   },
   {
    "duration": 5,
    "start_time": "2022-10-17T18:04:33.203Z"
   },
   {
    "duration": 2366,
    "start_time": "2022-10-17T18:04:44.148Z"
   },
   {
    "duration": 4,
    "start_time": "2022-10-17T18:04:46.515Z"
   },
   {
    "duration": 27,
    "start_time": "2022-10-17T18:04:46.520Z"
   },
   {
    "duration": 55,
    "start_time": "2022-10-17T18:04:46.549Z"
   },
   {
    "duration": 11,
    "start_time": "2022-10-17T18:04:46.605Z"
   },
   {
    "duration": 5,
    "start_time": "2022-10-17T18:04:46.617Z"
   },
   {
    "duration": 8,
    "start_time": "2022-10-17T18:04:46.623Z"
   },
   {
    "duration": 1136,
    "start_time": "2022-10-17T18:04:46.632Z"
   },
   {
    "duration": 5,
    "start_time": "2022-10-17T18:04:47.769Z"
   },
   {
    "duration": 5,
    "start_time": "2022-10-17T18:04:47.776Z"
   },
   {
    "duration": 35,
    "start_time": "2022-10-17T18:04:47.783Z"
   },
   {
    "duration": 4,
    "start_time": "2022-10-17T18:04:47.820Z"
   },
   {
    "duration": 5,
    "start_time": "2022-10-17T18:04:47.826Z"
   },
   {
    "duration": 16,
    "start_time": "2022-10-17T18:04:47.833Z"
   },
   {
    "duration": 4,
    "start_time": "2022-10-17T18:04:47.851Z"
   },
   {
    "duration": 10,
    "start_time": "2022-10-17T18:04:47.857Z"
   },
   {
    "duration": 7,
    "start_time": "2022-10-17T18:04:47.868Z"
   },
   {
    "duration": 4,
    "start_time": "2022-10-17T18:04:47.876Z"
   },
   {
    "duration": 1034,
    "start_time": "2022-10-17T18:04:47.882Z"
   },
   {
    "duration": 4,
    "start_time": "2022-10-17T18:04:48.918Z"
   },
   {
    "duration": 23,
    "start_time": "2022-10-17T18:04:48.923Z"
   },
   {
    "duration": 29,
    "start_time": "2022-10-17T18:04:48.947Z"
   },
   {
    "duration": 8,
    "start_time": "2022-10-17T18:04:48.978Z"
   },
   {
    "duration": 277,
    "start_time": "2022-10-17T18:04:48.988Z"
   },
   {
    "duration": 115,
    "start_time": "2022-10-17T18:04:49.266Z"
   },
   {
    "duration": 139,
    "start_time": "2022-10-17T18:04:49.383Z"
   },
   {
    "duration": 9,
    "start_time": "2022-10-17T18:06:37.139Z"
   },
   {
    "duration": 106,
    "start_time": "2022-10-17T18:06:50.983Z"
   },
   {
    "duration": 103,
    "start_time": "2022-10-17T18:07:31.918Z"
   },
   {
    "duration": 107,
    "start_time": "2022-10-17T18:08:16.046Z"
   },
   {
    "duration": 185,
    "start_time": "2022-10-17T18:09:13.727Z"
   },
   {
    "duration": 111,
    "start_time": "2022-10-17T18:09:34.035Z"
   },
   {
    "duration": 159,
    "start_time": "2022-10-17T18:10:17.702Z"
   },
   {
    "duration": 11,
    "start_time": "2022-10-17T18:11:17.633Z"
   },
   {
    "duration": 109,
    "start_time": "2022-10-17T18:11:41.434Z"
   },
   {
    "duration": 105,
    "start_time": "2022-10-17T18:11:49.582Z"
   },
   {
    "duration": 106,
    "start_time": "2022-10-17T18:12:20.641Z"
   },
   {
    "duration": 107,
    "start_time": "2022-10-17T18:12:29.863Z"
   },
   {
    "duration": 9,
    "start_time": "2022-10-17T18:15:53.101Z"
   },
   {
    "duration": 113,
    "start_time": "2022-10-17T18:16:07.158Z"
   },
   {
    "duration": 124,
    "start_time": "2022-10-17T18:17:01.292Z"
   },
   {
    "duration": 277,
    "start_time": "2022-10-17T18:34:25.912Z"
   },
   {
    "duration": 254,
    "start_time": "2022-10-17T18:36:25.885Z"
   },
   {
    "duration": 204,
    "start_time": "2022-10-17T18:39:32.407Z"
   },
   {
    "duration": 323,
    "start_time": "2022-10-17T18:40:01.573Z"
   },
   {
    "duration": 267,
    "start_time": "2022-10-17T18:40:25.745Z"
   },
   {
    "duration": 148,
    "start_time": "2022-10-17T18:40:52.056Z"
   },
   {
    "duration": 251,
    "start_time": "2022-10-17T18:41:05.868Z"
   },
   {
    "duration": 241,
    "start_time": "2022-10-17T18:41:14.477Z"
   },
   {
    "duration": 270,
    "start_time": "2022-10-17T18:41:29.177Z"
   },
   {
    "duration": 279,
    "start_time": "2022-10-17T18:42:08.862Z"
   },
   {
    "duration": 292,
    "start_time": "2022-10-17T18:42:28.556Z"
   },
   {
    "duration": 263,
    "start_time": "2022-10-17T18:42:50.296Z"
   },
   {
    "duration": 274,
    "start_time": "2022-10-17T18:42:58.054Z"
   },
   {
    "duration": 253,
    "start_time": "2022-10-17T18:43:10.310Z"
   },
   {
    "duration": 104,
    "start_time": "2022-10-17T18:44:02.390Z"
   },
   {
    "duration": 180,
    "start_time": "2022-10-17T18:44:29.795Z"
   },
   {
    "duration": 154,
    "start_time": "2022-10-17T18:44:46.978Z"
   },
   {
    "duration": 141,
    "start_time": "2022-10-17T18:45:14.531Z"
   },
   {
    "duration": 113,
    "start_time": "2022-10-17T18:46:38.431Z"
   },
   {
    "duration": 94,
    "start_time": "2022-10-17T18:47:18.645Z"
   },
   {
    "duration": 114,
    "start_time": "2022-10-17T18:47:28.602Z"
   },
   {
    "duration": 107,
    "start_time": "2022-10-17T18:47:32.861Z"
   },
   {
    "duration": 139,
    "start_time": "2022-10-17T18:48:41.514Z"
   },
   {
    "duration": 127,
    "start_time": "2022-10-17T18:59:33.531Z"
   },
   {
    "duration": 9,
    "start_time": "2022-10-17T19:01:22.074Z"
   },
   {
    "duration": 117,
    "start_time": "2022-10-17T19:03:44.972Z"
   },
   {
    "duration": 142,
    "start_time": "2022-10-17T19:03:56.045Z"
   },
   {
    "duration": 8,
    "start_time": "2022-10-17T19:04:00.804Z"
   },
   {
    "duration": 191,
    "start_time": "2022-10-17T19:04:38.494Z"
   },
   {
    "duration": 99,
    "start_time": "2022-10-17T19:08:04.924Z"
   },
   {
    "duration": 102,
    "start_time": "2022-10-17T19:08:21.009Z"
   },
   {
    "duration": 8,
    "start_time": "2022-10-17T19:09:03.899Z"
   },
   {
    "duration": 109,
    "start_time": "2022-10-17T19:09:24.163Z"
   },
   {
    "duration": 5,
    "start_time": "2022-10-17T19:10:14.514Z"
   },
   {
    "duration": 1221,
    "start_time": "2022-10-17T19:10:58.708Z"
   },
   {
    "duration": 8,
    "start_time": "2022-10-17T19:11:07.672Z"
   },
   {
    "duration": 99,
    "start_time": "2022-10-17T19:11:40.131Z"
   },
   {
    "duration": 117,
    "start_time": "2022-10-17T19:11:51.080Z"
   },
   {
    "duration": 106,
    "start_time": "2022-10-17T19:12:13.179Z"
   },
   {
    "duration": 94,
    "start_time": "2022-10-17T19:12:20.485Z"
   },
   {
    "duration": 8,
    "start_time": "2022-10-17T19:12:52.912Z"
   },
   {
    "duration": 8,
    "start_time": "2022-10-17T19:13:22.873Z"
   },
   {
    "duration": 104,
    "start_time": "2022-10-17T19:13:40.872Z"
   },
   {
    "duration": 134,
    "start_time": "2022-10-17T19:13:59.872Z"
   },
   {
    "duration": 146,
    "start_time": "2022-10-17T19:14:09.595Z"
   },
   {
    "duration": 197,
    "start_time": "2022-10-17T19:14:19.340Z"
   },
   {
    "duration": 146,
    "start_time": "2022-10-17T19:14:51.572Z"
   },
   {
    "duration": 138,
    "start_time": "2022-10-17T19:14:58.614Z"
   },
   {
    "duration": 138,
    "start_time": "2022-10-17T19:15:24.514Z"
   },
   {
    "duration": 137,
    "start_time": "2022-10-17T19:15:59.547Z"
   },
   {
    "duration": 5,
    "start_time": "2022-10-17T19:16:14.787Z"
   },
   {
    "duration": 2431,
    "start_time": "2022-10-17T19:16:23.807Z"
   },
   {
    "duration": 3,
    "start_time": "2022-10-17T19:16:26.240Z"
   },
   {
    "duration": 11,
    "start_time": "2022-10-17T19:16:26.244Z"
   },
   {
    "duration": 53,
    "start_time": "2022-10-17T19:16:26.257Z"
   },
   {
    "duration": 10,
    "start_time": "2022-10-17T19:16:26.312Z"
   },
   {
    "duration": 2,
    "start_time": "2022-10-17T19:16:26.323Z"
   },
   {
    "duration": 6,
    "start_time": "2022-10-17T19:16:26.327Z"
   },
   {
    "duration": 1108,
    "start_time": "2022-10-17T19:16:26.335Z"
   },
   {
    "duration": 5,
    "start_time": "2022-10-17T19:16:27.445Z"
   },
   {
    "duration": 11,
    "start_time": "2022-10-17T19:16:27.453Z"
   },
   {
    "duration": 41,
    "start_time": "2022-10-17T19:16:27.466Z"
   },
   {
    "duration": 4,
    "start_time": "2022-10-17T19:16:27.509Z"
   },
   {
    "duration": 7,
    "start_time": "2022-10-17T19:16:27.515Z"
   },
   {
    "duration": 16,
    "start_time": "2022-10-17T19:16:27.524Z"
   },
   {
    "duration": 12,
    "start_time": "2022-10-17T19:16:27.541Z"
   },
   {
    "duration": 5,
    "start_time": "2022-10-17T19:16:27.554Z"
   },
   {
    "duration": 6,
    "start_time": "2022-10-17T19:16:27.560Z"
   },
   {
    "duration": 4,
    "start_time": "2022-10-17T19:16:27.567Z"
   },
   {
    "duration": 1009,
    "start_time": "2022-10-17T19:16:27.572Z"
   },
   {
    "duration": 4,
    "start_time": "2022-10-17T19:16:28.582Z"
   },
   {
    "duration": 7,
    "start_time": "2022-10-17T19:16:28.587Z"
   },
   {
    "duration": 20,
    "start_time": "2022-10-17T19:16:28.595Z"
   },
   {
    "duration": 8,
    "start_time": "2022-10-17T19:16:28.616Z"
   },
   {
    "duration": 256,
    "start_time": "2022-10-17T19:16:28.626Z"
   },
   {
    "duration": 5,
    "start_time": "2022-10-17T19:16:28.884Z"
   },
   {
    "duration": 115,
    "start_time": "2022-10-17T19:16:28.890Z"
   },
   {
    "duration": 6,
    "start_time": "2022-10-17T19:16:29.006Z"
   },
   {
    "duration": 122,
    "start_time": "2022-10-17T19:16:29.014Z"
   },
   {
    "duration": 5,
    "start_time": "2022-10-17T19:16:29.138Z"
   },
   {
    "duration": 130,
    "start_time": "2022-10-17T19:16:29.144Z"
   },
   {
    "duration": 114,
    "start_time": "2022-10-17T19:16:29.275Z"
   },
   {
    "duration": 157,
    "start_time": "2022-10-17T19:16:29.390Z"
   },
   {
    "duration": 0,
    "start_time": "2022-10-17T19:16:29.548Z"
   },
   {
    "duration": 0,
    "start_time": "2022-10-17T19:16:29.549Z"
   },
   {
    "duration": 0,
    "start_time": "2022-10-17T19:16:29.550Z"
   },
   {
    "duration": 0,
    "start_time": "2022-10-17T19:16:29.551Z"
   },
   {
    "duration": 0,
    "start_time": "2022-10-17T19:16:29.552Z"
   },
   {
    "duration": 0,
    "start_time": "2022-10-17T19:16:29.553Z"
   },
   {
    "duration": 0,
    "start_time": "2022-10-17T19:16:29.554Z"
   },
   {
    "duration": 0,
    "start_time": "2022-10-17T19:16:29.555Z"
   },
   {
    "duration": 0,
    "start_time": "2022-10-17T19:16:29.556Z"
   },
   {
    "duration": 0,
    "start_time": "2022-10-17T19:16:29.557Z"
   },
   {
    "duration": 43,
    "start_time": "2022-10-17T19:17:01.653Z"
   },
   {
    "duration": 1917,
    "start_time": "2022-10-17T19:17:24.347Z"
   },
   {
    "duration": 3,
    "start_time": "2022-10-17T19:17:26.266Z"
   },
   {
    "duration": 32,
    "start_time": "2022-10-17T19:17:26.270Z"
   },
   {
    "duration": 98,
    "start_time": "2022-10-17T19:17:26.304Z"
   },
   {
    "duration": 10,
    "start_time": "2022-10-17T19:17:26.403Z"
   },
   {
    "duration": 20,
    "start_time": "2022-10-17T19:17:26.414Z"
   },
   {
    "duration": 38,
    "start_time": "2022-10-17T19:17:26.435Z"
   },
   {
    "duration": 1103,
    "start_time": "2022-10-17T19:17:26.475Z"
   },
   {
    "duration": 6,
    "start_time": "2022-10-17T19:17:27.580Z"
   },
   {
    "duration": 23,
    "start_time": "2022-10-17T19:17:27.588Z"
   },
   {
    "duration": 57,
    "start_time": "2022-10-17T19:17:27.612Z"
   },
   {
    "duration": 6,
    "start_time": "2022-10-17T19:17:27.671Z"
   },
   {
    "duration": 19,
    "start_time": "2022-10-17T19:17:27.678Z"
   },
   {
    "duration": 37,
    "start_time": "2022-10-17T19:17:27.698Z"
   },
   {
    "duration": 25,
    "start_time": "2022-10-17T19:17:27.737Z"
   },
   {
    "duration": 24,
    "start_time": "2022-10-17T19:17:27.763Z"
   },
   {
    "duration": 42,
    "start_time": "2022-10-17T19:17:27.789Z"
   },
   {
    "duration": 24,
    "start_time": "2022-10-17T19:17:27.833Z"
   },
   {
    "duration": 1034,
    "start_time": "2022-10-17T19:17:27.859Z"
   },
   {
    "duration": 4,
    "start_time": "2022-10-17T19:17:28.895Z"
   },
   {
    "duration": 9,
    "start_time": "2022-10-17T19:17:28.905Z"
   },
   {
    "duration": 46,
    "start_time": "2022-10-17T19:17:28.915Z"
   },
   {
    "duration": 11,
    "start_time": "2022-10-17T19:17:28.962Z"
   },
   {
    "duration": 288,
    "start_time": "2022-10-17T19:17:28.975Z"
   },
   {
    "duration": 5,
    "start_time": "2022-10-17T19:17:29.264Z"
   },
   {
    "duration": 122,
    "start_time": "2022-10-17T19:17:29.271Z"
   },
   {
    "duration": 14,
    "start_time": "2022-10-17T19:17:29.394Z"
   },
   {
    "duration": 118,
    "start_time": "2022-10-17T19:17:29.411Z"
   },
   {
    "duration": 5,
    "start_time": "2022-10-17T19:17:29.530Z"
   },
   {
    "duration": 217,
    "start_time": "2022-10-17T19:17:29.536Z"
   },
   {
    "duration": 119,
    "start_time": "2022-10-17T19:17:29.754Z"
   },
   {
    "duration": 6,
    "start_time": "2022-10-17T19:17:29.875Z"
   },
   {
    "duration": 124,
    "start_time": "2022-10-17T19:17:29.882Z"
   },
   {
    "duration": 6,
    "start_time": "2022-10-17T19:17:30.008Z"
   },
   {
    "duration": 147,
    "start_time": "2022-10-17T19:17:30.015Z"
   },
   {
    "duration": 113,
    "start_time": "2022-10-17T19:17:30.164Z"
   },
   {
    "duration": 5,
    "start_time": "2022-10-17T19:17:30.279Z"
   },
   {
    "duration": 36,
    "start_time": "2022-10-17T19:17:30.285Z"
   },
   {
    "duration": 14,
    "start_time": "2022-10-17T19:17:30.323Z"
   },
   {
    "duration": 189,
    "start_time": "2022-10-17T19:17:30.338Z"
   },
   {
    "duration": 5,
    "start_time": "2022-10-17T19:17:44.246Z"
   },
   {
    "duration": 6,
    "start_time": "2022-10-17T19:18:30.580Z"
   },
   {
    "duration": 3,
    "start_time": "2022-10-17T19:18:32.479Z"
   },
   {
    "duration": 65,
    "start_time": "2022-10-17T19:19:03.240Z"
   },
   {
    "duration": 3,
    "start_time": "2022-10-17T19:19:18.309Z"
   },
   {
    "duration": 7,
    "start_time": "2022-10-17T19:19:26.511Z"
   },
   {
    "duration": 7,
    "start_time": "2022-10-17T19:19:36.414Z"
   },
   {
    "duration": 4,
    "start_time": "2022-10-17T19:19:49.412Z"
   },
   {
    "duration": 2606,
    "start_time": "2022-10-17T19:20:00.251Z"
   },
   {
    "duration": 5,
    "start_time": "2022-10-17T19:20:02.860Z"
   },
   {
    "duration": 14,
    "start_time": "2022-10-17T19:20:02.869Z"
   },
   {
    "duration": 48,
    "start_time": "2022-10-17T19:20:02.885Z"
   },
   {
    "duration": 11,
    "start_time": "2022-10-17T19:20:02.934Z"
   },
   {
    "duration": 5,
    "start_time": "2022-10-17T19:20:02.947Z"
   },
   {
    "duration": 10,
    "start_time": "2022-10-17T19:20:02.953Z"
   },
   {
    "duration": 1100,
    "start_time": "2022-10-17T19:20:02.964Z"
   },
   {
    "duration": 4,
    "start_time": "2022-10-17T19:20:04.068Z"
   },
   {
    "duration": 6,
    "start_time": "2022-10-17T19:20:04.074Z"
   },
   {
    "duration": 35,
    "start_time": "2022-10-17T19:20:04.081Z"
   },
   {
    "duration": 4,
    "start_time": "2022-10-17T19:20:04.117Z"
   },
   {
    "duration": 6,
    "start_time": "2022-10-17T19:20:04.122Z"
   },
   {
    "duration": 12,
    "start_time": "2022-10-17T19:20:04.129Z"
   },
   {
    "duration": 4,
    "start_time": "2022-10-17T19:20:04.142Z"
   },
   {
    "duration": 7,
    "start_time": "2022-10-17T19:20:04.147Z"
   },
   {
    "duration": 8,
    "start_time": "2022-10-17T19:20:04.155Z"
   },
   {
    "duration": 5,
    "start_time": "2022-10-17T19:20:04.165Z"
   },
   {
    "duration": 986,
    "start_time": "2022-10-17T19:20:04.171Z"
   },
   {
    "duration": 4,
    "start_time": "2022-10-17T19:20:05.159Z"
   },
   {
    "duration": 6,
    "start_time": "2022-10-17T19:20:05.165Z"
   },
   {
    "duration": 33,
    "start_time": "2022-10-17T19:20:05.172Z"
   },
   {
    "duration": 9,
    "start_time": "2022-10-17T19:20:05.206Z"
   },
   {
    "duration": 264,
    "start_time": "2022-10-17T19:20:05.217Z"
   },
   {
    "duration": 6,
    "start_time": "2022-10-17T19:20:05.482Z"
   },
   {
    "duration": 117,
    "start_time": "2022-10-17T19:20:05.489Z"
   },
   {
    "duration": 6,
    "start_time": "2022-10-17T19:20:05.610Z"
   },
   {
    "duration": 128,
    "start_time": "2022-10-17T19:20:05.617Z"
   },
   {
    "duration": 6,
    "start_time": "2022-10-17T19:20:05.747Z"
   },
   {
    "duration": 145,
    "start_time": "2022-10-17T19:20:05.754Z"
   },
   {
    "duration": 114,
    "start_time": "2022-10-17T19:20:05.906Z"
   },
   {
    "duration": 7,
    "start_time": "2022-10-17T19:20:06.021Z"
   },
   {
    "duration": 129,
    "start_time": "2022-10-17T19:20:06.029Z"
   },
   {
    "duration": 6,
    "start_time": "2022-10-17T19:20:06.159Z"
   },
   {
    "duration": 212,
    "start_time": "2022-10-17T19:20:06.167Z"
   },
   {
    "duration": 105,
    "start_time": "2022-10-17T19:20:06.380Z"
   },
   {
    "duration": 19,
    "start_time": "2022-10-17T19:20:06.486Z"
   },
   {
    "duration": 12,
    "start_time": "2022-10-17T19:20:06.506Z"
   },
   {
    "duration": 28,
    "start_time": "2022-10-17T19:20:06.519Z"
   },
   {
    "duration": 127,
    "start_time": "2022-10-17T19:20:06.549Z"
   },
   {
    "duration": 6,
    "start_time": "2022-10-17T19:20:06.678Z"
   },
   {
    "duration": 79,
    "start_time": "2022-10-17T19:20:06.686Z"
   },
   {
    "duration": 3,
    "start_time": "2022-10-17T19:20:31.514Z"
   },
   {
    "duration": 7,
    "start_time": "2022-10-17T19:20:39.247Z"
   },
   {
    "duration": 3,
    "start_time": "2022-10-17T19:20:58.702Z"
   },
   {
    "duration": 3,
    "start_time": "2022-10-17T19:23:23.046Z"
   },
   {
    "duration": 3,
    "start_time": "2022-10-17T19:23:29.951Z"
   },
   {
    "duration": 2881,
    "start_time": "2022-10-17T19:23:45.711Z"
   },
   {
    "duration": 2,
    "start_time": "2022-10-17T19:23:48.594Z"
   },
   {
    "duration": 11,
    "start_time": "2022-10-17T19:23:48.598Z"
   },
   {
    "duration": 67,
    "start_time": "2022-10-17T19:23:48.612Z"
   },
   {
    "duration": 25,
    "start_time": "2022-10-17T19:23:48.680Z"
   },
   {
    "duration": 2,
    "start_time": "2022-10-17T19:23:48.707Z"
   },
   {
    "duration": 7,
    "start_time": "2022-10-17T19:23:48.710Z"
   },
   {
    "duration": 1258,
    "start_time": "2022-10-17T19:23:48.718Z"
   },
   {
    "duration": 5,
    "start_time": "2022-10-17T19:23:49.978Z"
   },
   {
    "duration": 5,
    "start_time": "2022-10-17T19:23:49.985Z"
   },
   {
    "duration": 41,
    "start_time": "2022-10-17T19:23:49.991Z"
   },
   {
    "duration": 4,
    "start_time": "2022-10-17T19:23:50.034Z"
   },
   {
    "duration": 7,
    "start_time": "2022-10-17T19:23:50.039Z"
   },
   {
    "duration": 13,
    "start_time": "2022-10-17T19:23:50.047Z"
   },
   {
    "duration": 4,
    "start_time": "2022-10-17T19:23:50.061Z"
   },
   {
    "duration": 5,
    "start_time": "2022-10-17T19:23:50.067Z"
   },
   {
    "duration": 6,
    "start_time": "2022-10-17T19:23:50.074Z"
   },
   {
    "duration": 3,
    "start_time": "2022-10-17T19:23:50.105Z"
   },
   {
    "duration": 982,
    "start_time": "2022-10-17T19:23:50.110Z"
   },
   {
    "duration": 5,
    "start_time": "2022-10-17T19:23:51.093Z"
   },
   {
    "duration": 4,
    "start_time": "2022-10-17T19:23:51.105Z"
   },
   {
    "duration": 17,
    "start_time": "2022-10-17T19:23:51.111Z"
   },
   {
    "duration": 8,
    "start_time": "2022-10-17T19:23:51.130Z"
   },
   {
    "duration": 274,
    "start_time": "2022-10-17T19:23:51.140Z"
   },
   {
    "duration": 7,
    "start_time": "2022-10-17T19:23:51.416Z"
   },
   {
    "duration": 120,
    "start_time": "2022-10-17T19:23:51.424Z"
   },
   {
    "duration": 5,
    "start_time": "2022-10-17T19:23:51.546Z"
   },
   {
    "duration": 121,
    "start_time": "2022-10-17T19:23:51.554Z"
   },
   {
    "duration": 6,
    "start_time": "2022-10-17T19:23:51.677Z"
   },
   {
    "duration": 150,
    "start_time": "2022-10-17T19:23:51.684Z"
   },
   {
    "duration": 123,
    "start_time": "2022-10-17T19:23:51.836Z"
   },
   {
    "duration": 5,
    "start_time": "2022-10-17T19:23:51.961Z"
   },
   {
    "duration": 131,
    "start_time": "2022-10-17T19:23:51.967Z"
   },
   {
    "duration": 10,
    "start_time": "2022-10-17T19:23:52.099Z"
   },
   {
    "duration": 211,
    "start_time": "2022-10-17T19:23:52.110Z"
   },
   {
    "duration": 104,
    "start_time": "2022-10-17T19:23:52.322Z"
   },
   {
    "duration": 5,
    "start_time": "2022-10-17T19:23:52.428Z"
   },
   {
    "duration": 17,
    "start_time": "2022-10-17T19:23:52.434Z"
   },
   {
    "duration": 6,
    "start_time": "2022-10-17T19:23:52.453Z"
   },
   {
    "duration": 120,
    "start_time": "2022-10-17T19:23:52.460Z"
   },
   {
    "duration": 4,
    "start_time": "2022-10-17T19:23:52.582Z"
   },
   {
    "duration": 18,
    "start_time": "2022-10-17T19:23:52.588Z"
   },
   {
    "duration": 3344,
    "start_time": "2022-10-18T12:41:30.160Z"
   },
   {
    "duration": 3,
    "start_time": "2022-10-18T12:41:33.507Z"
   },
   {
    "duration": 16,
    "start_time": "2022-10-18T12:41:33.511Z"
   },
   {
    "duration": 57,
    "start_time": "2022-10-18T12:41:33.529Z"
   },
   {
    "duration": 14,
    "start_time": "2022-10-18T12:41:33.588Z"
   },
   {
    "duration": 3,
    "start_time": "2022-10-18T12:41:33.604Z"
   },
   {
    "duration": 27,
    "start_time": "2022-10-18T12:41:33.609Z"
   },
   {
    "duration": 1272,
    "start_time": "2022-10-18T12:41:33.638Z"
   },
   {
    "duration": 6,
    "start_time": "2022-10-18T12:41:34.912Z"
   },
   {
    "duration": 4,
    "start_time": "2022-10-18T12:41:34.921Z"
   },
   {
    "duration": 51,
    "start_time": "2022-10-18T12:41:34.927Z"
   },
   {
    "duration": 6,
    "start_time": "2022-10-18T12:41:34.980Z"
   },
   {
    "duration": 24,
    "start_time": "2022-10-18T12:41:34.988Z"
   },
   {
    "duration": 15,
    "start_time": "2022-10-18T12:41:35.014Z"
   },
   {
    "duration": 6,
    "start_time": "2022-10-18T12:41:35.032Z"
   },
   {
    "duration": 23,
    "start_time": "2022-10-18T12:41:35.040Z"
   },
   {
    "duration": 8,
    "start_time": "2022-10-18T12:41:35.066Z"
   },
   {
    "duration": 15,
    "start_time": "2022-10-18T12:41:35.076Z"
   },
   {
    "duration": 1262,
    "start_time": "2022-10-18T12:41:35.093Z"
   },
   {
    "duration": 5,
    "start_time": "2022-10-18T12:41:36.357Z"
   },
   {
    "duration": 45,
    "start_time": "2022-10-18T12:41:36.364Z"
   },
   {
    "duration": 18,
    "start_time": "2022-10-18T12:41:36.411Z"
   },
   {
    "duration": 12,
    "start_time": "2022-10-18T12:41:36.430Z"
   },
   {
    "duration": 327,
    "start_time": "2022-10-18T12:41:36.444Z"
   },
   {
    "duration": 6,
    "start_time": "2022-10-18T12:41:36.773Z"
   },
   {
    "duration": 140,
    "start_time": "2022-10-18T12:41:36.781Z"
   },
   {
    "duration": 8,
    "start_time": "2022-10-18T12:41:36.923Z"
   },
   {
    "duration": 220,
    "start_time": "2022-10-18T12:41:36.936Z"
   },
   {
    "duration": 7,
    "start_time": "2022-10-18T12:41:37.157Z"
   },
   {
    "duration": 165,
    "start_time": "2022-10-18T12:41:37.166Z"
   },
   {
    "duration": 6,
    "start_time": "2022-10-18T12:41:37.333Z"
   },
   {
    "duration": 147,
    "start_time": "2022-10-18T12:41:37.354Z"
   },
   {
    "duration": 8,
    "start_time": "2022-10-18T12:41:37.503Z"
   },
   {
    "duration": 164,
    "start_time": "2022-10-18T12:41:37.512Z"
   },
   {
    "duration": 6,
    "start_time": "2022-10-18T12:41:37.678Z"
   },
   {
    "duration": 239,
    "start_time": "2022-10-18T12:41:37.686Z"
   },
   {
    "duration": 140,
    "start_time": "2022-10-18T12:41:37.927Z"
   },
   {
    "duration": 6,
    "start_time": "2022-10-18T12:41:38.069Z"
   },
   {
    "duration": 20,
    "start_time": "2022-10-18T12:41:38.076Z"
   },
   {
    "duration": 15,
    "start_time": "2022-10-18T12:41:38.097Z"
   },
   {
    "duration": 178,
    "start_time": "2022-10-18T12:41:38.114Z"
   },
   {
    "duration": 7,
    "start_time": "2022-10-18T12:41:38.294Z"
   },
   {
    "duration": 10,
    "start_time": "2022-10-18T12:41:38.302Z"
   },
   {
    "duration": 3149,
    "start_time": "2022-10-18T16:03:55.343Z"
   },
   {
    "duration": 3,
    "start_time": "2022-10-18T16:03:58.494Z"
   },
   {
    "duration": 9,
    "start_time": "2022-10-18T16:03:58.499Z"
   },
   {
    "duration": 57,
    "start_time": "2022-10-18T16:03:58.511Z"
   },
   {
    "duration": 25,
    "start_time": "2022-10-18T16:03:58.569Z"
   },
   {
    "duration": 3,
    "start_time": "2022-10-18T16:03:58.596Z"
   },
   {
    "duration": 9,
    "start_time": "2022-10-18T16:03:58.600Z"
   },
   {
    "duration": 1227,
    "start_time": "2022-10-18T16:03:58.610Z"
   },
   {
    "duration": 4,
    "start_time": "2022-10-18T16:03:59.839Z"
   },
   {
    "duration": 5,
    "start_time": "2022-10-18T16:03:59.846Z"
   },
   {
    "duration": 41,
    "start_time": "2022-10-18T16:03:59.853Z"
   },
   {
    "duration": 5,
    "start_time": "2022-10-18T16:03:59.896Z"
   },
   {
    "duration": 8,
    "start_time": "2022-10-18T16:03:59.902Z"
   },
   {
    "duration": 12,
    "start_time": "2022-10-18T16:03:59.912Z"
   },
   {
    "duration": 6,
    "start_time": "2022-10-18T16:03:59.926Z"
   },
   {
    "duration": 5,
    "start_time": "2022-10-18T16:03:59.934Z"
   },
   {
    "duration": 5,
    "start_time": "2022-10-18T16:03:59.941Z"
   },
   {
    "duration": 3,
    "start_time": "2022-10-18T16:03:59.948Z"
   },
   {
    "duration": 1207,
    "start_time": "2022-10-18T16:03:59.953Z"
   },
   {
    "duration": 6,
    "start_time": "2022-10-18T16:04:01.162Z"
   },
   {
    "duration": 18,
    "start_time": "2022-10-18T16:04:01.169Z"
   },
   {
    "duration": 23,
    "start_time": "2022-10-18T16:04:01.189Z"
   },
   {
    "duration": 13,
    "start_time": "2022-10-18T16:04:01.214Z"
   },
   {
    "duration": 350,
    "start_time": "2022-10-18T16:04:01.229Z"
   },
   {
    "duration": 13,
    "start_time": "2022-10-18T16:04:01.581Z"
   },
   {
    "duration": 166,
    "start_time": "2022-10-18T16:04:01.596Z"
   },
   {
    "duration": 7,
    "start_time": "2022-10-18T16:04:01.764Z"
   },
   {
    "duration": 155,
    "start_time": "2022-10-18T16:04:01.775Z"
   },
   {
    "duration": 7,
    "start_time": "2022-10-18T16:04:01.931Z"
   },
   {
    "duration": 158,
    "start_time": "2022-10-18T16:04:01.940Z"
   },
   {
    "duration": 6,
    "start_time": "2022-10-18T16:04:02.100Z"
   },
   {
    "duration": 146,
    "start_time": "2022-10-18T16:04:02.108Z"
   },
   {
    "duration": 5,
    "start_time": "2022-10-18T16:04:02.256Z"
   },
   {
    "duration": 142,
    "start_time": "2022-10-18T16:04:02.263Z"
   },
   {
    "duration": 6,
    "start_time": "2022-10-18T16:04:02.407Z"
   },
   {
    "duration": 232,
    "start_time": "2022-10-18T16:04:02.415Z"
   },
   {
    "duration": 121,
    "start_time": "2022-10-18T16:04:02.649Z"
   },
   {
    "duration": 5,
    "start_time": "2022-10-18T16:04:02.772Z"
   },
   {
    "duration": 7,
    "start_time": "2022-10-18T16:04:02.794Z"
   },
   {
    "duration": 29,
    "start_time": "2022-10-18T16:04:02.803Z"
   },
   {
    "duration": 132,
    "start_time": "2022-10-18T16:04:02.833Z"
   },
   {
    "duration": 6,
    "start_time": "2022-10-18T16:04:02.966Z"
   },
   {
    "duration": 18,
    "start_time": "2022-10-18T16:04:02.974Z"
   },
   {
    "duration": 8,
    "start_time": "2022-10-18T16:08:15.334Z"
   },
   {
    "duration": 932,
    "start_time": "2022-10-18T16:08:37.978Z"
   },
   {
    "duration": 558,
    "start_time": "2022-10-18T16:08:51.417Z"
   },
   {
    "duration": 630,
    "start_time": "2022-10-18T16:09:21.164Z"
   },
   {
    "duration": 15,
    "start_time": "2022-10-18T16:09:40.070Z"
   },
   {
    "duration": 11,
    "start_time": "2022-10-18T16:09:46.487Z"
   },
   {
    "duration": 11,
    "start_time": "2022-10-18T16:13:05.870Z"
   },
   {
    "duration": 13,
    "start_time": "2022-10-18T16:13:40.063Z"
   },
   {
    "duration": 14,
    "start_time": "2022-10-18T16:13:54.449Z"
   },
   {
    "duration": 12,
    "start_time": "2022-10-18T16:14:23.171Z"
   },
   {
    "duration": 10,
    "start_time": "2022-10-18T16:14:25.684Z"
   },
   {
    "duration": 31,
    "start_time": "2022-10-18T16:14:31.465Z"
   },
   {
    "duration": 17,
    "start_time": "2022-10-18T16:14:39.023Z"
   },
   {
    "duration": 13,
    "start_time": "2022-10-18T16:17:19.336Z"
   },
   {
    "duration": 12,
    "start_time": "2022-10-18T16:17:33.798Z"
   },
   {
    "duration": 11,
    "start_time": "2022-10-18T16:18:03.250Z"
   },
   {
    "duration": 2736,
    "start_time": "2022-10-18T16:18:08.469Z"
   },
   {
    "duration": 3,
    "start_time": "2022-10-18T16:18:11.207Z"
   },
   {
    "duration": 9,
    "start_time": "2022-10-18T16:18:11.214Z"
   },
   {
    "duration": 54,
    "start_time": "2022-10-18T16:18:11.225Z"
   },
   {
    "duration": 24,
    "start_time": "2022-10-18T16:18:11.280Z"
   },
   {
    "duration": 8,
    "start_time": "2022-10-18T16:18:11.306Z"
   },
   {
    "duration": 7,
    "start_time": "2022-10-18T16:18:11.315Z"
   },
   {
    "duration": 1257,
    "start_time": "2022-10-18T16:18:11.323Z"
   },
   {
    "duration": 5,
    "start_time": "2022-10-18T16:18:12.583Z"
   },
   {
    "duration": 6,
    "start_time": "2022-10-18T16:18:12.589Z"
   },
   {
    "duration": 36,
    "start_time": "2022-10-18T16:18:12.597Z"
   },
   {
    "duration": 5,
    "start_time": "2022-10-18T16:18:12.634Z"
   },
   {
    "duration": 5,
    "start_time": "2022-10-18T16:18:12.640Z"
   },
   {
    "duration": 12,
    "start_time": "2022-10-18T16:18:12.646Z"
   },
   {
    "duration": 4,
    "start_time": "2022-10-18T16:18:12.660Z"
   },
   {
    "duration": 4,
    "start_time": "2022-10-18T16:18:12.695Z"
   },
   {
    "duration": 8,
    "start_time": "2022-10-18T16:18:12.701Z"
   },
   {
    "duration": 6,
    "start_time": "2022-10-18T16:18:12.711Z"
   },
   {
    "duration": 1098,
    "start_time": "2022-10-18T16:18:12.719Z"
   },
   {
    "duration": 6,
    "start_time": "2022-10-18T16:18:13.819Z"
   },
   {
    "duration": 4,
    "start_time": "2022-10-18T16:18:13.827Z"
   },
   {
    "duration": 18,
    "start_time": "2022-10-18T16:18:13.833Z"
   },
   {
    "duration": 8,
    "start_time": "2022-10-18T16:18:13.853Z"
   },
   {
    "duration": 317,
    "start_time": "2022-10-18T16:18:13.863Z"
   },
   {
    "duration": 12,
    "start_time": "2022-10-18T16:18:14.182Z"
   },
   {
    "duration": 133,
    "start_time": "2022-10-18T16:18:14.196Z"
   },
   {
    "duration": 8,
    "start_time": "2022-10-18T16:18:14.332Z"
   },
   {
    "duration": 140,
    "start_time": "2022-10-18T16:18:14.342Z"
   },
   {
    "duration": 10,
    "start_time": "2022-10-18T16:18:14.484Z"
   },
   {
    "duration": 160,
    "start_time": "2022-10-18T16:18:14.496Z"
   },
   {
    "duration": 5,
    "start_time": "2022-10-18T16:18:14.658Z"
   },
   {
    "duration": 137,
    "start_time": "2022-10-18T16:18:14.664Z"
   },
   {
    "duration": 6,
    "start_time": "2022-10-18T16:18:14.803Z"
   },
   {
    "duration": 145,
    "start_time": "2022-10-18T16:18:14.810Z"
   },
   {
    "duration": 7,
    "start_time": "2022-10-18T16:18:14.956Z"
   },
   {
    "duration": 233,
    "start_time": "2022-10-18T16:18:14.964Z"
   },
   {
    "duration": 125,
    "start_time": "2022-10-18T16:18:15.198Z"
   },
   {
    "duration": 5,
    "start_time": "2022-10-18T16:18:15.324Z"
   },
   {
    "duration": 9,
    "start_time": "2022-10-18T16:18:15.331Z"
   },
   {
    "duration": 7,
    "start_time": "2022-10-18T16:18:15.342Z"
   },
   {
    "duration": 167,
    "start_time": "2022-10-18T16:18:15.351Z"
   },
   {
    "duration": 6,
    "start_time": "2022-10-18T16:18:15.519Z"
   },
   {
    "duration": 5,
    "start_time": "2022-10-18T16:18:15.526Z"
   },
   {
    "duration": 14,
    "start_time": "2022-10-18T16:18:15.533Z"
   },
   {
    "duration": 14,
    "start_time": "2022-10-18T16:20:09.543Z"
   },
   {
    "duration": 14,
    "start_time": "2022-10-18T16:20:33.318Z"
   },
   {
    "duration": 6,
    "start_time": "2022-10-18T16:26:16.564Z"
   },
   {
    "duration": 20,
    "start_time": "2022-10-18T16:26:27.539Z"
   },
   {
    "duration": 14,
    "start_time": "2022-10-18T16:27:54.540Z"
   },
   {
    "duration": 11,
    "start_time": "2022-10-18T16:28:22.219Z"
   },
   {
    "duration": 14,
    "start_time": "2022-10-18T16:29:21.045Z"
   },
   {
    "duration": 72,
    "start_time": "2022-10-18T16:44:52.863Z"
   },
   {
    "duration": 31,
    "start_time": "2022-10-18T16:45:19.478Z"
   },
   {
    "duration": 82,
    "start_time": "2022-10-18T16:46:27.197Z"
   },
   {
    "duration": 9,
    "start_time": "2022-10-18T16:46:53.635Z"
   },
   {
    "duration": 12,
    "start_time": "2022-10-18T16:47:19.730Z"
   },
   {
    "duration": 2758,
    "start_time": "2022-10-18T16:47:27.053Z"
   },
   {
    "duration": 3,
    "start_time": "2022-10-18T16:47:29.813Z"
   },
   {
    "duration": 13,
    "start_time": "2022-10-18T16:47:29.817Z"
   },
   {
    "duration": 74,
    "start_time": "2022-10-18T16:47:29.833Z"
   },
   {
    "duration": 16,
    "start_time": "2022-10-18T16:47:29.908Z"
   },
   {
    "duration": 3,
    "start_time": "2022-10-18T16:47:29.926Z"
   },
   {
    "duration": 7,
    "start_time": "2022-10-18T16:47:29.931Z"
   },
   {
    "duration": 1300,
    "start_time": "2022-10-18T16:47:29.940Z"
   },
   {
    "duration": 6,
    "start_time": "2022-10-18T16:47:31.242Z"
   },
   {
    "duration": 3,
    "start_time": "2022-10-18T16:47:31.252Z"
   },
   {
    "duration": 34,
    "start_time": "2022-10-18T16:47:31.257Z"
   },
   {
    "duration": 6,
    "start_time": "2022-10-18T16:47:31.295Z"
   },
   {
    "duration": 16,
    "start_time": "2022-10-18T16:47:31.303Z"
   },
   {
    "duration": 30,
    "start_time": "2022-10-18T16:47:31.321Z"
   },
   {
    "duration": 6,
    "start_time": "2022-10-18T16:47:31.353Z"
   },
   {
    "duration": 6,
    "start_time": "2022-10-18T16:47:31.361Z"
   },
   {
    "duration": 17,
    "start_time": "2022-10-18T16:47:31.369Z"
   },
   {
    "duration": 5,
    "start_time": "2022-10-18T16:47:31.388Z"
   },
   {
    "duration": 1218,
    "start_time": "2022-10-18T16:47:31.394Z"
   },
   {
    "duration": 6,
    "start_time": "2022-10-18T16:47:32.613Z"
   },
   {
    "duration": 8,
    "start_time": "2022-10-18T16:47:32.621Z"
   },
   {
    "duration": 19,
    "start_time": "2022-10-18T16:47:32.632Z"
   },
   {
    "duration": 10,
    "start_time": "2022-10-18T16:47:32.653Z"
   },
   {
    "duration": 312,
    "start_time": "2022-10-18T16:47:32.664Z"
   },
   {
    "duration": 6,
    "start_time": "2022-10-18T16:47:32.977Z"
   },
   {
    "duration": 135,
    "start_time": "2022-10-18T16:47:32.994Z"
   },
   {
    "duration": 6,
    "start_time": "2022-10-18T16:47:33.131Z"
   },
   {
    "duration": 146,
    "start_time": "2022-10-18T16:47:33.140Z"
   },
   {
    "duration": 5,
    "start_time": "2022-10-18T16:47:33.295Z"
   },
   {
    "duration": 165,
    "start_time": "2022-10-18T16:47:33.302Z"
   },
   {
    "duration": 6,
    "start_time": "2022-10-18T16:47:33.469Z"
   },
   {
    "duration": 144,
    "start_time": "2022-10-18T16:47:33.477Z"
   },
   {
    "duration": 8,
    "start_time": "2022-10-18T16:47:33.623Z"
   },
   {
    "duration": 138,
    "start_time": "2022-10-18T16:47:33.633Z"
   },
   {
    "duration": 21,
    "start_time": "2022-10-18T16:47:33.773Z"
   },
   {
    "duration": 226,
    "start_time": "2022-10-18T16:47:33.797Z"
   },
   {
    "duration": 130,
    "start_time": "2022-10-18T16:47:34.024Z"
   },
   {
    "duration": 6,
    "start_time": "2022-10-18T16:47:34.155Z"
   },
   {
    "duration": 10,
    "start_time": "2022-10-18T16:47:34.163Z"
   },
   {
    "duration": 26,
    "start_time": "2022-10-18T16:47:34.174Z"
   },
   {
    "duration": 144,
    "start_time": "2022-10-18T16:47:34.202Z"
   },
   {
    "duration": 6,
    "start_time": "2022-10-18T16:47:34.348Z"
   },
   {
    "duration": 7,
    "start_time": "2022-10-18T16:47:34.355Z"
   },
   {
    "duration": 21,
    "start_time": "2022-10-18T16:47:34.363Z"
   },
   {
    "duration": 22,
    "start_time": "2022-10-18T16:47:34.395Z"
   },
   {
    "duration": 17,
    "start_time": "2022-10-18T16:47:34.419Z"
   },
   {
    "duration": 17,
    "start_time": "2022-10-18T16:47:34.438Z"
   },
   {
    "duration": 114,
    "start_time": "2022-10-18T16:47:34.457Z"
   },
   {
    "duration": 9,
    "start_time": "2022-10-18T16:49:34.511Z"
   },
   {
    "duration": 267,
    "start_time": "2022-10-18T16:50:12.400Z"
   },
   {
    "duration": 276,
    "start_time": "2022-10-18T16:50:51.388Z"
   },
   {
    "duration": 301,
    "start_time": "2022-10-18T16:51:01.004Z"
   },
   {
    "duration": 12,
    "start_time": "2022-10-18T16:53:47.800Z"
   },
   {
    "duration": 14,
    "start_time": "2022-10-18T16:54:56.746Z"
   },
   {
    "duration": 13,
    "start_time": "2022-10-18T16:55:34.831Z"
   },
   {
    "duration": 14,
    "start_time": "2022-10-18T16:56:07.205Z"
   },
   {
    "duration": 130,
    "start_time": "2022-10-18T16:58:26.002Z"
   },
   {
    "duration": 133,
    "start_time": "2022-10-18T16:58:34.348Z"
   },
   {
    "duration": 125,
    "start_time": "2022-10-18T16:58:54.111Z"
   },
   {
    "duration": 121,
    "start_time": "2022-10-18T16:59:03.680Z"
   },
   {
    "duration": 120,
    "start_time": "2022-10-18T16:59:25.522Z"
   },
   {
    "duration": 145,
    "start_time": "2022-10-18T16:59:32.904Z"
   },
   {
    "duration": 144,
    "start_time": "2022-10-18T16:59:39.020Z"
   },
   {
    "duration": 145,
    "start_time": "2022-10-18T17:00:25.173Z"
   },
   {
    "duration": 160,
    "start_time": "2022-10-18T17:00:31.322Z"
   },
   {
    "duration": 138,
    "start_time": "2022-10-18T17:00:36.851Z"
   },
   {
    "duration": 143,
    "start_time": "2022-10-18T17:00:42.642Z"
   },
   {
    "duration": 268,
    "start_time": "2022-10-18T17:01:05.946Z"
   },
   {
    "duration": 141,
    "start_time": "2022-10-18T17:01:10.491Z"
   },
   {
    "duration": 175,
    "start_time": "2022-10-18T17:01:30.018Z"
   },
   {
    "duration": 160,
    "start_time": "2022-10-18T17:01:37.844Z"
   },
   {
    "duration": 150,
    "start_time": "2022-10-18T17:01:54.463Z"
   },
   {
    "duration": 142,
    "start_time": "2022-10-18T17:02:05.555Z"
   },
   {
    "duration": 157,
    "start_time": "2022-10-18T17:02:20.566Z"
   },
   {
    "duration": 157,
    "start_time": "2022-10-18T17:02:30.010Z"
   },
   {
    "duration": 158,
    "start_time": "2022-10-18T17:02:34.550Z"
   },
   {
    "duration": 146,
    "start_time": "2022-10-18T17:02:50.467Z"
   },
   {
    "duration": 17,
    "start_time": "2022-10-18T17:03:34.099Z"
   },
   {
    "duration": 11,
    "start_time": "2022-10-18T17:04:14.511Z"
   },
   {
    "duration": 146,
    "start_time": "2022-10-18T17:04:40.682Z"
   },
   {
    "duration": 16,
    "start_time": "2022-10-18T17:05:03.578Z"
   },
   {
    "duration": 14,
    "start_time": "2022-10-18T17:05:24.003Z"
   },
   {
    "duration": 243,
    "start_time": "2022-10-18T17:05:35.423Z"
   },
   {
    "duration": 154,
    "start_time": "2022-10-18T17:06:50.002Z"
   },
   {
    "duration": 8,
    "start_time": "2022-10-18T17:08:30.097Z"
   },
   {
    "duration": 11,
    "start_time": "2022-10-18T17:17:10.183Z"
   },
   {
    "duration": 1099,
    "start_time": "2022-10-18T17:17:54.643Z"
   },
   {
    "duration": 4199,
    "start_time": "2022-10-18T17:18:04.083Z"
   },
   {
    "duration": 2723,
    "start_time": "2022-10-18T17:18:14.495Z"
   },
   {
    "duration": 2,
    "start_time": "2022-10-18T17:18:17.220Z"
   },
   {
    "duration": 11,
    "start_time": "2022-10-18T17:18:17.223Z"
   },
   {
    "duration": 54,
    "start_time": "2022-10-18T17:18:17.236Z"
   },
   {
    "duration": 10,
    "start_time": "2022-10-18T17:18:17.291Z"
   },
   {
    "duration": 3,
    "start_time": "2022-10-18T17:18:17.302Z"
   },
   {
    "duration": 8,
    "start_time": "2022-10-18T17:18:17.306Z"
   },
   {
    "duration": 1196,
    "start_time": "2022-10-18T17:18:17.315Z"
   },
   {
    "duration": 4,
    "start_time": "2022-10-18T17:18:18.512Z"
   },
   {
    "duration": 4,
    "start_time": "2022-10-18T17:18:18.519Z"
   },
   {
    "duration": 4811,
    "start_time": "2022-10-18T17:18:18.524Z"
   },
   {
    "duration": 31,
    "start_time": "2022-10-18T17:18:23.337Z"
   },
   {
    "duration": 5,
    "start_time": "2022-10-18T17:18:23.370Z"
   },
   {
    "duration": 3,
    "start_time": "2022-10-18T17:18:23.394Z"
   },
   {
    "duration": 11,
    "start_time": "2022-10-18T17:18:23.399Z"
   },
   {
    "duration": 4,
    "start_time": "2022-10-18T17:18:23.412Z"
   },
   {
    "duration": 7,
    "start_time": "2022-10-18T17:18:23.418Z"
   },
   {
    "duration": 8,
    "start_time": "2022-10-18T17:18:23.427Z"
   },
   {
    "duration": 5,
    "start_time": "2022-10-18T17:18:23.437Z"
   },
   {
    "duration": 1085,
    "start_time": "2022-10-18T17:18:23.444Z"
   },
   {
    "duration": 5,
    "start_time": "2022-10-18T17:18:24.531Z"
   },
   {
    "duration": 7,
    "start_time": "2022-10-18T17:18:24.537Z"
   },
   {
    "duration": 15,
    "start_time": "2022-10-18T17:18:24.545Z"
   },
   {
    "duration": 9,
    "start_time": "2022-10-18T17:18:24.562Z"
   },
   {
    "duration": 299,
    "start_time": "2022-10-18T17:18:24.573Z"
   },
   {
    "duration": 6,
    "start_time": "2022-10-18T17:18:24.874Z"
   },
   {
    "duration": 134,
    "start_time": "2022-10-18T17:18:24.881Z"
   },
   {
    "duration": 6,
    "start_time": "2022-10-18T17:18:25.019Z"
   },
   {
    "duration": 131,
    "start_time": "2022-10-18T17:18:25.027Z"
   },
   {
    "duration": 5,
    "start_time": "2022-10-18T17:18:25.159Z"
   },
   {
    "duration": 154,
    "start_time": "2022-10-18T17:18:25.166Z"
   },
   {
    "duration": 5,
    "start_time": "2022-10-18T17:18:25.322Z"
   },
   {
    "duration": 136,
    "start_time": "2022-10-18T17:18:25.328Z"
   },
   {
    "duration": 7,
    "start_time": "2022-10-18T17:18:25.466Z"
   },
   {
    "duration": 143,
    "start_time": "2022-10-18T17:18:25.474Z"
   },
   {
    "duration": 8,
    "start_time": "2022-10-18T17:18:25.619Z"
   },
   {
    "duration": 229,
    "start_time": "2022-10-18T17:18:25.629Z"
   },
   {
    "duration": 114,
    "start_time": "2022-10-18T17:18:25.860Z"
   },
   {
    "duration": 6,
    "start_time": "2022-10-18T17:18:25.975Z"
   },
   {
    "duration": 8,
    "start_time": "2022-10-18T17:18:25.995Z"
   },
   {
    "duration": 8,
    "start_time": "2022-10-18T17:18:26.005Z"
   },
   {
    "duration": 149,
    "start_time": "2022-10-18T17:18:26.014Z"
   },
   {
    "duration": 5,
    "start_time": "2022-10-18T17:18:26.164Z"
   },
   {
    "duration": 4,
    "start_time": "2022-10-18T17:18:26.171Z"
   },
   {
    "duration": 29,
    "start_time": "2022-10-18T17:18:26.177Z"
   },
   {
    "duration": 16,
    "start_time": "2022-10-18T17:18:26.207Z"
   },
   {
    "duration": 11,
    "start_time": "2022-10-18T17:18:26.224Z"
   },
   {
    "duration": 13,
    "start_time": "2022-10-18T17:18:26.236Z"
   },
   {
    "duration": 295,
    "start_time": "2022-10-18T17:18:26.251Z"
   },
   {
    "duration": 103,
    "start_time": "2022-10-18T17:18:26.548Z"
   },
   {
    "duration": 0,
    "start_time": "2022-10-18T17:18:26.654Z"
   },
   {
    "duration": 0,
    "start_time": "2022-10-18T17:18:26.657Z"
   },
   {
    "duration": 0,
    "start_time": "2022-10-18T17:18:26.658Z"
   },
   {
    "duration": 1,
    "start_time": "2022-10-18T17:18:26.659Z"
   },
   {
    "duration": 0,
    "start_time": "2022-10-18T17:18:26.661Z"
   },
   {
    "duration": 0,
    "start_time": "2022-10-18T17:18:26.662Z"
   },
   {
    "duration": 0,
    "start_time": "2022-10-18T17:18:26.663Z"
   },
   {
    "duration": 0,
    "start_time": "2022-10-18T17:18:26.665Z"
   },
   {
    "duration": 1,
    "start_time": "2022-10-18T17:18:26.666Z"
   },
   {
    "duration": 0,
    "start_time": "2022-10-18T17:18:26.668Z"
   },
   {
    "duration": 0,
    "start_time": "2022-10-18T17:18:26.669Z"
   },
   {
    "duration": 0,
    "start_time": "2022-10-18T17:18:26.670Z"
   },
   {
    "duration": 0,
    "start_time": "2022-10-18T17:18:26.672Z"
   },
   {
    "duration": 0,
    "start_time": "2022-10-18T17:18:26.696Z"
   },
   {
    "duration": 179,
    "start_time": "2022-10-18T17:18:51.411Z"
   },
   {
    "duration": 170,
    "start_time": "2022-10-18T17:19:01.275Z"
   },
   {
    "duration": 153,
    "start_time": "2022-10-18T17:19:24.202Z"
   },
   {
    "duration": 4645,
    "start_time": "2022-10-18T17:20:09.299Z"
   },
   {
    "duration": 6,
    "start_time": "2022-10-18T17:20:40.068Z"
   },
   {
    "duration": 6,
    "start_time": "2022-10-18T17:21:05.320Z"
   },
   {
    "duration": 2795,
    "start_time": "2022-10-18T17:21:17.252Z"
   },
   {
    "duration": 3,
    "start_time": "2022-10-18T17:21:20.049Z"
   },
   {
    "duration": 9,
    "start_time": "2022-10-18T17:21:20.056Z"
   },
   {
    "duration": 69,
    "start_time": "2022-10-18T17:21:20.067Z"
   },
   {
    "duration": 10,
    "start_time": "2022-10-18T17:21:20.137Z"
   },
   {
    "duration": 6,
    "start_time": "2022-10-18T17:21:20.148Z"
   },
   {
    "duration": 15,
    "start_time": "2022-10-18T17:21:20.156Z"
   },
   {
    "duration": 1265,
    "start_time": "2022-10-18T17:21:20.173Z"
   },
   {
    "duration": 8,
    "start_time": "2022-10-18T17:21:21.440Z"
   },
   {
    "duration": 10,
    "start_time": "2022-10-18T17:21:21.451Z"
   },
   {
    "duration": 5378,
    "start_time": "2022-10-18T17:21:21.464Z"
   },
   {
    "duration": 5,
    "start_time": "2022-10-18T17:21:26.845Z"
   },
   {
    "duration": 58,
    "start_time": "2022-10-18T17:21:26.852Z"
   },
   {
    "duration": 4,
    "start_time": "2022-10-18T17:21:26.912Z"
   },
   {
    "duration": 4,
    "start_time": "2022-10-18T17:21:26.918Z"
   },
   {
    "duration": 11,
    "start_time": "2022-10-18T17:21:26.924Z"
   },
   {
    "duration": 5,
    "start_time": "2022-10-18T17:21:26.936Z"
   },
   {
    "duration": 7,
    "start_time": "2022-10-18T17:21:26.942Z"
   },
   {
    "duration": 7,
    "start_time": "2022-10-18T17:21:26.950Z"
   },
   {
    "duration": 4,
    "start_time": "2022-10-18T17:21:26.959Z"
   },
   {
    "duration": 1128,
    "start_time": "2022-10-18T17:21:26.965Z"
   },
   {
    "duration": 4,
    "start_time": "2022-10-18T17:21:28.095Z"
   },
   {
    "duration": 5,
    "start_time": "2022-10-18T17:21:28.101Z"
   },
   {
    "duration": 18,
    "start_time": "2022-10-18T17:21:28.108Z"
   },
   {
    "duration": 9,
    "start_time": "2022-10-18T17:21:28.127Z"
   },
   {
    "duration": 324,
    "start_time": "2022-10-18T17:21:28.137Z"
   },
   {
    "duration": 6,
    "start_time": "2022-10-18T17:21:28.465Z"
   },
   {
    "duration": 143,
    "start_time": "2022-10-18T17:21:28.472Z"
   },
   {
    "duration": 6,
    "start_time": "2022-10-18T17:21:28.617Z"
   },
   {
    "duration": 135,
    "start_time": "2022-10-18T17:21:28.625Z"
   },
   {
    "duration": 6,
    "start_time": "2022-10-18T17:21:28.761Z"
   },
   {
    "duration": 167,
    "start_time": "2022-10-18T17:21:28.769Z"
   },
   {
    "duration": 6,
    "start_time": "2022-10-18T17:21:28.937Z"
   },
   {
    "duration": 133,
    "start_time": "2022-10-18T17:21:28.944Z"
   },
   {
    "duration": 17,
    "start_time": "2022-10-18T17:21:29.078Z"
   },
   {
    "duration": 219,
    "start_time": "2022-10-18T17:21:29.097Z"
   },
   {
    "duration": 6,
    "start_time": "2022-10-18T17:21:29.318Z"
   },
   {
    "duration": 134,
    "start_time": "2022-10-18T17:21:29.325Z"
   },
   {
    "duration": 123,
    "start_time": "2022-10-18T17:21:29.461Z"
   },
   {
    "duration": 6,
    "start_time": "2022-10-18T17:21:29.595Z"
   },
   {
    "duration": 9,
    "start_time": "2022-10-18T17:21:29.603Z"
   },
   {
    "duration": 8,
    "start_time": "2022-10-18T17:21:29.614Z"
   },
   {
    "duration": 144,
    "start_time": "2022-10-18T17:21:29.623Z"
   },
   {
    "duration": 5,
    "start_time": "2022-10-18T17:21:29.769Z"
   },
   {
    "duration": 20,
    "start_time": "2022-10-18T17:21:29.775Z"
   },
   {
    "duration": 13,
    "start_time": "2022-10-18T17:21:29.797Z"
   },
   {
    "duration": 21,
    "start_time": "2022-10-18T17:21:29.812Z"
   },
   {
    "duration": 11,
    "start_time": "2022-10-18T17:21:29.835Z"
   },
   {
    "duration": 13,
    "start_time": "2022-10-18T17:21:29.847Z"
   },
   {
    "duration": 302,
    "start_time": "2022-10-18T17:21:29.861Z"
   },
   {
    "duration": 93,
    "start_time": "2022-10-18T17:21:30.164Z"
   },
   {
    "duration": 0,
    "start_time": "2022-10-18T17:21:30.259Z"
   },
   {
    "duration": 0,
    "start_time": "2022-10-18T17:21:30.260Z"
   },
   {
    "duration": 0,
    "start_time": "2022-10-18T17:21:30.261Z"
   },
   {
    "duration": 0,
    "start_time": "2022-10-18T17:21:30.262Z"
   },
   {
    "duration": 0,
    "start_time": "2022-10-18T17:21:30.263Z"
   },
   {
    "duration": 0,
    "start_time": "2022-10-18T17:21:30.264Z"
   },
   {
    "duration": 0,
    "start_time": "2022-10-18T17:21:30.265Z"
   },
   {
    "duration": 0,
    "start_time": "2022-10-18T17:21:30.266Z"
   },
   {
    "duration": 0,
    "start_time": "2022-10-18T17:21:30.267Z"
   },
   {
    "duration": 0,
    "start_time": "2022-10-18T17:21:30.268Z"
   },
   {
    "duration": 0,
    "start_time": "2022-10-18T17:21:30.270Z"
   },
   {
    "duration": 0,
    "start_time": "2022-10-18T17:21:30.272Z"
   },
   {
    "duration": 0,
    "start_time": "2022-10-18T17:21:30.295Z"
   },
   {
    "duration": 0,
    "start_time": "2022-10-18T17:21:30.297Z"
   },
   {
    "duration": 5,
    "start_time": "2022-10-18T17:23:07.331Z"
   },
   {
    "duration": 5,
    "start_time": "2022-10-18T17:23:09.605Z"
   },
   {
    "duration": 9,
    "start_time": "2022-10-18T17:25:03.425Z"
   },
   {
    "duration": 13,
    "start_time": "2022-10-18T17:25:23.543Z"
   },
   {
    "duration": 2670,
    "start_time": "2022-10-18T17:25:32.344Z"
   },
   {
    "duration": 3,
    "start_time": "2022-10-18T17:25:35.016Z"
   },
   {
    "duration": 10,
    "start_time": "2022-10-18T17:25:35.021Z"
   },
   {
    "duration": 67,
    "start_time": "2022-10-18T17:25:35.035Z"
   },
   {
    "duration": 10,
    "start_time": "2022-10-18T17:25:35.104Z"
   },
   {
    "duration": 4,
    "start_time": "2022-10-18T17:25:35.116Z"
   },
   {
    "duration": 12,
    "start_time": "2022-10-18T17:25:35.122Z"
   },
   {
    "duration": 1178,
    "start_time": "2022-10-18T17:25:35.136Z"
   },
   {
    "duration": 6,
    "start_time": "2022-10-18T17:25:36.315Z"
   },
   {
    "duration": 5,
    "start_time": "2022-10-18T17:25:36.323Z"
   },
   {
    "duration": 4843,
    "start_time": "2022-10-18T17:25:36.330Z"
   },
   {
    "duration": 4,
    "start_time": "2022-10-18T17:25:41.175Z"
   },
   {
    "duration": 19,
    "start_time": "2022-10-18T17:25:41.181Z"
   },
   {
    "duration": 4,
    "start_time": "2022-10-18T17:25:41.202Z"
   },
   {
    "duration": 29,
    "start_time": "2022-10-18T17:25:41.208Z"
   },
   {
    "duration": 4,
    "start_time": "2022-10-18T17:25:41.239Z"
   },
   {
    "duration": 9,
    "start_time": "2022-10-18T17:25:41.245Z"
   },
   {
    "duration": 12,
    "start_time": "2022-10-18T17:25:41.255Z"
   },
   {
    "duration": 5,
    "start_time": "2022-10-18T17:25:41.294Z"
   },
   {
    "duration": 10,
    "start_time": "2022-10-18T17:25:41.301Z"
   },
   {
    "duration": 6,
    "start_time": "2022-10-18T17:25:41.313Z"
   },
   {
    "duration": 9,
    "start_time": "2022-10-18T17:25:41.320Z"
   },
   {
    "duration": 1145,
    "start_time": "2022-10-18T17:25:41.331Z"
   },
   {
    "duration": 5,
    "start_time": "2022-10-18T17:25:42.478Z"
   },
   {
    "duration": 15,
    "start_time": "2022-10-18T17:25:42.485Z"
   },
   {
    "duration": 18,
    "start_time": "2022-10-18T17:25:42.502Z"
   },
   {
    "duration": 11,
    "start_time": "2022-10-18T17:25:42.522Z"
   },
   {
    "duration": 292,
    "start_time": "2022-10-18T17:25:42.536Z"
   },
   {
    "duration": 6,
    "start_time": "2022-10-18T17:25:42.830Z"
   },
   {
    "duration": 125,
    "start_time": "2022-10-18T17:25:42.838Z"
   },
   {
    "duration": 6,
    "start_time": "2022-10-18T17:25:42.965Z"
   },
   {
    "duration": 143,
    "start_time": "2022-10-18T17:25:42.973Z"
   },
   {
    "duration": 6,
    "start_time": "2022-10-18T17:25:43.118Z"
   },
   {
    "duration": 156,
    "start_time": "2022-10-18T17:25:43.125Z"
   },
   {
    "duration": 12,
    "start_time": "2022-10-18T17:25:43.282Z"
   },
   {
    "duration": 133,
    "start_time": "2022-10-18T17:25:43.296Z"
   },
   {
    "duration": 6,
    "start_time": "2022-10-18T17:25:43.431Z"
   },
   {
    "duration": 228,
    "start_time": "2022-10-18T17:25:43.439Z"
   },
   {
    "duration": 7,
    "start_time": "2022-10-18T17:25:43.669Z"
   },
   {
    "duration": 150,
    "start_time": "2022-10-18T17:25:43.678Z"
   },
   {
    "duration": 120,
    "start_time": "2022-10-18T17:25:43.830Z"
   },
   {
    "duration": 6,
    "start_time": "2022-10-18T17:25:43.952Z"
   },
   {
    "duration": 9,
    "start_time": "2022-10-18T17:25:43.960Z"
   },
   {
    "duration": 30,
    "start_time": "2022-10-18T17:25:43.971Z"
   },
   {
    "duration": 136,
    "start_time": "2022-10-18T17:25:44.003Z"
   },
   {
    "duration": 5,
    "start_time": "2022-10-18T17:25:44.141Z"
   },
   {
    "duration": 5,
    "start_time": "2022-10-18T17:25:44.148Z"
   },
   {
    "duration": 16,
    "start_time": "2022-10-18T17:25:44.155Z"
   },
   {
    "duration": 36,
    "start_time": "2022-10-18T17:25:44.173Z"
   },
   {
    "duration": 13,
    "start_time": "2022-10-18T17:25:44.210Z"
   },
   {
    "duration": 12,
    "start_time": "2022-10-18T17:25:44.225Z"
   },
   {
    "duration": 284,
    "start_time": "2022-10-18T17:25:44.238Z"
   },
   {
    "duration": 14,
    "start_time": "2022-10-18T17:25:44.523Z"
   },
   {
    "duration": 156,
    "start_time": "2022-10-18T17:25:44.539Z"
   },
   {
    "duration": 152,
    "start_time": "2022-10-18T17:25:44.698Z"
   },
   {
    "duration": 145,
    "start_time": "2022-10-18T17:25:44.852Z"
   },
   {
    "duration": 172,
    "start_time": "2022-10-18T17:25:44.998Z"
   },
   {
    "duration": 217,
    "start_time": "2022-10-18T17:25:45.172Z"
   },
   {
    "duration": 173,
    "start_time": "2022-10-18T17:25:45.394Z"
   },
   {
    "duration": 159,
    "start_time": "2022-10-18T17:25:45.569Z"
   },
   {
    "duration": 84,
    "start_time": "2022-10-18T17:25:45.730Z"
   },
   {
    "duration": 0,
    "start_time": "2022-10-18T17:25:45.816Z"
   },
   {
    "duration": 0,
    "start_time": "2022-10-18T17:25:45.817Z"
   },
   {
    "duration": 0,
    "start_time": "2022-10-18T17:25:45.819Z"
   },
   {
    "duration": 0,
    "start_time": "2022-10-18T17:25:45.820Z"
   },
   {
    "duration": 0,
    "start_time": "2022-10-18T17:25:45.821Z"
   },
   {
    "duration": 0,
    "start_time": "2022-10-18T17:25:45.823Z"
   },
   {
    "duration": 183,
    "start_time": "2022-10-18T17:26:10.022Z"
   },
   {
    "duration": 180,
    "start_time": "2022-10-18T17:26:12.497Z"
   },
   {
    "duration": 186,
    "start_time": "2022-10-18T17:26:15.394Z"
   },
   {
    "duration": 177,
    "start_time": "2022-10-18T17:26:21.474Z"
   },
   {
    "duration": 160,
    "start_time": "2022-10-18T17:26:23.771Z"
   },
   {
    "duration": 1392,
    "start_time": "2022-10-18T17:28:58.441Z"
   },
   {
    "duration": 141,
    "start_time": "2022-10-18T17:29:04.893Z"
   },
   {
    "duration": 145,
    "start_time": "2022-10-18T17:31:23.386Z"
   },
   {
    "duration": 153,
    "start_time": "2022-10-18T17:31:29.095Z"
   },
   {
    "duration": 209,
    "start_time": "2022-10-18T17:33:55.376Z"
   },
   {
    "duration": 130,
    "start_time": "2022-10-18T17:34:06.254Z"
   },
   {
    "duration": 2646,
    "start_time": "2022-10-18T17:36:39.020Z"
   },
   {
    "duration": 3,
    "start_time": "2022-10-18T17:36:41.668Z"
   },
   {
    "duration": 11,
    "start_time": "2022-10-18T17:36:41.672Z"
   },
   {
    "duration": 58,
    "start_time": "2022-10-18T17:36:41.685Z"
   },
   {
    "duration": 9,
    "start_time": "2022-10-18T17:36:41.745Z"
   },
   {
    "duration": 2,
    "start_time": "2022-10-18T17:36:41.756Z"
   },
   {
    "duration": 7,
    "start_time": "2022-10-18T17:36:41.760Z"
   },
   {
    "duration": 1218,
    "start_time": "2022-10-18T17:36:41.768Z"
   },
   {
    "duration": 8,
    "start_time": "2022-10-18T17:36:42.987Z"
   },
   {
    "duration": 2,
    "start_time": "2022-10-18T17:36:42.998Z"
   },
   {
    "duration": 4955,
    "start_time": "2022-10-18T17:36:43.001Z"
   },
   {
    "duration": 5,
    "start_time": "2022-10-18T17:36:47.958Z"
   },
   {
    "duration": 14,
    "start_time": "2022-10-18T17:36:47.965Z"
   },
   {
    "duration": 19,
    "start_time": "2022-10-18T17:36:47.980Z"
   },
   {
    "duration": 34,
    "start_time": "2022-10-18T17:36:48.000Z"
   },
   {
    "duration": 5,
    "start_time": "2022-10-18T17:36:48.035Z"
   },
   {
    "duration": 5,
    "start_time": "2022-10-18T17:36:48.041Z"
   },
   {
    "duration": 12,
    "start_time": "2022-10-18T17:36:48.047Z"
   },
   {
    "duration": 4,
    "start_time": "2022-10-18T17:36:48.062Z"
   },
   {
    "duration": 34,
    "start_time": "2022-10-18T17:36:48.068Z"
   },
   {
    "duration": 6,
    "start_time": "2022-10-18T17:36:48.104Z"
   },
   {
    "duration": 4,
    "start_time": "2022-10-18T17:36:48.111Z"
   },
   {
    "duration": 1095,
    "start_time": "2022-10-18T17:36:48.117Z"
   },
   {
    "duration": 4,
    "start_time": "2022-10-18T17:36:49.214Z"
   },
   {
    "duration": 11,
    "start_time": "2022-10-18T17:36:49.220Z"
   },
   {
    "duration": 17,
    "start_time": "2022-10-18T17:36:49.233Z"
   },
   {
    "duration": 9,
    "start_time": "2022-10-18T17:36:49.252Z"
   },
   {
    "duration": 302,
    "start_time": "2022-10-18T17:36:49.267Z"
   },
   {
    "duration": 5,
    "start_time": "2022-10-18T17:36:49.571Z"
   },
   {
    "duration": 141,
    "start_time": "2022-10-18T17:36:49.578Z"
   },
   {
    "duration": 6,
    "start_time": "2022-10-18T17:36:49.721Z"
   },
   {
    "duration": 141,
    "start_time": "2022-10-18T17:36:49.728Z"
   },
   {
    "duration": 5,
    "start_time": "2022-10-18T17:36:49.871Z"
   },
   {
    "duration": 164,
    "start_time": "2022-10-18T17:36:49.878Z"
   },
   {
    "duration": 5,
    "start_time": "2022-10-18T17:36:50.044Z"
   },
   {
    "duration": 150,
    "start_time": "2022-10-18T17:36:50.051Z"
   },
   {
    "duration": 7,
    "start_time": "2022-10-18T17:36:50.202Z"
   },
   {
    "duration": 229,
    "start_time": "2022-10-18T17:36:50.210Z"
   },
   {
    "duration": 6,
    "start_time": "2022-10-18T17:36:50.440Z"
   },
   {
    "duration": 130,
    "start_time": "2022-10-18T17:36:50.448Z"
   },
   {
    "duration": 127,
    "start_time": "2022-10-18T17:36:50.580Z"
   },
   {
    "duration": 6,
    "start_time": "2022-10-18T17:36:50.709Z"
   },
   {
    "duration": 8,
    "start_time": "2022-10-18T17:36:50.716Z"
   },
   {
    "duration": 7,
    "start_time": "2022-10-18T17:36:50.726Z"
   },
   {
    "duration": 174,
    "start_time": "2022-10-18T17:36:50.735Z"
   },
   {
    "duration": 5,
    "start_time": "2022-10-18T17:36:50.911Z"
   },
   {
    "duration": 15,
    "start_time": "2022-10-18T17:36:50.918Z"
   },
   {
    "duration": 18,
    "start_time": "2022-10-18T17:36:50.935Z"
   },
   {
    "duration": 13,
    "start_time": "2022-10-18T17:36:50.954Z"
   },
   {
    "duration": 38,
    "start_time": "2022-10-18T17:36:50.968Z"
   },
   {
    "duration": 269,
    "start_time": "2022-10-18T17:36:51.007Z"
   },
   {
    "duration": 17,
    "start_time": "2022-10-18T17:36:51.278Z"
   },
   {
    "duration": 162,
    "start_time": "2022-10-18T17:36:51.297Z"
   },
   {
    "duration": 154,
    "start_time": "2022-10-18T17:36:51.461Z"
   },
   {
    "duration": 158,
    "start_time": "2022-10-18T17:36:51.617Z"
   },
   {
    "duration": 178,
    "start_time": "2022-10-18T17:36:51.777Z"
   },
   {
    "duration": 235,
    "start_time": "2022-10-18T17:36:51.957Z"
   },
   {
    "duration": 178,
    "start_time": "2022-10-18T17:36:52.195Z"
   },
   {
    "duration": 171,
    "start_time": "2022-10-18T17:36:52.374Z"
   },
   {
    "duration": 139,
    "start_time": "2022-10-18T17:36:52.546Z"
   },
   {
    "duration": 166,
    "start_time": "2022-10-18T17:36:52.687Z"
   },
   {
    "duration": 182,
    "start_time": "2022-10-18T17:36:52.855Z"
   },
   {
    "duration": 158,
    "start_time": "2022-10-18T17:36:53.038Z"
   },
   {
    "duration": 178,
    "start_time": "2022-10-18T17:36:53.198Z"
   },
   {
    "duration": 169,
    "start_time": "2022-10-18T17:36:53.378Z"
   },
   {
    "duration": 152,
    "start_time": "2022-10-18T17:36:53.550Z"
   },
   {
    "duration": 138,
    "start_time": "2022-10-18T17:36:53.703Z"
   },
   {
    "duration": 4,
    "start_time": "2022-10-18T17:43:33.078Z"
   },
   {
    "duration": 7,
    "start_time": "2022-10-18T17:44:01.440Z"
   },
   {
    "duration": 4,
    "start_time": "2022-10-18T17:44:03.283Z"
   },
   {
    "duration": 5,
    "start_time": "2022-10-18T17:44:43.587Z"
   },
   {
    "duration": 330,
    "start_time": "2022-10-18T17:46:34.939Z"
   },
   {
    "duration": 7,
    "start_time": "2022-10-18T17:56:39.940Z"
   },
   {
    "duration": 7,
    "start_time": "2022-10-18T18:03:45.700Z"
   },
   {
    "duration": 162,
    "start_time": "2022-10-18T18:07:06.069Z"
   },
   {
    "duration": 159,
    "start_time": "2022-10-18T18:07:12.488Z"
   },
   {
    "duration": 169,
    "start_time": "2022-10-18T18:07:49.774Z"
   },
   {
    "duration": 226,
    "start_time": "2022-10-18T18:08:26.612Z"
   },
   {
    "duration": 177,
    "start_time": "2022-10-18T18:09:41.905Z"
   },
   {
    "duration": 186,
    "start_time": "2022-10-18T18:09:51.318Z"
   },
   {
    "duration": 173,
    "start_time": "2022-10-18T18:09:54.981Z"
   },
   {
    "duration": 2850,
    "start_time": "2022-10-18T18:10:01.322Z"
   },
   {
    "duration": 3,
    "start_time": "2022-10-18T18:10:04.174Z"
   },
   {
    "duration": 13,
    "start_time": "2022-10-18T18:10:04.180Z"
   },
   {
    "duration": 80,
    "start_time": "2022-10-18T18:10:04.197Z"
   },
   {
    "duration": 24,
    "start_time": "2022-10-18T18:10:04.278Z"
   },
   {
    "duration": 2,
    "start_time": "2022-10-18T18:10:04.304Z"
   },
   {
    "duration": 12,
    "start_time": "2022-10-18T18:10:04.308Z"
   },
   {
    "duration": 1204,
    "start_time": "2022-10-18T18:10:04.322Z"
   },
   {
    "duration": 5,
    "start_time": "2022-10-18T18:10:05.528Z"
   },
   {
    "duration": 4,
    "start_time": "2022-10-18T18:10:05.535Z"
   },
   {
    "duration": 5000,
    "start_time": "2022-10-18T18:10:05.540Z"
   },
   {
    "duration": 5,
    "start_time": "2022-10-18T18:10:10.541Z"
   },
   {
    "duration": 96,
    "start_time": "2022-10-18T18:10:10.548Z"
   },
   {
    "duration": 0,
    "start_time": "2022-10-18T18:10:10.647Z"
   },
   {
    "duration": 0,
    "start_time": "2022-10-18T18:10:10.649Z"
   },
   {
    "duration": 0,
    "start_time": "2022-10-18T18:10:10.650Z"
   },
   {
    "duration": 0,
    "start_time": "2022-10-18T18:10:10.651Z"
   },
   {
    "duration": 0,
    "start_time": "2022-10-18T18:10:10.653Z"
   },
   {
    "duration": 0,
    "start_time": "2022-10-18T18:10:10.655Z"
   },
   {
    "duration": 0,
    "start_time": "2022-10-18T18:10:10.657Z"
   },
   {
    "duration": 0,
    "start_time": "2022-10-18T18:10:10.659Z"
   },
   {
    "duration": 0,
    "start_time": "2022-10-18T18:10:10.661Z"
   },
   {
    "duration": 0,
    "start_time": "2022-10-18T18:10:10.662Z"
   },
   {
    "duration": 0,
    "start_time": "2022-10-18T18:10:10.664Z"
   },
   {
    "duration": 0,
    "start_time": "2022-10-18T18:10:10.665Z"
   },
   {
    "duration": 0,
    "start_time": "2022-10-18T18:10:10.695Z"
   },
   {
    "duration": 0,
    "start_time": "2022-10-18T18:10:10.696Z"
   },
   {
    "duration": 0,
    "start_time": "2022-10-18T18:10:10.697Z"
   },
   {
    "duration": 0,
    "start_time": "2022-10-18T18:10:10.698Z"
   },
   {
    "duration": 0,
    "start_time": "2022-10-18T18:10:10.699Z"
   },
   {
    "duration": 0,
    "start_time": "2022-10-18T18:10:10.700Z"
   },
   {
    "duration": 0,
    "start_time": "2022-10-18T18:10:10.701Z"
   },
   {
    "duration": 0,
    "start_time": "2022-10-18T18:10:10.702Z"
   },
   {
    "duration": 0,
    "start_time": "2022-10-18T18:10:10.703Z"
   },
   {
    "duration": 0,
    "start_time": "2022-10-18T18:10:10.704Z"
   },
   {
    "duration": 0,
    "start_time": "2022-10-18T18:10:10.705Z"
   },
   {
    "duration": 0,
    "start_time": "2022-10-18T18:10:10.706Z"
   },
   {
    "duration": 0,
    "start_time": "2022-10-18T18:10:10.707Z"
   },
   {
    "duration": 0,
    "start_time": "2022-10-18T18:10:10.708Z"
   },
   {
    "duration": 0,
    "start_time": "2022-10-18T18:10:10.709Z"
   },
   {
    "duration": 0,
    "start_time": "2022-10-18T18:10:10.710Z"
   },
   {
    "duration": 0,
    "start_time": "2022-10-18T18:10:10.711Z"
   },
   {
    "duration": 0,
    "start_time": "2022-10-18T18:10:10.712Z"
   },
   {
    "duration": 0,
    "start_time": "2022-10-18T18:10:10.713Z"
   },
   {
    "duration": 0,
    "start_time": "2022-10-18T18:10:10.714Z"
   },
   {
    "duration": 0,
    "start_time": "2022-10-18T18:10:10.715Z"
   },
   {
    "duration": 0,
    "start_time": "2022-10-18T18:10:10.719Z"
   },
   {
    "duration": 0,
    "start_time": "2022-10-18T18:10:10.720Z"
   },
   {
    "duration": 0,
    "start_time": "2022-10-18T18:10:10.721Z"
   },
   {
    "duration": 0,
    "start_time": "2022-10-18T18:10:10.722Z"
   },
   {
    "duration": 0,
    "start_time": "2022-10-18T18:10:10.724Z"
   },
   {
    "duration": 0,
    "start_time": "2022-10-18T18:10:10.725Z"
   },
   {
    "duration": 0,
    "start_time": "2022-10-18T18:10:10.726Z"
   },
   {
    "duration": 0,
    "start_time": "2022-10-18T18:10:10.727Z"
   },
   {
    "duration": 0,
    "start_time": "2022-10-18T18:10:10.728Z"
   },
   {
    "duration": 0,
    "start_time": "2022-10-18T18:10:10.729Z"
   },
   {
    "duration": 0,
    "start_time": "2022-10-18T18:10:10.730Z"
   },
   {
    "duration": 0,
    "start_time": "2022-10-18T18:10:10.731Z"
   },
   {
    "duration": 0,
    "start_time": "2022-10-18T18:10:10.732Z"
   },
   {
    "duration": 0,
    "start_time": "2022-10-18T18:10:10.732Z"
   },
   {
    "duration": 0,
    "start_time": "2022-10-18T18:10:10.796Z"
   },
   {
    "duration": 0,
    "start_time": "2022-10-18T18:10:10.797Z"
   },
   {
    "duration": 0,
    "start_time": "2022-10-18T18:10:10.799Z"
   },
   {
    "duration": 0,
    "start_time": "2022-10-18T18:10:10.800Z"
   },
   {
    "duration": 0,
    "start_time": "2022-10-18T18:10:10.802Z"
   },
   {
    "duration": 0,
    "start_time": "2022-10-18T18:10:10.803Z"
   },
   {
    "duration": 0,
    "start_time": "2022-10-18T18:10:10.804Z"
   },
   {
    "duration": 0,
    "start_time": "2022-10-18T18:10:10.806Z"
   },
   {
    "duration": 162,
    "start_time": "2022-10-18T18:11:03.542Z"
   },
   {
    "duration": 2105,
    "start_time": "2022-10-18T18:11:13.603Z"
   },
   {
    "duration": 4,
    "start_time": "2022-10-18T18:11:15.710Z"
   },
   {
    "duration": 8,
    "start_time": "2022-10-18T18:11:15.716Z"
   },
   {
    "duration": 71,
    "start_time": "2022-10-18T18:11:15.726Z"
   },
   {
    "duration": 11,
    "start_time": "2022-10-18T18:11:15.799Z"
   },
   {
    "duration": 2,
    "start_time": "2022-10-18T18:11:15.812Z"
   },
   {
    "duration": 8,
    "start_time": "2022-10-18T18:11:15.816Z"
   },
   {
    "duration": 1312,
    "start_time": "2022-10-18T18:11:15.826Z"
   },
   {
    "duration": 5,
    "start_time": "2022-10-18T18:11:17.140Z"
   },
   {
    "duration": 2,
    "start_time": "2022-10-18T18:11:17.149Z"
   },
   {
    "duration": 5006,
    "start_time": "2022-10-18T18:11:17.153Z"
   },
   {
    "duration": 5,
    "start_time": "2022-10-18T18:11:22.161Z"
   },
   {
    "duration": 32,
    "start_time": "2022-10-18T18:11:22.167Z"
   },
   {
    "duration": 0,
    "start_time": "2022-10-18T18:11:22.202Z"
   },
   {
    "duration": 0,
    "start_time": "2022-10-18T18:11:22.203Z"
   },
   {
    "duration": 0,
    "start_time": "2022-10-18T18:11:22.204Z"
   },
   {
    "duration": 0,
    "start_time": "2022-10-18T18:11:22.205Z"
   },
   {
    "duration": 0,
    "start_time": "2022-10-18T18:11:22.206Z"
   },
   {
    "duration": 0,
    "start_time": "2022-10-18T18:11:22.207Z"
   },
   {
    "duration": 0,
    "start_time": "2022-10-18T18:11:22.208Z"
   },
   {
    "duration": 0,
    "start_time": "2022-10-18T18:11:22.209Z"
   },
   {
    "duration": 0,
    "start_time": "2022-10-18T18:11:22.210Z"
   },
   {
    "duration": 0,
    "start_time": "2022-10-18T18:11:22.211Z"
   },
   {
    "duration": 0,
    "start_time": "2022-10-18T18:11:22.212Z"
   },
   {
    "duration": 0,
    "start_time": "2022-10-18T18:11:22.213Z"
   },
   {
    "duration": 0,
    "start_time": "2022-10-18T18:11:22.214Z"
   },
   {
    "duration": 0,
    "start_time": "2022-10-18T18:11:22.215Z"
   },
   {
    "duration": 0,
    "start_time": "2022-10-18T18:11:22.216Z"
   },
   {
    "duration": 0,
    "start_time": "2022-10-18T18:11:22.217Z"
   },
   {
    "duration": 0,
    "start_time": "2022-10-18T18:11:22.218Z"
   },
   {
    "duration": 0,
    "start_time": "2022-10-18T18:11:22.219Z"
   },
   {
    "duration": 0,
    "start_time": "2022-10-18T18:11:22.220Z"
   },
   {
    "duration": 0,
    "start_time": "2022-10-18T18:11:22.220Z"
   },
   {
    "duration": 0,
    "start_time": "2022-10-18T18:11:22.221Z"
   },
   {
    "duration": 0,
    "start_time": "2022-10-18T18:11:22.222Z"
   },
   {
    "duration": 0,
    "start_time": "2022-10-18T18:11:22.223Z"
   },
   {
    "duration": 0,
    "start_time": "2022-10-18T18:11:22.224Z"
   },
   {
    "duration": 0,
    "start_time": "2022-10-18T18:11:22.225Z"
   },
   {
    "duration": 0,
    "start_time": "2022-10-18T18:11:22.226Z"
   },
   {
    "duration": 0,
    "start_time": "2022-10-18T18:11:22.227Z"
   },
   {
    "duration": 0,
    "start_time": "2022-10-18T18:11:22.228Z"
   },
   {
    "duration": 0,
    "start_time": "2022-10-18T18:11:22.229Z"
   },
   {
    "duration": 1,
    "start_time": "2022-10-18T18:11:22.230Z"
   },
   {
    "duration": 0,
    "start_time": "2022-10-18T18:11:22.231Z"
   },
   {
    "duration": 0,
    "start_time": "2022-10-18T18:11:22.233Z"
   },
   {
    "duration": 0,
    "start_time": "2022-10-18T18:11:22.234Z"
   },
   {
    "duration": 0,
    "start_time": "2022-10-18T18:11:22.295Z"
   },
   {
    "duration": 0,
    "start_time": "2022-10-18T18:11:22.296Z"
   },
   {
    "duration": 0,
    "start_time": "2022-10-18T18:11:22.298Z"
   },
   {
    "duration": 0,
    "start_time": "2022-10-18T18:11:22.299Z"
   },
   {
    "duration": 0,
    "start_time": "2022-10-18T18:11:22.300Z"
   },
   {
    "duration": 0,
    "start_time": "2022-10-18T18:11:22.302Z"
   },
   {
    "duration": 0,
    "start_time": "2022-10-18T18:11:22.303Z"
   },
   {
    "duration": 0,
    "start_time": "2022-10-18T18:11:22.304Z"
   },
   {
    "duration": 0,
    "start_time": "2022-10-18T18:11:22.305Z"
   },
   {
    "duration": 0,
    "start_time": "2022-10-18T18:11:22.307Z"
   },
   {
    "duration": 0,
    "start_time": "2022-10-18T18:11:22.308Z"
   },
   {
    "duration": 0,
    "start_time": "2022-10-18T18:11:22.310Z"
   },
   {
    "duration": 0,
    "start_time": "2022-10-18T18:11:22.311Z"
   },
   {
    "duration": 0,
    "start_time": "2022-10-18T18:11:22.312Z"
   },
   {
    "duration": 0,
    "start_time": "2022-10-18T18:11:22.313Z"
   },
   {
    "duration": 0,
    "start_time": "2022-10-18T18:11:22.314Z"
   },
   {
    "duration": 0,
    "start_time": "2022-10-18T18:11:22.315Z"
   },
   {
    "duration": 0,
    "start_time": "2022-10-18T18:11:22.316Z"
   },
   {
    "duration": 0,
    "start_time": "2022-10-18T18:11:22.317Z"
   },
   {
    "duration": 0,
    "start_time": "2022-10-18T18:11:22.318Z"
   },
   {
    "duration": 0,
    "start_time": "2022-10-18T18:11:22.319Z"
   },
   {
    "duration": 0,
    "start_time": "2022-10-18T18:11:22.320Z"
   },
   {
    "duration": 8,
    "start_time": "2022-10-18T18:12:04.510Z"
   },
   {
    "duration": 2131,
    "start_time": "2022-10-18T18:12:07.501Z"
   },
   {
    "duration": 3,
    "start_time": "2022-10-18T18:12:09.635Z"
   },
   {
    "duration": 7,
    "start_time": "2022-10-18T18:12:09.639Z"
   },
   {
    "duration": 66,
    "start_time": "2022-10-18T18:12:09.648Z"
   },
   {
    "duration": 10,
    "start_time": "2022-10-18T18:12:09.716Z"
   },
   {
    "duration": 2,
    "start_time": "2022-10-18T18:12:09.728Z"
   },
   {
    "duration": 7,
    "start_time": "2022-10-18T18:12:09.732Z"
   },
   {
    "duration": 1230,
    "start_time": "2022-10-18T18:12:09.740Z"
   },
   {
    "duration": 6,
    "start_time": "2022-10-18T18:12:10.972Z"
   },
   {
    "duration": 2,
    "start_time": "2022-10-18T18:12:10.981Z"
   },
   {
    "duration": 4917,
    "start_time": "2022-10-18T18:12:10.994Z"
   },
   {
    "duration": 5,
    "start_time": "2022-10-18T18:12:15.912Z"
   },
   {
    "duration": 11,
    "start_time": "2022-10-18T18:12:15.918Z"
   },
   {
    "duration": 6,
    "start_time": "2022-10-18T18:12:15.930Z"
   },
   {
    "duration": 30,
    "start_time": "2022-10-18T18:12:15.937Z"
   },
   {
    "duration": 27,
    "start_time": "2022-10-18T18:12:15.968Z"
   },
   {
    "duration": 7,
    "start_time": "2022-10-18T18:12:15.997Z"
   },
   {
    "duration": 20,
    "start_time": "2022-10-18T18:12:16.006Z"
   },
   {
    "duration": 12,
    "start_time": "2022-10-18T18:12:16.027Z"
   },
   {
    "duration": 6,
    "start_time": "2022-10-18T18:12:16.040Z"
   },
   {
    "duration": 14,
    "start_time": "2022-10-18T18:12:16.047Z"
   },
   {
    "duration": 23,
    "start_time": "2022-10-18T18:12:16.063Z"
   },
   {
    "duration": 1193,
    "start_time": "2022-10-18T18:12:16.087Z"
   },
   {
    "duration": 5,
    "start_time": "2022-10-18T18:12:17.281Z"
   },
   {
    "duration": 18,
    "start_time": "2022-10-18T18:12:17.287Z"
   },
   {
    "duration": 26,
    "start_time": "2022-10-18T18:12:17.306Z"
   },
   {
    "duration": 15,
    "start_time": "2022-10-18T18:12:17.335Z"
   },
   {
    "duration": 296,
    "start_time": "2022-10-18T18:12:17.355Z"
   },
   {
    "duration": 7,
    "start_time": "2022-10-18T18:12:17.652Z"
   },
   {
    "duration": 154,
    "start_time": "2022-10-18T18:12:17.660Z"
   },
   {
    "duration": 7,
    "start_time": "2022-10-18T18:12:17.816Z"
   },
   {
    "duration": 133,
    "start_time": "2022-10-18T18:12:17.824Z"
   },
   {
    "duration": 7,
    "start_time": "2022-10-18T18:12:17.959Z"
   },
   {
    "duration": 183,
    "start_time": "2022-10-18T18:12:17.968Z"
   },
   {
    "duration": 6,
    "start_time": "2022-10-18T18:12:18.153Z"
   },
   {
    "duration": 138,
    "start_time": "2022-10-18T18:12:18.161Z"
   },
   {
    "duration": 7,
    "start_time": "2022-10-18T18:12:18.301Z"
   },
   {
    "duration": 141,
    "start_time": "2022-10-18T18:12:18.310Z"
   },
   {
    "duration": 6,
    "start_time": "2022-10-18T18:12:18.453Z"
   },
   {
    "duration": 141,
    "start_time": "2022-10-18T18:12:18.460Z"
   },
   {
    "duration": 216,
    "start_time": "2022-10-18T18:12:18.603Z"
   },
   {
    "duration": 5,
    "start_time": "2022-10-18T18:12:18.822Z"
   },
   {
    "duration": 18,
    "start_time": "2022-10-18T18:12:18.829Z"
   },
   {
    "duration": 21,
    "start_time": "2022-10-18T18:12:18.849Z"
   },
   {
    "duration": 136,
    "start_time": "2022-10-18T18:12:18.872Z"
   },
   {
    "duration": 6,
    "start_time": "2022-10-18T18:12:19.010Z"
   },
   {
    "duration": 24,
    "start_time": "2022-10-18T18:12:19.017Z"
   },
   {
    "duration": 21,
    "start_time": "2022-10-18T18:12:19.043Z"
   },
   {
    "duration": 13,
    "start_time": "2022-10-18T18:12:19.066Z"
   },
   {
    "duration": 19,
    "start_time": "2022-10-18T18:12:19.094Z"
   },
   {
    "duration": 273,
    "start_time": "2022-10-18T18:12:19.115Z"
   },
   {
    "duration": 15,
    "start_time": "2022-10-18T18:12:19.389Z"
   },
   {
    "duration": 164,
    "start_time": "2022-10-18T18:12:19.405Z"
   },
   {
    "duration": 149,
    "start_time": "2022-10-18T18:12:19.571Z"
   },
   {
    "duration": 158,
    "start_time": "2022-10-18T18:12:19.722Z"
   },
   {
    "duration": 184,
    "start_time": "2022-10-18T18:12:19.881Z"
   },
   {
    "duration": 156,
    "start_time": "2022-10-18T18:12:20.067Z"
   },
   {
    "duration": 170,
    "start_time": "2022-10-18T18:12:20.224Z"
   },
   {
    "duration": 235,
    "start_time": "2022-10-18T18:12:20.396Z"
   },
   {
    "duration": 143,
    "start_time": "2022-10-18T18:12:20.633Z"
   },
   {
    "duration": 168,
    "start_time": "2022-10-18T18:12:20.778Z"
   },
   {
    "duration": 183,
    "start_time": "2022-10-18T18:12:20.947Z"
   },
   {
    "duration": 157,
    "start_time": "2022-10-18T18:12:21.132Z"
   },
   {
    "duration": 178,
    "start_time": "2022-10-18T18:12:21.290Z"
   },
   {
    "duration": 176,
    "start_time": "2022-10-18T18:12:21.471Z"
   },
   {
    "duration": 157,
    "start_time": "2022-10-18T18:12:21.649Z"
   },
   {
    "duration": 156,
    "start_time": "2022-10-18T18:12:21.808Z"
   },
   {
    "duration": 172,
    "start_time": "2022-10-18T18:12:21.966Z"
   },
   {
    "duration": 167,
    "start_time": "2022-10-18T18:13:49.918Z"
   },
   {
    "duration": 251,
    "start_time": "2022-10-18T18:14:28.184Z"
   },
   {
    "duration": 170,
    "start_time": "2022-10-18T18:15:47.855Z"
   },
   {
    "duration": 182,
    "start_time": "2022-10-18T18:21:39.347Z"
   },
   {
    "duration": 160,
    "start_time": "2022-10-18T18:22:45.857Z"
   },
   {
    "duration": 165,
    "start_time": "2022-10-18T18:22:53.605Z"
   },
   {
    "duration": 2631,
    "start_time": "2022-10-19T16:56:46.741Z"
   },
   {
    "duration": 2,
    "start_time": "2022-10-19T16:56:49.374Z"
   },
   {
    "duration": 20,
    "start_time": "2022-10-19T16:56:49.377Z"
   },
   {
    "duration": 50,
    "start_time": "2022-10-19T16:56:49.399Z"
   },
   {
    "duration": 12,
    "start_time": "2022-10-19T16:56:49.451Z"
   },
   {
    "duration": 5,
    "start_time": "2022-10-19T16:56:49.464Z"
   },
   {
    "duration": 13,
    "start_time": "2022-10-19T16:56:49.470Z"
   },
   {
    "duration": 1137,
    "start_time": "2022-10-19T16:56:49.486Z"
   },
   {
    "duration": 5,
    "start_time": "2022-10-19T16:56:50.625Z"
   },
   {
    "duration": 8,
    "start_time": "2022-10-19T16:56:50.633Z"
   },
   {
    "duration": 4715,
    "start_time": "2022-10-19T16:56:50.642Z"
   },
   {
    "duration": 4,
    "start_time": "2022-10-19T16:56:55.359Z"
   },
   {
    "duration": 21,
    "start_time": "2022-10-19T16:56:55.365Z"
   },
   {
    "duration": 4,
    "start_time": "2022-10-19T16:56:55.387Z"
   },
   {
    "duration": 28,
    "start_time": "2022-10-19T16:56:55.399Z"
   },
   {
    "duration": 4,
    "start_time": "2022-10-19T16:56:55.428Z"
   },
   {
    "duration": 24,
    "start_time": "2022-10-19T16:56:55.434Z"
   },
   {
    "duration": 13,
    "start_time": "2022-10-19T16:56:55.459Z"
   },
   {
    "duration": 12,
    "start_time": "2022-10-19T16:56:55.473Z"
   },
   {
    "duration": 10,
    "start_time": "2022-10-19T16:56:55.486Z"
   },
   {
    "duration": 7,
    "start_time": "2022-10-19T16:56:55.498Z"
   },
   {
    "duration": 7,
    "start_time": "2022-10-19T16:56:55.506Z"
   },
   {
    "duration": 1033,
    "start_time": "2022-10-19T16:56:55.514Z"
   },
   {
    "duration": 4,
    "start_time": "2022-10-19T16:56:56.549Z"
   },
   {
    "duration": 6,
    "start_time": "2022-10-19T16:56:56.555Z"
   },
   {
    "duration": 18,
    "start_time": "2022-10-19T16:56:56.562Z"
   },
   {
    "duration": 18,
    "start_time": "2022-10-19T16:56:56.582Z"
   },
   {
    "duration": 271,
    "start_time": "2022-10-19T16:56:56.604Z"
   },
   {
    "duration": 6,
    "start_time": "2022-10-19T16:56:56.877Z"
   },
   {
    "duration": 131,
    "start_time": "2022-10-19T16:56:56.884Z"
   },
   {
    "duration": 5,
    "start_time": "2022-10-19T16:56:57.017Z"
   },
   {
    "duration": 138,
    "start_time": "2022-10-19T16:56:57.024Z"
   },
   {
    "duration": 5,
    "start_time": "2022-10-19T16:56:57.164Z"
   },
   {
    "duration": 141,
    "start_time": "2022-10-19T16:56:57.171Z"
   },
   {
    "duration": 4,
    "start_time": "2022-10-19T16:56:57.314Z"
   },
   {
    "duration": 117,
    "start_time": "2022-10-19T16:56:57.320Z"
   },
   {
    "duration": 6,
    "start_time": "2022-10-19T16:56:57.439Z"
   },
   {
    "duration": 207,
    "start_time": "2022-10-19T16:56:57.447Z"
   },
   {
    "duration": 6,
    "start_time": "2022-10-19T16:56:57.655Z"
   },
   {
    "duration": 120,
    "start_time": "2022-10-19T16:56:57.663Z"
   },
   {
    "duration": 106,
    "start_time": "2022-10-19T16:56:57.785Z"
   },
   {
    "duration": 5,
    "start_time": "2022-10-19T16:56:57.899Z"
   },
   {
    "duration": 25,
    "start_time": "2022-10-19T16:56:57.906Z"
   },
   {
    "duration": 16,
    "start_time": "2022-10-19T16:56:57.933Z"
   },
   {
    "duration": 119,
    "start_time": "2022-10-19T16:56:57.950Z"
   },
   {
    "duration": 4,
    "start_time": "2022-10-19T16:56:58.071Z"
   },
   {
    "duration": 24,
    "start_time": "2022-10-19T16:56:58.077Z"
   },
   {
    "duration": 29,
    "start_time": "2022-10-19T16:56:58.102Z"
   },
   {
    "duration": 10,
    "start_time": "2022-10-19T16:56:58.133Z"
   },
   {
    "duration": 11,
    "start_time": "2022-10-19T16:56:58.144Z"
   },
   {
    "duration": 257,
    "start_time": "2022-10-19T16:56:58.156Z"
   },
   {
    "duration": 12,
    "start_time": "2022-10-19T16:56:58.415Z"
   },
   {
    "duration": 163,
    "start_time": "2022-10-19T16:56:58.429Z"
   },
   {
    "duration": 138,
    "start_time": "2022-10-19T16:56:58.594Z"
   },
   {
    "duration": 141,
    "start_time": "2022-10-19T16:56:58.734Z"
   },
   {
    "duration": 165,
    "start_time": "2022-10-19T16:56:58.877Z"
   },
   {
    "duration": 205,
    "start_time": "2022-10-19T16:56:59.044Z"
   },
   {
    "duration": 150,
    "start_time": "2022-10-19T16:56:59.250Z"
   },
   {
    "duration": 151,
    "start_time": "2022-10-19T16:56:59.402Z"
   },
   {
    "duration": 129,
    "start_time": "2022-10-19T16:56:59.555Z"
   },
   {
    "duration": 140,
    "start_time": "2022-10-19T16:56:59.686Z"
   },
   {
    "duration": 157,
    "start_time": "2022-10-19T16:56:59.828Z"
   },
   {
    "duration": 154,
    "start_time": "2022-10-19T16:56:59.987Z"
   },
   {
    "duration": 157,
    "start_time": "2022-10-19T16:57:00.143Z"
   },
   {
    "duration": 162,
    "start_time": "2022-10-19T16:57:00.303Z"
   },
   {
    "duration": 149,
    "start_time": "2022-10-19T16:57:00.467Z"
   },
   {
    "duration": 132,
    "start_time": "2022-10-19T16:57:00.618Z"
   },
   {
    "duration": 254,
    "start_time": "2022-10-19T16:57:00.752Z"
   },
   {
    "duration": 4,
    "start_time": "2022-10-19T17:00:03.652Z"
   },
   {
    "duration": 8,
    "start_time": "2022-10-19T17:00:35.475Z"
   },
   {
    "duration": 183,
    "start_time": "2022-10-19T17:03:50.740Z"
   },
   {
    "duration": 114,
    "start_time": "2022-10-19T17:06:33.264Z"
   },
   {
    "duration": 194,
    "start_time": "2022-10-19T17:07:28.696Z"
   },
   {
    "duration": 196,
    "start_time": "2022-10-19T17:08:06.059Z"
   },
   {
    "duration": 246,
    "start_time": "2022-10-19T17:08:13.884Z"
   },
   {
    "duration": 194,
    "start_time": "2022-10-19T17:08:21.217Z"
   },
   {
    "duration": 188,
    "start_time": "2022-10-19T17:08:28.465Z"
   },
   {
    "duration": 173,
    "start_time": "2022-10-19T17:09:13.666Z"
   },
   {
    "duration": 186,
    "start_time": "2022-10-19T17:09:26.828Z"
   },
   {
    "duration": 178,
    "start_time": "2022-10-19T17:10:22.673Z"
   },
   {
    "duration": 254,
    "start_time": "2022-10-19T17:11:44.697Z"
   },
   {
    "duration": 191,
    "start_time": "2022-10-19T17:11:52.765Z"
   },
   {
    "duration": 173,
    "start_time": "2022-10-19T17:13:00.108Z"
   },
   {
    "duration": 177,
    "start_time": "2022-10-19T17:13:09.261Z"
   },
   {
    "duration": 179,
    "start_time": "2022-10-19T17:13:16.301Z"
   },
   {
    "duration": 184,
    "start_time": "2022-10-19T17:13:20.846Z"
   },
   {
    "duration": 178,
    "start_time": "2022-10-19T17:18:08.716Z"
   },
   {
    "duration": 176,
    "start_time": "2022-10-19T17:18:18.704Z"
   },
   {
    "duration": 11,
    "start_time": "2022-10-19T17:41:02.184Z"
   },
   {
    "duration": 7,
    "start_time": "2022-10-19T17:41:38.923Z"
   },
   {
    "duration": 1247,
    "start_time": "2022-10-19T17:42:23.633Z"
   },
   {
    "duration": 7,
    "start_time": "2022-10-19T17:42:31.718Z"
   },
   {
    "duration": 70,
    "start_time": "2022-10-19T17:58:39.216Z"
   },
   {
    "duration": 794,
    "start_time": "2022-10-19T17:58:49.114Z"
   },
   {
    "duration": 20,
    "start_time": "2022-10-19T17:58:58.325Z"
   },
   {
    "duration": 16,
    "start_time": "2022-10-19T17:59:09.229Z"
   },
   {
    "duration": 2462,
    "start_time": "2022-10-19T18:01:39.432Z"
   },
   {
    "duration": 3,
    "start_time": "2022-10-19T18:01:41.895Z"
   },
   {
    "duration": 8,
    "start_time": "2022-10-19T18:01:41.899Z"
   },
   {
    "duration": 50,
    "start_time": "2022-10-19T18:01:41.909Z"
   },
   {
    "duration": 47,
    "start_time": "2022-10-19T18:01:41.961Z"
   },
   {
    "duration": 2,
    "start_time": "2022-10-19T18:01:42.011Z"
   },
   {
    "duration": 10,
    "start_time": "2022-10-19T18:01:42.015Z"
   },
   {
    "duration": 1134,
    "start_time": "2022-10-19T18:01:42.026Z"
   },
   {
    "duration": 6,
    "start_time": "2022-10-19T18:01:43.161Z"
   },
   {
    "duration": 2,
    "start_time": "2022-10-19T18:01:43.170Z"
   },
   {
    "duration": 4616,
    "start_time": "2022-10-19T18:01:43.174Z"
   },
   {
    "duration": 4,
    "start_time": "2022-10-19T18:01:47.801Z"
   },
   {
    "duration": 12,
    "start_time": "2022-10-19T18:01:47.807Z"
   },
   {
    "duration": 8,
    "start_time": "2022-10-19T18:01:47.821Z"
   },
   {
    "duration": 30,
    "start_time": "2022-10-19T18:01:47.830Z"
   },
   {
    "duration": 4,
    "start_time": "2022-10-19T18:01:47.861Z"
   },
   {
    "duration": 5,
    "start_time": "2022-10-19T18:01:47.866Z"
   },
   {
    "duration": 28,
    "start_time": "2022-10-19T18:01:47.872Z"
   },
   {
    "duration": 4,
    "start_time": "2022-10-19T18:01:47.901Z"
   },
   {
    "duration": 7,
    "start_time": "2022-10-19T18:01:47.906Z"
   },
   {
    "duration": 6,
    "start_time": "2022-10-19T18:01:47.914Z"
   },
   {
    "duration": 15,
    "start_time": "2022-10-19T18:01:47.921Z"
   },
   {
    "duration": 1002,
    "start_time": "2022-10-19T18:01:47.937Z"
   },
   {
    "duration": 4,
    "start_time": "2022-10-19T18:01:48.940Z"
   },
   {
    "duration": 16,
    "start_time": "2022-10-19T18:01:48.946Z"
   },
   {
    "duration": 29,
    "start_time": "2022-10-19T18:01:48.964Z"
   },
   {
    "duration": 9,
    "start_time": "2022-10-19T18:01:48.994Z"
   },
   {
    "duration": 250,
    "start_time": "2022-10-19T18:01:49.006Z"
   },
   {
    "duration": 6,
    "start_time": "2022-10-19T18:01:49.257Z"
   },
   {
    "duration": 117,
    "start_time": "2022-10-19T18:01:49.264Z"
   },
   {
    "duration": 17,
    "start_time": "2022-10-19T18:01:49.383Z"
   },
   {
    "duration": 117,
    "start_time": "2022-10-19T18:01:49.401Z"
   },
   {
    "duration": 5,
    "start_time": "2022-10-19T18:01:49.519Z"
   },
   {
    "duration": 141,
    "start_time": "2022-10-19T18:01:49.526Z"
   },
   {
    "duration": 6,
    "start_time": "2022-10-19T18:01:49.668Z"
   },
   {
    "duration": 111,
    "start_time": "2022-10-19T18:01:49.675Z"
   },
   {
    "duration": 13,
    "start_time": "2022-10-19T18:01:49.787Z"
   },
   {
    "duration": 190,
    "start_time": "2022-10-19T18:01:49.802Z"
   },
   {
    "duration": 5,
    "start_time": "2022-10-19T18:01:50.000Z"
   },
   {
    "duration": 121,
    "start_time": "2022-10-19T18:01:50.007Z"
   },
   {
    "duration": 104,
    "start_time": "2022-10-19T18:01:50.129Z"
   },
   {
    "duration": 4,
    "start_time": "2022-10-19T18:01:50.235Z"
   },
   {
    "duration": 19,
    "start_time": "2022-10-19T18:01:50.240Z"
   },
   {
    "duration": 14,
    "start_time": "2022-10-19T18:01:50.260Z"
   },
   {
    "duration": 114,
    "start_time": "2022-10-19T18:01:50.276Z"
   },
   {
    "duration": 11,
    "start_time": "2022-10-19T18:01:50.392Z"
   },
   {
    "duration": 25,
    "start_time": "2022-10-19T18:01:50.404Z"
   },
   {
    "duration": 20,
    "start_time": "2022-10-19T18:01:50.431Z"
   },
   {
    "duration": 17,
    "start_time": "2022-10-19T18:01:50.453Z"
   },
   {
    "duration": 11,
    "start_time": "2022-10-19T18:01:50.471Z"
   },
   {
    "duration": 254,
    "start_time": "2022-10-19T18:01:50.483Z"
   },
   {
    "duration": 11,
    "start_time": "2022-10-19T18:01:50.739Z"
   },
   {
    "duration": 143,
    "start_time": "2022-10-19T18:01:50.751Z"
   },
   {
    "duration": 136,
    "start_time": "2022-10-19T18:01:50.896Z"
   },
   {
    "duration": 131,
    "start_time": "2022-10-19T18:01:51.048Z"
   },
   {
    "duration": 159,
    "start_time": "2022-10-19T18:01:51.181Z"
   },
   {
    "duration": 213,
    "start_time": "2022-10-19T18:01:51.342Z"
   },
   {
    "duration": 185,
    "start_time": "2022-10-19T18:01:51.557Z"
   },
   {
    "duration": 140,
    "start_time": "2022-10-19T18:01:51.743Z"
   },
   {
    "duration": 133,
    "start_time": "2022-10-19T18:01:51.885Z"
   },
   {
    "duration": 142,
    "start_time": "2022-10-19T18:01:52.020Z"
   },
   {
    "duration": 161,
    "start_time": "2022-10-19T18:01:52.164Z"
   },
   {
    "duration": 134,
    "start_time": "2022-10-19T18:01:52.327Z"
   },
   {
    "duration": 152,
    "start_time": "2022-10-19T18:01:52.463Z"
   },
   {
    "duration": 153,
    "start_time": "2022-10-19T18:01:52.616Z"
   },
   {
    "duration": 145,
    "start_time": "2022-10-19T18:01:52.771Z"
   },
   {
    "duration": 130,
    "start_time": "2022-10-19T18:01:52.919Z"
   },
   {
    "duration": 242,
    "start_time": "2022-10-19T18:01:53.052Z"
   },
   {
    "duration": 10,
    "start_time": "2022-10-19T18:01:53.295Z"
   },
   {
    "duration": 205,
    "start_time": "2022-10-19T18:01:53.306Z"
   },
   {
    "duration": 199,
    "start_time": "2022-10-19T18:01:53.513Z"
   },
   {
    "duration": 196,
    "start_time": "2022-10-19T18:01:53.714Z"
   },
   {
    "duration": 191,
    "start_time": "2022-10-19T18:01:53.912Z"
   },
   {
    "duration": 181,
    "start_time": "2022-10-19T18:01:54.105Z"
   },
   {
    "duration": 206,
    "start_time": "2022-10-19T18:01:54.287Z"
   },
   {
    "duration": 14,
    "start_time": "2022-10-19T18:01:54.495Z"
   },
   {
    "duration": 6,
    "start_time": "2022-10-19T18:02:09.208Z"
   },
   {
    "duration": 5,
    "start_time": "2022-10-19T18:05:17.949Z"
   },
   {
    "duration": 2582,
    "start_time": "2022-10-19T18:05:33.198Z"
   },
   {
    "duration": 2,
    "start_time": "2022-10-19T18:05:35.783Z"
   },
   {
    "duration": 24,
    "start_time": "2022-10-19T18:05:35.787Z"
   },
   {
    "duration": 72,
    "start_time": "2022-10-19T18:05:35.813Z"
   },
   {
    "duration": 9,
    "start_time": "2022-10-19T18:05:35.886Z"
   },
   {
    "duration": 1155,
    "start_time": "2022-10-19T18:05:35.897Z"
   },
   {
    "duration": 4,
    "start_time": "2022-10-19T18:05:37.054Z"
   },
   {
    "duration": 8,
    "start_time": "2022-10-19T18:05:37.059Z"
   },
   {
    "duration": 11,
    "start_time": "2022-10-19T18:05:37.069Z"
   },
   {
    "duration": 4648,
    "start_time": "2022-10-19T18:05:37.082Z"
   },
   {
    "duration": 5,
    "start_time": "2022-10-19T18:05:41.731Z"
   },
   {
    "duration": 11,
    "start_time": "2022-10-19T18:05:41.737Z"
   },
   {
    "duration": 5,
    "start_time": "2022-10-19T18:05:41.749Z"
   },
   {
    "duration": 29,
    "start_time": "2022-10-19T18:05:41.755Z"
   },
   {
    "duration": 18,
    "start_time": "2022-10-19T18:05:41.785Z"
   },
   {
    "duration": 7,
    "start_time": "2022-10-19T18:05:41.804Z"
   },
   {
    "duration": 12,
    "start_time": "2022-10-19T18:05:41.812Z"
   },
   {
    "duration": 9,
    "start_time": "2022-10-19T18:05:41.825Z"
   },
   {
    "duration": 16,
    "start_time": "2022-10-19T18:05:41.835Z"
   },
   {
    "duration": 12,
    "start_time": "2022-10-19T18:05:41.852Z"
   },
   {
    "duration": 13,
    "start_time": "2022-10-19T18:05:41.865Z"
   },
   {
    "duration": 1010,
    "start_time": "2022-10-19T18:05:41.880Z"
   },
   {
    "duration": 8,
    "start_time": "2022-10-19T18:05:42.892Z"
   },
   {
    "duration": 10,
    "start_time": "2022-10-19T18:05:42.901Z"
   },
   {
    "duration": 20,
    "start_time": "2022-10-19T18:05:42.913Z"
   },
   {
    "duration": 9,
    "start_time": "2022-10-19T18:05:42.934Z"
   },
   {
    "duration": 291,
    "start_time": "2022-10-19T18:05:42.945Z"
   },
   {
    "duration": 6,
    "start_time": "2022-10-19T18:05:43.239Z"
   },
   {
    "duration": 109,
    "start_time": "2022-10-19T18:05:43.246Z"
   },
   {
    "duration": 6,
    "start_time": "2022-10-19T18:05:43.356Z"
   },
   {
    "duration": 131,
    "start_time": "2022-10-19T18:05:43.363Z"
   },
   {
    "duration": 5,
    "start_time": "2022-10-19T18:05:43.500Z"
   },
   {
    "duration": 137,
    "start_time": "2022-10-19T18:05:43.506Z"
   },
   {
    "duration": 4,
    "start_time": "2022-10-19T18:05:43.644Z"
   },
   {
    "duration": 113,
    "start_time": "2022-10-19T18:05:43.650Z"
   },
   {
    "duration": 5,
    "start_time": "2022-10-19T18:05:43.765Z"
   },
   {
    "duration": 212,
    "start_time": "2022-10-19T18:05:43.772Z"
   },
   {
    "duration": 16,
    "start_time": "2022-10-19T18:05:43.985Z"
   },
   {
    "duration": 142,
    "start_time": "2022-10-19T18:05:44.003Z"
   },
   {
    "duration": 122,
    "start_time": "2022-10-19T18:05:44.147Z"
   },
   {
    "duration": 6,
    "start_time": "2022-10-19T18:05:44.270Z"
   },
   {
    "duration": 9,
    "start_time": "2022-10-19T18:05:44.277Z"
   },
   {
    "duration": 6,
    "start_time": "2022-10-19T18:05:44.300Z"
   },
   {
    "duration": 149,
    "start_time": "2022-10-19T18:05:44.308Z"
   },
   {
    "duration": 5,
    "start_time": "2022-10-19T18:05:44.459Z"
   },
   {
    "duration": 33,
    "start_time": "2022-10-19T18:05:44.465Z"
   },
   {
    "duration": 21,
    "start_time": "2022-10-19T18:05:44.501Z"
   },
   {
    "duration": 17,
    "start_time": "2022-10-19T18:05:44.524Z"
   },
   {
    "duration": 17,
    "start_time": "2022-10-19T18:05:44.543Z"
   },
   {
    "duration": 289,
    "start_time": "2022-10-19T18:05:44.563Z"
   },
   {
    "duration": 11,
    "start_time": "2022-10-19T18:05:44.853Z"
   },
   {
    "duration": 135,
    "start_time": "2022-10-19T18:05:44.865Z"
   },
   {
    "duration": 131,
    "start_time": "2022-10-19T18:05:45.002Z"
   },
   {
    "duration": 140,
    "start_time": "2022-10-19T18:05:45.135Z"
   },
   {
    "duration": 158,
    "start_time": "2022-10-19T18:05:45.277Z"
   },
   {
    "duration": 198,
    "start_time": "2022-10-19T18:05:45.437Z"
   },
   {
    "duration": 137,
    "start_time": "2022-10-19T18:05:45.637Z"
   },
   {
    "duration": 138,
    "start_time": "2022-10-19T18:05:45.775Z"
   },
   {
    "duration": 113,
    "start_time": "2022-10-19T18:05:45.914Z"
   },
   {
    "duration": 148,
    "start_time": "2022-10-19T18:05:46.029Z"
   },
   {
    "duration": 149,
    "start_time": "2022-10-19T18:05:46.178Z"
   },
   {
    "duration": 150,
    "start_time": "2022-10-19T18:05:46.329Z"
   },
   {
    "duration": 169,
    "start_time": "2022-10-19T18:05:46.481Z"
   },
   {
    "duration": 171,
    "start_time": "2022-10-19T18:05:46.652Z"
   },
   {
    "duration": 138,
    "start_time": "2022-10-19T18:05:46.824Z"
   },
   {
    "duration": 123,
    "start_time": "2022-10-19T18:05:46.964Z"
   },
   {
    "duration": 235,
    "start_time": "2022-10-19T18:05:47.088Z"
   },
   {
    "duration": 7,
    "start_time": "2022-10-19T18:05:47.324Z"
   },
   {
    "duration": 208,
    "start_time": "2022-10-19T18:05:47.332Z"
   },
   {
    "duration": 199,
    "start_time": "2022-10-19T18:05:47.541Z"
   },
   {
    "duration": 199,
    "start_time": "2022-10-19T18:05:47.742Z"
   },
   {
    "duration": 195,
    "start_time": "2022-10-19T18:05:47.943Z"
   },
   {
    "duration": 174,
    "start_time": "2022-10-19T18:05:48.139Z"
   },
   {
    "duration": 194,
    "start_time": "2022-10-19T18:05:48.314Z"
   },
   {
    "duration": 8,
    "start_time": "2022-10-19T18:05:48.510Z"
   },
   {
    "duration": 47,
    "start_time": "2022-10-19T18:40:31.811Z"
   },
   {
    "duration": 14,
    "start_time": "2022-10-19T18:41:01.165Z"
   },
   {
    "duration": 46,
    "start_time": "2022-10-19T22:03:56.618Z"
   },
   {
    "duration": 2577,
    "start_time": "2022-10-19T22:04:01.362Z"
   },
   {
    "duration": 3,
    "start_time": "2022-10-19T22:04:03.940Z"
   },
   {
    "duration": 9,
    "start_time": "2022-10-19T22:04:03.944Z"
   },
   {
    "duration": 48,
    "start_time": "2022-10-19T22:04:03.954Z"
   },
   {
    "duration": 9,
    "start_time": "2022-10-19T22:04:04.004Z"
   },
   {
    "duration": 1218,
    "start_time": "2022-10-19T22:04:04.015Z"
   },
   {
    "duration": 4,
    "start_time": "2022-10-19T22:04:05.235Z"
   },
   {
    "duration": 18,
    "start_time": "2022-10-19T22:04:05.240Z"
   },
   {
    "duration": 4519,
    "start_time": "2022-10-19T22:04:05.260Z"
   },
   {
    "duration": 4,
    "start_time": "2022-10-19T22:04:09.782Z"
   },
   {
    "duration": 9,
    "start_time": "2022-10-19T22:04:09.800Z"
   },
   {
    "duration": 5,
    "start_time": "2022-10-19T22:04:09.810Z"
   },
   {
    "duration": 34,
    "start_time": "2022-10-19T22:04:09.816Z"
   },
   {
    "duration": 4,
    "start_time": "2022-10-19T22:04:09.851Z"
   },
   {
    "duration": 10,
    "start_time": "2022-10-19T22:04:09.856Z"
   },
   {
    "duration": 3,
    "start_time": "2022-10-19T22:04:09.868Z"
   },
   {
    "duration": 28,
    "start_time": "2022-10-19T22:04:09.872Z"
   },
   {
    "duration": 4,
    "start_time": "2022-10-19T22:04:09.901Z"
   },
   {
    "duration": 13,
    "start_time": "2022-10-19T22:04:09.906Z"
   },
   {
    "duration": 664,
    "start_time": "2022-10-19T22:04:09.920Z"
   },
   {
    "duration": 589,
    "start_time": "2022-10-19T22:04:24.452Z"
   },
   {
    "duration": 543,
    "start_time": "2022-10-19T22:04:36.872Z"
   },
   {
    "duration": 405,
    "start_time": "2022-10-19T22:10:38.512Z"
   },
   {
    "duration": 352,
    "start_time": "2022-10-19T22:10:45.635Z"
   },
   {
    "duration": 362,
    "start_time": "2022-10-19T22:12:38.939Z"
   },
   {
    "duration": 390,
    "start_time": "2022-10-19T22:13:59.558Z"
   },
   {
    "duration": 679,
    "start_time": "2022-10-19T22:15:52.215Z"
   },
   {
    "duration": 15,
    "start_time": "2022-10-19T22:17:36.685Z"
   },
   {
    "duration": 2424,
    "start_time": "2022-10-19T22:17:46.262Z"
   },
   {
    "duration": 2,
    "start_time": "2022-10-19T22:17:48.688Z"
   },
   {
    "duration": 13,
    "start_time": "2022-10-19T22:17:48.691Z"
   },
   {
    "duration": 46,
    "start_time": "2022-10-19T22:17:48.706Z"
   },
   {
    "duration": 9,
    "start_time": "2022-10-19T22:17:48.754Z"
   },
   {
    "duration": 1162,
    "start_time": "2022-10-19T22:17:48.764Z"
   },
   {
    "duration": 5,
    "start_time": "2022-10-19T22:17:49.928Z"
   },
   {
    "duration": 7,
    "start_time": "2022-10-19T22:17:49.934Z"
   },
   {
    "duration": 4622,
    "start_time": "2022-10-19T22:17:49.942Z"
   },
   {
    "duration": 4,
    "start_time": "2022-10-19T22:17:54.567Z"
   },
   {
    "duration": 11,
    "start_time": "2022-10-19T22:17:54.573Z"
   },
   {
    "duration": 5,
    "start_time": "2022-10-19T22:17:54.600Z"
   },
   {
    "duration": 32,
    "start_time": "2022-10-19T22:17:54.606Z"
   },
   {
    "duration": 4,
    "start_time": "2022-10-19T22:17:54.639Z"
   },
   {
    "duration": 9,
    "start_time": "2022-10-19T22:17:54.644Z"
   },
   {
    "duration": 4,
    "start_time": "2022-10-19T22:17:54.654Z"
   },
   {
    "duration": 5,
    "start_time": "2022-10-19T22:17:54.659Z"
   },
   {
    "duration": 9,
    "start_time": "2022-10-19T22:17:54.665Z"
   },
   {
    "duration": 31,
    "start_time": "2022-10-19T22:17:54.675Z"
   },
   {
    "duration": 570,
    "start_time": "2022-10-19T22:17:54.707Z"
   },
   {
    "duration": 6,
    "start_time": "2022-10-19T22:17:55.279Z"
   },
   {
    "duration": 123,
    "start_time": "2022-10-19T22:17:55.286Z"
   },
   {
    "duration": 4,
    "start_time": "2022-10-19T22:17:55.411Z"
   },
   {
    "duration": 138,
    "start_time": "2022-10-19T22:17:55.416Z"
   },
   {
    "duration": 6,
    "start_time": "2022-10-19T22:17:55.561Z"
   },
   {
    "duration": 151,
    "start_time": "2022-10-19T22:17:55.569Z"
   },
   {
    "duration": 5,
    "start_time": "2022-10-19T22:17:55.722Z"
   },
   {
    "duration": 130,
    "start_time": "2022-10-19T22:17:55.730Z"
   },
   {
    "duration": 5,
    "start_time": "2022-10-19T22:17:55.862Z"
   },
   {
    "duration": 116,
    "start_time": "2022-10-19T22:17:55.868Z"
   },
   {
    "duration": 15,
    "start_time": "2022-10-19T22:17:55.986Z"
   },
   {
    "duration": 123,
    "start_time": "2022-10-19T22:17:56.003Z"
   },
   {
    "duration": 105,
    "start_time": "2022-10-19T22:17:56.128Z"
   },
   {
    "duration": 5,
    "start_time": "2022-10-19T22:17:56.235Z"
   },
   {
    "duration": 17,
    "start_time": "2022-10-19T22:17:56.241Z"
   },
   {
    "duration": 7,
    "start_time": "2022-10-19T22:17:56.260Z"
   },
   {
    "duration": 140,
    "start_time": "2022-10-19T22:17:56.268Z"
   },
   {
    "duration": 4,
    "start_time": "2022-10-19T22:17:56.409Z"
   },
   {
    "duration": 19,
    "start_time": "2022-10-19T22:17:56.415Z"
   },
   {
    "duration": 11,
    "start_time": "2022-10-19T22:17:56.436Z"
   },
   {
    "duration": 10,
    "start_time": "2022-10-19T22:17:56.449Z"
   },
   {
    "duration": 12,
    "start_time": "2022-10-19T22:17:56.460Z"
   },
   {
    "duration": 286,
    "start_time": "2022-10-19T22:17:56.474Z"
   },
   {
    "duration": 11,
    "start_time": "2022-10-19T22:17:56.762Z"
   },
   {
    "duration": 139,
    "start_time": "2022-10-19T22:17:56.774Z"
   },
   {
    "duration": 206,
    "start_time": "2022-10-19T22:17:56.915Z"
   },
   {
    "duration": 140,
    "start_time": "2022-10-19T22:17:57.122Z"
   },
   {
    "duration": 157,
    "start_time": "2022-10-19T22:17:57.264Z"
   },
   {
    "duration": 138,
    "start_time": "2022-10-19T22:17:57.423Z"
   },
   {
    "duration": 139,
    "start_time": "2022-10-19T22:17:57.563Z"
   },
   {
    "duration": 135,
    "start_time": "2022-10-19T22:17:57.704Z"
   },
   {
    "duration": 113,
    "start_time": "2022-10-19T22:17:57.840Z"
   },
   {
    "duration": 132,
    "start_time": "2022-10-19T22:17:57.955Z"
   },
   {
    "duration": 148,
    "start_time": "2022-10-19T22:17:58.089Z"
   },
   {
    "duration": 139,
    "start_time": "2022-10-19T22:17:58.239Z"
   },
   {
    "duration": 146,
    "start_time": "2022-10-19T22:17:58.379Z"
   },
   {
    "duration": 221,
    "start_time": "2022-10-19T22:17:58.527Z"
   },
   {
    "duration": 131,
    "start_time": "2022-10-19T22:17:58.750Z"
   },
   {
    "duration": 127,
    "start_time": "2022-10-19T22:17:58.882Z"
   },
   {
    "duration": 165,
    "start_time": "2022-10-19T22:17:59.011Z"
   },
   {
    "duration": 6,
    "start_time": "2022-10-19T22:17:59.178Z"
   },
   {
    "duration": 200,
    "start_time": "2022-10-19T22:17:59.186Z"
   },
   {
    "duration": 193,
    "start_time": "2022-10-19T22:17:59.387Z"
   },
   {
    "duration": 198,
    "start_time": "2022-10-19T22:17:59.581Z"
   },
   {
    "duration": 183,
    "start_time": "2022-10-19T22:17:59.781Z"
   },
   {
    "duration": 176,
    "start_time": "2022-10-19T22:17:59.966Z"
   },
   {
    "duration": 193,
    "start_time": "2022-10-19T22:18:00.144Z"
   },
   {
    "duration": 8,
    "start_time": "2022-10-19T22:18:00.338Z"
   },
   {
    "duration": 615,
    "start_time": "2022-10-19T22:19:32.340Z"
   },
   {
    "duration": 388,
    "start_time": "2022-10-19T22:21:04.958Z"
   },
   {
    "duration": 1823,
    "start_time": "2022-10-19T22:21:18.924Z"
   },
   {
    "duration": 3,
    "start_time": "2022-10-19T22:21:20.748Z"
   },
   {
    "duration": 10,
    "start_time": "2022-10-19T22:21:20.753Z"
   },
   {
    "duration": 57,
    "start_time": "2022-10-19T22:21:20.765Z"
   },
   {
    "duration": 9,
    "start_time": "2022-10-19T22:21:20.824Z"
   },
   {
    "duration": 1197,
    "start_time": "2022-10-19T22:21:20.835Z"
   },
   {
    "duration": 4,
    "start_time": "2022-10-19T22:21:22.034Z"
   },
   {
    "duration": 9,
    "start_time": "2022-10-19T22:21:22.040Z"
   },
   {
    "duration": 4876,
    "start_time": "2022-10-19T22:21:22.050Z"
   },
   {
    "duration": 6,
    "start_time": "2022-10-19T22:21:26.929Z"
   },
   {
    "duration": 10,
    "start_time": "2022-10-19T22:21:26.937Z"
   },
   {
    "duration": 5,
    "start_time": "2022-10-19T22:21:26.949Z"
   },
   {
    "duration": 50,
    "start_time": "2022-10-19T22:21:26.956Z"
   },
   {
    "duration": 6,
    "start_time": "2022-10-19T22:21:27.008Z"
   },
   {
    "duration": 14,
    "start_time": "2022-10-19T22:21:27.016Z"
   },
   {
    "duration": 5,
    "start_time": "2022-10-19T22:21:27.032Z"
   },
   {
    "duration": 16,
    "start_time": "2022-10-19T22:21:27.039Z"
   },
   {
    "duration": 7,
    "start_time": "2022-10-19T22:21:27.056Z"
   },
   {
    "duration": 15,
    "start_time": "2022-10-19T22:21:27.064Z"
   },
   {
    "duration": 669,
    "start_time": "2022-10-19T22:21:27.081Z"
   },
   {
    "duration": 7,
    "start_time": "2022-10-19T22:21:27.752Z"
   },
   {
    "duration": 681,
    "start_time": "2022-10-19T22:21:27.760Z"
   },
   {
    "duration": 6,
    "start_time": "2022-10-19T22:21:28.443Z"
   },
   {
    "duration": 389,
    "start_time": "2022-10-19T22:21:28.450Z"
   },
   {
    "duration": 24,
    "start_time": "2022-10-19T22:22:15.250Z"
   },
   {
    "duration": 27,
    "start_time": "2022-10-19T22:22:38.384Z"
   },
   {
    "duration": 35,
    "start_time": "2022-10-19T22:23:00.268Z"
   },
   {
    "duration": 451,
    "start_time": "2022-10-19T22:25:44.286Z"
   },
   {
    "duration": 3,
    "start_time": "2022-10-19T22:25:47.265Z"
   },
   {
    "duration": 108,
    "start_time": "2022-10-19T22:28:10.553Z"
   },
   {
    "duration": 443,
    "start_time": "2022-10-19T22:29:21.873Z"
   },
   {
    "duration": 385,
    "start_time": "2022-10-19T22:29:30.652Z"
   },
   {
    "duration": 404,
    "start_time": "2022-10-19T22:30:41.464Z"
   },
   {
    "duration": 80,
    "start_time": "2022-10-19T22:31:59.566Z"
   },
   {
    "duration": 34,
    "start_time": "2022-10-19T22:32:09.167Z"
   },
   {
    "duration": 23,
    "start_time": "2022-10-19T22:32:16.936Z"
   },
   {
    "duration": 621,
    "start_time": "2022-10-19T22:33:09.660Z"
   },
   {
    "duration": 548,
    "start_time": "2022-10-19T22:33:46.620Z"
   },
   {
    "duration": 618,
    "start_time": "2022-10-19T22:33:59.952Z"
   },
   {
    "duration": 6,
    "start_time": "2022-10-19T22:34:29.898Z"
   },
   {
    "duration": 550,
    "start_time": "2022-10-19T22:34:45.029Z"
   },
   {
    "duration": 557,
    "start_time": "2022-10-19T22:34:52.878Z"
   },
   {
    "duration": 637,
    "start_time": "2022-10-19T22:35:14.923Z"
   },
   {
    "duration": 392,
    "start_time": "2022-10-19T22:36:13.952Z"
   },
   {
    "duration": 1779,
    "start_time": "2022-10-19T22:36:25.617Z"
   },
   {
    "duration": 2,
    "start_time": "2022-10-19T22:36:27.400Z"
   },
   {
    "duration": 43,
    "start_time": "2022-10-19T22:36:27.404Z"
   },
   {
    "duration": 48,
    "start_time": "2022-10-19T22:36:27.449Z"
   },
   {
    "duration": 9,
    "start_time": "2022-10-19T22:36:27.498Z"
   },
   {
    "duration": 1172,
    "start_time": "2022-10-19T22:36:27.508Z"
   },
   {
    "duration": 4,
    "start_time": "2022-10-19T22:36:28.682Z"
   },
   {
    "duration": 14,
    "start_time": "2022-10-19T22:36:28.688Z"
   },
   {
    "duration": 4567,
    "start_time": "2022-10-19T22:36:28.704Z"
   },
   {
    "duration": 5,
    "start_time": "2022-10-19T22:36:33.274Z"
   },
   {
    "duration": 26,
    "start_time": "2022-10-19T22:36:33.281Z"
   },
   {
    "duration": 4,
    "start_time": "2022-10-19T22:36:33.309Z"
   },
   {
    "duration": 28,
    "start_time": "2022-10-19T22:36:33.315Z"
   },
   {
    "duration": 4,
    "start_time": "2022-10-19T22:36:33.344Z"
   },
   {
    "duration": 10,
    "start_time": "2022-10-19T22:36:33.350Z"
   },
   {
    "duration": 5,
    "start_time": "2022-10-19T22:36:33.362Z"
   },
   {
    "duration": 6,
    "start_time": "2022-10-19T22:36:33.401Z"
   },
   {
    "duration": 6,
    "start_time": "2022-10-19T22:36:33.408Z"
   },
   {
    "duration": 18,
    "start_time": "2022-10-19T22:36:33.415Z"
   },
   {
    "duration": 611,
    "start_time": "2022-10-19T22:36:33.435Z"
   },
   {
    "duration": 6,
    "start_time": "2022-10-19T22:36:34.047Z"
   },
   {
    "duration": 716,
    "start_time": "2022-10-19T22:36:34.055Z"
   },
   {
    "duration": 7,
    "start_time": "2022-10-19T22:36:34.772Z"
   },
   {
    "duration": 383,
    "start_time": "2022-10-19T22:36:34.780Z"
   },
   {
    "duration": 2,
    "start_time": "2022-10-19T22:36:35.165Z"
   },
   {
    "duration": 2445,
    "start_time": "2022-10-19T22:37:26.897Z"
   },
   {
    "duration": 2,
    "start_time": "2022-10-19T22:37:29.344Z"
   },
   {
    "duration": 13,
    "start_time": "2022-10-19T22:37:29.348Z"
   },
   {
    "duration": 51,
    "start_time": "2022-10-19T22:37:29.363Z"
   },
   {
    "duration": 14,
    "start_time": "2022-10-19T22:37:29.415Z"
   },
   {
    "duration": 1203,
    "start_time": "2022-10-19T22:37:29.431Z"
   },
   {
    "duration": 5,
    "start_time": "2022-10-19T22:37:30.636Z"
   },
   {
    "duration": 43,
    "start_time": "2022-10-19T22:37:30.642Z"
   },
   {
    "duration": 4568,
    "start_time": "2022-10-19T22:37:30.687Z"
   },
   {
    "duration": 4,
    "start_time": "2022-10-19T22:37:35.258Z"
   },
   {
    "duration": 10,
    "start_time": "2022-10-19T22:37:35.263Z"
   },
   {
    "duration": 4,
    "start_time": "2022-10-19T22:37:35.274Z"
   },
   {
    "duration": 53,
    "start_time": "2022-10-19T22:37:35.280Z"
   },
   {
    "duration": 4,
    "start_time": "2022-10-19T22:37:35.335Z"
   },
   {
    "duration": 10,
    "start_time": "2022-10-19T22:37:35.341Z"
   },
   {
    "duration": 3,
    "start_time": "2022-10-19T22:37:35.353Z"
   },
   {
    "duration": 7,
    "start_time": "2022-10-19T22:37:35.358Z"
   },
   {
    "duration": 29,
    "start_time": "2022-10-19T22:37:35.367Z"
   },
   {
    "duration": 20,
    "start_time": "2022-10-19T22:37:35.397Z"
   },
   {
    "duration": 595,
    "start_time": "2022-10-19T22:37:35.419Z"
   },
   {
    "duration": 6,
    "start_time": "2022-10-19T22:37:36.016Z"
   },
   {
    "duration": 620,
    "start_time": "2022-10-19T22:37:36.023Z"
   },
   {
    "duration": 6,
    "start_time": "2022-10-19T22:37:36.645Z"
   },
   {
    "duration": 371,
    "start_time": "2022-10-19T22:37:36.652Z"
   },
   {
    "duration": 2,
    "start_time": "2022-10-19T22:37:37.024Z"
   },
   {
    "duration": 382,
    "start_time": "2022-10-19T22:37:37.028Z"
   },
   {
    "duration": 6,
    "start_time": "2022-10-19T22:37:37.411Z"
   },
   {
    "duration": 220,
    "start_time": "2022-10-19T22:37:37.420Z"
   },
   {
    "duration": 6,
    "start_time": "2022-10-19T22:37:37.642Z"
   },
   {
    "duration": 121,
    "start_time": "2022-10-19T22:37:37.649Z"
   },
   {
    "duration": 6,
    "start_time": "2022-10-19T22:37:37.771Z"
   },
   {
    "duration": 127,
    "start_time": "2022-10-19T22:37:37.778Z"
   },
   {
    "duration": 113,
    "start_time": "2022-10-19T22:37:37.907Z"
   },
   {
    "duration": 5,
    "start_time": "2022-10-19T22:37:38.022Z"
   },
   {
    "duration": 13,
    "start_time": "2022-10-19T22:37:38.028Z"
   },
   {
    "duration": 9,
    "start_time": "2022-10-19T22:37:38.042Z"
   },
   {
    "duration": 125,
    "start_time": "2022-10-19T22:37:38.053Z"
   },
   {
    "duration": 3,
    "start_time": "2022-10-19T22:37:38.180Z"
   },
   {
    "duration": 21,
    "start_time": "2022-10-19T22:37:38.185Z"
   },
   {
    "duration": 15,
    "start_time": "2022-10-19T22:37:38.208Z"
   },
   {
    "duration": 11,
    "start_time": "2022-10-19T22:37:38.224Z"
   },
   {
    "duration": 15,
    "start_time": "2022-10-19T22:37:38.236Z"
   },
   {
    "duration": 260,
    "start_time": "2022-10-19T22:37:38.252Z"
   },
   {
    "duration": 12,
    "start_time": "2022-10-19T22:37:38.514Z"
   },
   {
    "duration": 136,
    "start_time": "2022-10-19T22:37:38.528Z"
   },
   {
    "duration": 131,
    "start_time": "2022-10-19T22:37:38.666Z"
   },
   {
    "duration": 153,
    "start_time": "2022-10-19T22:37:38.798Z"
   },
   {
    "duration": 223,
    "start_time": "2022-10-19T22:37:38.952Z"
   },
   {
    "duration": 143,
    "start_time": "2022-10-19T22:37:39.177Z"
   },
   {
    "duration": 153,
    "start_time": "2022-10-19T22:37:39.322Z"
   },
   {
    "duration": 148,
    "start_time": "2022-10-19T22:37:39.477Z"
   },
   {
    "duration": 123,
    "start_time": "2022-10-19T22:37:39.627Z"
   },
   {
    "duration": 165,
    "start_time": "2022-10-19T22:37:39.752Z"
   },
   {
    "duration": 171,
    "start_time": "2022-10-19T22:37:39.918Z"
   },
   {
    "duration": 152,
    "start_time": "2022-10-19T22:37:40.091Z"
   },
   {
    "duration": 159,
    "start_time": "2022-10-19T22:37:40.244Z"
   },
   {
    "duration": 169,
    "start_time": "2022-10-19T22:37:40.404Z"
   },
   {
    "duration": 145,
    "start_time": "2022-10-19T22:37:40.575Z"
   },
   {
    "duration": 208,
    "start_time": "2022-10-19T22:37:40.722Z"
   },
   {
    "duration": 7,
    "start_time": "2022-10-19T22:37:40.931Z"
   },
   {
    "duration": 176,
    "start_time": "2022-10-19T22:37:40.939Z"
   },
   {
    "duration": 236,
    "start_time": "2022-10-19T22:37:41.116Z"
   },
   {
    "duration": 212,
    "start_time": "2022-10-19T22:37:41.353Z"
   },
   {
    "duration": 233,
    "start_time": "2022-10-19T22:37:41.567Z"
   },
   {
    "duration": 226,
    "start_time": "2022-10-19T22:37:41.802Z"
   },
   {
    "duration": 190,
    "start_time": "2022-10-19T22:37:42.031Z"
   },
   {
    "duration": 198,
    "start_time": "2022-10-19T22:37:42.223Z"
   },
   {
    "duration": 10,
    "start_time": "2022-10-19T22:37:42.423Z"
   },
   {
    "duration": 375,
    "start_time": "2022-10-19T22:38:12.122Z"
   },
   {
    "duration": 158,
    "start_time": "2022-10-19T22:38:33.162Z"
   },
   {
    "duration": 380,
    "start_time": "2022-10-19T22:38:45.799Z"
   },
   {
    "duration": 452,
    "start_time": "2022-10-19T22:38:53.351Z"
   },
   {
    "duration": 370,
    "start_time": "2022-10-19T22:39:00.725Z"
   },
   {
    "duration": 381,
    "start_time": "2022-10-19T22:43:41.483Z"
   },
   {
    "duration": 397,
    "start_time": "2022-10-19T22:44:53.239Z"
   },
   {
    "duration": 7,
    "start_time": "2022-10-19T22:45:35.679Z"
   },
   {
    "duration": 482,
    "start_time": "2022-10-19T23:09:18.633Z"
   },
   {
    "duration": 6,
    "start_time": "2022-10-19T23:12:42.088Z"
   },
   {
    "duration": 344,
    "start_time": "2022-10-19T23:12:59.927Z"
   },
   {
    "duration": 385,
    "start_time": "2022-10-19T23:14:24.947Z"
   },
   {
    "duration": 4,
    "start_time": "2022-10-19T23:17:37.375Z"
   },
   {
    "duration": 1956,
    "start_time": "2022-10-19T23:17:42.993Z"
   },
   {
    "duration": 3,
    "start_time": "2022-10-19T23:17:44.951Z"
   },
   {
    "duration": 7,
    "start_time": "2022-10-19T23:17:44.956Z"
   },
   {
    "duration": 76,
    "start_time": "2022-10-19T23:17:44.965Z"
   },
   {
    "duration": 11,
    "start_time": "2022-10-19T23:17:45.043Z"
   },
   {
    "duration": 1170,
    "start_time": "2022-10-19T23:17:45.056Z"
   },
   {
    "duration": 5,
    "start_time": "2022-10-19T23:17:46.228Z"
   },
   {
    "duration": 9,
    "start_time": "2022-10-19T23:17:46.234Z"
   },
   {
    "duration": 4538,
    "start_time": "2022-10-19T23:17:46.245Z"
   },
   {
    "duration": 4,
    "start_time": "2022-10-19T23:17:50.785Z"
   },
   {
    "duration": 10,
    "start_time": "2022-10-19T23:17:50.800Z"
   },
   {
    "duration": 7,
    "start_time": "2022-10-19T23:17:50.812Z"
   },
   {
    "duration": 26,
    "start_time": "2022-10-19T23:17:50.820Z"
   },
   {
    "duration": 5,
    "start_time": "2022-10-19T23:17:50.847Z"
   },
   {
    "duration": 12,
    "start_time": "2022-10-19T23:17:50.854Z"
   },
   {
    "duration": 4,
    "start_time": "2022-10-19T23:17:50.867Z"
   },
   {
    "duration": 30,
    "start_time": "2022-10-19T23:17:50.873Z"
   },
   {
    "duration": 6,
    "start_time": "2022-10-19T23:17:50.905Z"
   },
   {
    "duration": 13,
    "start_time": "2022-10-19T23:17:50.912Z"
   },
   {
    "duration": 589,
    "start_time": "2022-10-19T23:17:50.927Z"
   },
   {
    "duration": 5,
    "start_time": "2022-10-19T23:17:51.518Z"
   },
   {
    "duration": 624,
    "start_time": "2022-10-19T23:17:51.524Z"
   },
   {
    "duration": 6,
    "start_time": "2022-10-19T23:17:52.149Z"
   },
   {
    "duration": 375,
    "start_time": "2022-10-19T23:17:52.157Z"
   },
   {
    "duration": 2,
    "start_time": "2022-10-19T23:17:52.534Z"
   },
   {
    "duration": 363,
    "start_time": "2022-10-19T23:17:52.537Z"
   },
   {
    "duration": 2,
    "start_time": "2022-10-19T23:17:52.902Z"
   },
   {
    "duration": 369,
    "start_time": "2022-10-19T23:17:52.907Z"
   },
   {
    "duration": 6,
    "start_time": "2022-10-19T23:17:53.278Z"
   },
   {
    "duration": 448,
    "start_time": "2022-10-19T23:17:53.285Z"
   },
   {
    "duration": 5,
    "start_time": "2022-10-19T23:17:53.735Z"
   },
   {
    "duration": 376,
    "start_time": "2022-10-19T23:17:53.742Z"
   },
   {
    "duration": 430,
    "start_time": "2022-10-19T23:17:54.120Z"
   },
   {
    "duration": 5,
    "start_time": "2022-10-19T23:17:54.552Z"
   },
   {
    "duration": 382,
    "start_time": "2022-10-19T23:19:47.005Z"
   },
   {
    "duration": 458,
    "start_time": "2022-10-19T23:20:01.039Z"
   },
   {
    "duration": 513,
    "start_time": "2022-10-19T23:20:17.850Z"
   },
   {
    "duration": 762,
    "start_time": "2022-10-19T23:21:37.879Z"
   },
   {
    "duration": 687,
    "start_time": "2022-10-19T23:21:48.271Z"
   },
   {
    "duration": 1938,
    "start_time": "2022-10-19T23:21:52.277Z"
   },
   {
    "duration": 2,
    "start_time": "2022-10-19T23:21:54.217Z"
   },
   {
    "duration": 17,
    "start_time": "2022-10-19T23:21:54.221Z"
   },
   {
    "duration": 52,
    "start_time": "2022-10-19T23:21:54.240Z"
   },
   {
    "duration": 11,
    "start_time": "2022-10-19T23:21:54.294Z"
   },
   {
    "duration": 1226,
    "start_time": "2022-10-19T23:21:54.306Z"
   },
   {
    "duration": 4,
    "start_time": "2022-10-19T23:21:55.534Z"
   },
   {
    "duration": 6,
    "start_time": "2022-10-19T23:21:55.540Z"
   },
   {
    "duration": 4530,
    "start_time": "2022-10-19T23:21:55.547Z"
   },
   {
    "duration": 5,
    "start_time": "2022-10-19T23:22:00.079Z"
   },
   {
    "duration": 26,
    "start_time": "2022-10-19T23:22:00.085Z"
   },
   {
    "duration": 11,
    "start_time": "2022-10-19T23:22:00.112Z"
   },
   {
    "duration": 47,
    "start_time": "2022-10-19T23:22:00.124Z"
   },
   {
    "duration": 6,
    "start_time": "2022-10-19T23:22:00.172Z"
   },
   {
    "duration": 23,
    "start_time": "2022-10-19T23:22:00.180Z"
   },
   {
    "duration": 14,
    "start_time": "2022-10-19T23:22:00.204Z"
   },
   {
    "duration": 32,
    "start_time": "2022-10-19T23:22:00.219Z"
   },
   {
    "duration": 9,
    "start_time": "2022-10-19T23:22:00.253Z"
   },
   {
    "duration": 37,
    "start_time": "2022-10-19T23:22:00.263Z"
   },
   {
    "duration": 582,
    "start_time": "2022-10-19T23:22:00.301Z"
   },
   {
    "duration": 6,
    "start_time": "2022-10-19T23:22:00.884Z"
   },
   {
    "duration": 710,
    "start_time": "2022-10-19T23:22:00.892Z"
   },
   {
    "duration": 8,
    "start_time": "2022-10-19T23:22:01.604Z"
   },
   {
    "duration": 407,
    "start_time": "2022-10-19T23:22:01.613Z"
   },
   {
    "duration": 2,
    "start_time": "2022-10-19T23:22:02.022Z"
   },
   {
    "duration": 367,
    "start_time": "2022-10-19T23:22:02.026Z"
   },
   {
    "duration": 6,
    "start_time": "2022-10-19T23:22:02.394Z"
   },
   {
    "duration": 361,
    "start_time": "2022-10-19T23:22:02.403Z"
   },
   {
    "duration": 6,
    "start_time": "2022-10-19T23:22:02.766Z"
   },
   {
    "duration": 386,
    "start_time": "2022-10-19T23:22:02.773Z"
   },
   {
    "duration": 5,
    "start_time": "2022-10-19T23:22:03.160Z"
   },
   {
    "duration": 445,
    "start_time": "2022-10-19T23:22:03.166Z"
   },
   {
    "duration": 356,
    "start_time": "2022-10-19T23:22:03.613Z"
   },
   {
    "duration": 4,
    "start_time": "2022-10-19T23:22:03.971Z"
   },
   {
    "duration": 25,
    "start_time": "2022-10-19T23:22:03.976Z"
   },
   {
    "duration": 10,
    "start_time": "2022-10-19T23:22:04.002Z"
   },
   {
    "duration": 16,
    "start_time": "2022-10-19T23:22:04.014Z"
   },
   {
    "duration": 10,
    "start_time": "2022-10-19T23:22:04.031Z"
   },
   {
    "duration": 281,
    "start_time": "2022-10-19T23:22:04.043Z"
   },
   {
    "duration": 11,
    "start_time": "2022-10-19T23:22:04.326Z"
   },
   {
    "duration": 19,
    "start_time": "2022-10-19T23:22:09.191Z"
   },
   {
    "duration": 22,
    "start_time": "2022-10-19T23:22:37.003Z"
   },
   {
    "duration": 8,
    "start_time": "2022-10-19T23:23:02.882Z"
   },
   {
    "duration": 122,
    "start_time": "2022-10-19T23:23:09.212Z"
   },
   {
    "duration": 259,
    "start_time": "2022-10-19T23:24:02.150Z"
   },
   {
    "duration": 341,
    "start_time": "2022-10-19T23:24:03.828Z"
   },
   {
    "duration": 254,
    "start_time": "2022-10-19T23:24:23.307Z"
   },
   {
    "duration": 259,
    "start_time": "2022-10-19T23:24:38.424Z"
   },
   {
    "duration": 287,
    "start_time": "2022-10-19T23:24:50.264Z"
   },
   {
    "duration": 246,
    "start_time": "2022-10-19T23:25:17.830Z"
   },
   {
    "duration": 3,
    "start_time": "2022-10-19T23:26:20.488Z"
   },
   {
    "duration": 365,
    "start_time": "2022-10-19T23:26:30.402Z"
   },
   {
    "duration": 1770,
    "start_time": "2022-10-19T23:26:39.361Z"
   },
   {
    "duration": 3,
    "start_time": "2022-10-19T23:26:41.132Z"
   },
   {
    "duration": 24,
    "start_time": "2022-10-19T23:26:41.136Z"
   },
   {
    "duration": 47,
    "start_time": "2022-10-19T23:26:41.162Z"
   },
   {
    "duration": 9,
    "start_time": "2022-10-19T23:26:41.211Z"
   },
   {
    "duration": 1166,
    "start_time": "2022-10-19T23:26:41.222Z"
   },
   {
    "duration": 12,
    "start_time": "2022-10-19T23:26:42.389Z"
   },
   {
    "duration": 12,
    "start_time": "2022-10-19T23:26:42.403Z"
   },
   {
    "duration": 4810,
    "start_time": "2022-10-19T23:26:42.417Z"
   },
   {
    "duration": 4,
    "start_time": "2022-10-19T23:26:47.230Z"
   },
   {
    "duration": 5,
    "start_time": "2022-10-19T23:26:47.235Z"
   },
   {
    "duration": 9,
    "start_time": "2022-10-19T23:26:47.241Z"
   },
   {
    "duration": 26,
    "start_time": "2022-10-19T23:26:47.251Z"
   },
   {
    "duration": 22,
    "start_time": "2022-10-19T23:26:47.278Z"
   },
   {
    "duration": 9,
    "start_time": "2022-10-19T23:26:47.302Z"
   },
   {
    "duration": 5,
    "start_time": "2022-10-19T23:26:47.312Z"
   },
   {
    "duration": 6,
    "start_time": "2022-10-19T23:26:47.318Z"
   },
   {
    "duration": 5,
    "start_time": "2022-10-19T23:26:47.325Z"
   },
   {
    "duration": 13,
    "start_time": "2022-10-19T23:26:47.331Z"
   },
   {
    "duration": 687,
    "start_time": "2022-10-19T23:26:47.345Z"
   },
   {
    "duration": 5,
    "start_time": "2022-10-19T23:26:48.034Z"
   },
   {
    "duration": 536,
    "start_time": "2022-10-19T23:26:48.041Z"
   },
   {
    "duration": 6,
    "start_time": "2022-10-19T23:26:48.578Z"
   },
   {
    "duration": 470,
    "start_time": "2022-10-19T23:26:48.586Z"
   },
   {
    "duration": 2,
    "start_time": "2022-10-19T23:26:49.058Z"
   },
   {
    "duration": 382,
    "start_time": "2022-10-19T23:26:49.062Z"
   },
   {
    "duration": 2,
    "start_time": "2022-10-19T23:26:49.446Z"
   },
   {
    "duration": 380,
    "start_time": "2022-10-19T23:26:49.451Z"
   },
   {
    "duration": 5,
    "start_time": "2022-10-19T23:26:49.833Z"
   },
   {
    "duration": 354,
    "start_time": "2022-10-19T23:26:49.840Z"
   },
   {
    "duration": 8,
    "start_time": "2022-10-19T23:26:50.195Z"
   },
   {
    "duration": 340,
    "start_time": "2022-10-19T23:26:50.204Z"
   },
   {
    "duration": 360,
    "start_time": "2022-10-19T23:26:50.545Z"
   },
   {
    "duration": 4,
    "start_time": "2022-10-19T23:26:50.906Z"
   },
   {
    "duration": 16,
    "start_time": "2022-10-19T23:26:50.911Z"
   },
   {
    "duration": 11,
    "start_time": "2022-10-19T23:26:50.928Z"
   },
   {
    "duration": 10,
    "start_time": "2022-10-19T23:26:50.940Z"
   },
   {
    "duration": 22,
    "start_time": "2022-10-19T23:26:50.951Z"
   },
   {
    "duration": 355,
    "start_time": "2022-10-19T23:26:51.000Z"
   },
   {
    "duration": 14,
    "start_time": "2022-10-19T23:26:51.357Z"
   },
   {
    "duration": 1,
    "start_time": "2022-10-19T23:26:51.372Z"
   },
   {
    "duration": 0,
    "start_time": "2022-10-19T23:26:51.375Z"
   },
   {
    "duration": 11,
    "start_time": "2022-10-19T23:27:58.674Z"
   },
   {
    "duration": 129,
    "start_time": "2022-10-19T23:28:04.854Z"
   },
   {
    "duration": 292,
    "start_time": "2022-10-19T23:28:07.413Z"
   },
   {
    "duration": 46,
    "start_time": "2022-10-19T23:28:57.346Z"
   },
   {
    "duration": 40,
    "start_time": "2022-10-19T23:29:10.256Z"
   },
   {
    "duration": 561,
    "start_time": "2022-10-19T23:29:16.315Z"
   },
   {
    "duration": 12,
    "start_time": "2022-10-19T23:29:34.812Z"
   },
   {
    "duration": 11,
    "start_time": "2022-10-19T23:29:39.501Z"
   },
   {
    "duration": 9,
    "start_time": "2022-10-19T23:29:44.041Z"
   },
   {
    "duration": 10,
    "start_time": "2022-10-19T23:29:46.422Z"
   },
   {
    "duration": 359,
    "start_time": "2022-10-19T23:29:54.170Z"
   },
   {
    "duration": 269,
    "start_time": "2022-10-19T23:30:01.188Z"
   },
   {
    "duration": 267,
    "start_time": "2022-10-19T23:30:05.616Z"
   },
   {
    "duration": 2477,
    "start_time": "2022-10-19T23:30:17.436Z"
   },
   {
    "duration": 2,
    "start_time": "2022-10-19T23:30:19.915Z"
   },
   {
    "duration": 9,
    "start_time": "2022-10-19T23:30:19.919Z"
   },
   {
    "duration": 48,
    "start_time": "2022-10-19T23:30:19.930Z"
   },
   {
    "duration": 25,
    "start_time": "2022-10-19T23:30:19.979Z"
   },
   {
    "duration": 1200,
    "start_time": "2022-10-19T23:30:20.005Z"
   },
   {
    "duration": 4,
    "start_time": "2022-10-19T23:30:21.207Z"
   },
   {
    "duration": 14,
    "start_time": "2022-10-19T23:30:21.212Z"
   },
   {
    "duration": 4431,
    "start_time": "2022-10-19T23:30:21.227Z"
   },
   {
    "duration": 4,
    "start_time": "2022-10-19T23:30:25.660Z"
   },
   {
    "duration": 9,
    "start_time": "2022-10-19T23:30:25.666Z"
   },
   {
    "duration": 19,
    "start_time": "2022-10-19T23:30:25.677Z"
   },
   {
    "duration": 44,
    "start_time": "2022-10-19T23:30:25.698Z"
   },
   {
    "duration": 5,
    "start_time": "2022-10-19T23:30:25.743Z"
   },
   {
    "duration": 32,
    "start_time": "2022-10-19T23:30:25.750Z"
   },
   {
    "duration": 28,
    "start_time": "2022-10-19T23:30:25.784Z"
   },
   {
    "duration": 7,
    "start_time": "2022-10-19T23:30:25.814Z"
   },
   {
    "duration": 11,
    "start_time": "2022-10-19T23:30:25.822Z"
   },
   {
    "duration": 16,
    "start_time": "2022-10-19T23:30:25.834Z"
   },
   {
    "duration": 559,
    "start_time": "2022-10-19T23:30:25.851Z"
   },
   {
    "duration": 6,
    "start_time": "2022-10-19T23:30:26.411Z"
   },
   {
    "duration": 636,
    "start_time": "2022-10-19T23:30:26.418Z"
   },
   {
    "duration": 6,
    "start_time": "2022-10-19T23:30:27.056Z"
   },
   {
    "duration": 391,
    "start_time": "2022-10-19T23:30:27.063Z"
   },
   {
    "duration": 2,
    "start_time": "2022-10-19T23:30:27.456Z"
   },
   {
    "duration": 378,
    "start_time": "2022-10-19T23:30:27.460Z"
   },
   {
    "duration": 2,
    "start_time": "2022-10-19T23:30:27.840Z"
   },
   {
    "duration": 442,
    "start_time": "2022-10-19T23:30:27.845Z"
   },
   {
    "duration": 12,
    "start_time": "2022-10-19T23:30:28.289Z"
   },
   {
    "duration": 375,
    "start_time": "2022-10-19T23:30:28.302Z"
   },
   {
    "duration": 5,
    "start_time": "2022-10-19T23:30:28.678Z"
   },
   {
    "duration": 355,
    "start_time": "2022-10-19T23:30:28.684Z"
   },
   {
    "duration": 395,
    "start_time": "2022-10-19T23:30:29.041Z"
   },
   {
    "duration": 4,
    "start_time": "2022-10-19T23:30:29.438Z"
   },
   {
    "duration": 42,
    "start_time": "2022-10-19T23:30:29.443Z"
   },
   {
    "duration": 14,
    "start_time": "2022-10-19T23:30:29.486Z"
   },
   {
    "duration": 13,
    "start_time": "2022-10-19T23:30:29.502Z"
   },
   {
    "duration": 14,
    "start_time": "2022-10-19T23:30:29.517Z"
   },
   {
    "duration": 278,
    "start_time": "2022-10-19T23:30:29.533Z"
   },
   {
    "duration": 10,
    "start_time": "2022-10-19T23:30:29.813Z"
   },
   {
    "duration": 199,
    "start_time": "2022-10-19T23:30:29.824Z"
   },
   {
    "duration": 284,
    "start_time": "2022-10-19T23:30:30.025Z"
   },
   {
    "duration": 323,
    "start_time": "2022-10-19T23:30:30.311Z"
   },
   {
    "duration": 285,
    "start_time": "2022-10-19T23:30:30.636Z"
   },
   {
    "duration": 282,
    "start_time": "2022-10-19T23:30:30.923Z"
   },
   {
    "duration": 136,
    "start_time": "2022-10-19T23:30:31.206Z"
   },
   {
    "duration": 116,
    "start_time": "2022-10-19T23:30:31.344Z"
   },
   {
    "duration": 7,
    "start_time": "2022-10-19T23:30:31.462Z"
   },
   {
    "duration": 245,
    "start_time": "2022-10-19T23:30:31.470Z"
   },
   {
    "duration": 171,
    "start_time": "2022-10-19T23:30:31.717Z"
   },
   {
    "duration": 174,
    "start_time": "2022-10-19T23:30:31.889Z"
   },
   {
    "duration": 175,
    "start_time": "2022-10-19T23:30:32.064Z"
   },
   {
    "duration": 186,
    "start_time": "2022-10-19T23:30:32.240Z"
   },
   {
    "duration": 158,
    "start_time": "2022-10-19T23:30:32.428Z"
   },
   {
    "duration": 189,
    "start_time": "2022-10-19T23:30:32.588Z"
   },
   {
    "duration": 8,
    "start_time": "2022-10-19T23:30:32.779Z"
   },
   {
    "duration": 10,
    "start_time": "2022-10-19T23:35:04.922Z"
   },
   {
    "duration": 15,
    "start_time": "2022-10-19T23:35:37.596Z"
   },
   {
    "duration": 10,
    "start_time": "2022-10-19T23:35:40.663Z"
   },
   {
    "duration": 12,
    "start_time": "2022-10-19T23:35:44.654Z"
   },
   {
    "duration": 266,
    "start_time": "2022-10-19T23:35:53.992Z"
   },
   {
    "duration": 9,
    "start_time": "2022-10-19T23:36:09.180Z"
   },
   {
    "duration": 6,
    "start_time": "2022-10-19T23:37:49.132Z"
   },
   {
    "duration": 5,
    "start_time": "2022-10-19T23:37:58.829Z"
   },
   {
    "duration": 6,
    "start_time": "2022-10-19T23:38:05.715Z"
   },
   {
    "duration": 2403,
    "start_time": "2022-10-19T23:38:21.423Z"
   },
   {
    "duration": 2,
    "start_time": "2022-10-19T23:38:23.828Z"
   },
   {
    "duration": 16,
    "start_time": "2022-10-19T23:38:23.831Z"
   },
   {
    "duration": 46,
    "start_time": "2022-10-19T23:38:23.849Z"
   },
   {
    "duration": 9,
    "start_time": "2022-10-19T23:38:23.896Z"
   },
   {
    "duration": 1264,
    "start_time": "2022-10-19T23:38:23.906Z"
   },
   {
    "duration": 4,
    "start_time": "2022-10-19T23:38:25.172Z"
   },
   {
    "duration": 7,
    "start_time": "2022-10-19T23:38:25.178Z"
   },
   {
    "duration": 1241,
    "start_time": "2022-10-19T23:38:25.187Z"
   },
   {
    "duration": 4,
    "start_time": "2022-10-19T23:38:26.430Z"
   },
   {
    "duration": 32,
    "start_time": "2022-10-19T23:38:26.435Z"
   },
   {
    "duration": 7,
    "start_time": "2022-10-19T23:38:26.468Z"
   },
   {
    "duration": 29,
    "start_time": "2022-10-19T23:38:26.476Z"
   },
   {
    "duration": 4,
    "start_time": "2022-10-19T23:38:26.506Z"
   },
   {
    "duration": 10,
    "start_time": "2022-10-19T23:38:26.512Z"
   },
   {
    "duration": 5,
    "start_time": "2022-10-19T23:38:26.524Z"
   },
   {
    "duration": 9,
    "start_time": "2022-10-19T23:38:26.530Z"
   },
   {
    "duration": 8,
    "start_time": "2022-10-19T23:38:26.540Z"
   },
   {
    "duration": 13,
    "start_time": "2022-10-19T23:38:26.550Z"
   },
   {
    "duration": 584,
    "start_time": "2022-10-19T23:38:26.565Z"
   },
   {
    "duration": 6,
    "start_time": "2022-10-19T23:38:27.151Z"
   },
   {
    "duration": 620,
    "start_time": "2022-10-19T23:38:27.158Z"
   },
   {
    "duration": 6,
    "start_time": "2022-10-19T23:38:27.779Z"
   },
   {
    "duration": 356,
    "start_time": "2022-10-19T23:38:27.786Z"
   },
   {
    "duration": 3,
    "start_time": "2022-10-19T23:38:28.143Z"
   },
   {
    "duration": 342,
    "start_time": "2022-10-19T23:38:28.147Z"
   },
   {
    "duration": 10,
    "start_time": "2022-10-19T23:38:28.490Z"
   },
   {
    "duration": 425,
    "start_time": "2022-10-19T23:38:28.503Z"
   },
   {
    "duration": 6,
    "start_time": "2022-10-19T23:38:28.929Z"
   },
   {
    "duration": 368,
    "start_time": "2022-10-19T23:38:28.936Z"
   },
   {
    "duration": 5,
    "start_time": "2022-10-19T23:38:29.306Z"
   },
   {
    "duration": 360,
    "start_time": "2022-10-19T23:38:29.312Z"
   },
   {
    "duration": 378,
    "start_time": "2022-10-19T23:38:29.674Z"
   },
   {
    "duration": 4,
    "start_time": "2022-10-19T23:38:30.053Z"
   },
   {
    "duration": 29,
    "start_time": "2022-10-19T23:38:30.058Z"
   },
   {
    "duration": 26,
    "start_time": "2022-10-19T23:38:30.089Z"
   },
   {
    "duration": 17,
    "start_time": "2022-10-19T23:38:30.116Z"
   },
   {
    "duration": 29,
    "start_time": "2022-10-19T23:38:30.134Z"
   },
   {
    "duration": 274,
    "start_time": "2022-10-19T23:38:30.165Z"
   },
   {
    "duration": 11,
    "start_time": "2022-10-19T23:38:30.441Z"
   },
   {
    "duration": 222,
    "start_time": "2022-10-19T23:38:30.454Z"
   },
   {
    "duration": 278,
    "start_time": "2022-10-19T23:38:30.678Z"
   },
   {
    "duration": 287,
    "start_time": "2022-10-19T23:38:30.958Z"
   },
   {
    "duration": 277,
    "start_time": "2022-10-19T23:38:31.247Z"
   },
   {
    "duration": 278,
    "start_time": "2022-10-19T23:38:31.526Z"
   },
   {
    "duration": 145,
    "start_time": "2022-10-19T23:38:31.806Z"
   },
   {
    "duration": 136,
    "start_time": "2022-10-19T23:38:31.953Z"
   },
   {
    "duration": 50,
    "start_time": "2022-10-19T23:38:32.091Z"
   },
   {
    "duration": 0,
    "start_time": "2022-10-19T23:38:32.142Z"
   },
   {
    "duration": 0,
    "start_time": "2022-10-19T23:38:32.144Z"
   },
   {
    "duration": 0,
    "start_time": "2022-10-19T23:38:32.145Z"
   },
   {
    "duration": 0,
    "start_time": "2022-10-19T23:38:32.145Z"
   },
   {
    "duration": 0,
    "start_time": "2022-10-19T23:38:32.147Z"
   },
   {
    "duration": 0,
    "start_time": "2022-10-19T23:38:32.148Z"
   },
   {
    "duration": 0,
    "start_time": "2022-10-19T23:38:32.149Z"
   },
   {
    "duration": 0,
    "start_time": "2022-10-19T23:38:32.150Z"
   },
   {
    "duration": 0,
    "start_time": "2022-10-19T23:38:32.150Z"
   },
   {
    "duration": 1847,
    "start_time": "2022-10-19T23:42:25.305Z"
   },
   {
    "duration": 2487,
    "start_time": "2022-10-19T23:42:32.988Z"
   },
   {
    "duration": 3,
    "start_time": "2022-10-19T23:42:35.477Z"
   },
   {
    "duration": 12,
    "start_time": "2022-10-19T23:42:35.481Z"
   },
   {
    "duration": 49,
    "start_time": "2022-10-19T23:42:35.495Z"
   },
   {
    "duration": 10,
    "start_time": "2022-10-19T23:42:35.545Z"
   },
   {
    "duration": 1183,
    "start_time": "2022-10-19T23:42:35.557Z"
   },
   {
    "duration": 4,
    "start_time": "2022-10-19T23:42:36.741Z"
   },
   {
    "duration": 8,
    "start_time": "2022-10-19T23:42:36.747Z"
   },
   {
    "duration": 1117,
    "start_time": "2022-10-19T23:42:36.756Z"
   },
   {
    "duration": 5,
    "start_time": "2022-10-19T23:42:37.875Z"
   },
   {
    "duration": 37,
    "start_time": "2022-10-19T23:42:37.881Z"
   },
   {
    "duration": 26,
    "start_time": "2022-10-19T23:42:37.919Z"
   },
   {
    "duration": 58,
    "start_time": "2022-10-19T23:42:37.946Z"
   },
   {
    "duration": 42,
    "start_time": "2022-10-19T23:42:38.006Z"
   },
   {
    "duration": 25,
    "start_time": "2022-10-19T23:42:38.049Z"
   },
   {
    "duration": 25,
    "start_time": "2022-10-19T23:42:38.075Z"
   },
   {
    "duration": 27,
    "start_time": "2022-10-19T23:42:38.101Z"
   },
   {
    "duration": 18,
    "start_time": "2022-10-19T23:42:38.130Z"
   },
   {
    "duration": 57,
    "start_time": "2022-10-19T23:42:38.149Z"
   },
   {
    "duration": 605,
    "start_time": "2022-10-19T23:42:38.207Z"
   },
   {
    "duration": 5,
    "start_time": "2022-10-19T23:42:38.814Z"
   },
   {
    "duration": 697,
    "start_time": "2022-10-19T23:42:38.821Z"
   },
   {
    "duration": 8,
    "start_time": "2022-10-19T23:42:39.520Z"
   },
   {
    "duration": 421,
    "start_time": "2022-10-19T23:42:39.530Z"
   },
   {
    "duration": 2,
    "start_time": "2022-10-19T23:42:39.953Z"
   },
   {
    "duration": 352,
    "start_time": "2022-10-19T23:42:39.956Z"
   },
   {
    "duration": 3,
    "start_time": "2022-10-19T23:42:40.309Z"
   },
   {
    "duration": 456,
    "start_time": "2022-10-19T23:42:40.315Z"
   },
   {
    "duration": 6,
    "start_time": "2022-10-19T23:42:40.772Z"
   },
   {
    "duration": 377,
    "start_time": "2022-10-19T23:42:40.780Z"
   },
   {
    "duration": 5,
    "start_time": "2022-10-19T23:42:41.159Z"
   },
   {
    "duration": 386,
    "start_time": "2022-10-19T23:42:41.166Z"
   },
   {
    "duration": 399,
    "start_time": "2022-10-19T23:42:41.554Z"
   },
   {
    "duration": 4,
    "start_time": "2022-10-19T23:42:41.955Z"
   },
   {
    "duration": 11,
    "start_time": "2022-10-19T23:42:41.960Z"
   },
   {
    "duration": 15,
    "start_time": "2022-10-19T23:42:41.972Z"
   },
   {
    "duration": 20,
    "start_time": "2022-10-19T23:42:41.989Z"
   },
   {
    "duration": 11,
    "start_time": "2022-10-19T23:42:42.010Z"
   },
   {
    "duration": 268,
    "start_time": "2022-10-19T23:42:42.022Z"
   },
   {
    "duration": 16,
    "start_time": "2022-10-19T23:42:42.292Z"
   },
   {
    "duration": 195,
    "start_time": "2022-10-19T23:42:42.309Z"
   },
   {
    "duration": 294,
    "start_time": "2022-10-19T23:42:42.506Z"
   },
   {
    "duration": 285,
    "start_time": "2022-10-19T23:42:42.802Z"
   },
   {
    "duration": 261,
    "start_time": "2022-10-19T23:42:43.088Z"
   },
   {
    "duration": 268,
    "start_time": "2022-10-19T23:42:43.350Z"
   },
   {
    "duration": 132,
    "start_time": "2022-10-19T23:42:43.619Z"
   },
   {
    "duration": 126,
    "start_time": "2022-10-19T23:42:43.752Z"
   },
   {
    "duration": 52,
    "start_time": "2022-10-19T23:42:43.879Z"
   },
   {
    "duration": 0,
    "start_time": "2022-10-19T23:42:43.933Z"
   },
   {
    "duration": 0,
    "start_time": "2022-10-19T23:42:43.934Z"
   },
   {
    "duration": 0,
    "start_time": "2022-10-19T23:42:43.935Z"
   },
   {
    "duration": 0,
    "start_time": "2022-10-19T23:42:43.936Z"
   },
   {
    "duration": 0,
    "start_time": "2022-10-19T23:42:43.937Z"
   },
   {
    "duration": 0,
    "start_time": "2022-10-19T23:42:43.938Z"
   },
   {
    "duration": 0,
    "start_time": "2022-10-19T23:42:43.939Z"
   },
   {
    "duration": 0,
    "start_time": "2022-10-19T23:42:43.940Z"
   },
   {
    "duration": 0,
    "start_time": "2022-10-19T23:42:43.941Z"
   },
   {
    "duration": 14,
    "start_time": "2022-10-19T23:43:16.822Z"
   },
   {
    "duration": 385,
    "start_time": "2022-10-19T23:44:52.795Z"
   },
   {
    "duration": 1069,
    "start_time": "2022-10-19T23:46:02.184Z"
   },
   {
    "duration": 263,
    "start_time": "2022-10-19T23:47:08.565Z"
   },
   {
    "duration": 309,
    "start_time": "2022-10-19T23:48:31.750Z"
   },
   {
    "duration": 270,
    "start_time": "2022-10-19T23:48:51.587Z"
   },
   {
    "duration": 359,
    "start_time": "2022-10-19T23:49:09.386Z"
   },
   {
    "duration": 7,
    "start_time": "2022-10-20T00:00:24.265Z"
   },
   {
    "duration": 147,
    "start_time": "2022-10-20T00:00:26.846Z"
   },
   {
    "duration": 7,
    "start_time": "2022-10-20T00:00:41.216Z"
   },
   {
    "duration": 558,
    "start_time": "2022-10-20T00:01:21.073Z"
   },
   {
    "duration": 51,
    "start_time": "2022-10-20T00:05:11.706Z"
   },
   {
    "duration": 408,
    "start_time": "2022-10-20T00:05:19.598Z"
   },
   {
    "duration": 77,
    "start_time": "2022-10-20T00:06:13.962Z"
   },
   {
    "duration": 145,
    "start_time": "2022-10-20T00:07:07.824Z"
   },
   {
    "duration": 186,
    "start_time": "2022-10-20T00:09:49.541Z"
   },
   {
    "duration": 179,
    "start_time": "2022-10-20T00:09:51.642Z"
   },
   {
    "duration": 199,
    "start_time": "2022-10-20T00:09:54.013Z"
   },
   {
    "duration": 180,
    "start_time": "2022-10-20T00:09:56.562Z"
   },
   {
    "duration": 170,
    "start_time": "2022-10-20T00:09:59.322Z"
   },
   {
    "duration": 173,
    "start_time": "2022-10-20T00:10:02.433Z"
   },
   {
    "duration": 144,
    "start_time": "2022-10-20T00:12:50.231Z"
   },
   {
    "duration": 146,
    "start_time": "2022-10-20T00:13:22.637Z"
   },
   {
    "duration": 139,
    "start_time": "2022-10-20T00:13:55.233Z"
   },
   {
    "duration": 202,
    "start_time": "2022-10-20T00:15:22.742Z"
   },
   {
    "duration": 149,
    "start_time": "2022-10-20T00:15:39.991Z"
   },
   {
    "duration": 149,
    "start_time": "2022-10-20T00:17:13.402Z"
   },
   {
    "duration": 140,
    "start_time": "2022-10-20T00:17:27.928Z"
   },
   {
    "duration": 140,
    "start_time": "2022-10-20T00:17:48.034Z"
   },
   {
    "duration": 133,
    "start_time": "2022-10-20T00:18:07.652Z"
   },
   {
    "duration": 142,
    "start_time": "2022-10-20T00:18:33.218Z"
   },
   {
    "duration": 21,
    "start_time": "2022-10-20T00:18:45.264Z"
   },
   {
    "duration": 19,
    "start_time": "2022-10-20T00:18:52.740Z"
   },
   {
    "duration": 21,
    "start_time": "2022-10-20T00:18:58.504Z"
   },
   {
    "duration": 24,
    "start_time": "2022-10-20T00:19:06.112Z"
   },
   {
    "duration": 16,
    "start_time": "2022-10-20T00:19:55.361Z"
   },
   {
    "duration": 36,
    "start_time": "2022-10-20T00:20:10.996Z"
   },
   {
    "duration": 31,
    "start_time": "2022-10-20T00:20:17.111Z"
   },
   {
    "duration": 13,
    "start_time": "2022-10-20T00:20:41.774Z"
   },
   {
    "duration": 125,
    "start_time": "2022-10-20T00:20:52.311Z"
   },
   {
    "duration": 143,
    "start_time": "2022-10-20T00:21:29.870Z"
   },
   {
    "duration": 147,
    "start_time": "2022-10-20T00:21:43.599Z"
   },
   {
    "duration": 58,
    "start_time": "2022-10-20T00:22:03.857Z"
   },
   {
    "duration": 136,
    "start_time": "2022-10-20T00:22:10.601Z"
   },
   {
    "duration": 202,
    "start_time": "2022-10-20T00:22:26.159Z"
   },
   {
    "duration": 128,
    "start_time": "2022-10-20T00:22:37.283Z"
   },
   {
    "duration": 15,
    "start_time": "2022-10-20T00:24:45.231Z"
   },
   {
    "duration": 125,
    "start_time": "2022-10-20T00:25:22.538Z"
   },
   {
    "duration": 121,
    "start_time": "2022-10-20T00:25:34.663Z"
   },
   {
    "duration": 13,
    "start_time": "2022-10-20T00:27:13.835Z"
   },
   {
    "duration": 152,
    "start_time": "2022-10-20T00:27:41.873Z"
   },
   {
    "duration": 135,
    "start_time": "2022-10-20T00:28:47.466Z"
   },
   {
    "duration": 145,
    "start_time": "2022-10-20T00:29:42.130Z"
   },
   {
    "duration": 119,
    "start_time": "2022-10-20T00:35:33.793Z"
   },
   {
    "duration": 120,
    "start_time": "2022-10-20T00:35:43.301Z"
   },
   {
    "duration": 131,
    "start_time": "2022-10-20T00:35:54.699Z"
   },
   {
    "duration": 127,
    "start_time": "2022-10-20T00:36:05.927Z"
   },
   {
    "duration": 197,
    "start_time": "2022-10-20T00:36:08.413Z"
   },
   {
    "duration": 127,
    "start_time": "2022-10-20T00:36:23.449Z"
   },
   {
    "duration": 408,
    "start_time": "2022-10-20T00:38:38.269Z"
   },
   {
    "duration": 129,
    "start_time": "2022-10-20T00:38:41.924Z"
   },
   {
    "duration": 21,
    "start_time": "2022-10-20T00:58:01.963Z"
   },
   {
    "duration": 20,
    "start_time": "2022-10-20T00:58:17.244Z"
   },
   {
    "duration": 25,
    "start_time": "2022-10-20T00:58:58.592Z"
   },
   {
    "duration": 23,
    "start_time": "2022-10-20T00:59:27.111Z"
   },
   {
    "duration": 23,
    "start_time": "2022-10-20T00:59:44.306Z"
   },
   {
    "duration": 23,
    "start_time": "2022-10-20T01:01:59.567Z"
   },
   {
    "duration": 15,
    "start_time": "2022-10-20T01:15:56.145Z"
   },
   {
    "duration": 143,
    "start_time": "2022-10-20T01:16:06.356Z"
   },
   {
    "duration": 144,
    "start_time": "2022-10-20T01:16:14.527Z"
   },
   {
    "duration": 176,
    "start_time": "2022-10-20T01:17:44.393Z"
   },
   {
    "duration": 140,
    "start_time": "2022-10-20T01:21:23.722Z"
   },
   {
    "duration": 2587,
    "start_time": "2022-10-20T13:15:14.736Z"
   },
   {
    "duration": 2,
    "start_time": "2022-10-20T13:15:17.325Z"
   },
   {
    "duration": 11,
    "start_time": "2022-10-20T13:15:17.329Z"
   },
   {
    "duration": 50,
    "start_time": "2022-10-20T13:15:17.342Z"
   },
   {
    "duration": 10,
    "start_time": "2022-10-20T13:15:17.393Z"
   },
   {
    "duration": 1251,
    "start_time": "2022-10-20T13:15:17.404Z"
   },
   {
    "duration": 4,
    "start_time": "2022-10-20T13:15:18.657Z"
   },
   {
    "duration": 24,
    "start_time": "2022-10-20T13:15:18.662Z"
   },
   {
    "duration": 1128,
    "start_time": "2022-10-20T13:15:18.688Z"
   },
   {
    "duration": 4,
    "start_time": "2022-10-20T13:15:19.819Z"
   },
   {
    "duration": 4,
    "start_time": "2022-10-20T13:15:19.825Z"
   },
   {
    "duration": 8,
    "start_time": "2022-10-20T13:15:19.831Z"
   },
   {
    "duration": 27,
    "start_time": "2022-10-20T13:15:19.840Z"
   },
   {
    "duration": 4,
    "start_time": "2022-10-20T13:15:19.869Z"
   },
   {
    "duration": 9,
    "start_time": "2022-10-20T13:15:19.900Z"
   },
   {
    "duration": 5,
    "start_time": "2022-10-20T13:15:19.910Z"
   },
   {
    "duration": 9,
    "start_time": "2022-10-20T13:15:19.916Z"
   },
   {
    "duration": 7,
    "start_time": "2022-10-20T13:15:19.926Z"
   },
   {
    "duration": 20,
    "start_time": "2022-10-20T13:15:19.934Z"
   },
   {
    "duration": 611,
    "start_time": "2022-10-20T13:15:19.956Z"
   },
   {
    "duration": 6,
    "start_time": "2022-10-20T13:15:20.568Z"
   },
   {
    "duration": 646,
    "start_time": "2022-10-20T13:15:20.575Z"
   },
   {
    "duration": 6,
    "start_time": "2022-10-20T13:15:21.223Z"
   },
   {
    "duration": 398,
    "start_time": "2022-10-20T13:15:21.230Z"
   },
   {
    "duration": 2,
    "start_time": "2022-10-20T13:15:21.630Z"
   },
   {
    "duration": 580,
    "start_time": "2022-10-20T13:15:21.633Z"
   },
   {
    "duration": 2,
    "start_time": "2022-10-20T13:15:22.215Z"
   },
   {
    "duration": 363,
    "start_time": "2022-10-20T13:15:22.220Z"
   },
   {
    "duration": 6,
    "start_time": "2022-10-20T13:15:22.584Z"
   },
   {
    "duration": 374,
    "start_time": "2022-10-20T13:15:22.599Z"
   },
   {
    "duration": 5,
    "start_time": "2022-10-20T13:15:22.975Z"
   },
   {
    "duration": 385,
    "start_time": "2022-10-20T13:15:22.981Z"
   },
   {
    "duration": 442,
    "start_time": "2022-10-20T13:15:23.368Z"
   },
   {
    "duration": 3,
    "start_time": "2022-10-20T13:15:23.812Z"
   },
   {
    "duration": 14,
    "start_time": "2022-10-20T13:15:23.817Z"
   },
   {
    "duration": 11,
    "start_time": "2022-10-20T13:15:23.832Z"
   },
   {
    "duration": 10,
    "start_time": "2022-10-20T13:15:23.844Z"
   },
   {
    "duration": 10,
    "start_time": "2022-10-20T13:15:23.856Z"
   },
   {
    "duration": 296,
    "start_time": "2022-10-20T13:15:23.867Z"
   },
   {
    "duration": 12,
    "start_time": "2022-10-20T13:15:24.165Z"
   },
   {
    "duration": 138,
    "start_time": "2022-10-20T13:15:24.179Z"
   },
   {
    "duration": 333,
    "start_time": "2022-10-20T13:15:24.319Z"
   },
   {
    "duration": 264,
    "start_time": "2022-10-20T13:15:24.653Z"
   },
   {
    "duration": 262,
    "start_time": "2022-10-20T13:15:24.918Z"
   },
   {
    "duration": 387,
    "start_time": "2022-10-20T13:15:25.181Z"
   },
   {
    "duration": 148,
    "start_time": "2022-10-20T13:15:25.569Z"
   },
   {
    "duration": 131,
    "start_time": "2022-10-20T13:15:25.718Z"
   },
   {
    "duration": 166,
    "start_time": "2022-10-20T13:15:25.851Z"
   },
   {
    "duration": 7,
    "start_time": "2022-10-20T13:15:26.019Z"
   },
   {
    "duration": 152,
    "start_time": "2022-10-20T13:15:26.027Z"
   },
   {
    "duration": 164,
    "start_time": "2022-10-20T13:15:26.181Z"
   },
   {
    "duration": 154,
    "start_time": "2022-10-20T13:15:26.347Z"
   },
   {
    "duration": 142,
    "start_time": "2022-10-20T13:15:26.503Z"
   },
   {
    "duration": 143,
    "start_time": "2022-10-20T13:15:26.647Z"
   },
   {
    "duration": 172,
    "start_time": "2022-10-20T13:15:26.792Z"
   },
   {
    "duration": 234,
    "start_time": "2022-10-20T13:15:26.966Z"
   },
   {
    "duration": 166,
    "start_time": "2022-10-20T13:15:27.202Z"
   },
   {
    "duration": 32,
    "start_time": "2022-10-20T13:15:27.369Z"
   },
   {
    "duration": 152,
    "start_time": "2022-10-20T13:15:27.403Z"
   },
   {
    "duration": 32,
    "start_time": "2022-10-20T13:36:17.242Z"
   },
   {
    "duration": 8,
    "start_time": "2022-10-20T13:36:25.468Z"
   },
   {
    "duration": 31,
    "start_time": "2022-10-20T13:38:13.554Z"
   },
   {
    "duration": 6,
    "start_time": "2022-10-20T13:40:38.001Z"
   },
   {
    "duration": 4,
    "start_time": "2022-10-20T13:41:53.097Z"
   },
   {
    "duration": 2961,
    "start_time": "2022-10-20T14:00:12.070Z"
   },
   {
    "duration": 6,
    "start_time": "2022-10-20T14:00:15.034Z"
   },
   {
    "duration": 27,
    "start_time": "2022-10-20T14:00:15.042Z"
   },
   {
    "duration": 89,
    "start_time": "2022-10-20T14:00:15.072Z"
   },
   {
    "duration": 9,
    "start_time": "2022-10-20T14:00:15.163Z"
   },
   {
    "duration": 1235,
    "start_time": "2022-10-20T14:00:15.174Z"
   },
   {
    "duration": 5,
    "start_time": "2022-10-20T14:00:16.411Z"
   },
   {
    "duration": 34,
    "start_time": "2022-10-20T14:00:16.417Z"
   },
   {
    "duration": 1274,
    "start_time": "2022-10-20T14:00:16.453Z"
   },
   {
    "duration": 5,
    "start_time": "2022-10-20T14:00:17.731Z"
   },
   {
    "duration": 13,
    "start_time": "2022-10-20T14:00:17.738Z"
   },
   {
    "duration": 9,
    "start_time": "2022-10-20T14:00:17.753Z"
   },
   {
    "duration": 37,
    "start_time": "2022-10-20T14:00:17.764Z"
   },
   {
    "duration": 5,
    "start_time": "2022-10-20T14:00:17.803Z"
   },
   {
    "duration": 16,
    "start_time": "2022-10-20T14:00:17.810Z"
   },
   {
    "duration": 6,
    "start_time": "2022-10-20T14:00:17.827Z"
   },
   {
    "duration": 23,
    "start_time": "2022-10-20T14:00:17.835Z"
   },
   {
    "duration": 7,
    "start_time": "2022-10-20T14:00:17.861Z"
   },
   {
    "duration": 8,
    "start_time": "2022-10-20T14:00:17.869Z"
   },
   {
    "duration": 29,
    "start_time": "2022-10-20T14:00:17.878Z"
   },
   {
    "duration": 652,
    "start_time": "2022-10-20T14:00:17.908Z"
   },
   {
    "duration": 6,
    "start_time": "2022-10-20T14:00:18.562Z"
   },
   {
    "duration": 697,
    "start_time": "2022-10-20T14:00:18.570Z"
   },
   {
    "duration": 7,
    "start_time": "2022-10-20T14:00:19.269Z"
   },
   {
    "duration": 445,
    "start_time": "2022-10-20T14:00:19.277Z"
   },
   {
    "duration": 3,
    "start_time": "2022-10-20T14:00:19.723Z"
   },
   {
    "duration": 642,
    "start_time": "2022-10-20T14:00:19.727Z"
   },
   {
    "duration": 2,
    "start_time": "2022-10-20T14:00:20.373Z"
   },
   {
    "duration": 447,
    "start_time": "2022-10-20T14:00:20.377Z"
   },
   {
    "duration": 6,
    "start_time": "2022-10-20T14:00:20.827Z"
   },
   {
    "duration": 438,
    "start_time": "2022-10-20T14:00:20.835Z"
   },
   {
    "duration": 7,
    "start_time": "2022-10-20T14:00:21.275Z"
   },
   {
    "duration": 463,
    "start_time": "2022-10-20T14:00:21.284Z"
   },
   {
    "duration": 534,
    "start_time": "2022-10-20T14:00:21.749Z"
   },
   {
    "duration": 16,
    "start_time": "2022-10-20T14:00:22.285Z"
   },
   {
    "duration": 28,
    "start_time": "2022-10-20T14:00:22.303Z"
   },
   {
    "duration": 25,
    "start_time": "2022-10-20T14:00:22.333Z"
   },
   {
    "duration": 18,
    "start_time": "2022-10-20T14:00:22.361Z"
   },
   {
    "duration": 12,
    "start_time": "2022-10-20T14:00:22.380Z"
   },
   {
    "duration": 275,
    "start_time": "2022-10-20T14:00:22.399Z"
   },
   {
    "duration": 11,
    "start_time": "2022-10-20T14:00:22.675Z"
   },
   {
    "duration": 136,
    "start_time": "2022-10-20T14:00:22.687Z"
   },
   {
    "duration": 280,
    "start_time": "2022-10-20T14:00:22.824Z"
   },
   {
    "duration": 408,
    "start_time": "2022-10-20T14:00:23.106Z"
   },
   {
    "duration": 291,
    "start_time": "2022-10-20T14:00:23.516Z"
   },
   {
    "duration": 409,
    "start_time": "2022-10-20T14:00:23.808Z"
   },
   {
    "duration": 162,
    "start_time": "2022-10-20T14:00:24.219Z"
   },
   {
    "duration": 186,
    "start_time": "2022-10-20T14:00:24.384Z"
   },
   {
    "duration": 208,
    "start_time": "2022-10-20T14:00:24.574Z"
   },
   {
    "duration": 18,
    "start_time": "2022-10-20T14:00:24.784Z"
   },
   {
    "duration": 146,
    "start_time": "2022-10-20T14:00:24.803Z"
   },
   {
    "duration": 164,
    "start_time": "2022-10-20T14:00:24.951Z"
   },
   {
    "duration": 188,
    "start_time": "2022-10-20T14:00:25.117Z"
   },
   {
    "duration": 158,
    "start_time": "2022-10-20T14:00:25.307Z"
   },
   {
    "duration": 144,
    "start_time": "2022-10-20T14:00:25.467Z"
   },
   {
    "duration": 172,
    "start_time": "2022-10-20T14:00:25.613Z"
   },
   {
    "duration": 229,
    "start_time": "2022-10-20T14:00:25.787Z"
   },
   {
    "duration": 158,
    "start_time": "2022-10-20T14:00:26.018Z"
   },
   {
    "duration": 36,
    "start_time": "2022-10-20T14:00:26.177Z"
   },
   {
    "duration": 176,
    "start_time": "2022-10-20T14:00:26.215Z"
   },
   {
    "duration": 77,
    "start_time": "2022-10-22T13:21:38.296Z"
   },
   {
    "duration": 69,
    "start_time": "2022-10-22T13:21:52.482Z"
   },
   {
    "duration": 77,
    "start_time": "2022-10-22T13:21:58.232Z"
   },
   {
    "duration": 85,
    "start_time": "2022-10-22T13:22:38.675Z"
   },
   {
    "duration": 97,
    "start_time": "2022-10-22T13:22:46.911Z"
   },
   {
    "duration": 128,
    "start_time": "2022-10-22T13:23:23.490Z"
   },
   {
    "duration": 3930,
    "start_time": "2022-10-22T13:25:22.668Z"
   },
   {
    "duration": 64,
    "start_time": "2022-10-22T14:05:33.426Z"
   },
   {
    "duration": 463,
    "start_time": "2022-10-22T14:32:14.168Z"
   },
   {
    "duration": 2365,
    "start_time": "2022-10-22T14:32:24.585Z"
   },
   {
    "duration": 3,
    "start_time": "2022-10-22T14:32:26.952Z"
   },
   {
    "duration": 7,
    "start_time": "2022-10-22T14:32:26.957Z"
   },
   {
    "duration": 87,
    "start_time": "2022-10-22T14:32:26.967Z"
   },
   {
    "duration": 14,
    "start_time": "2022-10-22T14:32:27.056Z"
   },
   {
    "duration": 1387,
    "start_time": "2022-10-22T14:32:27.072Z"
   },
   {
    "duration": 5,
    "start_time": "2022-10-22T14:32:28.461Z"
   },
   {
    "duration": 7,
    "start_time": "2022-10-22T14:32:28.468Z"
   },
   {
    "duration": 1469,
    "start_time": "2022-10-22T14:32:28.477Z"
   },
   {
    "duration": 9,
    "start_time": "2022-10-22T14:32:29.949Z"
   },
   {
    "duration": 7,
    "start_time": "2022-10-22T14:32:29.960Z"
   },
   {
    "duration": 17,
    "start_time": "2022-10-22T14:32:29.969Z"
   },
   {
    "duration": 50,
    "start_time": "2022-10-22T14:32:29.988Z"
   },
   {
    "duration": 5,
    "start_time": "2022-10-22T14:32:30.040Z"
   },
   {
    "duration": 16,
    "start_time": "2022-10-22T14:32:30.046Z"
   },
   {
    "duration": 16,
    "start_time": "2022-10-22T14:32:30.065Z"
   },
   {
    "duration": 14,
    "start_time": "2022-10-22T14:32:30.083Z"
   },
   {
    "duration": 25,
    "start_time": "2022-10-22T14:32:30.099Z"
   },
   {
    "duration": 22,
    "start_time": "2022-10-22T14:32:30.126Z"
   },
   {
    "duration": 112,
    "start_time": "2022-10-22T14:32:30.150Z"
   },
   {
    "duration": 15,
    "start_time": "2022-10-22T14:33:10.467Z"
   },
   {
    "duration": 276,
    "start_time": "2022-10-22T14:35:03.871Z"
   },
   {
    "duration": 82,
    "start_time": "2022-10-22T14:36:11.352Z"
   },
   {
    "duration": 69,
    "start_time": "2022-10-22T14:37:04.850Z"
   },
   {
    "duration": 71,
    "start_time": "2022-10-22T14:37:15.064Z"
   },
   {
    "duration": 70,
    "start_time": "2022-10-22T14:37:29.214Z"
   },
   {
    "duration": 419,
    "start_time": "2022-10-22T14:47:17.170Z"
   },
   {
    "duration": 821,
    "start_time": "2022-10-22T14:47:53.992Z"
   },
   {
    "duration": 69,
    "start_time": "2022-10-22T14:49:21.550Z"
   },
   {
    "duration": 72,
    "start_time": "2022-10-22T14:49:39.961Z"
   },
   {
    "duration": 84,
    "start_time": "2022-10-22T14:51:59.412Z"
   },
   {
    "duration": 66,
    "start_time": "2022-10-22T14:52:57.679Z"
   },
   {
    "duration": 92,
    "start_time": "2022-10-22T14:53:26.610Z"
   },
   {
    "duration": 77,
    "start_time": "2022-10-22T14:58:32.388Z"
   },
   {
    "duration": 71,
    "start_time": "2022-10-22T14:58:44.111Z"
   },
   {
    "duration": 3122,
    "start_time": "2022-10-22T14:58:54.881Z"
   },
   {
    "duration": 3,
    "start_time": "2022-10-22T14:58:58.006Z"
   },
   {
    "duration": 12,
    "start_time": "2022-10-22T14:58:58.011Z"
   },
   {
    "duration": 70,
    "start_time": "2022-10-22T14:58:58.026Z"
   },
   {
    "duration": 12,
    "start_time": "2022-10-22T14:58:58.099Z"
   },
   {
    "duration": 1385,
    "start_time": "2022-10-22T14:58:58.113Z"
   },
   {
    "duration": 9,
    "start_time": "2022-10-22T14:58:59.501Z"
   },
   {
    "duration": 14,
    "start_time": "2022-10-22T14:58:59.512Z"
   },
   {
    "duration": 1443,
    "start_time": "2022-10-22T14:58:59.528Z"
   },
   {
    "duration": 6,
    "start_time": "2022-10-22T14:59:00.975Z"
   },
   {
    "duration": 16,
    "start_time": "2022-10-22T14:59:00.994Z"
   },
   {
    "duration": 8,
    "start_time": "2022-10-22T14:59:01.012Z"
   },
   {
    "duration": 31,
    "start_time": "2022-10-22T14:59:01.022Z"
   },
   {
    "duration": 5,
    "start_time": "2022-10-22T14:59:01.055Z"
   },
   {
    "duration": 15,
    "start_time": "2022-10-22T14:59:01.063Z"
   },
   {
    "duration": 16,
    "start_time": "2022-10-22T14:59:01.080Z"
   },
   {
    "duration": 7,
    "start_time": "2022-10-22T14:59:01.098Z"
   },
   {
    "duration": 15,
    "start_time": "2022-10-22T14:59:01.107Z"
   },
   {
    "duration": 15,
    "start_time": "2022-10-22T14:59:01.123Z"
   },
   {
    "duration": 138,
    "start_time": "2022-10-22T14:59:01.140Z"
   },
   {
    "duration": 65,
    "start_time": "2022-10-22T14:59:01.280Z"
   },
   {
    "duration": 0,
    "start_time": "2022-10-22T14:59:01.348Z"
   },
   {
    "duration": 0,
    "start_time": "2022-10-22T14:59:01.349Z"
   },
   {
    "duration": 0,
    "start_time": "2022-10-22T14:59:01.350Z"
   },
   {
    "duration": 0,
    "start_time": "2022-10-22T14:59:01.353Z"
   },
   {
    "duration": 0,
    "start_time": "2022-10-22T14:59:01.355Z"
   },
   {
    "duration": 0,
    "start_time": "2022-10-22T14:59:01.356Z"
   },
   {
    "duration": 0,
    "start_time": "2022-10-22T14:59:01.357Z"
   },
   {
    "duration": 0,
    "start_time": "2022-10-22T14:59:01.358Z"
   },
   {
    "duration": 0,
    "start_time": "2022-10-22T14:59:01.360Z"
   },
   {
    "duration": 0,
    "start_time": "2022-10-22T14:59:01.362Z"
   },
   {
    "duration": 0,
    "start_time": "2022-10-22T14:59:01.363Z"
   },
   {
    "duration": 0,
    "start_time": "2022-10-22T14:59:01.364Z"
   },
   {
    "duration": 0,
    "start_time": "2022-10-22T14:59:01.366Z"
   },
   {
    "duration": 0,
    "start_time": "2022-10-22T14:59:01.367Z"
   },
   {
    "duration": 0,
    "start_time": "2022-10-22T14:59:01.368Z"
   },
   {
    "duration": 0,
    "start_time": "2022-10-22T14:59:01.369Z"
   },
   {
    "duration": 0,
    "start_time": "2022-10-22T14:59:01.371Z"
   },
   {
    "duration": 0,
    "start_time": "2022-10-22T14:59:01.372Z"
   },
   {
    "duration": 0,
    "start_time": "2022-10-22T14:59:01.374Z"
   },
   {
    "duration": 0,
    "start_time": "2022-10-22T14:59:01.376Z"
   },
   {
    "duration": 0,
    "start_time": "2022-10-22T14:59:01.377Z"
   },
   {
    "duration": 0,
    "start_time": "2022-10-22T14:59:01.378Z"
   },
   {
    "duration": 0,
    "start_time": "2022-10-22T14:59:01.379Z"
   },
   {
    "duration": 0,
    "start_time": "2022-10-22T14:59:01.379Z"
   },
   {
    "duration": 0,
    "start_time": "2022-10-22T14:59:01.380Z"
   },
   {
    "duration": 0,
    "start_time": "2022-10-22T14:59:01.380Z"
   },
   {
    "duration": 0,
    "start_time": "2022-10-22T14:59:01.381Z"
   },
   {
    "duration": 0,
    "start_time": "2022-10-22T14:59:01.382Z"
   },
   {
    "duration": 0,
    "start_time": "2022-10-22T14:59:01.382Z"
   },
   {
    "duration": 0,
    "start_time": "2022-10-22T14:59:01.383Z"
   },
   {
    "duration": 0,
    "start_time": "2022-10-22T14:59:01.384Z"
   },
   {
    "duration": 1,
    "start_time": "2022-10-22T14:59:01.384Z"
   },
   {
    "duration": 0,
    "start_time": "2022-10-22T14:59:01.385Z"
   },
   {
    "duration": 0,
    "start_time": "2022-10-22T14:59:01.388Z"
   },
   {
    "duration": 0,
    "start_time": "2022-10-22T14:59:01.395Z"
   },
   {
    "duration": 0,
    "start_time": "2022-10-22T14:59:01.397Z"
   },
   {
    "duration": 0,
    "start_time": "2022-10-22T14:59:01.398Z"
   },
   {
    "duration": 0,
    "start_time": "2022-10-22T14:59:01.400Z"
   },
   {
    "duration": 0,
    "start_time": "2022-10-22T14:59:01.401Z"
   },
   {
    "duration": 760,
    "start_time": "2022-10-22T15:00:06.007Z"
   },
   {
    "duration": 15,
    "start_time": "2022-10-22T15:02:02.380Z"
   },
   {
    "duration": 16,
    "start_time": "2022-10-22T15:02:04.826Z"
   },
   {
    "duration": 14,
    "start_time": "2022-10-22T15:02:06.792Z"
   },
   {
    "duration": 17,
    "start_time": "2022-10-22T15:02:09.181Z"
   },
   {
    "duration": 12,
    "start_time": "2022-10-22T15:02:12.197Z"
   },
   {
    "duration": 466,
    "start_time": "2022-10-22T15:02:16.646Z"
   },
   {
    "duration": 145,
    "start_time": "2022-10-22T15:06:58.929Z"
   },
   {
    "duration": 340,
    "start_time": "2022-10-22T15:07:01.372Z"
   },
   {
    "duration": 346,
    "start_time": "2022-10-22T15:07:03.543Z"
   },
   {
    "duration": 316,
    "start_time": "2022-10-22T15:07:05.720Z"
   },
   {
    "duration": 386,
    "start_time": "2022-10-22T15:07:08.371Z"
   },
   {
    "duration": 137,
    "start_time": "2022-10-22T15:07:10.737Z"
   },
   {
    "duration": 137,
    "start_time": "2022-10-22T15:07:14.127Z"
   },
   {
    "duration": 152,
    "start_time": "2022-10-22T15:08:05.749Z"
   },
   {
    "duration": 151,
    "start_time": "2022-10-22T15:08:47.849Z"
   },
   {
    "duration": 150,
    "start_time": "2022-10-22T15:08:59.742Z"
   },
   {
    "duration": 182,
    "start_time": "2022-10-22T15:09:08.259Z"
   },
   {
    "duration": 367,
    "start_time": "2022-10-22T15:09:41.289Z"
   },
   {
    "duration": 335,
    "start_time": "2022-10-22T15:10:02.388Z"
   },
   {
    "duration": 469,
    "start_time": "2022-10-22T15:10:22.011Z"
   },
   {
    "duration": 316,
    "start_time": "2022-10-22T15:10:34.877Z"
   },
   {
    "duration": 479,
    "start_time": "2022-10-22T15:10:45.440Z"
   },
   {
    "duration": 449,
    "start_time": "2022-10-22T15:11:16.491Z"
   },
   {
    "duration": 301,
    "start_time": "2022-10-22T15:11:28.424Z"
   },
   {
    "duration": 469,
    "start_time": "2022-10-22T15:11:37.279Z"
   },
   {
    "duration": 180,
    "start_time": "2022-10-22T15:11:53.817Z"
   },
   {
    "duration": 332,
    "start_time": "2022-10-22T15:12:16.224Z"
   },
   {
    "duration": 307,
    "start_time": "2022-10-22T15:12:25.169Z"
   },
   {
    "duration": 190,
    "start_time": "2022-10-22T15:12:33.364Z"
   },
   {
    "duration": 233,
    "start_time": "2022-10-22T15:12:39.037Z"
   },
   {
    "duration": 187,
    "start_time": "2022-10-22T15:12:51.893Z"
   },
   {
    "duration": 182,
    "start_time": "2022-10-22T15:13:49.727Z"
   },
   {
    "duration": 250,
    "start_time": "2022-10-22T15:13:59.449Z"
   },
   {
    "duration": 181,
    "start_time": "2022-10-22T15:14:04.807Z"
   },
   {
    "duration": 210,
    "start_time": "2022-10-22T15:14:11.355Z"
   },
   {
    "duration": 215,
    "start_time": "2022-10-22T15:14:38.541Z"
   },
   {
    "duration": 246,
    "start_time": "2022-10-22T15:17:06.613Z"
   },
   {
    "duration": 77,
    "start_time": "2022-10-22T15:17:52.989Z"
   },
   {
    "duration": 11,
    "start_time": "2022-10-22T15:18:06.264Z"
   },
   {
    "duration": 157,
    "start_time": "2022-10-22T15:18:12.315Z"
   },
   {
    "duration": 170,
    "start_time": "2022-10-22T15:18:14.428Z"
   },
   {
    "duration": 149,
    "start_time": "2022-10-22T15:18:17.107Z"
   },
   {
    "duration": 192,
    "start_time": "2022-10-22T15:20:53.441Z"
   },
   {
    "duration": 189,
    "start_time": "2022-10-22T15:20:56.560Z"
   },
   {
    "duration": 208,
    "start_time": "2022-10-22T15:20:59.172Z"
   },
   {
    "duration": 299,
    "start_time": "2022-10-22T15:21:03.034Z"
   },
   {
    "duration": 208,
    "start_time": "2022-10-22T15:22:25.851Z"
   },
   {
    "duration": 195,
    "start_time": "2022-10-22T15:23:16.255Z"
   },
   {
    "duration": 216,
    "start_time": "2022-10-22T15:23:28.869Z"
   },
   {
    "duration": 78,
    "start_time": "2022-10-22T15:25:31.735Z"
   },
   {
    "duration": 26,
    "start_time": "2022-10-22T15:25:40.954Z"
   },
   {
    "duration": 42,
    "start_time": "2022-10-22T15:26:01.412Z"
   },
   {
    "duration": 27,
    "start_time": "2022-10-22T15:26:16.443Z"
   },
   {
    "duration": 1332,
    "start_time": "2022-10-22T15:27:32.447Z"
   },
   {
    "duration": 3210,
    "start_time": "2022-10-22T15:31:39.252Z"
   },
   {
    "duration": 3,
    "start_time": "2022-10-22T15:31:42.464Z"
   },
   {
    "duration": 13,
    "start_time": "2022-10-22T15:31:42.469Z"
   },
   {
    "duration": 63,
    "start_time": "2022-10-22T15:31:42.484Z"
   },
   {
    "duration": 10,
    "start_time": "2022-10-22T15:31:42.549Z"
   },
   {
    "duration": 1559,
    "start_time": "2022-10-22T15:31:42.561Z"
   },
   {
    "duration": 6,
    "start_time": "2022-10-22T15:31:44.122Z"
   },
   {
    "duration": 17,
    "start_time": "2022-10-22T15:31:44.129Z"
   },
   {
    "duration": 1557,
    "start_time": "2022-10-22T15:31:44.148Z"
   },
   {
    "duration": 7,
    "start_time": "2022-10-22T15:31:45.709Z"
   },
   {
    "duration": 13,
    "start_time": "2022-10-22T15:31:45.718Z"
   },
   {
    "duration": 7,
    "start_time": "2022-10-22T15:31:45.734Z"
   },
   {
    "duration": 35,
    "start_time": "2022-10-22T15:31:45.742Z"
   },
   {
    "duration": 18,
    "start_time": "2022-10-22T15:31:45.779Z"
   },
   {
    "duration": 26,
    "start_time": "2022-10-22T15:31:45.799Z"
   },
   {
    "duration": 4,
    "start_time": "2022-10-22T15:31:45.827Z"
   },
   {
    "duration": 4,
    "start_time": "2022-10-22T15:31:45.833Z"
   },
   {
    "duration": 6,
    "start_time": "2022-10-22T15:31:45.838Z"
   },
   {
    "duration": 11,
    "start_time": "2022-10-22T15:31:45.846Z"
   },
   {
    "duration": 17,
    "start_time": "2022-10-22T15:31:45.858Z"
   },
   {
    "duration": 790,
    "start_time": "2022-10-22T15:31:45.877Z"
   },
   {
    "duration": 9,
    "start_time": "2022-10-22T15:31:46.669Z"
   },
   {
    "duration": 930,
    "start_time": "2022-10-22T15:31:46.680Z"
   },
   {
    "duration": 8,
    "start_time": "2022-10-22T15:31:47.612Z"
   },
   {
    "duration": 461,
    "start_time": "2022-10-22T15:31:47.623Z"
   },
   {
    "duration": 11,
    "start_time": "2022-10-22T15:31:48.086Z"
   },
   {
    "duration": 769,
    "start_time": "2022-10-22T15:31:48.106Z"
   },
   {
    "duration": 2,
    "start_time": "2022-10-22T15:31:48.882Z"
   },
   {
    "duration": 490,
    "start_time": "2022-10-22T15:31:48.886Z"
   },
   {
    "duration": 8,
    "start_time": "2022-10-22T15:31:49.378Z"
   },
   {
    "duration": 515,
    "start_time": "2022-10-22T15:31:49.395Z"
   },
   {
    "duration": 8,
    "start_time": "2022-10-22T15:31:49.912Z"
   },
   {
    "duration": 477,
    "start_time": "2022-10-22T15:31:49.922Z"
   },
   {
    "duration": 539,
    "start_time": "2022-10-22T15:31:50.404Z"
   },
   {
    "duration": 5,
    "start_time": "2022-10-22T15:31:50.945Z"
   },
   {
    "duration": 20,
    "start_time": "2022-10-22T15:31:50.952Z"
   },
   {
    "duration": 39,
    "start_time": "2022-10-22T15:31:50.974Z"
   },
   {
    "duration": 14,
    "start_time": "2022-10-22T15:31:51.015Z"
   },
   {
    "duration": 12,
    "start_time": "2022-10-22T15:31:51.031Z"
   },
   {
    "duration": 361,
    "start_time": "2022-10-22T15:31:51.044Z"
   },
   {
    "duration": 15,
    "start_time": "2022-10-22T15:31:51.406Z"
   },
   {
    "duration": 175,
    "start_time": "2022-10-22T15:31:51.425Z"
   },
   {
    "duration": 337,
    "start_time": "2022-10-22T15:31:51.603Z"
   },
   {
    "duration": 348,
    "start_time": "2022-10-22T15:31:51.942Z"
   },
   {
    "duration": 353,
    "start_time": "2022-10-22T15:31:52.292Z"
   },
   {
    "duration": 446,
    "start_time": "2022-10-22T15:31:52.648Z"
   },
   {
    "duration": 174,
    "start_time": "2022-10-22T15:31:53.098Z"
   },
   {
    "duration": 172,
    "start_time": "2022-10-22T15:31:53.274Z"
   },
   {
    "duration": 378,
    "start_time": "2022-10-22T15:31:53.448Z"
   },
   {
    "duration": 349,
    "start_time": "2022-10-22T15:31:53.828Z"
   },
   {
    "duration": 355,
    "start_time": "2022-10-22T15:31:54.179Z"
   },
   {
    "duration": 446,
    "start_time": "2022-10-22T15:31:54.536Z"
   },
   {
    "duration": 197,
    "start_time": "2022-10-22T15:31:54.984Z"
   },
   {
    "duration": 246,
    "start_time": "2022-10-22T15:31:55.183Z"
   },
   {
    "duration": 265,
    "start_time": "2022-10-22T15:31:55.432Z"
   },
   {
    "duration": 218,
    "start_time": "2022-10-22T15:31:55.701Z"
   },
   {
    "duration": 8,
    "start_time": "2022-10-22T15:31:55.920Z"
   },
   {
    "duration": 183,
    "start_time": "2022-10-22T15:31:55.930Z"
   },
   {
    "duration": 197,
    "start_time": "2022-10-22T15:31:56.115Z"
   },
   {
    "duration": 197,
    "start_time": "2022-10-22T15:31:56.314Z"
   },
   {
    "duration": 208,
    "start_time": "2022-10-22T15:31:56.514Z"
   },
   {
    "duration": 207,
    "start_time": "2022-10-22T15:31:56.724Z"
   },
   {
    "duration": 217,
    "start_time": "2022-10-22T15:31:56.933Z"
   },
   {
    "duration": 303,
    "start_time": "2022-10-22T15:31:57.151Z"
   },
   {
    "duration": 222,
    "start_time": "2022-10-22T15:31:57.456Z"
   },
   {
    "duration": 42,
    "start_time": "2022-10-22T15:31:57.680Z"
   },
   {
    "duration": 214,
    "start_time": "2022-10-22T15:31:57.725Z"
   },
   {
    "duration": 2534,
    "start_time": "2022-10-22T15:54:52.468Z"
   },
   {
    "duration": 3,
    "start_time": "2022-10-22T15:54:55.008Z"
   },
   {
    "duration": 24,
    "start_time": "2022-10-22T15:54:55.012Z"
   },
   {
    "duration": 66,
    "start_time": "2022-10-22T15:54:55.039Z"
   },
   {
    "duration": 9,
    "start_time": "2022-10-22T15:54:55.106Z"
   },
   {
    "duration": 1206,
    "start_time": "2022-10-22T15:54:55.116Z"
   },
   {
    "duration": 5,
    "start_time": "2022-10-22T15:54:56.323Z"
   },
   {
    "duration": 6,
    "start_time": "2022-10-22T15:54:56.330Z"
   },
   {
    "duration": 1184,
    "start_time": "2022-10-22T15:54:56.337Z"
   },
   {
    "duration": 5,
    "start_time": "2022-10-22T15:54:57.524Z"
   },
   {
    "duration": 10,
    "start_time": "2022-10-22T15:54:57.530Z"
   },
   {
    "duration": 7,
    "start_time": "2022-10-22T15:54:57.542Z"
   },
   {
    "duration": 34,
    "start_time": "2022-10-22T15:54:57.550Z"
   },
   {
    "duration": 4,
    "start_time": "2022-10-22T15:54:57.585Z"
   },
   {
    "duration": 9,
    "start_time": "2022-10-22T15:54:57.609Z"
   },
   {
    "duration": 5,
    "start_time": "2022-10-22T15:54:57.620Z"
   },
   {
    "duration": 2,
    "start_time": "2022-10-22T15:54:57.627Z"
   },
   {
    "duration": 4,
    "start_time": "2022-10-22T15:54:57.631Z"
   },
   {
    "duration": 5,
    "start_time": "2022-10-22T15:54:57.637Z"
   },
   {
    "duration": 12,
    "start_time": "2022-10-22T15:54:57.644Z"
   },
   {
    "duration": 648,
    "start_time": "2022-10-22T15:54:57.657Z"
   },
   {
    "duration": 5,
    "start_time": "2022-10-22T15:54:58.309Z"
   },
   {
    "duration": 660,
    "start_time": "2022-10-22T15:54:58.316Z"
   },
   {
    "duration": 6,
    "start_time": "2022-10-22T15:54:58.978Z"
   },
   {
    "duration": 374,
    "start_time": "2022-10-22T15:54:58.986Z"
   },
   {
    "duration": 2,
    "start_time": "2022-10-22T15:54:59.362Z"
   },
   {
    "duration": 626,
    "start_time": "2022-10-22T15:54:59.365Z"
   },
   {
    "duration": 2,
    "start_time": "2022-10-22T15:54:59.995Z"
   },
   {
    "duration": 372,
    "start_time": "2022-10-22T15:54:59.999Z"
   },
   {
    "duration": 6,
    "start_time": "2022-10-22T15:55:00.373Z"
   },
   {
    "duration": 404,
    "start_time": "2022-10-22T15:55:00.381Z"
   },
   {
    "duration": 6,
    "start_time": "2022-10-22T15:55:00.787Z"
   },
   {
    "duration": 371,
    "start_time": "2022-10-22T15:55:00.794Z"
   },
   {
    "duration": 439,
    "start_time": "2022-10-22T15:55:01.167Z"
   },
   {
    "duration": 4,
    "start_time": "2022-10-22T15:55:01.608Z"
   },
   {
    "duration": 21,
    "start_time": "2022-10-22T15:55:01.614Z"
   },
   {
    "duration": 12,
    "start_time": "2022-10-22T15:55:01.636Z"
   },
   {
    "duration": 10,
    "start_time": "2022-10-22T15:55:01.650Z"
   },
   {
    "duration": 15,
    "start_time": "2022-10-22T15:55:01.662Z"
   },
   {
    "duration": 310,
    "start_time": "2022-10-22T15:55:01.679Z"
   },
   {
    "duration": 10,
    "start_time": "2022-10-22T15:55:01.990Z"
   },
   {
    "duration": 129,
    "start_time": "2022-10-22T15:55:02.008Z"
   },
   {
    "duration": 270,
    "start_time": "2022-10-22T15:55:02.139Z"
   },
   {
    "duration": 332,
    "start_time": "2022-10-22T15:55:02.411Z"
   },
   {
    "duration": 302,
    "start_time": "2022-10-22T15:55:02.746Z"
   },
   {
    "duration": 331,
    "start_time": "2022-10-22T15:55:03.050Z"
   },
   {
    "duration": 148,
    "start_time": "2022-10-22T15:55:03.382Z"
   },
   {
    "duration": 128,
    "start_time": "2022-10-22T15:55:03.531Z"
   },
   {
    "duration": 290,
    "start_time": "2022-10-22T15:55:03.661Z"
   },
   {
    "duration": 275,
    "start_time": "2022-10-22T15:55:03.953Z"
   },
   {
    "duration": 257,
    "start_time": "2022-10-22T15:55:04.229Z"
   },
   {
    "duration": 330,
    "start_time": "2022-10-22T15:55:04.488Z"
   },
   {
    "duration": 165,
    "start_time": "2022-10-22T15:55:04.820Z"
   },
   {
    "duration": 164,
    "start_time": "2022-10-22T15:55:04.987Z"
   },
   {
    "duration": 178,
    "start_time": "2022-10-22T15:55:05.153Z"
   },
   {
    "duration": 165,
    "start_time": "2022-10-22T15:55:05.333Z"
   },
   {
    "duration": 14,
    "start_time": "2022-10-22T15:55:05.500Z"
   },
   {
    "duration": 148,
    "start_time": "2022-10-22T15:55:05.516Z"
   },
   {
    "duration": 155,
    "start_time": "2022-10-22T15:55:05.666Z"
   },
   {
    "duration": 169,
    "start_time": "2022-10-22T15:55:05.823Z"
   },
   {
    "duration": 145,
    "start_time": "2022-10-22T15:55:05.993Z"
   },
   {
    "duration": 136,
    "start_time": "2022-10-22T15:55:06.139Z"
   },
   {
    "duration": 173,
    "start_time": "2022-10-22T15:55:06.277Z"
   },
   {
    "duration": 224,
    "start_time": "2022-10-22T15:55:06.452Z"
   },
   {
    "duration": 162,
    "start_time": "2022-10-22T15:55:06.678Z"
   },
   {
    "duration": 25,
    "start_time": "2022-10-22T15:55:06.842Z"
   },
   {
    "duration": 167,
    "start_time": "2022-10-22T15:55:06.869Z"
   },
   {
    "duration": 3,
    "start_time": "2022-10-22T15:55:56.789Z"
   },
   {
    "duration": 9,
    "start_time": "2022-10-22T15:55:59.705Z"
   },
   {
    "duration": 4,
    "start_time": "2022-10-22T15:58:11.392Z"
   },
   {
    "duration": 3,
    "start_time": "2022-10-22T16:00:15.602Z"
   },
   {
    "duration": 6,
    "start_time": "2022-10-22T16:00:23.756Z"
   },
   {
    "duration": 2593,
    "start_time": "2022-10-22T16:00:32.645Z"
   },
   {
    "duration": 3,
    "start_time": "2022-10-22T16:00:35.239Z"
   },
   {
    "duration": 12,
    "start_time": "2022-10-22T16:00:35.244Z"
   },
   {
    "duration": 66,
    "start_time": "2022-10-22T16:00:35.258Z"
   },
   {
    "duration": 8,
    "start_time": "2022-10-22T16:00:35.326Z"
   },
   {
    "duration": 1194,
    "start_time": "2022-10-22T16:00:35.336Z"
   },
   {
    "duration": 4,
    "start_time": "2022-10-22T16:00:36.532Z"
   },
   {
    "duration": 10,
    "start_time": "2022-10-22T16:00:36.537Z"
   },
   {
    "duration": 1169,
    "start_time": "2022-10-22T16:00:36.548Z"
   },
   {
    "duration": 4,
    "start_time": "2022-10-22T16:00:37.720Z"
   },
   {
    "duration": 6,
    "start_time": "2022-10-22T16:00:37.726Z"
   },
   {
    "duration": 6,
    "start_time": "2022-10-22T16:00:37.734Z"
   },
   {
    "duration": 27,
    "start_time": "2022-10-22T16:00:37.742Z"
   },
   {
    "duration": 4,
    "start_time": "2022-10-22T16:00:37.771Z"
   },
   {
    "duration": 36,
    "start_time": "2022-10-22T16:00:37.776Z"
   },
   {
    "duration": 4,
    "start_time": "2022-10-22T16:00:37.814Z"
   },
   {
    "duration": 5,
    "start_time": "2022-10-22T16:00:37.820Z"
   },
   {
    "duration": 7,
    "start_time": "2022-10-22T16:00:37.827Z"
   },
   {
    "duration": 14,
    "start_time": "2022-10-22T16:00:37.835Z"
   },
   {
    "duration": 14,
    "start_time": "2022-10-22T16:00:37.851Z"
   },
   {
    "duration": 636,
    "start_time": "2022-10-22T16:00:37.866Z"
   },
   {
    "duration": 8,
    "start_time": "2022-10-22T16:00:38.503Z"
   },
   {
    "duration": 7,
    "start_time": "2022-10-22T16:00:38.513Z"
   },
   {
    "duration": 681,
    "start_time": "2022-10-22T16:00:38.522Z"
   },
   {
    "duration": 7,
    "start_time": "2022-10-22T16:00:39.209Z"
   },
   {
    "duration": 397,
    "start_time": "2022-10-22T16:00:39.218Z"
   },
   {
    "duration": 3,
    "start_time": "2022-10-22T16:00:39.617Z"
   },
   {
    "duration": 633,
    "start_time": "2022-10-22T16:00:39.625Z"
   },
   {
    "duration": 3,
    "start_time": "2022-10-22T16:00:40.260Z"
   },
   {
    "duration": 385,
    "start_time": "2022-10-22T16:00:40.265Z"
   },
   {
    "duration": 7,
    "start_time": "2022-10-22T16:00:40.652Z"
   },
   {
    "duration": 400,
    "start_time": "2022-10-22T16:00:40.661Z"
   },
   {
    "duration": 6,
    "start_time": "2022-10-22T16:00:41.063Z"
   },
   {
    "duration": 382,
    "start_time": "2022-10-22T16:00:41.071Z"
   },
   {
    "duration": 403,
    "start_time": "2022-10-22T16:00:41.456Z"
   },
   {
    "duration": 4,
    "start_time": "2022-10-22T16:00:41.861Z"
   },
   {
    "duration": 20,
    "start_time": "2022-10-22T16:00:41.867Z"
   },
   {
    "duration": 29,
    "start_time": "2022-10-22T16:00:41.888Z"
   },
   {
    "duration": 12,
    "start_time": "2022-10-22T16:00:41.919Z"
   },
   {
    "duration": 12,
    "start_time": "2022-10-22T16:00:41.934Z"
   },
   {
    "duration": 380,
    "start_time": "2022-10-22T16:00:41.948Z"
   },
   {
    "duration": 10,
    "start_time": "2022-10-22T16:00:42.330Z"
   },
   {
    "duration": 4,
    "start_time": "2022-10-22T16:00:42.342Z"
   },
   {
    "duration": 8,
    "start_time": "2022-10-22T16:00:42.348Z"
   },
   {
    "duration": 137,
    "start_time": "2022-10-22T16:00:42.358Z"
   },
   {
    "duration": 328,
    "start_time": "2022-10-22T16:00:42.497Z"
   },
   {
    "duration": 301,
    "start_time": "2022-10-22T16:00:42.827Z"
   },
   {
    "duration": 269,
    "start_time": "2022-10-22T16:00:43.130Z"
   },
   {
    "duration": 326,
    "start_time": "2022-10-22T16:00:43.408Z"
   },
   {
    "duration": 149,
    "start_time": "2022-10-22T16:00:43.736Z"
   },
   {
    "duration": 130,
    "start_time": "2022-10-22T16:00:43.887Z"
   },
   {
    "duration": 307,
    "start_time": "2022-10-22T16:00:44.019Z"
   },
   {
    "duration": 280,
    "start_time": "2022-10-22T16:00:44.328Z"
   },
   {
    "duration": 268,
    "start_time": "2022-10-22T16:00:44.609Z"
   },
   {
    "duration": 271,
    "start_time": "2022-10-22T16:00:44.878Z"
   },
   {
    "duration": 222,
    "start_time": "2022-10-22T16:00:45.151Z"
   },
   {
    "duration": 173,
    "start_time": "2022-10-22T16:00:45.375Z"
   },
   {
    "duration": 178,
    "start_time": "2022-10-22T16:00:45.549Z"
   },
   {
    "duration": 166,
    "start_time": "2022-10-22T16:00:45.729Z"
   },
   {
    "duration": 8,
    "start_time": "2022-10-22T16:00:45.910Z"
   },
   {
    "duration": 153,
    "start_time": "2022-10-22T16:00:45.919Z"
   },
   {
    "duration": 157,
    "start_time": "2022-10-22T16:00:46.074Z"
   },
   {
    "duration": 159,
    "start_time": "2022-10-22T16:00:46.233Z"
   },
   {
    "duration": 140,
    "start_time": "2022-10-22T16:00:46.394Z"
   },
   {
    "duration": 141,
    "start_time": "2022-10-22T16:00:46.536Z"
   },
   {
    "duration": 166,
    "start_time": "2022-10-22T16:00:46.678Z"
   },
   {
    "duration": 178,
    "start_time": "2022-10-22T16:00:46.846Z"
   },
   {
    "duration": 209,
    "start_time": "2022-10-22T16:00:47.025Z"
   },
   {
    "duration": 23,
    "start_time": "2022-10-22T16:00:47.236Z"
   },
   {
    "duration": 170,
    "start_time": "2022-10-22T16:00:47.261Z"
   }
  ],
  "kernelspec": {
   "display_name": "Python 3 (ipykernel)",
   "language": "python",
   "name": "python3"
  },
  "language_info": {
   "codemirror_mode": {
    "name": "ipython",
    "version": 3
   },
   "file_extension": ".py",
   "mimetype": "text/x-python",
   "name": "python",
   "nbconvert_exporter": "python",
   "pygments_lexer": "ipython3",
   "version": "3.9.13"
  },
  "toc": {
   "base_numbering": 1,
   "nav_menu": {},
   "number_sections": true,
   "sideBar": true,
   "skip_h1_title": true,
   "title_cell": "Table of Contents",
   "title_sidebar": "Contents",
   "toc_cell": false,
   "toc_position": {},
   "toc_section_display": true,
   "toc_window_display": false
  }
 },
 "nbformat": 4,
 "nbformat_minor": 2
}
